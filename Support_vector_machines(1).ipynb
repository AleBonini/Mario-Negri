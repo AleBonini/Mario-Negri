{
 "cells": [
  {
   "cell_type": "code",
   "execution_count": 6,
   "id": "8640c589",
   "metadata": {},
   "outputs": [],
   "source": [
    "library(dplyr)   \n",
    "library(caret)\n",
    "library(tidyverse)\n",
    "library(recipes)\n",
    "library(pROC)\n",
    "library(caTools)\n",
    "library(UBL)\n",
    "\n",
    "options(repr.plot.width = 20, repr.plot.height =10, repr.plot.res = 100)\n",
    "\n",
    "\n",
    "load(file = \"C:/Users/abonini/Desktop/Analysis/Sources/LIVERTRANSPLANT/Modello/df.Rdata\")"
   ]
  },
  {
   "cell_type": "code",
   "execution_count": null,
   "id": "a8bb0596",
   "metadata": {},
   "outputs": [],
   "source": []
  },
  {
   "cell_type": "code",
   "execution_count": 7,
   "id": "83315e3f",
   "metadata": {},
   "outputs": [],
   "source": [
    "tmp <- subset(df, select = -c(deg_cat))           #hot encoding\n",
    "\n",
    "#define one-hot encoding function\n",
    "dummy <- dummyVars(\" ~ .\", data=tmp)\n",
    "\n",
    "#perform one-hot encoding on data frame\n",
    "final_df <- data.frame(predict(dummy, newdata=tmp))\n",
    "\n",
    "\n",
    "final_df$deg_cat <- df$deg_cat\n",
    "\n",
    "\n",
    "df <- final_df"
   ]
  },
  {
   "cell_type": "markdown",
   "id": "4a86b72b",
   "metadata": {},
   "source": [
    "## Data partition"
   ]
  },
  {
   "cell_type": "code",
   "execution_count": 8,
   "id": "340fc9a9",
   "metadata": {},
   "outputs": [],
   "source": [
    "#make this example reproducible\n",
    "set.seed(1)\n",
    "\n",
    "#use 70% of dataset as training set and 30% as test set\n",
    "sample <- sample.split(df$deg_cat, SplitRatio = 0.7)\n",
    "train  <- subset(df, sample == TRUE)\n",
    "test   <- subset(df, sample == FALSE)\n",
    "\n",
    "\n",
    "\n",
    "TestClasses <- test$deg_cat\n",
    "TestData <- subset(test,select= -deg_cat)"
   ]
  },
  {
   "cell_type": "code",
   "execution_count": 9,
   "id": "4270fe01",
   "metadata": {},
   "outputs": [
    {
     "data": {
      "text/html": [
       "<ol class=list-inline>\n",
       "\t<li>321</li>\n",
       "\t<li>184</li>\n",
       "</ol>\n"
      ],
      "text/latex": [
       "\\begin{enumerate*}\n",
       "\\item 321\n",
       "\\item 184\n",
       "\\end{enumerate*}\n"
      ],
      "text/markdown": [
       "1. 321\n",
       "2. 184\n",
       "\n",
       "\n"
      ],
      "text/plain": [
       "[1] 321 184"
      ]
     },
     "metadata": {},
     "output_type": "display_data"
    },
    {
     "data": {
      "text/html": [
       "<ol class=list-inline>\n",
       "\t<li>747</li>\n",
       "\t<li>184</li>\n",
       "</ol>\n"
      ],
      "text/latex": [
       "\\begin{enumerate*}\n",
       "\\item 747\n",
       "\\item 184\n",
       "\\end{enumerate*}\n"
      ],
      "text/markdown": [
       "1. 747\n",
       "2. 184\n",
       "\n",
       "\n"
      ],
      "text/plain": [
       "[1] 747 184"
      ]
     },
     "metadata": {},
     "output_type": "display_data"
    }
   ],
   "source": [
    "dim(test)\n",
    "dim(train)"
   ]
  },
  {
   "cell_type": "code",
   "execution_count": 4,
   "id": "cd883fbc",
   "metadata": {},
   "outputs": [
    {
     "data": {
      "text/plain": [
       "\n",
       "Accettabile  Complicato      Ottimo \n",
       "        249         249         249 "
      ]
     },
     "metadata": {},
     "output_type": "display_data"
    }
   ],
   "source": [
    "train <- SmoteClassif(deg_cat ~ ., train, k = 27, dist = \"HEOM\")\n",
    "\n",
    "#view distribution of response variable in new dataset\n",
    "table(train$deg_cat)\n",
    "\n",
    "TrainClasses <- train$deg_cat\n",
    "TrainData <- subset(train,select= -deg_cat)"
   ]
  },
  {
   "cell_type": "markdown",
   "id": "9558f772",
   "metadata": {},
   "source": [
    "## Model"
   ]
  },
  {
   "cell_type": "code",
   "execution_count": 5,
   "id": "36be7576",
   "metadata": {},
   "outputs": [],
   "source": [
    "ctrl <- trainControl(method = \"repeatedcv\", \n",
    "                 number = 10, \n",
    "                 savePredictions = \"final\",classProbs=TRUE,verboseIter=TRUE, search= \"random\") \n",
    "\n",
    "#summaryFunction = multiClassSummary (to keep all metrics)"
   ]
  },
  {
   "cell_type": "code",
   "execution_count": 6,
   "id": "6743eae8",
   "metadata": {},
   "outputs": [],
   "source": [
    "\n",
    "model_svmPoly <- train(x=TrainData, y=TrainClasses, \n",
    "               method = \"svmPoly\", scale= FALSE) "
   ]
  },
  {
   "cell_type": "code",
   "execution_count": 7,
   "id": "b612ca51",
   "metadata": {},
   "outputs": [
    {
     "name": "stderr",
     "output_type": "stream",
     "text": [
      "Warning message in .local(x, ...):\n",
      "\"Variable(s) `' constant. Cannot scale data.\"\n"
     ]
    }
   ],
   "source": [
    "\n",
    "model_svmRadial <- train(x=TrainData, y=TrainClasses, \n",
    "               method = \"svmRadial\", scale= FALSE) "
   ]
  },
  {
   "cell_type": "code",
   "execution_count": 8,
   "id": "9d805cbe",
   "metadata": {},
   "outputs": [],
   "source": [
    "\n",
    "model_svmLinear <- train(x=TrainData, y=TrainClasses, \n",
    "               method = \"svmLinear\", scale= FALSE)"
   ]
  },
  {
   "cell_type": "markdown",
   "id": "ff325b52",
   "metadata": {},
   "source": [
    "# Results"
   ]
  },
  {
   "cell_type": "code",
   "execution_count": 9,
   "id": "9d02b98f",
   "metadata": {},
   "outputs": [
    {
     "name": "stdout",
     "output_type": "stream",
     "text": [
      "Support Vector Machines with Polynomial Kernel \n",
      "\n",
      "747 samples\n",
      "183 predictors\n",
      "  3 classes: 'Accettabile', 'Complicato', 'Ottimo' \n",
      "\n",
      "No pre-processing\n",
      "Resampling: Bootstrapped (25 reps) \n",
      "Summary of sample sizes: 747, 747, 747, 747, 747, 747, ... \n",
      "Resampling results across tuning parameters:\n",
      "\n",
      "  degree  scale  C     Accuracy   Kappa     \n",
      "  1       0.001  0.25  0.3477963  0.04490107\n",
      "  1       0.001  0.50  0.4433203  0.17959221\n",
      "  1       0.001  1.00  0.5517243  0.33200671\n",
      "  1       0.010  0.25  0.6097754  0.41553120\n",
      "  1       0.010  0.50  0.6198692  0.43037428\n",
      "  1       0.010  1.00  0.6291822  0.44386387\n",
      "  1       0.100  0.25  0.6440065  0.46579526\n",
      "  1       0.100  0.50  0.6447259  0.46697960\n",
      "  1       0.100  1.00  0.6498821  0.47470105\n",
      "  2       0.001  0.25  0.4514401  0.19109521\n",
      "  2       0.001  0.50  0.5570573  0.33982352\n",
      "  2       0.001  1.00  0.5993768  0.40011804\n",
      "  2       0.010  0.25  0.6292852  0.44425281\n",
      "  2       0.010  0.50  0.6408987  0.46133735\n",
      "  2       0.010  1.00  0.6468823  0.47016922\n",
      "  2       0.100  0.25  0.6587730  0.48786132\n",
      "  2       0.100  0.50  0.6566093  0.48475681\n",
      "  2       0.100  1.00  0.6559762  0.48387621\n",
      "  3       0.001  0.25  0.5187634  0.28491520\n",
      "  3       0.001  0.50  0.5886196  0.38472119\n",
      "  3       0.001  1.00  0.6167324  0.42582940\n",
      "  3       0.010  0.25  0.6412200  0.46186272\n",
      "  3       0.010  0.50  0.6507539  0.47598051\n",
      "  3       0.010  1.00  0.6561084  0.48390677\n",
      "  3       0.100  0.25  0.6556376  0.48319460\n",
      "  3       0.100  0.50  0.6556376  0.48319460\n",
      "  3       0.100  1.00  0.6556376  0.48319460\n",
      "\n",
      "Accuracy was used to select the optimal model using the largest value.\n",
      "The final values used for the model were degree = 2, scale = 0.1 and C = 0.25.\n"
     ]
    },
    {
     "data": {
      "image/png": "[encoded data removed]",
      "text/plain": [
       "plot without title"
      ]
     },
     "metadata": {
      "image/png": {
       "height": 500,
       "width": 1000
      }
     },
     "output_type": "display_data"
    }
   ],
   "source": [
    "print(model_svmPoly)\n",
    "plot(model_svmPoly)"
   ]
  },
  {
   "cell_type": "code",
   "execution_count": 10,
   "id": "568bee3a",
   "metadata": {},
   "outputs": [
    {
     "name": "stdout",
     "output_type": "stream",
     "text": [
      "Support Vector Machines with Radial Basis Function Kernel \n",
      "\n",
      "747 samples\n",
      "183 predictors\n",
      "  3 classes: 'Accettabile', 'Complicato', 'Ottimo' \n",
      "\n",
      "No pre-processing\n",
      "Resampling: Bootstrapped (25 reps) \n",
      "Summary of sample sizes: 747, 747, 747, 747, 747, 747, ... \n",
      "Resampling results across tuning parameters:\n",
      "\n",
      "  C     Accuracy   Kappa    \n",
      "  0.25  0.6276064  0.4410646\n",
      "  0.50  0.6328206  0.4486842\n",
      "  1.00  0.6400750  0.4595935\n",
      "\n",
      "Tuning parameter 'sigma' was held constant at a value of 0.01710018\n",
      "Accuracy was used to select the optimal model using the largest value.\n",
      "The final values used for the model were sigma = 0.01710018 and C = 1.\n"
     ]
    },
    {
     "data": {
      "image/png": "[encoded data removed]",
      "text/plain": [
       "plot without title"
      ]
     },
     "metadata": {
      "image/png": {
       "height": 500,
       "width": 1000
      }
     },
     "output_type": "display_data"
    }
   ],
   "source": [
    "print(model_svmRadial)\n",
    "plot(model_svmRadial)"
   ]
  },
  {
   "cell_type": "code",
   "execution_count": 12,
   "id": "0003f574",
   "metadata": {},
   "outputs": [
    {
     "name": "stdout",
     "output_type": "stream",
     "text": [
      "Support Vector Machines with Linear Kernel \n",
      "\n",
      "747 samples\n",
      "183 predictors\n",
      "  3 classes: 'Accettabile', 'Complicato', 'Ottimo' \n",
      "\n",
      "No pre-processing\n",
      "Resampling: Bootstrapped (25 reps) \n",
      "Summary of sample sizes: 747, 747, 747, 747, 747, 747, ... \n",
      "Resampling results:\n",
      "\n",
      "  Accuracy   Kappa    \n",
      "  0.6417577  0.4621443\n",
      "\n",
      "Tuning parameter 'C' was held constant at a value of 1\n"
     ]
    },
    {
     "ename": "ERROR",
     "evalue": "Error in plot.train(model_svmLinear): There are no tuning parameters with more than 1 value.\n",
     "output_type": "error",
     "traceback": [
      "Error in plot.train(model_svmLinear): There are no tuning parameters with more than 1 value.\nTraceback:\n",
      "1. plot(model_svmLinear)",
      "2. plot(model_svmLinear)",
      "3. plot.train(model_svmLinear)",
      "4. stop(plotIt)"
     ]
    }
   ],
   "source": [
    "print(model_svmLinear)\n",
    "plot(model_svmLinear)"
   ]
  },
  {
   "cell_type": "code",
   "execution_count": 13,
   "id": "35bd120c",
   "metadata": {},
   "outputs": [
    {
     "data": {
      "text/plain": [
       "\n",
       "Call:\n",
       "summary.resamples(object = results)\n",
       "\n",
       "Models: Poly, Radial, Linear \n",
       "Number of resamples: 25 \n",
       "\n",
       "Accuracy \n",
       "            Min.   1st Qu.    Median      Mean   3rd Qu.      Max. NA's\n",
       "Poly   0.6097561 0.6460481 0.6617647 0.6587730 0.6702899 0.7087719    0\n",
       "Radial 0.5813149 0.6272401 0.6402878 0.6400750 0.6510791 0.6959707    0\n",
       "Linear 0.6102362 0.6241379 0.6395349 0.6417577 0.6589147 0.6879699    0\n",
       "\n",
       "Kappa \n",
       "            Min.   1st Qu.    Median      Mean   3rd Qu.      Max. NA's\n",
       "Poly   0.4150744 0.4674496 0.4889724 0.4878613 0.5049083 0.5627380    0\n",
       "Radial 0.3715585 0.4360859 0.4614282 0.4595935 0.4777689 0.5462574    0\n",
       "Linear 0.4171476 0.4357574 0.4589365 0.4621443 0.4877487 0.5287312    0\n"
      ]
     },
     "metadata": {},
     "output_type": "display_data"
    },
    {
     "data": {
      "image/png": "[encoded data removed]",
      "text/plain": [
       "plot without title"
      ]
     },
     "metadata": {
      "image/png": {
       "height": 500,
       "width": 1000
      }
     },
     "output_type": "display_data"
    },
    {
     "data": {
      "image/png": "[encoded data removed]",
      "text/plain": [
       "plot without title"
      ]
     },
     "metadata": {
      "image/png": {
       "height": 500,
       "width": 1000
      }
     },
     "output_type": "display_data"
    }
   ],
   "source": [
    "# collect resamples\n",
    "results <- resamples(list(Poly=model_svmPoly,  Radial=model_svmRadial, Linear=model_svmLinear))\n",
    "# summarize the distributions\n",
    "summary(results)\n",
    "# boxplots of results\n",
    "bwplot(results)\n",
    "# dot plots of results\n",
    "dotplot(results)"
   ]
  },
  {
   "cell_type": "markdown",
   "id": "d8ba52a6",
   "metadata": {},
   "source": [
    "# Prediction"
   ]
  },
  {
   "cell_type": "code",
   "execution_count": 16,
   "id": "a64d53ae",
   "metadata": {},
   "outputs": [
    {
     "name": "stderr",
     "output_type": "stream",
     "text": [
      "Warning message in method$prob(modelFit = modelFit, newdata = newdata, submodels = param):\n",
      "\"kernlab class probability calculations failed; returning NAs\"\n"
     ]
    },
    {
     "data": {
      "text/plain": [
       "Confusion Matrix and Statistics\n",
       "\n",
       "             Reference\n",
       "Prediction    Accettabile Complicato Ottimo\n",
       "  Accettabile          87         46     23\n",
       "  Complicato           44         69      9\n",
       "  Ottimo               20          5     18\n",
       "\n",
       "Overall Statistics\n",
       "                                          \n",
       "               Accuracy : 0.5421          \n",
       "                 95% CI : (0.4858, 0.5975)\n",
       "    No Information Rate : 0.4704          \n",
       "    P-Value [Acc > NIR] : 0.005974        \n",
       "                                          \n",
       "                  Kappa : 0.2474          \n",
       "                                          \n",
       " Mcnemar's Test P-Value : 0.706331        \n",
       "\n",
       "Statistics by Class:\n",
       "\n",
       "                     Class: Accettabile Class: Complicato Class: Ottimo\n",
       "Sensitivity                      0.5762            0.5750       0.36000\n",
       "Specificity                      0.5941            0.7363       0.90775\n",
       "Pos Pred Value                   0.5577            0.5656       0.41860\n",
       "Neg Pred Value                   0.6121            0.7437       0.88489\n",
       "Prevalence                       0.4704            0.3738       0.15576\n",
       "Detection Rate                   0.2710            0.2150       0.05607\n",
       "Detection Prevalence             0.4860            0.3801       0.13396\n",
       "Balanced Accuracy                0.5851            0.6557       0.63387"
      ]
     },
     "metadata": {},
     "output_type": "display_data"
    },
    {
     "data": {
      "text/html": [
       "<table>\n",
       "<thead><tr><th></th><th scope=col>Sensitivity</th><th scope=col>Specificity</th><th scope=col>Pos Pred Value</th><th scope=col>Neg Pred Value</th><th scope=col>Precision</th><th scope=col>Recall</th><th scope=col>F1</th><th scope=col>Prevalence</th><th scope=col>Detection Rate</th><th scope=col>Detection Prevalence</th><th scope=col>Balanced Accuracy</th></tr></thead>\n",
       "<tbody>\n",
       "\t<tr><th scope=row>Class: Accettabile</th><td>0.5761589 </td><td>0.5941176 </td><td>0.5576923 </td><td>0.6121212 </td><td>0.5576923 </td><td>0.5761589 </td><td>0.5667752 </td><td>0.4704050 </td><td>0.27102804</td><td>0.4859813 </td><td>0.5851383 </td></tr>\n",
       "\t<tr><th scope=row>Class: Complicato</th><td>0.5750000 </td><td>0.7363184 </td><td>0.5655738 </td><td>0.7437186 </td><td>0.5655738 </td><td>0.5750000 </td><td>0.5702479 </td><td>0.3738318 </td><td>0.21495327</td><td>0.3800623 </td><td>0.6556592 </td></tr>\n",
       "\t<tr><th scope=row>Class: Ottimo</th><td>0.3600000 </td><td>0.9077491 </td><td>0.4186047 </td><td>0.8848921 </td><td>0.4186047 </td><td>0.3600000 </td><td>0.3870968 </td><td>0.1557632 </td><td>0.05607477</td><td>0.1339564 </td><td>0.6338745 </td></tr>\n",
       "</tbody>\n",
       "</table>\n"
      ],
      "text/latex": [
       "\\begin{tabular}{r|lllllllllll}\n",
       "  & Sensitivity & Specificity & Pos Pred Value & Neg Pred Value & Precision & Recall & F1 & Prevalence & Detection Rate & Detection Prevalence & Balanced Accuracy\\\\\n",
       "\\hline\n",
       "\tClass: Accettabile & 0.5761589  & 0.5941176  & 0.5576923  & 0.6121212  & 0.5576923  & 0.5761589  & 0.5667752  & 0.4704050  & 0.27102804 & 0.4859813  & 0.5851383 \\\\\n",
       "\tClass: Complicato & 0.5750000  & 0.7363184  & 0.5655738  & 0.7437186  & 0.5655738  & 0.5750000  & 0.5702479  & 0.3738318  & 0.21495327 & 0.3800623  & 0.6556592 \\\\\n",
       "\tClass: Ottimo & 0.3600000  & 0.9077491  & 0.4186047  & 0.8848921  & 0.4186047  & 0.3600000  & 0.3870968  & 0.1557632  & 0.05607477 & 0.1339564  & 0.6338745 \\\\\n",
       "\\end{tabular}\n"
      ],
      "text/markdown": [
       "\n",
       "| <!--/--> | Sensitivity | Specificity | Pos Pred Value | Neg Pred Value | Precision | Recall | F1 | Prevalence | Detection Rate | Detection Prevalence | Balanced Accuracy |\n",
       "|---|---|---|---|---|---|---|---|---|---|---|---|\n",
       "| Class: Accettabile | 0.5761589  | 0.5941176  | 0.5576923  | 0.6121212  | 0.5576923  | 0.5761589  | 0.5667752  | 0.4704050  | 0.27102804 | 0.4859813  | 0.5851383  |\n",
       "| Class: Complicato | 0.5750000  | 0.7363184  | 0.5655738  | 0.7437186  | 0.5655738  | 0.5750000  | 0.5702479  | 0.3738318  | 0.21495327 | 0.3800623  | 0.6556592  |\n",
       "| Class: Ottimo | 0.3600000  | 0.9077491  | 0.4186047  | 0.8848921  | 0.4186047  | 0.3600000  | 0.3870968  | 0.1557632  | 0.05607477 | 0.1339564  | 0.6338745  |\n",
       "\n"
      ],
      "text/plain": [
       "                   Sensitivity Specificity Pos Pred Value Neg Pred Value\n",
       "Class: Accettabile 0.5761589   0.5941176   0.5576923      0.6121212     \n",
       "Class: Complicato  0.5750000   0.7363184   0.5655738      0.7437186     \n",
       "Class: Ottimo      0.3600000   0.9077491   0.4186047      0.8848921     \n",
       "                   Precision Recall    F1        Prevalence Detection Rate\n",
       "Class: Accettabile 0.5576923 0.5761589 0.5667752 0.4704050  0.27102804    \n",
       "Class: Complicato  0.5655738 0.5750000 0.5702479 0.3738318  0.21495327    \n",
       "Class: Ottimo      0.4186047 0.3600000 0.3870968 0.1557632  0.05607477    \n",
       "                   Detection Prevalence Balanced Accuracy\n",
       "Class: Accettabile 0.4859813            0.5851383        \n",
       "Class: Complicato  0.3800623            0.6556592        \n",
       "Class: Ottimo      0.1339564            0.6338745        "
      ]
     },
     "metadata": {},
     "output_type": "display_data"
    }
   ],
   "source": [
    "pred_svmPoly <- predict(model_svmPoly,TestData)\n",
    "pred_svmPoly.prob <- predict(model_svmPoly,TestData, type=\"prob\")\n",
    "\n",
    "\n",
    "result <- confusionMatrix(TestClasses,  pred_svmPoly) \n",
    "result\n",
    "result$byClass"
   ]
  },
  {
   "cell_type": "code",
   "execution_count": 17,
   "id": "d19af5a0",
   "metadata": {},
   "outputs": [
    {
     "name": "stderr",
     "output_type": "stream",
     "text": [
      "Warning message in method$prob(modelFit = modelFit, newdata = newdata, submodels = param):\n",
      "\"kernlab class probability calculations failed; returning NAs\"\n"
     ]
    },
    {
     "data": {
      "text/plain": [
       "Confusion Matrix and Statistics\n",
       "\n",
       "             Reference\n",
       "Prediction    Accettabile Complicato Ottimo\n",
       "  Accettabile          82         47     27\n",
       "  Complicato           34         81      7\n",
       "  Ottimo               14          4     25\n",
       "\n",
       "Overall Statistics\n",
       "                                          \n",
       "               Accuracy : 0.5857          \n",
       "                 95% CI : (0.5296, 0.6401)\n",
       "    No Information Rate : 0.4112          \n",
       "    P-Value [Acc > NIR] : 2.328e-10       \n",
       "                                          \n",
       "                  Kappa : 0.3342          \n",
       "                                          \n",
       " Mcnemar's Test P-Value : 0.07106         \n",
       "\n",
       "Statistics by Class:\n",
       "\n",
       "                     Class: Accettabile Class: Complicato Class: Ottimo\n",
       "Sensitivity                      0.6308            0.6136       0.42373\n",
       "Specificity                      0.6126            0.7831       0.93130\n",
       "Pos Pred Value                   0.5256            0.6639       0.58140\n",
       "Neg Pred Value                   0.7091            0.7437       0.87770\n",
       "Prevalence                       0.4050            0.4112       0.18380\n",
       "Detection Rate                   0.2555            0.2523       0.07788\n",
       "Detection Prevalence             0.4860            0.3801       0.13396\n",
       "Balanced Accuracy                0.6217            0.6984       0.67751"
      ]
     },
     "metadata": {},
     "output_type": "display_data"
    },
    {
     "data": {
      "text/html": [
       "<table>\n",
       "<thead><tr><th></th><th scope=col>Sensitivity</th><th scope=col>Specificity</th><th scope=col>Pos Pred Value</th><th scope=col>Neg Pred Value</th><th scope=col>Precision</th><th scope=col>Recall</th><th scope=col>F1</th><th scope=col>Prevalence</th><th scope=col>Detection Rate</th><th scope=col>Detection Prevalence</th><th scope=col>Balanced Accuracy</th></tr></thead>\n",
       "<tbody>\n",
       "\t<tr><th scope=row>Class: Accettabile</th><td>0.6307692 </td><td>0.6125654 </td><td>0.5256410 </td><td>0.7090909 </td><td>0.5256410 </td><td>0.6307692 </td><td>0.5734266 </td><td>0.4049844 </td><td>0.25545171</td><td>0.4859813 </td><td>0.6216673 </td></tr>\n",
       "\t<tr><th scope=row>Class: Complicato</th><td>0.6136364 </td><td>0.7830688 </td><td>0.6639344 </td><td>0.7437186 </td><td>0.6639344 </td><td>0.6136364 </td><td>0.6377953 </td><td>0.4112150 </td><td>0.25233645</td><td>0.3800623 </td><td>0.6983526 </td></tr>\n",
       "\t<tr><th scope=row>Class: Ottimo</th><td>0.4237288 </td><td>0.9312977 </td><td>0.5813953 </td><td>0.8776978 </td><td>0.5813953 </td><td>0.4237288 </td><td>0.4901961 </td><td>0.1838006 </td><td>0.07788162</td><td>0.1339564 </td><td>0.6775133 </td></tr>\n",
       "</tbody>\n",
       "</table>\n"
      ],
      "text/latex": [
       "\\begin{tabular}{r|lllllllllll}\n",
       "  & Sensitivity & Specificity & Pos Pred Value & Neg Pred Value & Precision & Recall & F1 & Prevalence & Detection Rate & Detection Prevalence & Balanced Accuracy\\\\\n",
       "\\hline\n",
       "\tClass: Accettabile & 0.6307692  & 0.6125654  & 0.5256410  & 0.7090909  & 0.5256410  & 0.6307692  & 0.5734266  & 0.4049844  & 0.25545171 & 0.4859813  & 0.6216673 \\\\\n",
       "\tClass: Complicato & 0.6136364  & 0.7830688  & 0.6639344  & 0.7437186  & 0.6639344  & 0.6136364  & 0.6377953  & 0.4112150  & 0.25233645 & 0.3800623  & 0.6983526 \\\\\n",
       "\tClass: Ottimo & 0.4237288  & 0.9312977  & 0.5813953  & 0.8776978  & 0.5813953  & 0.4237288  & 0.4901961  & 0.1838006  & 0.07788162 & 0.1339564  & 0.6775133 \\\\\n",
       "\\end{tabular}\n"
      ],
      "text/markdown": [
       "\n",
       "| <!--/--> | Sensitivity | Specificity | Pos Pred Value | Neg Pred Value | Precision | Recall | F1 | Prevalence | Detection Rate | Detection Prevalence | Balanced Accuracy |\n",
       "|---|---|---|---|---|---|---|---|---|---|---|---|\n",
       "| Class: Accettabile | 0.6307692  | 0.6125654  | 0.5256410  | 0.7090909  | 0.5256410  | 0.6307692  | 0.5734266  | 0.4049844  | 0.25545171 | 0.4859813  | 0.6216673  |\n",
       "| Class: Complicato | 0.6136364  | 0.7830688  | 0.6639344  | 0.7437186  | 0.6639344  | 0.6136364  | 0.6377953  | 0.4112150  | 0.25233645 | 0.3800623  | 0.6983526  |\n",
       "| Class: Ottimo | 0.4237288  | 0.9312977  | 0.5813953  | 0.8776978  | 0.5813953  | 0.4237288  | 0.4901961  | 0.1838006  | 0.07788162 | 0.1339564  | 0.6775133  |\n",
       "\n"
      ],
      "text/plain": [
       "                   Sensitivity Specificity Pos Pred Value Neg Pred Value\n",
       "Class: Accettabile 0.6307692   0.6125654   0.5256410      0.7090909     \n",
       "Class: Complicato  0.6136364   0.7830688   0.6639344      0.7437186     \n",
       "Class: Ottimo      0.4237288   0.9312977   0.5813953      0.8776978     \n",
       "                   Precision Recall    F1        Prevalence Detection Rate\n",
       "Class: Accettabile 0.5256410 0.6307692 0.5734266 0.4049844  0.25545171    \n",
       "Class: Complicato  0.6639344 0.6136364 0.6377953 0.4112150  0.25233645    \n",
       "Class: Ottimo      0.5813953 0.4237288 0.4901961 0.1838006  0.07788162    \n",
       "                   Detection Prevalence Balanced Accuracy\n",
       "Class: Accettabile 0.4859813            0.6216673        \n",
       "Class: Complicato  0.3800623            0.6983526        \n",
       "Class: Ottimo      0.1339564            0.6775133        "
      ]
     },
     "metadata": {},
     "output_type": "display_data"
    }
   ],
   "source": [
    "pred_svmRadial <- predict(model_svmRadial,TestData)\n",
    "pred_svmRadial.prob <- predict(model_svmRadial,TestData, type=\"prob\")\n",
    "\n",
    "\n",
    "result <- confusionMatrix(TestClasses,  pred_svmRadial) \n",
    "result\n",
    "result$byClass"
   ]
  },
  {
   "cell_type": "code",
   "execution_count": 18,
   "id": "6b672908",
   "metadata": {},
   "outputs": [
    {
     "name": "stderr",
     "output_type": "stream",
     "text": [
      "Warning message in method$prob(modelFit = modelFit, newdata = newdata, submodels = param):\n",
      "\"kernlab class probability calculations failed; returning NAs\"\n"
     ]
    },
    {
     "data": {
      "text/plain": [
       "Confusion Matrix and Statistics\n",
       "\n",
       "             Reference\n",
       "Prediction    Accettabile Complicato Ottimo\n",
       "  Accettabile          84         44     28\n",
       "  Complicato           45         66     11\n",
       "  Ottimo               12          5     26\n",
       "\n",
       "Overall Statistics\n",
       "                                          \n",
       "               Accuracy : 0.5483          \n",
       "                 95% CI : (0.4921, 0.6036)\n",
       "    No Information Rate : 0.4393          \n",
       "    P-Value [Acc > NIR] : 5.617e-05       \n",
       "                                          \n",
       "                  Kappa : 0.2752          \n",
       "                                          \n",
       " Mcnemar's Test P-Value : 0.03415         \n",
       "\n",
       "Statistics by Class:\n",
       "\n",
       "                     Class: Accettabile Class: Complicato Class: Ottimo\n",
       "Sensitivity                      0.5957            0.5739        0.4000\n",
       "Specificity                      0.6000            0.7282        0.9336\n",
       "Pos Pred Value                   0.5385            0.5410        0.6047\n",
       "Neg Pred Value                   0.6545            0.7538        0.8597\n",
       "Prevalence                       0.4393            0.3583        0.2025\n",
       "Detection Rate                   0.2617            0.2056        0.0810\n",
       "Detection Prevalence             0.4860            0.3801        0.1340\n",
       "Balanced Accuracy                0.5979            0.6510        0.6668"
      ]
     },
     "metadata": {},
     "output_type": "display_data"
    },
    {
     "data": {
      "text/html": [
       "<table>\n",
       "<thead><tr><th></th><th scope=col>Sensitivity</th><th scope=col>Specificity</th><th scope=col>Pos Pred Value</th><th scope=col>Neg Pred Value</th><th scope=col>Precision</th><th scope=col>Recall</th><th scope=col>F1</th><th scope=col>Prevalence</th><th scope=col>Detection Rate</th><th scope=col>Detection Prevalence</th><th scope=col>Balanced Accuracy</th></tr></thead>\n",
       "<tbody>\n",
       "\t<tr><th scope=row>Class: Accettabile</th><td>0.5957447 </td><td>0.6000000 </td><td>0.5384615 </td><td>0.6545455 </td><td>0.5384615 </td><td>0.5957447 </td><td>0.5656566 </td><td>0.4392523 </td><td>0.26168224</td><td>0.4859813 </td><td>0.5978723 </td></tr>\n",
       "\t<tr><th scope=row>Class: Complicato</th><td>0.5739130 </td><td>0.7281553 </td><td>0.5409836 </td><td>0.7537688 </td><td>0.5409836 </td><td>0.5739130 </td><td>0.5569620 </td><td>0.3582555 </td><td>0.20560748</td><td>0.3800623 </td><td>0.6510342 </td></tr>\n",
       "\t<tr><th scope=row>Class: Ottimo</th><td>0.4000000 </td><td>0.9335938 </td><td>0.6046512 </td><td>0.8597122 </td><td>0.6046512 </td><td>0.4000000 </td><td>0.4814815 </td><td>0.2024922 </td><td>0.08099688</td><td>0.1339564 </td><td>0.6667969 </td></tr>\n",
       "</tbody>\n",
       "</table>\n"
      ],
      "text/latex": [
       "\\begin{tabular}{r|lllllllllll}\n",
       "  & Sensitivity & Specificity & Pos Pred Value & Neg Pred Value & Precision & Recall & F1 & Prevalence & Detection Rate & Detection Prevalence & Balanced Accuracy\\\\\n",
       "\\hline\n",
       "\tClass: Accettabile & 0.5957447  & 0.6000000  & 0.5384615  & 0.6545455  & 0.5384615  & 0.5957447  & 0.5656566  & 0.4392523  & 0.26168224 & 0.4859813  & 0.5978723 \\\\\n",
       "\tClass: Complicato & 0.5739130  & 0.7281553  & 0.5409836  & 0.7537688  & 0.5409836  & 0.5739130  & 0.5569620  & 0.3582555  & 0.20560748 & 0.3800623  & 0.6510342 \\\\\n",
       "\tClass: Ottimo & 0.4000000  & 0.9335938  & 0.6046512  & 0.8597122  & 0.6046512  & 0.4000000  & 0.4814815  & 0.2024922  & 0.08099688 & 0.1339564  & 0.6667969 \\\\\n",
       "\\end{tabular}\n"
      ],
      "text/markdown": [
       "\n",
       "| <!--/--> | Sensitivity | Specificity | Pos Pred Value | Neg Pred Value | Precision | Recall | F1 | Prevalence | Detection Rate | Detection Prevalence | Balanced Accuracy |\n",
       "|---|---|---|---|---|---|---|---|---|---|---|---|\n",
       "| Class: Accettabile | 0.5957447  | 0.6000000  | 0.5384615  | 0.6545455  | 0.5384615  | 0.5957447  | 0.5656566  | 0.4392523  | 0.26168224 | 0.4859813  | 0.5978723  |\n",
       "| Class: Complicato | 0.5739130  | 0.7281553  | 0.5409836  | 0.7537688  | 0.5409836  | 0.5739130  | 0.5569620  | 0.3582555  | 0.20560748 | 0.3800623  | 0.6510342  |\n",
       "| Class: Ottimo | 0.4000000  | 0.9335938  | 0.6046512  | 0.8597122  | 0.6046512  | 0.4000000  | 0.4814815  | 0.2024922  | 0.08099688 | 0.1339564  | 0.6667969  |\n",
       "\n"
      ],
      "text/plain": [
       "                   Sensitivity Specificity Pos Pred Value Neg Pred Value\n",
       "Class: Accettabile 0.5957447   0.6000000   0.5384615      0.6545455     \n",
       "Class: Complicato  0.5739130   0.7281553   0.5409836      0.7537688     \n",
       "Class: Ottimo      0.4000000   0.9335938   0.6046512      0.8597122     \n",
       "                   Precision Recall    F1        Prevalence Detection Rate\n",
       "Class: Accettabile 0.5384615 0.5957447 0.5656566 0.4392523  0.26168224    \n",
       "Class: Complicato  0.5409836 0.5739130 0.5569620 0.3582555  0.20560748    \n",
       "Class: Ottimo      0.6046512 0.4000000 0.4814815 0.2024922  0.08099688    \n",
       "                   Detection Prevalence Balanced Accuracy\n",
       "Class: Accettabile 0.4859813            0.5978723        \n",
       "Class: Complicato  0.3800623            0.6510342        \n",
       "Class: Ottimo      0.1339564            0.6667969        "
      ]
     },
     "metadata": {},
     "output_type": "display_data"
    }
   ],
   "source": [
    "pred_svmLinear <- predict(model_svmLinear,TestData)\n",
    "pred_svmLinear.prob <- predict(model_svmLinear,TestData, type=\"prob\")\n",
    "\n",
    "\n",
    "result <- confusionMatrix(TestClasses,  pred_svmLinear) \n",
    "result\n",
    "result$byClass"
   ]
  },
  {
   "cell_type": "code",
   "execution_count": 19,
   "id": "dc08eb2d",
   "metadata": {},
   "outputs": [
    {
     "name": "stderr",
     "output_type": "stream",
     "text": [
      "Setting direction: controls < cases\n",
      "\n",
      "Setting direction: controls < cases\n",
      "\n",
      "Setting direction: controls < cases\n",
      "\n"
     ]
    },
    {
     "data": {
      "text/plain": [
       "\n",
       "Call:\n",
       "multiclass.roc.default(response = TestClasses, predictor = as.numeric(pred_svmRadial))\n",
       "\n",
       "Data: as.numeric(pred_svmRadial) with 3 levels of TestClasses: Accettabile, Complicato, Ottimo.\n",
       "Multi-class area under the curve: 0.6404"
      ]
     },
     "metadata": {},
     "output_type": "display_data"
    }
   ],
   "source": [
    "roc_svmRadial <- multiclass.roc(TestClasses, as.numeric(pred_svmRadial))\n",
    "roc_svmRadial"
   ]
  },
  {
   "cell_type": "code",
   "execution_count": 20,
   "id": "0dd0aef4",
   "metadata": {},
   "outputs": [
    {
     "data": {
      "text/html": [
       "<table>\n",
       "<tbody>\n",
       "\t<tr><th scope=row>percent</th><td>FALSE</td><td>FALSE</td></tr>\n",
       "\t<tr><th scope=row>sensitivities</th><td>1.0000000, 0.6744186, 0.5813953, 0.0000000</td><td>1.0000000, 0.6744186, 0.5813953, 0.0000000</td></tr>\n",
       "\t<tr><th scope=row>specificities</th><td>0.0000000, 0.5256410, 0.8269231, 1.0000000</td><td>0.0000000, 0.2786885, 0.9426230, 1.0000000</td></tr>\n",
       "\t<tr><th scope=row>thresholds</th><td>-Inf, 1.5, 2.5, Inf</td><td>-Inf, 1.5, 2.5, Inf</td></tr>\n",
       "\t<tr><th scope=row>direction</th><td>&lt;</td><td>&lt;</td></tr>\n",
       "\t<tr><th scope=row>cases</th><td>3, 3, 3, 3, 2, 3, 3, 1, 3, 2, 3, 1, 1, 3, 1, 1, 1, 1, 3, 1, 1, 2, 1, 3, 3, 2, 3, 3, 3, 3, 3, 1, 1, 3, 3, 3, 3, 1, 3, 3, 3, 1, 3</td><td>3, 3, 3, 3, 2, 3, 3, 1, 3, 2, 3, 1, 1, 3, 1, 1, 1, 1, 3, 1, 1, 2, 1, 3, 3, 2, 3, 3, 3, 3, 3, 1, 1, 3, 3, 3, 3, 1, 3, 3, 3, 1, 3</td></tr>\n",
       "\t<tr><th scope=row>controls</th><td>3, 2, 1, 1, 2, 3, 1, 1, 3, 3, 3, 1, 3, 1, 1, 2, 2, 2, 1, 2, 2, 1, 2, 2, 2, 1, 1, 1, 1, 2, 2, 1, 2, 1, 1, 2, 1, 1, 2, 1, 1, 2, 1, 1, 1, 3, 3, 1, 2, 1, 3, 3, 3, 2, 1, 2, 2, 1, 3, 3, 1, 1, 1, 2, 2, 3, 1, 1, 2, 1, 1, 1, 1, 2, 1, 2, 2, 1, 2, 2, 1, 3, 1, 2, 1, 1, 1, 1, 1, 1, 1, 1, 1, 3, 2, 3, 3, 1, 3, 3, 2, 2, 3, 1, 3, 1, 1, 2, 2, 3, 1, 1, 2, 3, 1, 2, 2, 1, 1, 3, 3, 3, 2, 1, 2, 2, 1, 1, 1, 1, 1, 1, 1, 1, 1, 1, 2, 2, 1, 1, 2, 1, 2, 2, 2, 1, 1, 1, 1, 1, 2, 1, 1, 1, 1, 1</td><td>1, 2, 2, 2, 1, 2, 2, 1, 2, 2, 1, 2, 2, 2, 1, 2, 2, 2, 2, 1, 1, 2, 2, 2, 3, 2, 2, 2, 2, 1, 2, 2, 2, 2, 2, 2, 2, 1, 1, 2, 2, 1, 1, 3, 2, 1, 2, 2, 2, 3, 2, 2, 3, 1, 2, 2, 2, 2, 2, 2, 2, 1, 1, 2, 2, 2, 2, 2, 2, 1, 2, 2, 1, 1, 2, 2, 1, 2, 1, 1, 2, 1, 1, 1, 2, 2, 2, 3, 3, 1, 2, 2, 2, 2, 2, 1, 2, 3, 1, 1, 2, 1, 1, 2, 2, 2, 2, 2, 2, 1, 2, 1, 2, 2, 2, 2, 2, 1, 2, 2, 2, 2                                                                                                      </td></tr>\n",
       "\t<tr><th scope=row>fun.sesp</th><td><span style=white-space:pre-wrap>function (thresholds, controls, cases, direction) , {,     ncontrols &lt;- length(controls),     ncases &lt;- length(cases),     predictor &lt;- c(controls, cases),     response &lt;- c(rep(0, length(controls)), rep(1, length(cases))),     decr &lt;- direction == \"&lt;\",     predictor.order &lt;- order(predictor, decreasing = decr),     predictor.sorted &lt;- predictor[predictor.order],     response.sorted &lt;- response[predictor.order],     tp &lt;- cumsum(response.sorted == 1),     fp &lt;- cumsum(response.sorted == 0),     se &lt;- tp/ncases,     sp &lt;- (ncontrols - fp)/ncontrols,     dups.pred &lt;- rev(duplicated(rev(predictor.sorted))),     dups.sesp &lt;- duplicated(se) &amp; duplicated(sp),     dups &lt;- dups.pred | dups.sesp,     if (sum(!dups) != length(thresholds) - 1) {,         sessionInfo &lt;- sessionInfo(),         save(thresholds, controls, cases, direction, sessionInfo, ,             file = \"pROC_bug.RData\"),         stop(sprintf(\"pROC: fast algorithm computed an incorrect number of sensitivities and specificities. Diagnostic data saved in pROC_bug.RData. Please report this bug to &lt;%s&gt;.\", ,             utils::packageDescription(\"pROC\")$BugReports)),     },     if (direction == \"&lt;\") {,         se &lt;- rev(c(0, se[!dups])),         sp &lt;- rev(c(1, sp[!dups])),     },     else {,         se &lt;- c(0, se[!dups]),         sp &lt;- c(1, sp[!dups]),     },     return(list(se = se, sp = sp)), }</span></td><td><span style=white-space:pre-wrap>function (thresholds, controls, cases, direction) , {,     ncontrols &lt;- length(controls),     ncases &lt;- length(cases),     predictor &lt;- c(controls, cases),     response &lt;- c(rep(0, length(controls)), rep(1, length(cases))),     decr &lt;- direction == \"&lt;\",     predictor.order &lt;- order(predictor, decreasing = decr),     predictor.sorted &lt;- predictor[predictor.order],     response.sorted &lt;- response[predictor.order],     tp &lt;- cumsum(response.sorted == 1),     fp &lt;- cumsum(response.sorted == 0),     se &lt;- tp/ncases,     sp &lt;- (ncontrols - fp)/ncontrols,     dups.pred &lt;- rev(duplicated(rev(predictor.sorted))),     dups.sesp &lt;- duplicated(se) &amp; duplicated(sp),     dups &lt;- dups.pred | dups.sesp,     if (sum(!dups) != length(thresholds) - 1) {,         sessionInfo &lt;- sessionInfo(),         save(thresholds, controls, cases, direction, sessionInfo, ,             file = \"pROC_bug.RData\"),         stop(sprintf(\"pROC: fast algorithm computed an incorrect number of sensitivities and specificities. Diagnostic data saved in pROC_bug.RData. Please report this bug to &lt;%s&gt;.\", ,             utils::packageDescription(\"pROC\")$BugReports)),     },     if (direction == \"&lt;\") {,         se &lt;- rev(c(0, se[!dups])),         sp &lt;- rev(c(1, sp[!dups])),     },     else {,         se &lt;- c(0, se[!dups]),         sp &lt;- c(1, sp[!dups]),     },     return(list(se = se, sp = sp)), }</span></td></tr>\n",
       "\t<tr><th scope=row>call</th><td>roc.default(response = response, predictor = predictor, levels = X, ,     percent = percent, direction = ..1, auc = FALSE, ci = FALSE)</td><td>roc.default(response = response, predictor = predictor, levels = X, ,     percent = percent, direction = ..1, auc = FALSE, ci = FALSE)</td></tr>\n",
       "\t<tr><th scope=row>original.predictor</th><td>3, 2, 1, 1, 2, 2, 3, 3, 3, 2, 1, 3, 2, 1, 3, 3, 2, 3, 2, 1, 1, 3, 1, 3, 2, 3, 3, 1, 3, 1, 1, 1, 2, 2, 2, 2, 1, 2, 2, 2, 1, 2, 1, 2, 2, 2, 2, 2, 1, 1, 1, 1, 2, 2, 1, 2, 2, 2, 2, 1, 1, 2, 2, 2, 3, 2, 2, 2, 2, 1, 2, 1, 1, 2, 2, 1, 1, 2, 2, 2, 2, 1, 2, 2, 2, 2, 1, 1, 1, 2, 1, 2, 1, 2, 1, 3, 1, 1, 3, 1, 1, 1, 3, 2, 3, 1, 3, 1, 2, 1, 1, 1, 3, 1, 3, 3, 1, 2, 3, 2, 2, 1, 2, 2, 3, 2, 1, 2, 2, 1, 3, 3, 1, 1, 1, 3, 1, 2, 2, 1, 2, 2, 2, 2, 3, 2, 2, 1, 2, 2, 1, 1, 1, 2, 1, 2, 1, 2, 2, 1, 1, 2, 1, 2, 2, 2, 1, 2, 2, 2, 1, 2, 1, 2, 3, 2, 1, 1, 1, 2, 1, 1, 1, 1, 1, 2, 2, 1, 1, 1, 1, 2, 1, 1, 2, 1, 1, 1, 1, 2, 1, 3, 3, 3, 2, 3, 2, 2, 2, 3, 3, 3, 3, 1, 3, 3, 3, 3, 2, 1, 2, 3, 3, 3, 1, 1, 2, 3, 1, 3, 1, 1, 2, 2, 2, 3, 1, 2, 3, 1, 2, 3, 1, 2, 2, 2, 2, 3, 1, 1, 3, 1, 3, 3, 3, 1, 3, 3, 2, 3, 3, 1, 2, 1, 1, 1, 2, 2, 1, 3, 1, 2, 1, 1, 1, 1, 1, 2, 1, 1, 1, 1, 1, 2, 2, 2, 1, 2, 1, 2, 2, 2, 1, 2, 1, 2, 2, 1, 2, 2, 2, 2, 1, 1, 2, 2, 1, 1, 1, 2, 2, 1, 2, 2, 1, 2, 1, 2, 1, 1, 1</td><td>3, 2, 1, 1, 2, 2, 3, 3, 3, 2, 1, 3, 2, 1, 3, 3, 2, 3, 2, 1, 1, 3, 1, 3, 2, 3, 3, 1, 3, 1, 1, 1, 2, 2, 2, 2, 1, 2, 2, 2, 1, 2, 1, 2, 2, 2, 2, 2, 1, 1, 1, 1, 2, 2, 1, 2, 2, 2, 2, 1, 1, 2, 2, 2, 3, 2, 2, 2, 2, 1, 2, 1, 1, 2, 2, 1, 1, 2, 2, 2, 2, 1, 2, 2, 2, 2, 1, 1, 1, 2, 1, 2, 1, 2, 1, 3, 1, 1, 3, 1, 1, 1, 3, 2, 3, 1, 3, 1, 2, 1, 1, 1, 3, 1, 3, 3, 1, 2, 3, 2, 2, 1, 2, 2, 3, 2, 1, 2, 2, 1, 3, 3, 1, 1, 1, 3, 1, 2, 2, 1, 2, 2, 2, 2, 3, 2, 2, 1, 2, 2, 1, 1, 1, 2, 1, 2, 1, 2, 2, 1, 1, 2, 1, 2, 2, 2, 1, 2, 2, 2, 1, 2, 1, 2, 3, 2, 1, 1, 1, 2, 1, 1, 1, 1, 1, 2, 2, 1, 1, 1, 1, 2, 1, 1, 2, 1, 1, 1, 1, 2, 1, 3, 3, 3, 2, 3, 2, 2, 2, 3, 3, 3, 3, 1, 3, 3, 3, 3, 2, 1, 2, 3, 3, 3, 1, 1, 2, 3, 1, 3, 1, 1, 2, 2, 2, 3, 1, 2, 3, 1, 2, 3, 1, 2, 2, 2, 2, 3, 1, 1, 3, 1, 3, 3, 3, 1, 3, 3, 2, 3, 3, 1, 2, 1, 1, 1, 2, 2, 1, 3, 1, 2, 1, 1, 1, 1, 1, 2, 1, 1, 1, 1, 1, 2, 2, 2, 1, 2, 1, 2, 2, 2, 1, 2, 1, 2, 2, 1, 2, 2, 2, 2, 1, 1, 2, 2, 1, 1, 1, 2, 2, 1, 2, 2, 1, 2, 1, 2, 1, 1, 1</td></tr>\n",
       "\t<tr><th scope=row>original.response</th><td>1, 1, 2, 1, 2, 2, 3, 3, 3, 2, 2, 3, 3, 1, 3, 3, 1, 1, 2, 3, 1, 3, 1, 1, 2, 1, 1, 1, 1, 2, 1, 1, 1, 1, 2, 1, 1, 1, 1, 2, 2, 2, 1, 1, 1, 2, 1, 2, 1, 1, 2, 1, 3, 2, 1, 2, 2, 2, 1, 2, 2, 2, 2, 2, 2, 1, 2, 2, 2, 1, 1, 1, 1, 1, 2, 1, 2, 2, 2, 2, 2, 1, 2, 1, 2, 2, 2, 2, 1, 2, 1, 2, 2, 1, 1, 3, 2, 3, 2, 1, 3, 1, 3, 2, 1, 3, 1, 1, 1, 3, 1, 2, 1, 3, 1, 1, 3, 1, 3, 2, 2, 1, 1, 2, 2, 2, 3, 1, 2, 1, 1, 1, 1, 1, 1, 2, 3, 1, 3, 2, 1, 2, 2, 2, 1, 2, 2, 1, 2, 2, 2, 1, 2, 1, 1, 2, 1, 2, 2, 1, 1, 1, 1, 2, 1, 1, 1, 2, 2, 1, 2, 1, 1, 2, 1, 2, 2, 2, 1, 1, 1, 1, 1, 1, 1, 2, 2, 1, 2, 1, 3, 2, 2, 2, 2, 2, 2, 2, 1, 2, 1, 3, 3, 1, 1, 1, 2, 2, 3, 2, 1, 2, 3, 1, 1, 3, 1, 3, 1, 2, 1, 3, 3, 1, 3, 3, 2, 3, 1, 1, 1, 1, 1, 1, 2, 1, 1, 2, 3, 1, 1, 1, 1, 1, 2, 2, 1, 3, 1, 1, 3, 3, 1, 3, 3, 2, 1, 1, 2, 3, 2, 2, 1, 1, 2, 3, 1, 1, 1, 3, 1, 2, 2, 1, 1, 2, 1, 2, 1, 1, 1, 1, 1, 2, 1, 1, 1, 2, 1, 2, 1, 2, 1, 2, 2, 1, 2, 2, 1, 2, 1, 2, 1, 1, 2, 2, 1, 1, 1, 1, 2, 2, 2, 2, 1, 2, 1, 2, 1, 1, 1</td><td>1, 1, 2, 1, 2, 2, 3, 3, 3, 2, 2, 3, 3, 1, 3, 3, 1, 1, 2, 3, 1, 3, 1, 1, 2, 1, 1, 1, 1, 2, 1, 1, 1, 1, 2, 1, 1, 1, 1, 2, 2, 2, 1, 1, 1, 2, 1, 2, 1, 1, 2, 1, 3, 2, 1, 2, 2, 2, 1, 2, 2, 2, 2, 2, 2, 1, 2, 2, 2, 1, 1, 1, 1, 1, 2, 1, 2, 2, 2, 2, 2, 1, 2, 1, 2, 2, 2, 2, 1, 2, 1, 2, 2, 1, 1, 3, 2, 3, 2, 1, 3, 1, 3, 2, 1, 3, 1, 1, 1, 3, 1, 2, 1, 3, 1, 1, 3, 1, 3, 2, 2, 1, 1, 2, 2, 2, 3, 1, 2, 1, 1, 1, 1, 1, 1, 2, 3, 1, 3, 2, 1, 2, 2, 2, 1, 2, 2, 1, 2, 2, 2, 1, 2, 1, 1, 2, 1, 2, 2, 1, 1, 1, 1, 2, 1, 1, 1, 2, 2, 1, 2, 1, 1, 2, 1, 2, 2, 2, 1, 1, 1, 1, 1, 1, 1, 2, 2, 1, 2, 1, 3, 2, 2, 2, 2, 2, 2, 2, 1, 2, 1, 3, 3, 1, 1, 1, 2, 2, 3, 2, 1, 2, 3, 1, 1, 3, 1, 3, 1, 2, 1, 3, 3, 1, 3, 3, 2, 3, 1, 1, 1, 1, 1, 1, 2, 1, 1, 2, 3, 1, 1, 1, 1, 1, 2, 2, 1, 3, 1, 1, 3, 3, 1, 3, 3, 2, 1, 1, 2, 3, 2, 2, 1, 1, 2, 3, 1, 1, 1, 3, 1, 2, 2, 1, 1, 2, 1, 2, 1, 1, 1, 1, 1, 2, 1, 1, 1, 2, 1, 2, 1, 2, 1, 2, 2, 1, 2, 2, 1, 2, 1, 2, 1, 1, 2, 2, 1, 1, 1, 1, 2, 2, 2, 2, 1, 2, 1, 2, 1, 1, 1</td></tr>\n",
       "\t<tr><th scope=row>predictor</th><td>3, 2, 1, 3, 3, 3, 3, 2, 1, 3, 3, 2, 3, 1, 1, 3, 1, 3, 3, 3, 1, 3, 1, 1, 2, 2, 2, 1, 2, 2, 1, 2, 2, 2, 1, 1, 1, 2, 1, 2, 2, 1, 2, 1, 1, 2, 1, 1, 2, 1, 1, 2, 1, 3, 1, 1, 1, 1, 3, 3, 1, 3, 1, 2, 1, 1, 3, 1, 3, 3, 1, 2, 3, 1, 2, 1, 2, 1, 3, 3, 1, 1, 1, 1, 2, 2, 2, 3, 1, 1, 2, 1, 1, 1, 1, 2, 1, 2, 2, 1, 2, 2, 1, 3, 1, 2, 1, 1, 1, 1, 1, 1, 1, 1, 1, 1, 3, 3, 3, 2, 3, 2, 3, 3, 1, 3, 3, 3, 3, 2, 2, 3, 3, 3, 1, 1, 3, 1, 3, 1, 1, 2, 2, 3, 1, 3, 1, 2, 3, 1, 2, 2, 3, 1, 1, 3, 1, 3, 3, 3, 3, 3, 3, 2, 1, 1, 2, 2, 1, 3, 1, 1, 1, 1, 1, 1, 1, 1, 1, 2, 2, 1, 1, 2, 1, 2, 2, 2, 1, 1, 1, 1, 1, 2, 1, 1, 1, 1, 1</td><td>1, 2, 2, 3, 3, 3, 2, 1, 3, 2, 3, 3, 2, 1, 3, 2, 1, 2, 2, 1, 2, 2, 2, 1, 2, 2, 2, 2, 2, 1, 1, 2, 2, 2, 3, 2, 2, 2, 2, 1, 2, 2, 2, 2, 2, 2, 2, 1, 1, 2, 2, 1, 3, 1, 1, 3, 1, 3, 2, 1, 1, 1, 1, 1, 3, 2, 2, 2, 3, 2, 1, 2, 3, 1, 2, 1, 2, 2, 2, 2, 2, 2, 2, 1, 1, 2, 2, 2, 2, 2, 2, 1, 2, 2, 1, 1, 2, 2, 1, 1, 2, 1, 1, 2, 1, 1, 1, 2, 3, 3, 2, 2, 2, 3, 3, 3, 3, 3, 1, 3, 3, 1, 1, 2, 3, 2, 2, 3, 2, 2, 3, 3, 1, 3, 3, 1, 2, 3, 3, 1, 1, 1, 3, 2, 1, 1, 2, 2, 2, 2, 2, 2, 1, 2, 1, 2, 2, 2, 2, 2, 1, 2, 2, 2, 2                                                                                                      </td></tr>\n",
       "\t<tr><th scope=row>response</th><td>1, 1, 1, 3, 3, 3, 3, 3, 1, 3, 3, 1, 1, 3, 1, 3, 1, 1, 1, 1, 1, 1, 1, 1, 1, 1, 1, 1, 1, 1, 1, 1, 1, 1, 1, 1, 1, 3, 1, 1, 1, 1, 1, 1, 1, 1, 1, 1, 1, 1, 1, 1, 1, 3, 3, 1, 3, 1, 3, 1, 3, 1, 1, 1, 3, 1, 1, 3, 1, 1, 3, 1, 3, 1, 1, 3, 1, 1, 1, 1, 1, 1, 1, 3, 1, 3, 1, 1, 1, 1, 1, 1, 1, 1, 1, 1, 1, 1, 1, 1, 1, 1, 1, 1, 1, 1, 1, 1, 1, 1, 1, 1, 1, 3, 1, 1, 3, 3, 1, 1, 1, 3, 1, 3, 1, 1, 3, 1, 3, 1, 1, 3, 3, 1, 3, 3, 3, 1, 1, 1, 1, 1, 1, 1, 1, 3, 1, 1, 1, 1, 1, 1, 3, 1, 1, 3, 3, 1, 3, 3, 1, 1, 3, 1, 1, 3, 1, 1, 1, 3, 1, 1, 1, 1, 1, 1, 1, 1, 1, 1, 1, 1, 1, 1, 1, 1, 1, 1, 1, 1, 1, 1, 1, 1, 1, 1, 1, 1, 1</td><td>2, 2, 2, 3, 3, 3, 2, 2, 3, 3, 3, 3, 2, 3, 3, 2, 2, 2, 2, 2, 2, 2, 2, 2, 3, 2, 2, 2, 2, 2, 2, 2, 2, 2, 2, 2, 2, 2, 2, 2, 2, 2, 2, 2, 2, 2, 2, 2, 2, 2, 2, 2, 3, 2, 3, 2, 3, 3, 2, 3, 3, 2, 3, 3, 3, 2, 2, 2, 2, 2, 3, 2, 2, 3, 3, 2, 2, 2, 2, 2, 2, 2, 2, 2, 2, 2, 2, 2, 2, 2, 2, 2, 2, 2, 2, 2, 2, 2, 2, 3, 2, 2, 2, 2, 2, 2, 2, 2, 3, 3, 2, 2, 3, 2, 2, 3, 3, 3, 2, 3, 3, 3, 3, 2, 3, 2, 2, 3, 2, 2, 3, 3, 3, 3, 3, 2, 2, 3, 2, 2, 2, 3, 3, 2, 2, 2, 2, 2, 2, 2, 2, 2, 2, 2, 2, 2, 2, 2, 2, 2, 2, 2, 2, 2, 2                                                                                                      </td></tr>\n",
       "\t<tr><th scope=row>levels</th><td>Accettabile, Ottimo     </td><td>Complicato, Ottimo      </td></tr>\n",
       "</tbody>\n",
       "</table>\n"
      ],
      "text/latex": [
       "\\begin{tabular}{r|ll}\n",
       "\tpercent & FALSE & FALSE\\\\\n",
       "\tsensitivities & 1.0000000, 0.6744186, 0.5813953, 0.0000000 & 1.0000000, 0.6744186, 0.5813953, 0.0000000\\\\\n",
       "\tspecificities & 0.0000000, 0.5256410, 0.8269231, 1.0000000 & 0.0000000, 0.2786885, 0.9426230, 1.0000000\\\\\n",
       "\tthresholds & -Inf, 1.5, 2.5, Inf & -Inf, 1.5, 2.5, Inf\\\\\n",
       "\tdirection & < & <\\\\\n",
       "\tcases & 3, 3, 3, 3, 2, 3, 3, 1, 3, 2, 3, 1, 1, 3, 1, 1, 1, 1, 3, 1, 1, 2, 1, 3, 3, 2, 3, 3, 3, 3, 3, 1, 1, 3, 3, 3, 3, 1, 3, 3, 3, 1, 3 & 3, 3, 3, 3, 2, 3, 3, 1, 3, 2, 3, 1, 1, 3, 1, 1, 1, 1, 3, 1, 1, 2, 1, 3, 3, 2, 3, 3, 3, 3, 3, 1, 1, 3, 3, 3, 3, 1, 3, 3, 3, 1, 3\\\\\n",
       "\tcontrols & 3, 2, 1, 1, 2, 3, 1, 1, 3, 3, 3, 1, 3, 1, 1, 2, 2, 2, 1, 2, 2, 1, 2, 2, 2, 1, 1, 1, 1, 2, 2, 1, 2, 1, 1, 2, 1, 1, 2, 1, 1, 2, 1, 1, 1, 3, 3, 1, 2, 1, 3, 3, 3, 2, 1, 2, 2, 1, 3, 3, 1, 1, 1, 2, 2, 3, 1, 1, 2, 1, 1, 1, 1, 2, 1, 2, 2, 1, 2, 2, 1, 3, 1, 2, 1, 1, 1, 1, 1, 1, 1, 1, 1, 3, 2, 3, 3, 1, 3, 3, 2, 2, 3, 1, 3, 1, 1, 2, 2, 3, 1, 1, 2, 3, 1, 2, 2, 1, 1, 3, 3, 3, 2, 1, 2, 2, 1, 1, 1, 1, 1, 1, 1, 1, 1, 1, 2, 2, 1, 1, 2, 1, 2, 2, 2, 1, 1, 1, 1, 1, 2, 1, 1, 1, 1, 1 & 1, 2, 2, 2, 1, 2, 2, 1, 2, 2, 1, 2, 2, 2, 1, 2, 2, 2, 2, 1, 1, 2, 2, 2, 3, 2, 2, 2, 2, 1, 2, 2, 2, 2, 2, 2, 2, 1, 1, 2, 2, 1, 1, 3, 2, 1, 2, 2, 2, 3, 2, 2, 3, 1, 2, 2, 2, 2, 2, 2, 2, 1, 1, 2, 2, 2, 2, 2, 2, 1, 2, 2, 1, 1, 2, 2, 1, 2, 1, 1, 2, 1, 1, 1, 2, 2, 2, 3, 3, 1, 2, 2, 2, 2, 2, 1, 2, 3, 1, 1, 2, 1, 1, 2, 2, 2, 2, 2, 2, 1, 2, 1, 2, 2, 2, 2, 2, 1, 2, 2, 2, 2                                                                                                      \\\\\n",
       "\tfun.sesp & function (thresholds, controls, cases, direction) , \\{,     ncontrols <- length(controls),     ncases <- length(cases),     predictor <- c(controls, cases),     response <- c(rep(0, length(controls)), rep(1, length(cases))),     decr <- direction == \"<\",     predictor.order <- order(predictor, decreasing = decr),     predictor.sorted <- predictor{[}predictor.order{]},     response.sorted <- response{[}predictor.order{]},     tp <- cumsum(response.sorted == 1),     fp <- cumsum(response.sorted == 0),     se <- tp/ncases,     sp <- (ncontrols - fp)/ncontrols,     dups.pred <- rev(duplicated(rev(predictor.sorted))),     dups.sesp <- duplicated(se) \\& duplicated(sp),     dups <- dups.pred \\textbar{} dups.sesp,     if (sum(!dups) != length(thresholds) - 1) \\{,         sessionInfo <- sessionInfo(),         save(thresholds, controls, cases, direction, sessionInfo, ,             file = \"pROC\\_bug.RData\"),         stop(sprintf(\"pROC: fast algorithm computed an incorrect number of sensitivities and specificities. Diagnostic data saved in pROC\\_bug.RData. Please report this bug to <\\%s>.\", ,             utils::packageDescription(\"pROC\")\\$BugReports)),     \\},     if (direction == \"<\") \\{,         se <- rev(c(0, se{[}!dups{]})),         sp <- rev(c(1, sp{[}!dups{]})),     \\},     else \\{,         se <- c(0, se{[}!dups{]}),         sp <- c(1, sp{[}!dups{]}),     \\},     return(list(se = se, sp = sp)), \\} & function (thresholds, controls, cases, direction) , \\{,     ncontrols <- length(controls),     ncases <- length(cases),     predictor <- c(controls, cases),     response <- c(rep(0, length(controls)), rep(1, length(cases))),     decr <- direction == \"<\",     predictor.order <- order(predictor, decreasing = decr),     predictor.sorted <- predictor{[}predictor.order{]},     response.sorted <- response{[}predictor.order{]},     tp <- cumsum(response.sorted == 1),     fp <- cumsum(response.sorted == 0),     se <- tp/ncases,     sp <- (ncontrols - fp)/ncontrols,     dups.pred <- rev(duplicated(rev(predictor.sorted))),     dups.sesp <- duplicated(se) \\& duplicated(sp),     dups <- dups.pred \\textbar{} dups.sesp,     if (sum(!dups) != length(thresholds) - 1) \\{,         sessionInfo <- sessionInfo(),         save(thresholds, controls, cases, direction, sessionInfo, ,             file = \"pROC\\_bug.RData\"),         stop(sprintf(\"pROC: fast algorithm computed an incorrect number of sensitivities and specificities. Diagnostic data saved in pROC\\_bug.RData. Please report this bug to <\\%s>.\", ,             utils::packageDescription(\"pROC\")\\$BugReports)),     \\},     if (direction == \"<\") \\{,         se <- rev(c(0, se{[}!dups{]})),         sp <- rev(c(1, sp{[}!dups{]})),     \\},     else \\{,         se <- c(0, se{[}!dups{]}),         sp <- c(1, sp{[}!dups{]}),     \\},     return(list(se = se, sp = sp)), \\}\\\\\n",
       "\tcall & roc.default(response = response, predictor = predictor, levels = X, ,     percent = percent, direction = ..1, auc = FALSE, ci = FALSE) & roc.default(response = response, predictor = predictor, levels = X, ,     percent = percent, direction = ..1, auc = FALSE, ci = FALSE)\\\\\n",
       "\toriginal.predictor & 3, 2, 1, 1, 2, 2, 3, 3, 3, 2, 1, 3, 2, 1, 3, 3, 2, 3, 2, 1, 1, 3, 1, 3, 2, 3, 3, 1, 3, 1, 1, 1, 2, 2, 2, 2, 1, 2, 2, 2, 1, 2, 1, 2, 2, 2, 2, 2, 1, 1, 1, 1, 2, 2, 1, 2, 2, 2, 2, 1, 1, 2, 2, 2, 3, 2, 2, 2, 2, 1, 2, 1, 1, 2, 2, 1, 1, 2, 2, 2, 2, 1, 2, 2, 2, 2, 1, 1, 1, 2, 1, 2, 1, 2, 1, 3, 1, 1, 3, 1, 1, 1, 3, 2, 3, 1, 3, 1, 2, 1, 1, 1, 3, 1, 3, 3, 1, 2, 3, 2, 2, 1, 2, 2, 3, 2, 1, 2, 2, 1, 3, 3, 1, 1, 1, 3, 1, 2, 2, 1, 2, 2, 2, 2, 3, 2, 2, 1, 2, 2, 1, 1, 1, 2, 1, 2, 1, 2, 2, 1, 1, 2, 1, 2, 2, 2, 1, 2, 2, 2, 1, 2, 1, 2, 3, 2, 1, 1, 1, 2, 1, 1, 1, 1, 1, 2, 2, 1, 1, 1, 1, 2, 1, 1, 2, 1, 1, 1, 1, 2, 1, 3, 3, 3, 2, 3, 2, 2, 2, 3, 3, 3, 3, 1, 3, 3, 3, 3, 2, 1, 2, 3, 3, 3, 1, 1, 2, 3, 1, 3, 1, 1, 2, 2, 2, 3, 1, 2, 3, 1, 2, 3, 1, 2, 2, 2, 2, 3, 1, 1, 3, 1, 3, 3, 3, 1, 3, 3, 2, 3, 3, 1, 2, 1, 1, 1, 2, 2, 1, 3, 1, 2, 1, 1, 1, 1, 1, 2, 1, 1, 1, 1, 1, 2, 2, 2, 1, 2, 1, 2, 2, 2, 1, 2, 1, 2, 2, 1, 2, 2, 2, 2, 1, 1, 2, 2, 1, 1, 1, 2, 2, 1, 2, 2, 1, 2, 1, 2, 1, 1, 1 & 3, 2, 1, 1, 2, 2, 3, 3, 3, 2, 1, 3, 2, 1, 3, 3, 2, 3, 2, 1, 1, 3, 1, 3, 2, 3, 3, 1, 3, 1, 1, 1, 2, 2, 2, 2, 1, 2, 2, 2, 1, 2, 1, 2, 2, 2, 2, 2, 1, 1, 1, 1, 2, 2, 1, 2, 2, 2, 2, 1, 1, 2, 2, 2, 3, 2, 2, 2, 2, 1, 2, 1, 1, 2, 2, 1, 1, 2, 2, 2, 2, 1, 2, 2, 2, 2, 1, 1, 1, 2, 1, 2, 1, 2, 1, 3, 1, 1, 3, 1, 1, 1, 3, 2, 3, 1, 3, 1, 2, 1, 1, 1, 3, 1, 3, 3, 1, 2, 3, 2, 2, 1, 2, 2, 3, 2, 1, 2, 2, 1, 3, 3, 1, 1, 1, 3, 1, 2, 2, 1, 2, 2, 2, 2, 3, 2, 2, 1, 2, 2, 1, 1, 1, 2, 1, 2, 1, 2, 2, 1, 1, 2, 1, 2, 2, 2, 1, 2, 2, 2, 1, 2, 1, 2, 3, 2, 1, 1, 1, 2, 1, 1, 1, 1, 1, 2, 2, 1, 1, 1, 1, 2, 1, 1, 2, 1, 1, 1, 1, 2, 1, 3, 3, 3, 2, 3, 2, 2, 2, 3, 3, 3, 3, 1, 3, 3, 3, 3, 2, 1, 2, 3, 3, 3, 1, 1, 2, 3, 1, 3, 1, 1, 2, 2, 2, 3, 1, 2, 3, 1, 2, 3, 1, 2, 2, 2, 2, 3, 1, 1, 3, 1, 3, 3, 3, 1, 3, 3, 2, 3, 3, 1, 2, 1, 1, 1, 2, 2, 1, 3, 1, 2, 1, 1, 1, 1, 1, 2, 1, 1, 1, 1, 1, 2, 2, 2, 1, 2, 1, 2, 2, 2, 1, 2, 1, 2, 2, 1, 2, 2, 2, 2, 1, 1, 2, 2, 1, 1, 1, 2, 2, 1, 2, 2, 1, 2, 1, 2, 1, 1, 1\\\\\n",
       "\toriginal.response & 1, 1, 2, 1, 2, 2, 3, 3, 3, 2, 2, 3, 3, 1, 3, 3, 1, 1, 2, 3, 1, 3, 1, 1, 2, 1, 1, 1, 1, 2, 1, 1, 1, 1, 2, 1, 1, 1, 1, 2, 2, 2, 1, 1, 1, 2, 1, 2, 1, 1, 2, 1, 3, 2, 1, 2, 2, 2, 1, 2, 2, 2, 2, 2, 2, 1, 2, 2, 2, 1, 1, 1, 1, 1, 2, 1, 2, 2, 2, 2, 2, 1, 2, 1, 2, 2, 2, 2, 1, 2, 1, 2, 2, 1, 1, 3, 2, 3, 2, 1, 3, 1, 3, 2, 1, 3, 1, 1, 1, 3, 1, 2, 1, 3, 1, 1, 3, 1, 3, 2, 2, 1, 1, 2, 2, 2, 3, 1, 2, 1, 1, 1, 1, 1, 1, 2, 3, 1, 3, 2, 1, 2, 2, 2, 1, 2, 2, 1, 2, 2, 2, 1, 2, 1, 1, 2, 1, 2, 2, 1, 1, 1, 1, 2, 1, 1, 1, 2, 2, 1, 2, 1, 1, 2, 1, 2, 2, 2, 1, 1, 1, 1, 1, 1, 1, 2, 2, 1, 2, 1, 3, 2, 2, 2, 2, 2, 2, 2, 1, 2, 1, 3, 3, 1, 1, 1, 2, 2, 3, 2, 1, 2, 3, 1, 1, 3, 1, 3, 1, 2, 1, 3, 3, 1, 3, 3, 2, 3, 1, 1, 1, 1, 1, 1, 2, 1, 1, 2, 3, 1, 1, 1, 1, 1, 2, 2, 1, 3, 1, 1, 3, 3, 1, 3, 3, 2, 1, 1, 2, 3, 2, 2, 1, 1, 2, 3, 1, 1, 1, 3, 1, 2, 2, 1, 1, 2, 1, 2, 1, 1, 1, 1, 1, 2, 1, 1, 1, 2, 1, 2, 1, 2, 1, 2, 2, 1, 2, 2, 1, 2, 1, 2, 1, 1, 2, 2, 1, 1, 1, 1, 2, 2, 2, 2, 1, 2, 1, 2, 1, 1, 1 & 1, 1, 2, 1, 2, 2, 3, 3, 3, 2, 2, 3, 3, 1, 3, 3, 1, 1, 2, 3, 1, 3, 1, 1, 2, 1, 1, 1, 1, 2, 1, 1, 1, 1, 2, 1, 1, 1, 1, 2, 2, 2, 1, 1, 1, 2, 1, 2, 1, 1, 2, 1, 3, 2, 1, 2, 2, 2, 1, 2, 2, 2, 2, 2, 2, 1, 2, 2, 2, 1, 1, 1, 1, 1, 2, 1, 2, 2, 2, 2, 2, 1, 2, 1, 2, 2, 2, 2, 1, 2, 1, 2, 2, 1, 1, 3, 2, 3, 2, 1, 3, 1, 3, 2, 1, 3, 1, 1, 1, 3, 1, 2, 1, 3, 1, 1, 3, 1, 3, 2, 2, 1, 1, 2, 2, 2, 3, 1, 2, 1, 1, 1, 1, 1, 1, 2, 3, 1, 3, 2, 1, 2, 2, 2, 1, 2, 2, 1, 2, 2, 2, 1, 2, 1, 1, 2, 1, 2, 2, 1, 1, 1, 1, 2, 1, 1, 1, 2, 2, 1, 2, 1, 1, 2, 1, 2, 2, 2, 1, 1, 1, 1, 1, 1, 1, 2, 2, 1, 2, 1, 3, 2, 2, 2, 2, 2, 2, 2, 1, 2, 1, 3, 3, 1, 1, 1, 2, 2, 3, 2, 1, 2, 3, 1, 1, 3, 1, 3, 1, 2, 1, 3, 3, 1, 3, 3, 2, 3, 1, 1, 1, 1, 1, 1, 2, 1, 1, 2, 3, 1, 1, 1, 1, 1, 2, 2, 1, 3, 1, 1, 3, 3, 1, 3, 3, 2, 1, 1, 2, 3, 2, 2, 1, 1, 2, 3, 1, 1, 1, 3, 1, 2, 2, 1, 1, 2, 1, 2, 1, 1, 1, 1, 1, 2, 1, 1, 1, 2, 1, 2, 1, 2, 1, 2, 2, 1, 2, 2, 1, 2, 1, 2, 1, 1, 2, 2, 1, 1, 1, 1, 2, 2, 2, 2, 1, 2, 1, 2, 1, 1, 1\\\\\n",
       "\tpredictor & 3, 2, 1, 3, 3, 3, 3, 2, 1, 3, 3, 2, 3, 1, 1, 3, 1, 3, 3, 3, 1, 3, 1, 1, 2, 2, 2, 1, 2, 2, 1, 2, 2, 2, 1, 1, 1, 2, 1, 2, 2, 1, 2, 1, 1, 2, 1, 1, 2, 1, 1, 2, 1, 3, 1, 1, 1, 1, 3, 3, 1, 3, 1, 2, 1, 1, 3, 1, 3, 3, 1, 2, 3, 1, 2, 1, 2, 1, 3, 3, 1, 1, 1, 1, 2, 2, 2, 3, 1, 1, 2, 1, 1, 1, 1, 2, 1, 2, 2, 1, 2, 2, 1, 3, 1, 2, 1, 1, 1, 1, 1, 1, 1, 1, 1, 1, 3, 3, 3, 2, 3, 2, 3, 3, 1, 3, 3, 3, 3, 2, 2, 3, 3, 3, 1, 1, 3, 1, 3, 1, 1, 2, 2, 3, 1, 3, 1, 2, 3, 1, 2, 2, 3, 1, 1, 3, 1, 3, 3, 3, 3, 3, 3, 2, 1, 1, 2, 2, 1, 3, 1, 1, 1, 1, 1, 1, 1, 1, 1, 2, 2, 1, 1, 2, 1, 2, 2, 2, 1, 1, 1, 1, 1, 2, 1, 1, 1, 1, 1 & 1, 2, 2, 3, 3, 3, 2, 1, 3, 2, 3, 3, 2, 1, 3, 2, 1, 2, 2, 1, 2, 2, 2, 1, 2, 2, 2, 2, 2, 1, 1, 2, 2, 2, 3, 2, 2, 2, 2, 1, 2, 2, 2, 2, 2, 2, 2, 1, 1, 2, 2, 1, 3, 1, 1, 3, 1, 3, 2, 1, 1, 1, 1, 1, 3, 2, 2, 2, 3, 2, 1, 2, 3, 1, 2, 1, 2, 2, 2, 2, 2, 2, 2, 1, 1, 2, 2, 2, 2, 2, 2, 1, 2, 2, 1, 1, 2, 2, 1, 1, 2, 1, 1, 2, 1, 1, 1, 2, 3, 3, 2, 2, 2, 3, 3, 3, 3, 3, 1, 3, 3, 1, 1, 2, 3, 2, 2, 3, 2, 2, 3, 3, 1, 3, 3, 1, 2, 3, 3, 1, 1, 1, 3, 2, 1, 1, 2, 2, 2, 2, 2, 2, 1, 2, 1, 2, 2, 2, 2, 2, 1, 2, 2, 2, 2                                                                                                      \\\\\n",
       "\tresponse & 1, 1, 1, 3, 3, 3, 3, 3, 1, 3, 3, 1, 1, 3, 1, 3, 1, 1, 1, 1, 1, 1, 1, 1, 1, 1, 1, 1, 1, 1, 1, 1, 1, 1, 1, 1, 1, 3, 1, 1, 1, 1, 1, 1, 1, 1, 1, 1, 1, 1, 1, 1, 1, 3, 3, 1, 3, 1, 3, 1, 3, 1, 1, 1, 3, 1, 1, 3, 1, 1, 3, 1, 3, 1, 1, 3, 1, 1, 1, 1, 1, 1, 1, 3, 1, 3, 1, 1, 1, 1, 1, 1, 1, 1, 1, 1, 1, 1, 1, 1, 1, 1, 1, 1, 1, 1, 1, 1, 1, 1, 1, 1, 1, 3, 1, 1, 3, 3, 1, 1, 1, 3, 1, 3, 1, 1, 3, 1, 3, 1, 1, 3, 3, 1, 3, 3, 3, 1, 1, 1, 1, 1, 1, 1, 1, 3, 1, 1, 1, 1, 1, 1, 3, 1, 1, 3, 3, 1, 3, 3, 1, 1, 3, 1, 1, 3, 1, 1, 1, 3, 1, 1, 1, 1, 1, 1, 1, 1, 1, 1, 1, 1, 1, 1, 1, 1, 1, 1, 1, 1, 1, 1, 1, 1, 1, 1, 1, 1, 1 & 2, 2, 2, 3, 3, 3, 2, 2, 3, 3, 3, 3, 2, 3, 3, 2, 2, 2, 2, 2, 2, 2, 2, 2, 3, 2, 2, 2, 2, 2, 2, 2, 2, 2, 2, 2, 2, 2, 2, 2, 2, 2, 2, 2, 2, 2, 2, 2, 2, 2, 2, 2, 3, 2, 3, 2, 3, 3, 2, 3, 3, 2, 3, 3, 3, 2, 2, 2, 2, 2, 3, 2, 2, 3, 3, 2, 2, 2, 2, 2, 2, 2, 2, 2, 2, 2, 2, 2, 2, 2, 2, 2, 2, 2, 2, 2, 2, 2, 2, 3, 2, 2, 2, 2, 2, 2, 2, 2, 3, 3, 2, 2, 3, 2, 2, 3, 3, 3, 2, 3, 3, 3, 3, 2, 3, 2, 2, 3, 2, 2, 3, 3, 3, 3, 3, 2, 2, 3, 2, 2, 2, 3, 3, 2, 2, 2, 2, 2, 2, 2, 2, 2, 2, 2, 2, 2, 2, 2, 2, 2, 2, 2, 2, 2, 2                                                                                                      \\\\\n",
       "\tlevels & Accettabile, Ottimo      & Complicato, Ottimo      \\\\\n",
       "\\end{tabular}\n"
      ],
      "text/markdown": [
       "\n",
       "| percent | FALSE | FALSE |\n",
       "| sensitivities | 1.0000000, 0.6744186, 0.5813953, 0.0000000 | 1.0000000, 0.6744186, 0.5813953, 0.0000000 |\n",
       "| specificities | 0.0000000, 0.5256410, 0.8269231, 1.0000000 | 0.0000000, 0.2786885, 0.9426230, 1.0000000 |\n",
       "| thresholds | -Inf, 1.5, 2.5, Inf | -Inf, 1.5, 2.5, Inf |\n",
       "| direction | < | < |\n",
       "| cases | 3, 3, 3, 3, 2, 3, 3, 1, 3, 2, 3, 1, 1, 3, 1, 1, 1, 1, 3, 1, 1, 2, 1, 3, 3, 2, 3, 3, 3, 3, 3, 1, 1, 3, 3, 3, 3, 1, 3, 3, 3, 1, 3 | 3, 3, 3, 3, 2, 3, 3, 1, 3, 2, 3, 1, 1, 3, 1, 1, 1, 1, 3, 1, 1, 2, 1, 3, 3, 2, 3, 3, 3, 3, 3, 1, 1, 3, 3, 3, 3, 1, 3, 3, 3, 1, 3 |\n",
       "| controls | 3, 2, 1, 1, 2, 3, 1, 1, 3, 3, 3, 1, 3, 1, 1, 2, 2, 2, 1, 2, 2, 1, 2, 2, 2, 1, 1, 1, 1, 2, 2, 1, 2, 1, 1, 2, 1, 1, 2, 1, 1, 2, 1, 1, 1, 3, 3, 1, 2, 1, 3, 3, 3, 2, 1, 2, 2, 1, 3, 3, 1, 1, 1, 2, 2, 3, 1, 1, 2, 1, 1, 1, 1, 2, 1, 2, 2, 1, 2, 2, 1, 3, 1, 2, 1, 1, 1, 1, 1, 1, 1, 1, 1, 3, 2, 3, 3, 1, 3, 3, 2, 2, 3, 1, 3, 1, 1, 2, 2, 3, 1, 1, 2, 3, 1, 2, 2, 1, 1, 3, 3, 3, 2, 1, 2, 2, 1, 1, 1, 1, 1, 1, 1, 1, 1, 1, 2, 2, 1, 1, 2, 1, 2, 2, 2, 1, 1, 1, 1, 1, 2, 1, 1, 1, 1, 1 | 1, 2, 2, 2, 1, 2, 2, 1, 2, 2, 1, 2, 2, 2, 1, 2, 2, 2, 2, 1, 1, 2, 2, 2, 3, 2, 2, 2, 2, 1, 2, 2, 2, 2, 2, 2, 2, 1, 1, 2, 2, 1, 1, 3, 2, 1, 2, 2, 2, 3, 2, 2, 3, 1, 2, 2, 2, 2, 2, 2, 2, 1, 1, 2, 2, 2, 2, 2, 2, 1, 2, 2, 1, 1, 2, 2, 1, 2, 1, 1, 2, 1, 1, 1, 2, 2, 2, 3, 3, 1, 2, 2, 2, 2, 2, 1, 2, 3, 1, 1, 2, 1, 1, 2, 2, 2, 2, 2, 2, 1, 2, 1, 2, 2, 2, 2, 2, 1, 2, 2, 2, 2                                                                                                       |\n",
       "| fun.sesp | function (thresholds, controls, cases, direction) , {,     ncontrols <- length(controls),     ncases <- length(cases),     predictor <- c(controls, cases),     response <- c(rep(0, length(controls)), rep(1, length(cases))),     decr <- direction == \"<\",     predictor.order <- order(predictor, decreasing = decr),     predictor.sorted <- predictor[predictor.order],     response.sorted <- response[predictor.order],     tp <- cumsum(response.sorted == 1),     fp <- cumsum(response.sorted == 0),     se <- tp/ncases,     sp <- (ncontrols - fp)/ncontrols,     dups.pred <- rev(duplicated(rev(predictor.sorted))),     dups.sesp <- duplicated(se) & duplicated(sp),     dups <- dups.pred | dups.sesp,     if (sum(!dups) != length(thresholds) - 1) {,         sessionInfo <- sessionInfo(),         save(thresholds, controls, cases, direction, sessionInfo, ,             file = \"pROC_bug.RData\"),         stop(sprintf(\"pROC: fast algorithm computed an incorrect number of sensitivities and specificities. Diagnostic data saved in pROC_bug.RData. Please report this bug to <%s>.\", ,             utils::packageDescription(\"pROC\")$BugReports)),     },     if (direction == \"<\") {,         se <- rev(c(0, se[!dups])),         sp <- rev(c(1, sp[!dups])),     },     else {,         se <- c(0, se[!dups]),         sp <- c(1, sp[!dups]),     },     return(list(se = se, sp = sp)), } | function (thresholds, controls, cases, direction) , {,     ncontrols <- length(controls),     ncases <- length(cases),     predictor <- c(controls, cases),     response <- c(rep(0, length(controls)), rep(1, length(cases))),     decr <- direction == \"<\",     predictor.order <- order(predictor, decreasing = decr),     predictor.sorted <- predictor[predictor.order],     response.sorted <- response[predictor.order],     tp <- cumsum(response.sorted == 1),     fp <- cumsum(response.sorted == 0),     se <- tp/ncases,     sp <- (ncontrols - fp)/ncontrols,     dups.pred <- rev(duplicated(rev(predictor.sorted))),     dups.sesp <- duplicated(se) & duplicated(sp),     dups <- dups.pred | dups.sesp,     if (sum(!dups) != length(thresholds) - 1) {,         sessionInfo <- sessionInfo(),         save(thresholds, controls, cases, direction, sessionInfo, ,             file = \"pROC_bug.RData\"),         stop(sprintf(\"pROC: fast algorithm computed an incorrect number of sensitivities and specificities. Diagnostic data saved in pROC_bug.RData. Please report this bug to <%s>.\", ,             utils::packageDescription(\"pROC\")$BugReports)),     },     if (direction == \"<\") {,         se <- rev(c(0, se[!dups])),         sp <- rev(c(1, sp[!dups])),     },     else {,         se <- c(0, se[!dups]),         sp <- c(1, sp[!dups]),     },     return(list(se = se, sp = sp)), } |\n",
       "| call | roc.default(response = response, predictor = predictor, levels = X, ,     percent = percent, direction = ..1, auc = FALSE, ci = FALSE) | roc.default(response = response, predictor = predictor, levels = X, ,     percent = percent, direction = ..1, auc = FALSE, ci = FALSE) |\n",
       "| original.predictor | 3, 2, 1, 1, 2, 2, 3, 3, 3, 2, 1, 3, 2, 1, 3, 3, 2, 3, 2, 1, 1, 3, 1, 3, 2, 3, 3, 1, 3, 1, 1, 1, 2, 2, 2, 2, 1, 2, 2, 2, 1, 2, 1, 2, 2, 2, 2, 2, 1, 1, 1, 1, 2, 2, 1, 2, 2, 2, 2, 1, 1, 2, 2, 2, 3, 2, 2, 2, 2, 1, 2, 1, 1, 2, 2, 1, 1, 2, 2, 2, 2, 1, 2, 2, 2, 2, 1, 1, 1, 2, 1, 2, 1, 2, 1, 3, 1, 1, 3, 1, 1, 1, 3, 2, 3, 1, 3, 1, 2, 1, 1, 1, 3, 1, 3, 3, 1, 2, 3, 2, 2, 1, 2, 2, 3, 2, 1, 2, 2, 1, 3, 3, 1, 1, 1, 3, 1, 2, 2, 1, 2, 2, 2, 2, 3, 2, 2, 1, 2, 2, 1, 1, 1, 2, 1, 2, 1, 2, 2, 1, 1, 2, 1, 2, 2, 2, 1, 2, 2, 2, 1, 2, 1, 2, 3, 2, 1, 1, 1, 2, 1, 1, 1, 1, 1, 2, 2, 1, 1, 1, 1, 2, 1, 1, 2, 1, 1, 1, 1, 2, 1, 3, 3, 3, 2, 3, 2, 2, 2, 3, 3, 3, 3, 1, 3, 3, 3, 3, 2, 1, 2, 3, 3, 3, 1, 1, 2, 3, 1, 3, 1, 1, 2, 2, 2, 3, 1, 2, 3, 1, 2, 3, 1, 2, 2, 2, 2, 3, 1, 1, 3, 1, 3, 3, 3, 1, 3, 3, 2, 3, 3, 1, 2, 1, 1, 1, 2, 2, 1, 3, 1, 2, 1, 1, 1, 1, 1, 2, 1, 1, 1, 1, 1, 2, 2, 2, 1, 2, 1, 2, 2, 2, 1, 2, 1, 2, 2, 1, 2, 2, 2, 2, 1, 1, 2, 2, 1, 1, 1, 2, 2, 1, 2, 2, 1, 2, 1, 2, 1, 1, 1 | 3, 2, 1, 1, 2, 2, 3, 3, 3, 2, 1, 3, 2, 1, 3, 3, 2, 3, 2, 1, 1, 3, 1, 3, 2, 3, 3, 1, 3, 1, 1, 1, 2, 2, 2, 2, 1, 2, 2, 2, 1, 2, 1, 2, 2, 2, 2, 2, 1, 1, 1, 1, 2, 2, 1, 2, 2, 2, 2, 1, 1, 2, 2, 2, 3, 2, 2, 2, 2, 1, 2, 1, 1, 2, 2, 1, 1, 2, 2, 2, 2, 1, 2, 2, 2, 2, 1, 1, 1, 2, 1, 2, 1, 2, 1, 3, 1, 1, 3, 1, 1, 1, 3, 2, 3, 1, 3, 1, 2, 1, 1, 1, 3, 1, 3, 3, 1, 2, 3, 2, 2, 1, 2, 2, 3, 2, 1, 2, 2, 1, 3, 3, 1, 1, 1, 3, 1, 2, 2, 1, 2, 2, 2, 2, 3, 2, 2, 1, 2, 2, 1, 1, 1, 2, 1, 2, 1, 2, 2, 1, 1, 2, 1, 2, 2, 2, 1, 2, 2, 2, 1, 2, 1, 2, 3, 2, 1, 1, 1, 2, 1, 1, 1, 1, 1, 2, 2, 1, 1, 1, 1, 2, 1, 1, 2, 1, 1, 1, 1, 2, 1, 3, 3, 3, 2, 3, 2, 2, 2, 3, 3, 3, 3, 1, 3, 3, 3, 3, 2, 1, 2, 3, 3, 3, 1, 1, 2, 3, 1, 3, 1, 1, 2, 2, 2, 3, 1, 2, 3, 1, 2, 3, 1, 2, 2, 2, 2, 3, 1, 1, 3, 1, 3, 3, 3, 1, 3, 3, 2, 3, 3, 1, 2, 1, 1, 1, 2, 2, 1, 3, 1, 2, 1, 1, 1, 1, 1, 2, 1, 1, 1, 1, 1, 2, 2, 2, 1, 2, 1, 2, 2, 2, 1, 2, 1, 2, 2, 1, 2, 2, 2, 2, 1, 1, 2, 2, 1, 1, 1, 2, 2, 1, 2, 2, 1, 2, 1, 2, 1, 1, 1 |\n",
       "| original.response | 1, 1, 2, 1, 2, 2, 3, 3, 3, 2, 2, 3, 3, 1, 3, 3, 1, 1, 2, 3, 1, 3, 1, 1, 2, 1, 1, 1, 1, 2, 1, 1, 1, 1, 2, 1, 1, 1, 1, 2, 2, 2, 1, 1, 1, 2, 1, 2, 1, 1, 2, 1, 3, 2, 1, 2, 2, 2, 1, 2, 2, 2, 2, 2, 2, 1, 2, 2, 2, 1, 1, 1, 1, 1, 2, 1, 2, 2, 2, 2, 2, 1, 2, 1, 2, 2, 2, 2, 1, 2, 1, 2, 2, 1, 1, 3, 2, 3, 2, 1, 3, 1, 3, 2, 1, 3, 1, 1, 1, 3, 1, 2, 1, 3, 1, 1, 3, 1, 3, 2, 2, 1, 1, 2, 2, 2, 3, 1, 2, 1, 1, 1, 1, 1, 1, 2, 3, 1, 3, 2, 1, 2, 2, 2, 1, 2, 2, 1, 2, 2, 2, 1, 2, 1, 1, 2, 1, 2, 2, 1, 1, 1, 1, 2, 1, 1, 1, 2, 2, 1, 2, 1, 1, 2, 1, 2, 2, 2, 1, 1, 1, 1, 1, 1, 1, 2, 2, 1, 2, 1, 3, 2, 2, 2, 2, 2, 2, 2, 1, 2, 1, 3, 3, 1, 1, 1, 2, 2, 3, 2, 1, 2, 3, 1, 1, 3, 1, 3, 1, 2, 1, 3, 3, 1, 3, 3, 2, 3, 1, 1, 1, 1, 1, 1, 2, 1, 1, 2, 3, 1, 1, 1, 1, 1, 2, 2, 1, 3, 1, 1, 3, 3, 1, 3, 3, 2, 1, 1, 2, 3, 2, 2, 1, 1, 2, 3, 1, 1, 1, 3, 1, 2, 2, 1, 1, 2, 1, 2, 1, 1, 1, 1, 1, 2, 1, 1, 1, 2, 1, 2, 1, 2, 1, 2, 2, 1, 2, 2, 1, 2, 1, 2, 1, 1, 2, 2, 1, 1, 1, 1, 2, 2, 2, 2, 1, 2, 1, 2, 1, 1, 1 | 1, 1, 2, 1, 2, 2, 3, 3, 3, 2, 2, 3, 3, 1, 3, 3, 1, 1, 2, 3, 1, 3, 1, 1, 2, 1, 1, 1, 1, 2, 1, 1, 1, 1, 2, 1, 1, 1, 1, 2, 2, 2, 1, 1, 1, 2, 1, 2, 1, 1, 2, 1, 3, 2, 1, 2, 2, 2, 1, 2, 2, 2, 2, 2, 2, 1, 2, 2, 2, 1, 1, 1, 1, 1, 2, 1, 2, 2, 2, 2, 2, 1, 2, 1, 2, 2, 2, 2, 1, 2, 1, 2, 2, 1, 1, 3, 2, 3, 2, 1, 3, 1, 3, 2, 1, 3, 1, 1, 1, 3, 1, 2, 1, 3, 1, 1, 3, 1, 3, 2, 2, 1, 1, 2, 2, 2, 3, 1, 2, 1, 1, 1, 1, 1, 1, 2, 3, 1, 3, 2, 1, 2, 2, 2, 1, 2, 2, 1, 2, 2, 2, 1, 2, 1, 1, 2, 1, 2, 2, 1, 1, 1, 1, 2, 1, 1, 1, 2, 2, 1, 2, 1, 1, 2, 1, 2, 2, 2, 1, 1, 1, 1, 1, 1, 1, 2, 2, 1, 2, 1, 3, 2, 2, 2, 2, 2, 2, 2, 1, 2, 1, 3, 3, 1, 1, 1, 2, 2, 3, 2, 1, 2, 3, 1, 1, 3, 1, 3, 1, 2, 1, 3, 3, 1, 3, 3, 2, 3, 1, 1, 1, 1, 1, 1, 2, 1, 1, 2, 3, 1, 1, 1, 1, 1, 2, 2, 1, 3, 1, 1, 3, 3, 1, 3, 3, 2, 1, 1, 2, 3, 2, 2, 1, 1, 2, 3, 1, 1, 1, 3, 1, 2, 2, 1, 1, 2, 1, 2, 1, 1, 1, 1, 1, 2, 1, 1, 1, 2, 1, 2, 1, 2, 1, 2, 2, 1, 2, 2, 1, 2, 1, 2, 1, 1, 2, 2, 1, 1, 1, 1, 2, 2, 2, 2, 1, 2, 1, 2, 1, 1, 1 |\n",
       "| predictor | 3, 2, 1, 3, 3, 3, 3, 2, 1, 3, 3, 2, 3, 1, 1, 3, 1, 3, 3, 3, 1, 3, 1, 1, 2, 2, 2, 1, 2, 2, 1, 2, 2, 2, 1, 1, 1, 2, 1, 2, 2, 1, 2, 1, 1, 2, 1, 1, 2, 1, 1, 2, 1, 3, 1, 1, 1, 1, 3, 3, 1, 3, 1, 2, 1, 1, 3, 1, 3, 3, 1, 2, 3, 1, 2, 1, 2, 1, 3, 3, 1, 1, 1, 1, 2, 2, 2, 3, 1, 1, 2, 1, 1, 1, 1, 2, 1, 2, 2, 1, 2, 2, 1, 3, 1, 2, 1, 1, 1, 1, 1, 1, 1, 1, 1, 1, 3, 3, 3, 2, 3, 2, 3, 3, 1, 3, 3, 3, 3, 2, 2, 3, 3, 3, 1, 1, 3, 1, 3, 1, 1, 2, 2, 3, 1, 3, 1, 2, 3, 1, 2, 2, 3, 1, 1, 3, 1, 3, 3, 3, 3, 3, 3, 2, 1, 1, 2, 2, 1, 3, 1, 1, 1, 1, 1, 1, 1, 1, 1, 2, 2, 1, 1, 2, 1, 2, 2, 2, 1, 1, 1, 1, 1, 2, 1, 1, 1, 1, 1 | 1, 2, 2, 3, 3, 3, 2, 1, 3, 2, 3, 3, 2, 1, 3, 2, 1, 2, 2, 1, 2, 2, 2, 1, 2, 2, 2, 2, 2, 1, 1, 2, 2, 2, 3, 2, 2, 2, 2, 1, 2, 2, 2, 2, 2, 2, 2, 1, 1, 2, 2, 1, 3, 1, 1, 3, 1, 3, 2, 1, 1, 1, 1, 1, 3, 2, 2, 2, 3, 2, 1, 2, 3, 1, 2, 1, 2, 2, 2, 2, 2, 2, 2, 1, 1, 2, 2, 2, 2, 2, 2, 1, 2, 2, 1, 1, 2, 2, 1, 1, 2, 1, 1, 2, 1, 1, 1, 2, 3, 3, 2, 2, 2, 3, 3, 3, 3, 3, 1, 3, 3, 1, 1, 2, 3, 2, 2, 3, 2, 2, 3, 3, 1, 3, 3, 1, 2, 3, 3, 1, 1, 1, 3, 2, 1, 1, 2, 2, 2, 2, 2, 2, 1, 2, 1, 2, 2, 2, 2, 2, 1, 2, 2, 2, 2                                                                                                       |\n",
       "| response | 1, 1, 1, 3, 3, 3, 3, 3, 1, 3, 3, 1, 1, 3, 1, 3, 1, 1, 1, 1, 1, 1, 1, 1, 1, 1, 1, 1, 1, 1, 1, 1, 1, 1, 1, 1, 1, 3, 1, 1, 1, 1, 1, 1, 1, 1, 1, 1, 1, 1, 1, 1, 1, 3, 3, 1, 3, 1, 3, 1, 3, 1, 1, 1, 3, 1, 1, 3, 1, 1, 3, 1, 3, 1, 1, 3, 1, 1, 1, 1, 1, 1, 1, 3, 1, 3, 1, 1, 1, 1, 1, 1, 1, 1, 1, 1, 1, 1, 1, 1, 1, 1, 1, 1, 1, 1, 1, 1, 1, 1, 1, 1, 1, 3, 1, 1, 3, 3, 1, 1, 1, 3, 1, 3, 1, 1, 3, 1, 3, 1, 1, 3, 3, 1, 3, 3, 3, 1, 1, 1, 1, 1, 1, 1, 1, 3, 1, 1, 1, 1, 1, 1, 3, 1, 1, 3, 3, 1, 3, 3, 1, 1, 3, 1, 1, 3, 1, 1, 1, 3, 1, 1, 1, 1, 1, 1, 1, 1, 1, 1, 1, 1, 1, 1, 1, 1, 1, 1, 1, 1, 1, 1, 1, 1, 1, 1, 1, 1, 1 | 2, 2, 2, 3, 3, 3, 2, 2, 3, 3, 3, 3, 2, 3, 3, 2, 2, 2, 2, 2, 2, 2, 2, 2, 3, 2, 2, 2, 2, 2, 2, 2, 2, 2, 2, 2, 2, 2, 2, 2, 2, 2, 2, 2, 2, 2, 2, 2, 2, 2, 2, 2, 3, 2, 3, 2, 3, 3, 2, 3, 3, 2, 3, 3, 3, 2, 2, 2, 2, 2, 3, 2, 2, 3, 3, 2, 2, 2, 2, 2, 2, 2, 2, 2, 2, 2, 2, 2, 2, 2, 2, 2, 2, 2, 2, 2, 2, 2, 2, 3, 2, 2, 2, 2, 2, 2, 2, 2, 3, 3, 2, 2, 3, 2, 2, 3, 3, 3, 2, 3, 3, 3, 3, 2, 3, 2, 2, 3, 2, 2, 3, 3, 3, 3, 3, 2, 2, 3, 2, 2, 2, 3, 3, 2, 2, 2, 2, 2, 2, 2, 2, 2, 2, 2, 2, 2, 2, 2, 2, 2, 2, 2, 2, 2, 2                                                                                                       |\n",
       "| levels | Accettabile, Ottimo      | Complicato, Ottimo       |\n",
       "\n"
      ],
      "text/plain": [
       "                   [,1]                                                                                                                                                                                                                                                                                                                                                                                                                                                                                                                                                                                                                                                                                                                                                                                                                                                                                                                                                                                                                                                                                                                                                                                                                                                                                                                                                                                                                    \n",
       "percent            FALSE                                                                                                                                                                                                                                                                                                                                                                                                                                                                                                                                                                                                                                                                                                                                                                                                                                                                                                                                                                                                                                                                                                                                                                                                                                                                                                                                                                                                                   \n",
       "sensitivities      1.0000000, 0.6744186, 0.5813953, 0.0000000                                                                                                                                                                                                                                                                                                                                                                                                                                                                                                                                                                                                                                                                                                                                                                                                                                                                                                                                                                                                                                                                                                                                                                                                                                                                                                                                                                              \n",
       "specificities      0.0000000, 0.5256410, 0.8269231, 1.0000000                                                                                                                                                                                                                                                                                                                                                                                                                                                                                                                                                                                                                                                                                                                                                                                                                                                                                                                                                                                                                                                                                                                                                                                                                                                                                                                                                                              \n",
       "thresholds         -Inf, 1.5, 2.5, Inf                                                                                                                                                                                                                                                                                                                                                                                                                                                                                                                                                                                                                                                                                                                                                                                                                                                                                                                                                                                                                                                                                                                                                                                                                                                                                                                                                                                                     \n",
       "direction          <                                                                                                                                                                                                                                                                                                                                                                                                                                                                                                                                                                                                                                                                                                                                                                                                                                                                                                                                                                                                                                                                                                                                                                                                                                                                                                                                                                                                                       \n",
       "cases              3, 3, 3, 3, 2, 3, 3, 1, 3, 2, 3, 1, 1, 3, 1, 1, 1, 1, 3, 1, 1, 2, 1, 3, 3, 2, 3, 3, 3, 3, 3, 1, 1, 3, 3, 3, 3, 1, 3, 3, 3, 1, 3                                                                                                                                                                                                                                                                                                                                                                                                                                                                                                                                                                                                                                                                                                                                                                                                                                                                                                                                                                                                                                                                                                                                                                                                                                                                                         \n",
       "controls           3, 2, 1, 1, 2, 3, 1, 1, 3, 3, 3, 1, 3, 1, 1, 2, 2, 2, 1, 2, 2, 1, 2, 2, 2, 1, 1, 1, 1, 2, 2, 1, 2, 1, 1, 2, 1, 1, 2, 1, 1, 2, 1, 1, 1, 3, 3, 1, 2, 1, 3, 3, 3, 2, 1, 2, 2, 1, 3, 3, 1, 1, 1, 2, 2, 3, 1, 1, 2, 1, 1, 1, 1, 2, 1, 2, 2, 1, 2, 2, 1, 3, 1, 2, 1, 1, 1, 1, 1, 1, 1, 1, 1, 3, 2, 3, 3, 1, 3, 3, 2, 2, 3, 1, 3, 1, 1, 2, 2, 3, 1, 1, 2, 3, 1, 2, 2, 1, 1, 3, 3, 3, 2, 1, 2, 2, 1, 1, 1, 1, 1, 1, 1, 1, 1, 1, 2, 2, 1, 1, 2, 1, 2, 2, 2, 1, 1, 1, 1, 1, 2, 1, 1, 1, 1, 1                                                                                                                                                                                                                                                                                                                                                                                                                                                                                                                                                                                                                                                                                                                                                                                                                                                                                                                                      \n",
       "fun.sesp           function (thresholds, controls, cases, direction) , {,     ncontrols <- length(controls),     ncases <- length(cases),     predictor <- c(controls, cases),     response <- c(rep(0, length(controls)), rep(1, length(cases))),     decr <- direction == \"<\",     predictor.order <- order(predictor, decreasing = decr),     predictor.sorted <- predictor[predictor.order],     response.sorted <- response[predictor.order],     tp <- cumsum(response.sorted == 1),     fp <- cumsum(response.sorted == 0),     se <- tp/ncases,     sp <- (ncontrols - fp)/ncontrols,     dups.pred <- rev(duplicated(rev(predictor.sorted))),     dups.sesp <- duplicated(se) & duplicated(sp),     dups <- dups.pred | dups.sesp,     if (sum(!dups) != length(thresholds) - 1) {,         sessionInfo <- sessionInfo(),         save(thresholds, controls, cases, direction, sessionInfo, ,             file = \"pROC_bug.RData\"),         stop(sprintf(\"pROC: fast algorithm computed an incorrect number of sensitivities and specificities. Diagnostic data saved in pROC_bug.RData. Please report this bug to <%s>.\", ,             utils::packageDescription(\"pROC\")$BugReports)),     },     if (direction == \"<\") {,         se <- rev(c(0, se[!dups])),         sp <- rev(c(1, sp[!dups])),     },     else {,         se <- c(0, se[!dups]),         sp <- c(1, sp[!dups]),     },     return(list(se = se, sp = sp)), }\n",
       "call               roc.default(response = response, predictor = predictor, levels = X, ,     percent = percent, direction = ..1, auc = FALSE, ci = FALSE)                                                                                                                                                                                                                                                                                                                                                                                                                                                                                                                                                                                                                                                                                                                                                                                                                                                                                                                                                                                                                                                                                                                                                                                                                                                                                  \n",
       "original.predictor 3, 2, 1, 1, 2, 2, 3, 3, 3, 2, 1, 3, 2, 1, 3, 3, 2, 3, 2, 1, 1, 3, 1, 3, 2, 3, 3, 1, 3, 1, 1, 1, 2, 2, 2, 2, 1, 2, 2, 2, 1, 2, 1, 2, 2, 2, 2, 2, 1, 1, 1, 1, 2, 2, 1, 2, 2, 2, 2, 1, 1, 2, 2, 2, 3, 2, 2, 2, 2, 1, 2, 1, 1, 2, 2, 1, 1, 2, 2, 2, 2, 1, 2, 2, 2, 2, 1, 1, 1, 2, 1, 2, 1, 2, 1, 3, 1, 1, 3, 1, 1, 1, 3, 2, 3, 1, 3, 1, 2, 1, 1, 1, 3, 1, 3, 3, 1, 2, 3, 2, 2, 1, 2, 2, 3, 2, 1, 2, 2, 1, 3, 3, 1, 1, 1, 3, 1, 2, 2, 1, 2, 2, 2, 2, 3, 2, 2, 1, 2, 2, 1, 1, 1, 2, 1, 2, 1, 2, 2, 1, 1, 2, 1, 2, 2, 2, 1, 2, 2, 2, 1, 2, 1, 2, 3, 2, 1, 1, 1, 2, 1, 1, 1, 1, 1, 2, 2, 1, 1, 1, 1, 2, 1, 1, 2, 1, 1, 1, 1, 2, 1, 3, 3, 3, 2, 3, 2, 2, 2, 3, 3, 3, 3, 1, 3, 3, 3, 3, 2, 1, 2, 3, 3, 3, 1, 1, 2, 3, 1, 3, 1, 1, 2, 2, 2, 3, 1, 2, 3, 1, 2, 3, 1, 2, 2, 2, 2, 3, 1, 1, 3, 1, 3, 3, 3, 1, 3, 3, 2, 3, 3, 1, 2, 1, 1, 1, 2, 2, 1, 3, 1, 2, 1, 1, 1, 1, 1, 2, 1, 1, 1, 1, 1, 2, 2, 2, 1, 2, 1, 2, 2, 2, 1, 2, 1, 2, 2, 1, 2, 2, 2, 2, 1, 1, 2, 2, 1, 1, 1, 2, 2, 1, 2, 2, 1, 2, 1, 2, 1, 1, 1                                                                                                                                                                                                                                                                                                                                                                                                                       \n",
       "original.response  1, 1, 2, 1, 2, 2, 3, 3, 3, 2, 2, 3, 3, 1, 3, 3, 1, 1, 2, 3, 1, 3, 1, 1, 2, 1, 1, 1, 1, 2, 1, 1, 1, 1, 2, 1, 1, 1, 1, 2, 2, 2, 1, 1, 1, 2, 1, 2, 1, 1, 2, 1, 3, 2, 1, 2, 2, 2, 1, 2, 2, 2, 2, 2, 2, 1, 2, 2, 2, 1, 1, 1, 1, 1, 2, 1, 2, 2, 2, 2, 2, 1, 2, 1, 2, 2, 2, 2, 1, 2, 1, 2, 2, 1, 1, 3, 2, 3, 2, 1, 3, 1, 3, 2, 1, 3, 1, 1, 1, 3, 1, 2, 1, 3, 1, 1, 3, 1, 3, 2, 2, 1, 1, 2, 2, 2, 3, 1, 2, 1, 1, 1, 1, 1, 1, 2, 3, 1, 3, 2, 1, 2, 2, 2, 1, 2, 2, 1, 2, 2, 2, 1, 2, 1, 1, 2, 1, 2, 2, 1, 1, 1, 1, 2, 1, 1, 1, 2, 2, 1, 2, 1, 1, 2, 1, 2, 2, 2, 1, 1, 1, 1, 1, 1, 1, 2, 2, 1, 2, 1, 3, 2, 2, 2, 2, 2, 2, 2, 1, 2, 1, 3, 3, 1, 1, 1, 2, 2, 3, 2, 1, 2, 3, 1, 1, 3, 1, 3, 1, 2, 1, 3, 3, 1, 3, 3, 2, 3, 1, 1, 1, 1, 1, 1, 2, 1, 1, 2, 3, 1, 1, 1, 1, 1, 2, 2, 1, 3, 1, 1, 3, 3, 1, 3, 3, 2, 1, 1, 2, 3, 2, 2, 1, 1, 2, 3, 1, 1, 1, 3, 1, 2, 2, 1, 1, 2, 1, 2, 1, 1, 1, 1, 1, 2, 1, 1, 1, 2, 1, 2, 1, 2, 1, 2, 2, 1, 2, 2, 1, 2, 1, 2, 1, 1, 2, 2, 1, 1, 1, 1, 2, 2, 2, 2, 1, 2, 1, 2, 1, 1, 1                                                                                                                                                                                                                                                                                                                                                                                                                       \n",
       "predictor          3, 2, 1, 3, 3, 3, 3, 2, 1, 3, 3, 2, 3, 1, 1, 3, 1, 3, 3, 3, 1, 3, 1, 1, 2, 2, 2, 1, 2, 2, 1, 2, 2, 2, 1, 1, 1, 2, 1, 2, 2, 1, 2, 1, 1, 2, 1, 1, 2, 1, 1, 2, 1, 3, 1, 1, 1, 1, 3, 3, 1, 3, 1, 2, 1, 1, 3, 1, 3, 3, 1, 2, 3, 1, 2, 1, 2, 1, 3, 3, 1, 1, 1, 1, 2, 2, 2, 3, 1, 1, 2, 1, 1, 1, 1, 2, 1, 2, 2, 1, 2, 2, 1, 3, 1, 2, 1, 1, 1, 1, 1, 1, 1, 1, 1, 1, 3, 3, 3, 2, 3, 2, 3, 3, 1, 3, 3, 3, 3, 2, 2, 3, 3, 3, 1, 1, 3, 1, 3, 1, 1, 2, 2, 3, 1, 3, 1, 2, 3, 1, 2, 2, 3, 1, 1, 3, 1, 3, 3, 3, 3, 3, 3, 2, 1, 1, 2, 2, 1, 3, 1, 1, 1, 1, 1, 1, 1, 1, 1, 2, 2, 1, 1, 2, 1, 2, 2, 2, 1, 1, 1, 1, 1, 2, 1, 1, 1, 1, 1                                                                                                                                                                                                                                                                                                                                                                                                                                                                                                                                                                                                                                                                                                                                                                                                     \n",
       "response           1, 1, 1, 3, 3, 3, 3, 3, 1, 3, 3, 1, 1, 3, 1, 3, 1, 1, 1, 1, 1, 1, 1, 1, 1, 1, 1, 1, 1, 1, 1, 1, 1, 1, 1, 1, 1, 3, 1, 1, 1, 1, 1, 1, 1, 1, 1, 1, 1, 1, 1, 1, 1, 3, 3, 1, 3, 1, 3, 1, 3, 1, 1, 1, 3, 1, 1, 3, 1, 1, 3, 1, 3, 1, 1, 3, 1, 1, 1, 1, 1, 1, 1, 3, 1, 3, 1, 1, 1, 1, 1, 1, 1, 1, 1, 1, 1, 1, 1, 1, 1, 1, 1, 1, 1, 1, 1, 1, 1, 1, 1, 1, 1, 3, 1, 1, 3, 3, 1, 1, 1, 3, 1, 3, 1, 1, 3, 1, 3, 1, 1, 3, 3, 1, 3, 3, 3, 1, 1, 1, 1, 1, 1, 1, 1, 3, 1, 1, 1, 1, 1, 1, 3, 1, 1, 3, 3, 1, 3, 3, 1, 1, 3, 1, 1, 3, 1, 1, 1, 3, 1, 1, 1, 1, 1, 1, 1, 1, 1, 1, 1, 1, 1, 1, 1, 1, 1, 1, 1, 1, 1, 1, 1, 1, 1, 1, 1, 1, 1                                                                                                                                                                                                                                                                                                                                                                                                                                                                                                                                                                                                                                                                                                                                                                                                     \n",
       "levels             Accettabile, Ottimo                                                                                                                                                                                                                                                                                                                                                                                                                                                                                                                                                                                                                                                                                                                                                                                                                                                                                                                                                                                                                                                                                                                                                                                                                                                                                                                                                                                                     \n",
       "                   [,2]                                                                                                                                                                                                                                                                                                                                                                                                                                                                                                                                                                                                                                                                                                                                                                                                                                                                                                                                                                                                                                                                                                                                                                                                                                                                                                                                                                                                                    \n",
       "percent            FALSE                                                                                                                                                                                                                                                                                                                                                                                                                                                                                                                                                                                                                                                                                                                                                                                                                                                                                                                                                                                                                                                                                                                                                                                                                                                                                                                                                                                                                   \n",
       "sensitivities      1.0000000, 0.6744186, 0.5813953, 0.0000000                                                                                                                                                                                                                                                                                                                                                                                                                                                                                                                                                                                                                                                                                                                                                                                                                                                                                                                                                                                                                                                                                                                                                                                                                                                                                                                                                                              \n",
       "specificities      0.0000000, 0.2786885, 0.9426230, 1.0000000                                                                                                                                                                                                                                                                                                                                                                                                                                                                                                                                                                                                                                                                                                                                                                                                                                                                                                                                                                                                                                                                                                                                                                                                                                                                                                                                                                              \n",
       "thresholds         -Inf, 1.5, 2.5, Inf                                                                                                                                                                                                                                                                                                                                                                                                                                                                                                                                                                                                                                                                                                                                                                                                                                                                                                                                                                                                                                                                                                                                                                                                                                                                                                                                                                                                     \n",
       "direction          <                                                                                                                                                                                                                                                                                                                                                                                                                                                                                                                                                                                                                                                                                                                                                                                                                                                                                                                                                                                                                                                                                                                                                                                                                                                                                                                                                                                                                       \n",
       "cases              3, 3, 3, 3, 2, 3, 3, 1, 3, 2, 3, 1, 1, 3, 1, 1, 1, 1, 3, 1, 1, 2, 1, 3, 3, 2, 3, 3, 3, 3, 3, 1, 1, 3, 3, 3, 3, 1, 3, 3, 3, 1, 3                                                                                                                                                                                                                                                                                                                                                                                                                                                                                                                                                                                                                                                                                                                                                                                                                                                                                                                                                                                                                                                                                                                                                                                                                                                                                         \n",
       "controls           1, 2, 2, 2, 1, 2, 2, 1, 2, 2, 1, 2, 2, 2, 1, 2, 2, 2, 2, 1, 1, 2, 2, 2, 3, 2, 2, 2, 2, 1, 2, 2, 2, 2, 2, 2, 2, 1, 1, 2, 2, 1, 1, 3, 2, 1, 2, 2, 2, 3, 2, 2, 3, 1, 2, 2, 2, 2, 2, 2, 2, 1, 1, 2, 2, 2, 2, 2, 2, 1, 2, 2, 1, 1, 2, 2, 1, 2, 1, 1, 2, 1, 1, 1, 2, 2, 2, 3, 3, 1, 2, 2, 2, 2, 2, 1, 2, 3, 1, 1, 2, 1, 1, 2, 2, 2, 2, 2, 2, 1, 2, 1, 2, 2, 2, 2, 2, 1, 2, 2, 2, 2                                                                                                                                                                                                                                                                                                                                                                                                                                                                                                                                                                                                                                                                                                                                                                                                                                                                                                                                                                                                                                            \n",
       "fun.sesp           function (thresholds, controls, cases, direction) , {,     ncontrols <- length(controls),     ncases <- length(cases),     predictor <- c(controls, cases),     response <- c(rep(0, length(controls)), rep(1, length(cases))),     decr <- direction == \"<\",     predictor.order <- order(predictor, decreasing = decr),     predictor.sorted <- predictor[predictor.order],     response.sorted <- response[predictor.order],     tp <- cumsum(response.sorted == 1),     fp <- cumsum(response.sorted == 0),     se <- tp/ncases,     sp <- (ncontrols - fp)/ncontrols,     dups.pred <- rev(duplicated(rev(predictor.sorted))),     dups.sesp <- duplicated(se) & duplicated(sp),     dups <- dups.pred | dups.sesp,     if (sum(!dups) != length(thresholds) - 1) {,         sessionInfo <- sessionInfo(),         save(thresholds, controls, cases, direction, sessionInfo, ,             file = \"pROC_bug.RData\"),         stop(sprintf(\"pROC: fast algorithm computed an incorrect number of sensitivities and specificities. Diagnostic data saved in pROC_bug.RData. Please report this bug to <%s>.\", ,             utils::packageDescription(\"pROC\")$BugReports)),     },     if (direction == \"<\") {,         se <- rev(c(0, se[!dups])),         sp <- rev(c(1, sp[!dups])),     },     else {,         se <- c(0, se[!dups]),         sp <- c(1, sp[!dups]),     },     return(list(se = se, sp = sp)), }\n",
       "call               roc.default(response = response, predictor = predictor, levels = X, ,     percent = percent, direction = ..1, auc = FALSE, ci = FALSE)                                                                                                                                                                                                                                                                                                                                                                                                                                                                                                                                                                                                                                                                                                                                                                                                                                                                                                                                                                                                                                                                                                                                                                                                                                                                                  \n",
       "original.predictor 3, 2, 1, 1, 2, 2, 3, 3, 3, 2, 1, 3, 2, 1, 3, 3, 2, 3, 2, 1, 1, 3, 1, 3, 2, 3, 3, 1, 3, 1, 1, 1, 2, 2, 2, 2, 1, 2, 2, 2, 1, 2, 1, 2, 2, 2, 2, 2, 1, 1, 1, 1, 2, 2, 1, 2, 2, 2, 2, 1, 1, 2, 2, 2, 3, 2, 2, 2, 2, 1, 2, 1, 1, 2, 2, 1, 1, 2, 2, 2, 2, 1, 2, 2, 2, 2, 1, 1, 1, 2, 1, 2, 1, 2, 1, 3, 1, 1, 3, 1, 1, 1, 3, 2, 3, 1, 3, 1, 2, 1, 1, 1, 3, 1, 3, 3, 1, 2, 3, 2, 2, 1, 2, 2, 3, 2, 1, 2, 2, 1, 3, 3, 1, 1, 1, 3, 1, 2, 2, 1, 2, 2, 2, 2, 3, 2, 2, 1, 2, 2, 1, 1, 1, 2, 1, 2, 1, 2, 2, 1, 1, 2, 1, 2, 2, 2, 1, 2, 2, 2, 1, 2, 1, 2, 3, 2, 1, 1, 1, 2, 1, 1, 1, 1, 1, 2, 2, 1, 1, 1, 1, 2, 1, 1, 2, 1, 1, 1, 1, 2, 1, 3, 3, 3, 2, 3, 2, 2, 2, 3, 3, 3, 3, 1, 3, 3, 3, 3, 2, 1, 2, 3, 3, 3, 1, 1, 2, 3, 1, 3, 1, 1, 2, 2, 2, 3, 1, 2, 3, 1, 2, 3, 1, 2, 2, 2, 2, 3, 1, 1, 3, 1, 3, 3, 3, 1, 3, 3, 2, 3, 3, 1, 2, 1, 1, 1, 2, 2, 1, 3, 1, 2, 1, 1, 1, 1, 1, 2, 1, 1, 1, 1, 1, 2, 2, 2, 1, 2, 1, 2, 2, 2, 1, 2, 1, 2, 2, 1, 2, 2, 2, 2, 1, 1, 2, 2, 1, 1, 1, 2, 2, 1, 2, 2, 1, 2, 1, 2, 1, 1, 1                                                                                                                                                                                                                                                                                                                                                                                                                       \n",
       "original.response  1, 1, 2, 1, 2, 2, 3, 3, 3, 2, 2, 3, 3, 1, 3, 3, 1, 1, 2, 3, 1, 3, 1, 1, 2, 1, 1, 1, 1, 2, 1, 1, 1, 1, 2, 1, 1, 1, 1, 2, 2, 2, 1, 1, 1, 2, 1, 2, 1, 1, 2, 1, 3, 2, 1, 2, 2, 2, 1, 2, 2, 2, 2, 2, 2, 1, 2, 2, 2, 1, 1, 1, 1, 1, 2, 1, 2, 2, 2, 2, 2, 1, 2, 1, 2, 2, 2, 2, 1, 2, 1, 2, 2, 1, 1, 3, 2, 3, 2, 1, 3, 1, 3, 2, 1, 3, 1, 1, 1, 3, 1, 2, 1, 3, 1, 1, 3, 1, 3, 2, 2, 1, 1, 2, 2, 2, 3, 1, 2, 1, 1, 1, 1, 1, 1, 2, 3, 1, 3, 2, 1, 2, 2, 2, 1, 2, 2, 1, 2, 2, 2, 1, 2, 1, 1, 2, 1, 2, 2, 1, 1, 1, 1, 2, 1, 1, 1, 2, 2, 1, 2, 1, 1, 2, 1, 2, 2, 2, 1, 1, 1, 1, 1, 1, 1, 2, 2, 1, 2, 1, 3, 2, 2, 2, 2, 2, 2, 2, 1, 2, 1, 3, 3, 1, 1, 1, 2, 2, 3, 2, 1, 2, 3, 1, 1, 3, 1, 3, 1, 2, 1, 3, 3, 1, 3, 3, 2, 3, 1, 1, 1, 1, 1, 1, 2, 1, 1, 2, 3, 1, 1, 1, 1, 1, 2, 2, 1, 3, 1, 1, 3, 3, 1, 3, 3, 2, 1, 1, 2, 3, 2, 2, 1, 1, 2, 3, 1, 1, 1, 3, 1, 2, 2, 1, 1, 2, 1, 2, 1, 1, 1, 1, 1, 2, 1, 1, 1, 2, 1, 2, 1, 2, 1, 2, 2, 1, 2, 2, 1, 2, 1, 2, 1, 1, 2, 2, 1, 1, 1, 1, 2, 2, 2, 2, 1, 2, 1, 2, 1, 1, 1                                                                                                                                                                                                                                                                                                                                                                                                                       \n",
       "predictor          1, 2, 2, 3, 3, 3, 2, 1, 3, 2, 3, 3, 2, 1, 3, 2, 1, 2, 2, 1, 2, 2, 2, 1, 2, 2, 2, 2, 2, 1, 1, 2, 2, 2, 3, 2, 2, 2, 2, 1, 2, 2, 2, 2, 2, 2, 2, 1, 1, 2, 2, 1, 3, 1, 1, 3, 1, 3, 2, 1, 1, 1, 1, 1, 3, 2, 2, 2, 3, 2, 1, 2, 3, 1, 2, 1, 2, 2, 2, 2, 2, 2, 2, 1, 1, 2, 2, 2, 2, 2, 2, 1, 2, 2, 1, 1, 2, 2, 1, 1, 2, 1, 1, 2, 1, 1, 1, 2, 3, 3, 2, 2, 2, 3, 3, 3, 3, 3, 1, 3, 3, 1, 1, 2, 3, 2, 2, 3, 2, 2, 3, 3, 1, 3, 3, 1, 2, 3, 3, 1, 1, 1, 3, 2, 1, 1, 2, 2, 2, 2, 2, 2, 1, 2, 1, 2, 2, 2, 2, 2, 1, 2, 2, 2, 2                                                                                                                                                                                                                                                                                                                                                                                                                                                                                                                                                                                                                                                                                                                                                                                                                                                                                                           \n",
       "response           2, 2, 2, 3, 3, 3, 2, 2, 3, 3, 3, 3, 2, 3, 3, 2, 2, 2, 2, 2, 2, 2, 2, 2, 3, 2, 2, 2, 2, 2, 2, 2, 2, 2, 2, 2, 2, 2, 2, 2, 2, 2, 2, 2, 2, 2, 2, 2, 2, 2, 2, 2, 3, 2, 3, 2, 3, 3, 2, 3, 3, 2, 3, 3, 3, 2, 2, 2, 2, 2, 3, 2, 2, 3, 3, 2, 2, 2, 2, 2, 2, 2, 2, 2, 2, 2, 2, 2, 2, 2, 2, 2, 2, 2, 2, 2, 2, 2, 2, 3, 2, 2, 2, 2, 2, 2, 2, 2, 3, 3, 2, 2, 3, 2, 2, 3, 3, 3, 2, 3, 3, 3, 3, 2, 3, 2, 2, 3, 2, 2, 3, 3, 3, 3, 3, 2, 2, 3, 2, 2, 2, 3, 3, 2, 2, 2, 2, 2, 2, 2, 2, 2, 2, 2, 2, 2, 2, 2, 2, 2, 2, 2, 2, 2, 2                                                                                                                                                                                                                                                                                                                                                                                                                                                                                                                                                                                                                                                                                                                                                                                                                                                                                                           \n",
       "levels             Complicato, Ottimo                                                                                                                                                                                                                                                                                                                                                                                                                                                                                                                                                                                                                                                                                                                                                                                                                                                                                                                                                                                                                                                                                                                                                                                                                                                                                                                                                                                                      "
      ]
     },
     "metadata": {},
     "output_type": "display_data"
    },
    {
     "data": {
      "image/png": "[encoded data removed]",
      "text/plain": [
       "plot without title"
      ]
     },
     "metadata": {
      "image/png": {
       "height": 500,
       "width": 1000
      }
     },
     "output_type": "display_data"
    }
   ],
   "source": [
    "rs <- roc_svmRadial[['rocs']]\n",
    "plot.roc(rs[[1]])\n",
    "sapply(2:length(rs),function(i) lines.roc(rs[[i]],col=i))"
   ]
  },
  {
   "cell_type": "code",
   "execution_count": null,
   "id": "68f71b40",
   "metadata": {},
   "outputs": [],
   "source": []
  },
  {
   "cell_type": "code",
   "execution_count": null,
   "id": "e55f8608",
   "metadata": {},
   "outputs": [],
   "source": []
  },
  {
   "cell_type": "code",
   "execution_count": null,
   "id": "51a0dcda",
   "metadata": {},
   "outputs": [],
   "source": []
  }
 ],
 "metadata": {
  "kernelspec": {
   "display_name": "R",
   "language": "R",
   "name": "ir"
  },
  "language_info": {
   "codemirror_mode": "r",
   "file_extension": ".r",
   "mimetype": "text/x-r-source",
   "name": "R",
   "pygments_lexer": "r",
   "version": "3.6.1"
  }
 },
 "nbformat": 4,
 "nbformat_minor": 5
}
