{
 "cells": [
  {
   "cell_type": "code",
   "execution_count": 48,
   "id": "2165f6ce",
   "metadata": {},
   "outputs": [],
   "source": [
    "library(dplyr)   \n",
    "library(caret)\n",
    "library(tidyverse)\n",
    "library(recipes)\n",
    "library(pROC)\n",
    "library(caTools)\n",
    "library(Metrics)\n",
    "library(rsq)\n",
    "\n",
    "options(repr.plot.width = 20, repr.plot.height =10, repr.plot.res = 100)\n",
    "\n",
    "\n",
    "load(file = \"C:/Users/abonini/Desktop/Analysis/Sources/LIVERTRANSPLANT/Modello/df_num.Rdata\")"
   ]
  },
  {
   "cell_type": "markdown",
   "id": "0dc6b504",
   "metadata": {},
   "source": [
    "# Feature selection"
   ]
  },
  {
   "cell_type": "code",
   "execution_count": 49,
   "id": "fc8073e1",
   "metadata": {},
   "outputs": [
    {
     "data": {
      "text/html": [
       "18"
      ],
      "text/latex": [
       "18"
      ],
      "text/markdown": [
       "18"
      ],
      "text/plain": [
       "[1] 18"
      ]
     },
     "metadata": {},
     "output_type": "display_data"
    }
   ],
   "source": [
    "library(leaps)\n",
    "\n",
    "Best_Subset <-\n",
    "    regsubsets(degenzaPostTraOSP~.,\n",
    "               data =df_num,\n",
    "               nbest = 1,      # 1 best model for each number of predictors\n",
    "               nvmax = NULL,    # NULL for no limit on number of variables\n",
    "               force.in = NULL, force.out = NULL,\n",
    "               method = \"exhaustive\")\n",
    "summary_best_subset <- summary(Best_Subset)\n",
    "\n",
    "which.max(summary_best_subset$adjr2)"
   ]
  },
  {
   "cell_type": "code",
   "execution_count": 50,
   "id": "95ba0c8f",
   "metadata": {},
   "outputs": [
    {
     "data": {
      "text/html": [
       "<dl class=dl-horizontal>\n",
       "\t<dt>(Intercept)</dt>\n",
       "\t\t<dd>TRUE</dd>\n",
       "\t<dt>age</dt>\n",
       "\t\t<dd>FALSE</dd>\n",
       "\t<dt>degenzaPreTra</dt>\n",
       "\t\t<dd>TRUE</dd>\n",
       "\t<dt>Sodiemia</dt>\n",
       "\t\t<dd>TRUE</dd>\n",
       "\t<dt>ratioPaO2FiO2</dt>\n",
       "\t\t<dd>TRUE</dd>\n",
       "\t<dt>platCountTranspl</dt>\n",
       "\t\t<dd>TRUE</dd>\n",
       "\t<dt>albumina</dt>\n",
       "\t\t<dd>FALSE</dd>\n",
       "\t<dt>surgeryDuration</dt>\n",
       "\t\t<dd>TRUE</dd>\n",
       "\t<dt>IntraoperativTransfected</dt>\n",
       "\t\t<dd>TRUE</dd>\n",
       "\t<dt>plasmaFresco</dt>\n",
       "\t\t<dd>TRUE</dd>\n",
       "\t<dt>plasmaPools</dt>\n",
       "\t\t<dd>TRUE</dd>\n",
       "\t<dt>doseFibrinogen</dt>\n",
       "\t\t<dd>FALSE</dd>\n",
       "\t<dt>CRIOprecipitated</dt>\n",
       "\t\t<dd>TRUE</dd>\n",
       "\t<dt>CristalloidiComp</dt>\n",
       "\t\t<dd>TRUE</dd>\n",
       "\t<dt>Albumina50Comp</dt>\n",
       "\t\t<dd>TRUE</dd>\n",
       "\t<dt>noradrenalineEndSurger</dt>\n",
       "\t\t<dd>TRUE</dd>\n",
       "\t<dt>intermedLactates</dt>\n",
       "\t\t<dd>TRUE</dd>\n",
       "\t<dt>coldIschemia</dt>\n",
       "\t\t<dd>FALSE</dd>\n",
       "\t<dt>organDonorAge</dt>\n",
       "\t\t<dd>TRUE</dd>\n",
       "\t<dt>organDonorHeight</dt>\n",
       "\t\t<dd>TRUE</dd>\n",
       "\t<dt>organDonorDrawalSodiemia</dt>\n",
       "\t\t<dd>TRUE</dd>\n",
       "\t<dt>organDonorGammaGT</dt>\n",
       "\t\t<dd>TRUE</dd>\n",
       "\t<dt>realMELD</dt>\n",
       "\t\t<dd>TRUE</dd>\n",
       "</dl>\n"
      ],
      "text/latex": [
       "\\begin{description*}\n",
       "\\item[(Intercept)] TRUE\n",
       "\\item[age] FALSE\n",
       "\\item[degenzaPreTra] TRUE\n",
       "\\item[Sodiemia] TRUE\n",
       "\\item[ratioPaO2FiO2] TRUE\n",
       "\\item[platCountTranspl] TRUE\n",
       "\\item[albumina] FALSE\n",
       "\\item[surgeryDuration] TRUE\n",
       "\\item[IntraoperativTransfected] TRUE\n",
       "\\item[plasmaFresco] TRUE\n",
       "\\item[plasmaPools] TRUE\n",
       "\\item[doseFibrinogen] FALSE\n",
       "\\item[CRIOprecipitated] TRUE\n",
       "\\item[CristalloidiComp] TRUE\n",
       "\\item[Albumina50Comp] TRUE\n",
       "\\item[noradrenalineEndSurger] TRUE\n",
       "\\item[intermedLactates] TRUE\n",
       "\\item[coldIschemia] FALSE\n",
       "\\item[organDonorAge] TRUE\n",
       "\\item[organDonorHeight] TRUE\n",
       "\\item[organDonorDrawalSodiemia] TRUE\n",
       "\\item[organDonorGammaGT] TRUE\n",
       "\\item[realMELD] TRUE\n",
       "\\end{description*}\n"
      ],
      "text/markdown": [
       "(Intercept)\n",
       ":   TRUEage\n",
       ":   FALSEdegenzaPreTra\n",
       ":   TRUESodiemia\n",
       ":   TRUEratioPaO2FiO2\n",
       ":   TRUEplatCountTranspl\n",
       ":   TRUEalbumina\n",
       ":   FALSEsurgeryDuration\n",
       ":   TRUEIntraoperativTransfected\n",
       ":   TRUEplasmaFresco\n",
       ":   TRUEplasmaPools\n",
       ":   TRUEdoseFibrinogen\n",
       ":   FALSECRIOprecipitated\n",
       ":   TRUECristalloidiComp\n",
       ":   TRUEAlbumina50Comp\n",
       ":   TRUEnoradrenalineEndSurger\n",
       ":   TRUEintermedLactates\n",
       ":   TRUEcoldIschemia\n",
       ":   FALSEorganDonorAge\n",
       ":   TRUEorganDonorHeight\n",
       ":   TRUEorganDonorDrawalSodiemia\n",
       ":   TRUEorganDonorGammaGT\n",
       ":   TRUErealMELD\n",
       ":   TRUE\n",
       "\n"
      ],
      "text/plain": [
       "             (Intercept)                      age            degenzaPreTra \n",
       "                    TRUE                    FALSE                     TRUE \n",
       "                Sodiemia            ratioPaO2FiO2         platCountTranspl \n",
       "                    TRUE                     TRUE                     TRUE \n",
       "                albumina          surgeryDuration IntraoperativTransfected \n",
       "                   FALSE                     TRUE                     TRUE \n",
       "            plasmaFresco              plasmaPools           doseFibrinogen \n",
       "                    TRUE                     TRUE                    FALSE \n",
       "        CRIOprecipitated         CristalloidiComp           Albumina50Comp \n",
       "                    TRUE                     TRUE                     TRUE \n",
       "  noradrenalineEndSurger         intermedLactates             coldIschemia \n",
       "                    TRUE                     TRUE                    FALSE \n",
       "           organDonorAge         organDonorHeight organDonorDrawalSodiemia \n",
       "                    TRUE                     TRUE                     TRUE \n",
       "       organDonorGammaGT                 realMELD \n",
       "                    TRUE                     TRUE "
      ]
     },
     "metadata": {},
     "output_type": "display_data"
    }
   ],
   "source": [
    "tmp <- summary_best_subset$which[18,]\n",
    "\n",
    "tmp"
   ]
  },
  {
   "cell_type": "code",
   "execution_count": 51,
   "id": "fc3ed5d3",
   "metadata": {},
   "outputs": [],
   "source": [
    "df_num_select <- subset(df_num, select= c(degenzaPreTra,Sodiemia,ratioPaO2FiO2,platCountTranspl,surgeryDuration,IntraoperativTransfected,plasmaFresco,plasmaPools,CRIOprecipitated,CristalloidiComp,Albumina50Comp,noradrenalineEndSurger,intermedLactates,organDonorAge,organDonorHeight,organDonorDrawalSodiemia,organDonorGammaGT,realMELD,degenzaPostTraOSP))"
   ]
  },
  {
   "cell_type": "code",
   "execution_count": 52,
   "id": "e5c0d3f8",
   "metadata": {},
   "outputs": [
    {
     "data": {
      "text/html": [
       "<ol class=list-inline>\n",
       "\t<li>1068</li>\n",
       "\t<li>19</li>\n",
       "</ol>\n"
      ],
      "text/latex": [
       "\\begin{enumerate*}\n",
       "\\item 1068\n",
       "\\item 19\n",
       "\\end{enumerate*}\n"
      ],
      "text/markdown": [
       "1. 1068\n",
       "2. 19\n",
       "\n",
       "\n"
      ],
      "text/plain": [
       "[1] 1068   19"
      ]
     },
     "metadata": {},
     "output_type": "display_data"
    }
   ],
   "source": [
    "dim(df_num_select)"
   ]
  },
  {
   "cell_type": "markdown",
   "id": "a12a4f6a",
   "metadata": {},
   "source": [
    "# Data partition"
   ]
  },
  {
   "cell_type": "code",
   "execution_count": 53,
   "id": "95c9b79a",
   "metadata": {},
   "outputs": [],
   "source": [
    "#make this example reproducible\n",
    "set.seed(1)\n",
    "\n",
    "#use 70% of dataset as training set and 30% as test set\n",
    "sample <- sample.split(df_num$degenzaPostTraOSP, SplitRatio = 0.7)\n",
    "train  <- subset(df_num, sample == TRUE)\n",
    "test   <- subset(df_num, sample == FALSE)\n"
   ]
  },
  {
   "cell_type": "code",
   "execution_count": 54,
   "id": "984b3c0a",
   "metadata": {},
   "outputs": [],
   "source": [
    "#make this example reproducible\n",
    "set.seed(1)\n",
    "\n",
    "#use 70% of dataset as training set and 30% as test set\n",
    "sample_select <- sample.split(df_num_select$degenzaPostTraOSP, SplitRatio = 0.7)\n",
    "train_select  <- subset(df_num_select, sample_select == TRUE)\n",
    "test_select   <- subset(df_num_select, sample_select == FALSE)\n"
   ]
  },
  {
   "cell_type": "markdown",
   "id": "f5599e61",
   "metadata": {},
   "source": [
    "# Model"
   ]
  },
  {
   "cell_type": "code",
   "execution_count": 55,
   "id": "0fe8ba06",
   "metadata": {},
   "outputs": [],
   "source": [
    "ctrl <- trainControl(method = \"cv\",\n",
    "                              number = 10,\n",
    "                             savePrediction=\"final\",verboseIter=TRUE,returnResamp=\"all\")\n",
    "\n"
   ]
  },
  {
   "cell_type": "code",
   "execution_count": 56,
   "id": "50fe8ff5",
   "metadata": {},
   "outputs": [],
   "source": [
    "ctrl <- trainControl(method = \"cv\", \n",
    "                 savePredictions = \"final\",verboseIter=TRUE, search = \"random\") "
   ]
  },
  {
   "cell_type": "code",
   "execution_count": 57,
   "id": "0b6b49bd",
   "metadata": {},
   "outputs": [
    {
     "name": "stdout",
     "output_type": "stream",
     "text": [
      "+ Fold01: intercept=TRUE \n",
      "- Fold01: intercept=TRUE \n",
      "+ Fold02: intercept=TRUE \n",
      "- Fold02: intercept=TRUE \n",
      "+ Fold03: intercept=TRUE \n",
      "- Fold03: intercept=TRUE \n",
      "+ Fold04: intercept=TRUE \n",
      "- Fold04: intercept=TRUE \n",
      "+ Fold05: intercept=TRUE \n",
      "- Fold05: intercept=TRUE \n",
      "+ Fold06: intercept=TRUE \n",
      "- Fold06: intercept=TRUE \n",
      "+ Fold07: intercept=TRUE \n",
      "- Fold07: intercept=TRUE \n",
      "+ Fold08: intercept=TRUE \n",
      "- Fold08: intercept=TRUE \n",
      "+ Fold09: intercept=TRUE \n",
      "- Fold09: intercept=TRUE \n",
      "+ Fold10: intercept=TRUE \n",
      "- Fold10: intercept=TRUE \n",
      "Aggregating results\n",
      "Fitting final model on full training set\n"
     ]
    }
   ],
   "source": [
    "lm <- train(degenzaPostTraOSP ~ ., data = train,\n",
    "               method = \"lm\",\n",
    "               trControl = ctrl)"
   ]
  },
  {
   "cell_type": "code",
   "execution_count": 58,
   "id": "0035d393",
   "metadata": {},
   "outputs": [
    {
     "name": "stdout",
     "output_type": "stream",
     "text": [
      "+ Fold01: intercept=TRUE \n",
      "- Fold01: intercept=TRUE \n",
      "+ Fold02: intercept=TRUE \n",
      "- Fold02: intercept=TRUE \n",
      "+ Fold03: intercept=TRUE \n",
      "- Fold03: intercept=TRUE \n",
      "+ Fold04: intercept=TRUE \n",
      "- Fold04: intercept=TRUE \n",
      "+ Fold05: intercept=TRUE \n",
      "- Fold05: intercept=TRUE \n",
      "+ Fold06: intercept=TRUE \n",
      "- Fold06: intercept=TRUE \n",
      "+ Fold07: intercept=TRUE \n",
      "- Fold07: intercept=TRUE \n",
      "+ Fold08: intercept=TRUE \n",
      "- Fold08: intercept=TRUE \n",
      "+ Fold09: intercept=TRUE \n",
      "- Fold09: intercept=TRUE \n",
      "+ Fold10: intercept=TRUE \n",
      "- Fold10: intercept=TRUE \n",
      "Aggregating results\n",
      "Fitting final model on full training set\n"
     ]
    }
   ],
   "source": [
    "lm_select <- train(degenzaPostTraOSP ~ ., data = train_select,\n",
    "               method = \"lm\",\n",
    "               trControl = ctrl)"
   ]
  },
  {
   "cell_type": "code",
   "execution_count": 35,
   "id": "9b9a9cd6",
   "metadata": {},
   "outputs": [
    {
     "data": {
      "text/plain": [
       "Linear Regression \n",
       "\n",
       "751 samples\n",
       " 22 predictor\n",
       "\n",
       "No pre-processing\n",
       "Resampling: Cross-Validated (10 fold) \n",
       "Summary of sample sizes: 675, 676, 676, 677, 677, 677, ... \n",
       "Resampling results:\n",
       "\n",
       "  RMSE       Rsquared   MAE     \n",
       "  0.6602296  0.1949236  0.490026\n",
       "\n",
       "Tuning parameter 'intercept' was held constant at a value of TRUE"
      ]
     },
     "metadata": {},
     "output_type": "display_data"
    }
   ],
   "source": [
    "lm"
   ]
  },
  {
   "cell_type": "code",
   "execution_count": 36,
   "id": "cfd20010",
   "metadata": {},
   "outputs": [
    {
     "data": {
      "text/plain": [
       "Linear Regression \n",
       "\n",
       "751 samples\n",
       " 18 predictor\n",
       "\n",
       "No pre-processing\n",
       "Resampling: Cross-Validated (10 fold) \n",
       "Summary of sample sizes: 675, 676, 676, 677, 676, 675, ... \n",
       "Resampling results:\n",
       "\n",
       "  RMSE       Rsquared   MAE     \n",
       "  0.6510189  0.2135262  0.485421\n",
       "\n",
       "Tuning parameter 'intercept' was held constant at a value of TRUE"
      ]
     },
     "metadata": {},
     "output_type": "display_data"
    }
   ],
   "source": [
    "lm_select"
   ]
  },
  {
   "cell_type": "code",
   "execution_count": 60,
   "id": "2992cb52",
   "metadata": {},
   "outputs": [
    {
     "data": {
      "text/plain": [
       "\n",
       "Call:\n",
       "summary.resamples(object = results)\n",
       "\n",
       "Models: lm, lm_select \n",
       "Number of resamples: 10 \n",
       "\n",
       "MAE \n",
       "               Min.   1st Qu.    Median      Mean   3rd Qu.      Max. NA's\n",
       "lm        0.4058366 0.4862876 0.4962966 0.4885828 0.5164900 0.5306699    0\n",
       "lm_select 0.4387429 0.4528131 0.4856959 0.4870407 0.5047973 0.5695767    0\n",
       "\n",
       "RMSE \n",
       "               Min.   1st Qu.    Median      Mean   3rd Qu.     Max. NA's\n",
       "lm        0.4964046 0.6133633 0.6406510 0.6570783 0.7158411 0.802030    0\n",
       "lm_select 0.5680442 0.6121977 0.6405684 0.6563793 0.7015531 0.794602    0\n",
       "\n",
       "Rsquared \n",
       "                Min.   1st Qu.    Median      Mean   3rd Qu.      Max. NA's\n",
       "lm        0.03105588 0.1422349 0.1705611 0.2166515 0.2775007 0.4381611    0\n",
       "lm_select 0.09885885 0.1567431 0.1874495 0.2056562 0.2627900 0.3271213    0\n"
      ]
     },
     "metadata": {},
     "output_type": "display_data"
    },
    {
     "data": {
      "image/png": "[encoded data removed]",
      "text/plain": [
       "plot without title"
      ]
     },
     "metadata": {
      "image/png": {
       "height": 500,
       "width": 1000
      }
     },
     "output_type": "display_data"
    },
    {
     "data": {
      "image/png": "[encoded data removed]",
      "text/plain": [
       "plot without title"
      ]
     },
     "metadata": {
      "image/png": {
       "height": 500,
       "width": 1000
      }
     },
     "output_type": "display_data"
    }
   ],
   "source": [
    "# collect resamples\n",
    "results <- resamples(list(lm=lm,  lm_select=lm_select))\n",
    "# summarize the distributions\n",
    "summary(results)\n",
    "# boxplots of results\n",
    "bwplot(results)\n",
    "# dot plots of results\n",
    "dotplot(results)"
   ]
  },
  {
   "cell_type": "code",
   "execution_count": 61,
   "id": "7f435bd2",
   "metadata": {},
   "outputs": [
    {
     "data": {
      "text/plain": [
       "lm variable importance\n",
       "\n",
       "                         Overall\n",
       "realMELD                  100.00\n",
       "intermedLactates           71.47\n",
       "noradrenalineEndSurger     69.87\n",
       "surgeryDuration            62.82\n",
       "degenzaPreTra              58.65\n",
       "plasmaFresco               49.87\n",
       "organDonorDrawalSodiemia   46.40\n",
       "plasmaPools                42.23\n",
       "ratioPaO2FiO2              41.00\n",
       "Albumina50Comp             37.97\n",
       "IntraoperativTransfected   37.35\n",
       "CRIOprecipitated           30.92\n",
       "CristalloidiComp           24.16\n",
       "Sodiemia                   18.30\n",
       "organDonorHeight           12.04\n",
       "organDonorGammaGT          10.23\n",
       "organDonorAge               4.32\n",
       "platCountTranspl            0.00"
      ]
     },
     "metadata": {},
     "output_type": "display_data"
    },
    {
     "data": {
      "image/png": "[encoded data removed]",
      "text/plain": [
       "plot without title"
      ]
     },
     "metadata": {
      "image/png": {
       "height": 500,
       "width": 1000
      }
     },
     "output_type": "display_data"
    }
   ],
   "source": [
    "vimp <- varImp(lm_select)\n",
    "vimp\n",
    "plot(vimp)"
   ]
  },
  {
   "cell_type": "code",
   "execution_count": 62,
   "id": "00d7f873",
   "metadata": {},
   "outputs": [
    {
     "data": {
      "text/html": [
       "0.528477420179045"
      ],
      "text/latex": [
       "0.528477420179045"
      ],
      "text/markdown": [
       "0.528477420179045"
      ],
      "text/plain": [
       "[1] 0.5284774"
      ]
     },
     "metadata": {},
     "output_type": "display_data"
    }
   ],
   "source": [
    "test_select$predicted <- predict(lm_select, newdata = test_select)\n",
    "cor(test_select$degenzaPostTraOSP ,test_select$predicted)"
   ]
  },
  {
   "cell_type": "code",
   "execution_count": 63,
   "id": "1493b1ff",
   "metadata": {},
   "outputs": [
    {
     "data": {
      "text/html": [
       "0.557033302064936"
      ],
      "text/latex": [
       "0.557033302064936"
      ],
      "text/markdown": [
       "0.557033302064936"
      ],
      "text/plain": [
       "[1] 0.5570333"
      ]
     },
     "metadata": {},
     "output_type": "display_data"
    }
   ],
   "source": [
    "rmse(test_select$degenzaPostTraOSP, test_select$predicted)"
   ]
  },
  {
   "cell_type": "code",
   "execution_count": 64,
   "id": "5dee4270",
   "metadata": {},
   "outputs": [
    {
     "name": "stderr",
     "output_type": "stream",
     "text": [
      "Warning message in rsq(test_select$degenzaPostTraOSP, test_select$predicted):\n",
      "\"Unsupported object!\"\n"
     ]
    },
    {
     "data": {
      "text/html": [
       "<pre class=language-r><code>function (fitObj, adj = FALSE, type = c(\"v\", \"kl\", \"sse\", \"lr\", \n",
       "<span style=white-space:pre-wrap>    \"n\")) </span>\n",
       "{\n",
       "<span style=white-space:pre-wrap>    if (is(fitObj, \"glm\") | is(fitObj, \"glmerMod\")) {</span>\n",
       "<span style=white-space:pre-wrap>        type &lt;- type[[1]]</span>\n",
       "<span style=white-space:pre-wrap>        rsq &lt;- switch(type, v = rsq.v(fitObj, adj = adj), kl = rsq.kl(fitObj, </span>\n",
       "<span style=white-space:pre-wrap>            adj = adj), sse = rsq.sse(fitObj, adj = adj), lr = rsq.lr(fitObj, </span>\n",
       "<span style=white-space:pre-wrap>            adj = adj), n = rsq.n(fitObj, adj = adj))</span>\n",
       "<span style=white-space:pre-wrap>    }</span>\n",
       "<span style=white-space:pre-wrap>    else if (is(fitObj, \"glmmPQL\")) </span>\n",
       "<span style=white-space:pre-wrap>        warning(\"Unsupported object!\")</span>\n",
       "<span style=white-space:pre-wrap>    else if (is(fitObj, \"lmerMod\") | is(fitObj, \"lme\")) </span>\n",
       "<span style=white-space:pre-wrap>        rsq &lt;- rsq.lmm(fitObj, adj = adj)</span>\n",
       "<span style=white-space:pre-wrap>    else if (is(fitObj, \"lm\")) </span>\n",
       "<span style=white-space:pre-wrap>        rsq &lt;- ifelse(adj, summary(fitObj)$adj.r.squared, summary(fitObj)$r.squared)</span>\n",
       "<span style=white-space:pre-wrap>    else warning(\"Unsupported object!\")</span>\n",
       "<span style=white-space:pre-wrap>    rsq</span>\n",
       "}</code></pre>"
      ],
      "text/latex": [
       "\\begin{minted}{r}\n",
       "function (fitObj, adj = FALSE, type = c(\"v\", \"kl\", \"sse\", \"lr\", \n",
       "    \"n\")) \n",
       "\\{\n",
       "    if (is(fitObj, \"glm\") \\textbar{} is(fitObj, \"glmerMod\")) \\{\n",
       "        type <- type{[}{[}1{]}{]}\n",
       "        rsq <- switch(type, v = rsq.v(fitObj, adj = adj), kl = rsq.kl(fitObj, \n",
       "            adj = adj), sse = rsq.sse(fitObj, adj = adj), lr = rsq.lr(fitObj, \n",
       "            adj = adj), n = rsq.n(fitObj, adj = adj))\n",
       "    \\}\n",
       "    else if (is(fitObj, \"glmmPQL\")) \n",
       "        warning(\"Unsupported object!\")\n",
       "    else if (is(fitObj, \"lmerMod\") \\textbar{} is(fitObj, \"lme\")) \n",
       "        rsq <- rsq.lmm(fitObj, adj = adj)\n",
       "    else if (is(fitObj, \"lm\")) \n",
       "        rsq <- ifelse(adj, summary(fitObj)\\$adj.r.squared, summary(fitObj)\\$r.squared)\n",
       "    else warning(\"Unsupported object!\")\n",
       "    rsq\n",
       "\\}\n",
       "\\end{minted}"
      ],
      "text/markdown": [
       "```r\n",
       "function (fitObj, adj = FALSE, type = c(\"v\", \"kl\", \"sse\", \"lr\", \n",
       "    \"n\")) \n",
       "{\n",
       "    if (is(fitObj, \"glm\") | is(fitObj, \"glmerMod\")) {\n",
       "        type <- type[[1]]\n",
       "        rsq <- switch(type, v = rsq.v(fitObj, adj = adj), kl = rsq.kl(fitObj, \n",
       "            adj = adj), sse = rsq.sse(fitObj, adj = adj), lr = rsq.lr(fitObj, \n",
       "            adj = adj), n = rsq.n(fitObj, adj = adj))\n",
       "    }\n",
       "    else if (is(fitObj, \"glmmPQL\")) \n",
       "        warning(\"Unsupported object!\")\n",
       "    else if (is(fitObj, \"lmerMod\") | is(fitObj, \"lme\")) \n",
       "        rsq <- rsq.lmm(fitObj, adj = adj)\n",
       "    else if (is(fitObj, \"lm\")) \n",
       "        rsq <- ifelse(adj, summary(fitObj)$adj.r.squared, summary(fitObj)$r.squared)\n",
       "    else warning(\"Unsupported object!\")\n",
       "    rsq\n",
       "}\n",
       "```"
      ],
      "text/plain": [
       "function (fitObj, adj = FALSE, type = c(\"v\", \"kl\", \"sse\", \"lr\", \n",
       "    \"n\")) \n",
       "{\n",
       "    if (is(fitObj, \"glm\") | is(fitObj, \"glmerMod\")) {\n",
       "        type <- type[[1]]\n",
       "        rsq <- switch(type, v = rsq.v(fitObj, adj = adj), kl = rsq.kl(fitObj, \n",
       "            adj = adj), sse = rsq.sse(fitObj, adj = adj), lr = rsq.lr(fitObj, \n",
       "            adj = adj), n = rsq.n(fitObj, adj = adj))\n",
       "    }\n",
       "    else if (is(fitObj, \"glmmPQL\")) \n",
       "        warning(\"Unsupported object!\")\n",
       "    else if (is(fitObj, \"lmerMod\") | is(fitObj, \"lme\")) \n",
       "        rsq <- rsq.lmm(fitObj, adj = adj)\n",
       "    else if (is(fitObj, \"lm\")) \n",
       "        rsq <- ifelse(adj, summary(fitObj)$adj.r.squared, summary(fitObj)$r.squared)\n",
       "    else warning(\"Unsupported object!\")\n",
       "    rsq\n",
       "}\n",
       "<bytecode: 0x00000000296b31f0>\n",
       "<environment: namespace:rsq>"
      ]
     },
     "metadata": {},
     "output_type": "display_data"
    }
   ],
   "source": [
    "rsq(test_select$degenzaPostTraOSP, test_select$predicted) #non capisco l'erore"
   ]
  },
  {
   "cell_type": "code",
   "execution_count": 65,
   "id": "d3462924",
   "metadata": {},
   "outputs": [
    {
     "name": "stderr",
     "output_type": "stream",
     "text": [
      "`geom_smooth()` using method = 'loess' and formula 'y ~ x'\n",
      "\n"
     ]
    },
    {
     "data": {
      "image/png": "[encoded data removed]",
      "text/plain": [
       "plot without title"
      ]
     },
     "metadata": {
      "image/png": {
       "height": 500,
       "width": 1000
      }
     },
     "output_type": "display_data"
    }
   ],
   "source": [
    "#predicted vs actual\n",
    "\n",
    "ggplot(data = test_select, aes(x = predicted, y = degenzaPostTraOSP)) +\n",
    "  geom_point(alpha = 0.2, color = \"blue\") +\n",
    "  geom_smooth(aes(x = predicted,\n",
    "                  y = degenzaPostTraOSP), color=\"blue\") +\n",
    "  geom_line(aes(x = degenzaPostTraOSP,\n",
    "                y = degenzaPostTraOSP), color = \"black\", \n",
    "            linetype = 2, size = 1)"
   ]
  },
  {
   "cell_type": "code",
   "execution_count": 66,
   "id": "425cbe07",
   "metadata": {},
   "outputs": [
    {
     "name": "stderr",
     "output_type": "stream",
     "text": [
      "`geom_smooth()` using method = 'loess' and formula 'y ~ x'\n",
      "\n"
     ]
    },
    {
     "data": {
      "image/png": "[encoded data removed]",
      "text/plain": [
       "plot without title"
      ]
     },
     "metadata": {
      "image/png": {
       "height": 500,
       "width": 1000
      }
     },
     "output_type": "display_data"
    }
   ],
   "source": [
    "# residuals\n",
    "\n",
    "ggplot(data = test_select, aes(x = predicted,\n",
    "                      y = predicted - degenzaPostTraOSP)) +\n",
    "  geom_point(alpha = 0.2, color = \"blue\") +\n",
    "  geom_smooth(aes(x = predicted,\n",
    "                  y = predicted - degenzaPostTraOSP),\n",
    "              color=\"black\")"
   ]
  },
  {
   "cell_type": "code",
   "execution_count": null,
   "id": "225dd016",
   "metadata": {},
   "outputs": [],
   "source": []
  }
 ],
 "metadata": {
  "kernelspec": {
   "display_name": "R",
   "language": "R",
   "name": "ir"
  },
  "language_info": {
   "codemirror_mode": "r",
   "file_extension": ".r",
   "mimetype": "text/x-r-source",
   "name": "R",
   "pygments_lexer": "r",
   "version": "3.6.1"
  }
 },
 "nbformat": 4,
 "nbformat_minor": 5
}
