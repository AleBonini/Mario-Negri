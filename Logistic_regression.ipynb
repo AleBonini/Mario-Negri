{
 "cells": [
  {
   "cell_type": "code",
   "execution_count": 11,
   "id": "deb06f91",
   "metadata": {},
   "outputs": [],
   "source": [
    "library(dplyr)   \n",
    "library(caret)\n",
    "library(tidyverse)\n",
    "library(recipes)\n",
    "library(pROC)\n",
    "library(caTools)\n",
    "\n",
    "\n",
    "options(repr.plot.width = 20, repr.plot.height =10, repr.plot.res = 100)\n",
    "\n",
    "\n",
    "load(file = \"C:/Users/abonini/Desktop/Analysis/Sources/LIVERTRANSPLANT/Modello/df.Rdata\")"
   ]
  },
  {
   "cell_type": "markdown",
   "id": "a3534a67",
   "metadata": {},
   "source": [
    "## Data partition"
   ]
  },
  {
   "cell_type": "code",
   "execution_count": 12,
   "id": "981412ee",
   "metadata": {},
   "outputs": [],
   "source": [
    "set.seed(1)\n",
    "\n",
    "\n",
    "sample <- sample.split(df$deg_cat, SplitRatio = 0.7)\n",
    "train  <- subset(df, sample == TRUE)\n",
    "test   <- subset(df, sample == FALSE)\n",
    "\n",
    "\n",
    "TrainClasses <- train$deg_cat\n",
    "TrainData <- subset(train,select= -deg_cat)\n",
    "TestClasses <- test$deg_cat\n",
    "TestData <- subset(test,select= -deg_cat)"
   ]
  },
  {
   "cell_type": "markdown",
   "id": "2517cbbb",
   "metadata": {},
   "source": [
    "## Model"
   ]
  },
  {
   "cell_type": "code",
   "execution_count": 13,
   "id": "d48d9ea0",
   "metadata": {},
   "outputs": [],
   "source": [
    "ctrl <- trainControl(method = \"repeatedcv\", \n",
    "                 number = 10, \n",
    "                 savePredictions = \"final\",classProbs=TRUE,verboseIter=TRUE, search= \"random\") \n",
    "\n",
    "#summaryFunction = multiClassSummary (to keep all metrics)"
   ]
  },
  {
   "cell_type": "code",
   "execution_count": 14,
   "id": "85d0a115",
   "metadata": {},
   "outputs": [
    {
     "name": "stdout",
     "output_type": "stream",
     "text": [
      "+ Fold01.Rep1: nIter=5 \n",
      "- Fold01.Rep1: nIter=5 \n",
      "+ Fold02.Rep1: nIter=5 \n",
      "- Fold02.Rep1: nIter=5 \n",
      "+ Fold03.Rep1: nIter=5 \n",
      "- Fold03.Rep1: nIter=5 \n",
      "+ Fold04.Rep1: nIter=5 \n",
      "- Fold04.Rep1: nIter=5 \n",
      "+ Fold05.Rep1: nIter=5 \n",
      "- Fold05.Rep1: nIter=5 \n",
      "+ Fold06.Rep1: nIter=5 \n",
      "- Fold06.Rep1: nIter=5 \n",
      "+ Fold07.Rep1: nIter=5 \n",
      "- Fold07.Rep1: nIter=5 \n",
      "+ Fold08.Rep1: nIter=5 \n",
      "- Fold08.Rep1: nIter=5 \n",
      "+ Fold09.Rep1: nIter=5 \n",
      "- Fold09.Rep1: nIter=5 \n",
      "+ Fold10.Rep1: nIter=5 \n",
      "- Fold10.Rep1: nIter=5 \n",
      "Aggregating results\n",
      "Selecting tuning parameters\n",
      "Fitting nIter = 4 on full training set\n"
     ]
    }
   ],
   "source": [
    "#Boosted Logistic Regression\n",
    "model_logitBoost <- train(deg_cat ~ . , data = train,\n",
    "               method = \"LogitBoost\", trControl = ctrl) "
   ]
  },
  {
   "cell_type": "code",
   "execution_count": 15,
   "id": "68cb9fcd",
   "metadata": {
    "scrolled": true
   },
   "outputs": [
    {
     "name": "stdout",
     "output_type": "stream",
     "text": [
      "+ Fold01.Rep1: cost=3.627e-03, loss=L1, epsilon=1 \n",
      "- Fold01.Rep1: cost=3.627e-03, loss=L1, epsilon=1 \n",
      "+ Fold01.Rep1: cost=1.409e+02, loss=L1, epsilon=1 \n",
      "- Fold01.Rep1: cost=1.409e+02, loss=L1, epsilon=1 \n",
      "+ Fold01.Rep1: cost=1.122e+00, loss=L2_primal, epsilon=1 \n",
      "- Fold01.Rep1: cost=1.122e+00, loss=L2_primal, epsilon=1 \n",
      "+ Fold02.Rep1: cost=3.627e-03, loss=L1, epsilon=1 \n",
      "- Fold02.Rep1: cost=3.627e-03, loss=L1, epsilon=1 \n",
      "+ Fold02.Rep1: cost=1.409e+02, loss=L1, epsilon=1 \n",
      "- Fold02.Rep1: cost=1.409e+02, loss=L1, epsilon=1 \n",
      "+ Fold02.Rep1: cost=1.122e+00, loss=L2_primal, epsilon=1 \n",
      "- Fold02.Rep1: cost=1.122e+00, loss=L2_primal, epsilon=1 \n",
      "+ Fold03.Rep1: cost=3.627e-03, loss=L1, epsilon=1 \n",
      "- Fold03.Rep1: cost=3.627e-03, loss=L1, epsilon=1 \n",
      "+ Fold03.Rep1: cost=1.409e+02, loss=L1, epsilon=1 \n",
      "- Fold03.Rep1: cost=1.409e+02, loss=L1, epsilon=1 \n",
      "+ Fold03.Rep1: cost=1.122e+00, loss=L2_primal, epsilon=1 \n",
      "- Fold03.Rep1: cost=1.122e+00, loss=L2_primal, epsilon=1 \n",
      "+ Fold04.Rep1: cost=3.627e-03, loss=L1, epsilon=1 \n",
      "- Fold04.Rep1: cost=3.627e-03, loss=L1, epsilon=1 \n",
      "+ Fold04.Rep1: cost=1.409e+02, loss=L1, epsilon=1 \n",
      "- Fold04.Rep1: cost=1.409e+02, loss=L1, epsilon=1 \n",
      "+ Fold04.Rep1: cost=1.122e+00, loss=L2_primal, epsilon=1 \n",
      "- Fold04.Rep1: cost=1.122e+00, loss=L2_primal, epsilon=1 \n",
      "+ Fold05.Rep1: cost=3.627e-03, loss=L1, epsilon=1 \n",
      "- Fold05.Rep1: cost=3.627e-03, loss=L1, epsilon=1 \n",
      "+ Fold05.Rep1: cost=1.409e+02, loss=L1, epsilon=1 \n",
      "- Fold05.Rep1: cost=1.409e+02, loss=L1, epsilon=1 \n",
      "+ Fold05.Rep1: cost=1.122e+00, loss=L2_primal, epsilon=1 \n",
      "- Fold05.Rep1: cost=1.122e+00, loss=L2_primal, epsilon=1 \n",
      "+ Fold06.Rep1: cost=3.627e-03, loss=L1, epsilon=1 \n",
      "- Fold06.Rep1: cost=3.627e-03, loss=L1, epsilon=1 \n",
      "+ Fold06.Rep1: cost=1.409e+02, loss=L1, epsilon=1 \n",
      "- Fold06.Rep1: cost=1.409e+02, loss=L1, epsilon=1 \n",
      "+ Fold06.Rep1: cost=1.122e+00, loss=L2_primal, epsilon=1 \n",
      "- Fold06.Rep1: cost=1.122e+00, loss=L2_primal, epsilon=1 \n",
      "+ Fold07.Rep1: cost=3.627e-03, loss=L1, epsilon=1 \n",
      "- Fold07.Rep1: cost=3.627e-03, loss=L1, epsilon=1 \n",
      "+ Fold07.Rep1: cost=1.409e+02, loss=L1, epsilon=1 \n",
      "- Fold07.Rep1: cost=1.409e+02, loss=L1, epsilon=1 \n",
      "+ Fold07.Rep1: cost=1.122e+00, loss=L2_primal, epsilon=1 \n",
      "- Fold07.Rep1: cost=1.122e+00, loss=L2_primal, epsilon=1 \n",
      "+ Fold08.Rep1: cost=3.627e-03, loss=L1, epsilon=1 \n",
      "- Fold08.Rep1: cost=3.627e-03, loss=L1, epsilon=1 \n",
      "+ Fold08.Rep1: cost=1.409e+02, loss=L1, epsilon=1 \n",
      "- Fold08.Rep1: cost=1.409e+02, loss=L1, epsilon=1 \n",
      "+ Fold08.Rep1: cost=1.122e+00, loss=L2_primal, epsilon=1 \n",
      "- Fold08.Rep1: cost=1.122e+00, loss=L2_primal, epsilon=1 \n",
      "+ Fold09.Rep1: cost=3.627e-03, loss=L1, epsilon=1 \n",
      "- Fold09.Rep1: cost=3.627e-03, loss=L1, epsilon=1 \n",
      "+ Fold09.Rep1: cost=1.409e+02, loss=L1, epsilon=1 \n",
      "- Fold09.Rep1: cost=1.409e+02, loss=L1, epsilon=1 \n",
      "+ Fold09.Rep1: cost=1.122e+00, loss=L2_primal, epsilon=1 \n",
      "- Fold09.Rep1: cost=1.122e+00, loss=L2_primal, epsilon=1 \n",
      "+ Fold10.Rep1: cost=3.627e-03, loss=L1, epsilon=1 \n",
      "- Fold10.Rep1: cost=3.627e-03, loss=L1, epsilon=1 \n",
      "+ Fold10.Rep1: cost=1.409e+02, loss=L1, epsilon=1 \n",
      "- Fold10.Rep1: cost=1.409e+02, loss=L1, epsilon=1 \n",
      "+ Fold10.Rep1: cost=1.122e+00, loss=L2_primal, epsilon=1 \n",
      "- Fold10.Rep1: cost=1.122e+00, loss=L2_primal, epsilon=1 \n",
      "Aggregating results\n",
      "Selecting tuning parameters\n",
      "Fitting cost = 1.12, loss = L2_primal, epsilon = 1 on full training set\n"
     ]
    }
   ],
   "source": [
    "#Regularized Logistic Regression\n",
    "model_regLogistic <- train(deg_cat ~ . , data = train,\n",
    "               method = \"regLogistic\",\n",
    "               trControl = ctrl)    # metric = \"...\" ciò che voglio massimizzare"
   ]
  },
  {
   "cell_type": "markdown",
   "id": "6d53b23d",
   "metadata": {},
   "source": [
    "## Results"
   ]
  },
  {
   "cell_type": "code",
   "execution_count": 23,
   "id": "38c1ed1b",
   "metadata": {},
   "outputs": [
    {
     "name": "stdout",
     "output_type": "stream",
     "text": [
      "Boosted Logistic Regression \n",
      "\n",
      "747 samples\n",
      " 77 predictor\n",
      "  3 classes: 'Accettabile', 'Complicato', 'Ottimo' \n",
      "\n",
      "No pre-processing\n",
      "Resampling: Cross-Validated (10 fold, repeated 1 times) \n",
      "Summary of sample sizes: 672, 673, 671, 673, 672, 671, ... \n",
      "Resampling results across tuning parameters:\n",
      "\n",
      "  nIter  Accuracy   Kappa    \n",
      "  4      0.6120024  0.2897045\n",
      "  5      0.5767479  0.2211651\n",
      "\n",
      "Accuracy was used to select the optimal model using the largest value.\n",
      "The final value used for the model was nIter = 4.\n"
     ]
    },
    {
     "data": {
      "image/png": "[encoded data removed]",
      "text/plain": [
       "plot without title"
      ]
     },
     "metadata": {
      "image/png": {
       "height": 500,
       "width": 1000
      }
     },
     "output_type": "display_data"
    }
   ],
   "source": [
    "print(model_logitBoost)\n",
    "plot(model_logitBoost)"
   ]
  },
  {
   "cell_type": "code",
   "execution_count": 24,
   "id": "2b881db7",
   "metadata": {},
   "outputs": [
    {
     "name": "stdout",
     "output_type": "stream",
     "text": [
      "Regularized Logistic Regression \n",
      "\n",
      "747 samples\n",
      " 77 predictor\n",
      "  3 classes: 'Accettabile', 'Complicato', 'Ottimo' \n",
      "\n",
      "No pre-processing\n",
      "Resampling: Cross-Validated (10 fold, repeated 1 times) \n",
      "Summary of sample sizes: 673, 672, 673, 672, 672, 672, ... \n",
      "Resampling results across tuning parameters:\n",
      "\n",
      "  cost          loss       Accuracy   Kappa    \n",
      "  3.627157e-03  L1         0.1685405  0.0000000\n",
      "  1.122252e+00  L2_primal  0.5650270  0.2253992\n",
      "  1.409412e+02  L1         0.5607928  0.2329419\n",
      "\n",
      "Tuning parameter 'epsilon' was held constant at a value of 1\n",
      "Accuracy was used to select the optimal model using the largest value.\n",
      "The final values used for the model were cost = 1.122252, loss = L2_primal\n",
      " and epsilon = 1.\n"
     ]
    },
    {
     "data": {
      "image/png": "[encoded data removed]",
      "text/plain": [
       "plot without title"
      ]
     },
     "metadata": {
      "image/png": {
       "height": 500,
       "width": 1000
      }
     },
     "output_type": "display_data"
    }
   ],
   "source": [
    "print(model_regLogistic)\n",
    "plot(model_regLogistic)"
   ]
  },
  {
   "cell_type": "code",
   "execution_count": 25,
   "id": "a97e9c6c",
   "metadata": {},
   "outputs": [
    {
     "data": {
      "text/plain": [
       "\n",
       "Call:\n",
       "summary.resamples(object = results)\n",
       "\n",
       "Models: logitBoost, regLogistic \n",
       "Number of resamples: 10 \n",
       "\n",
       "Accuracy \n",
       "                 Min.   1st Qu.    Median      Mean   3rd Qu.      Max. NA's\n",
       "logitBoost  0.4375000 0.5567647 0.6020833 0.6120024 0.6804361 0.7647059    0\n",
       "regLogistic 0.5066667 0.5366667 0.5637838 0.5650270 0.5852703 0.6266667    0\n",
       "\n",
       "Kappa \n",
       "                  Min.   1st Qu.    Median      Mean   3rd Qu.      Max. NA's\n",
       "logitBoost  0.05676856 0.1939752 0.2424626 0.2897045 0.4237106 0.5675676    0\n",
       "regLogistic 0.13685848 0.1755904 0.2150563 0.2253992 0.2512092 0.3401274    0\n"
      ]
     },
     "metadata": {},
     "output_type": "display_data"
    },
    {
     "data": {
      "image/png": "[encoded data removed]",
      "text/plain": [
       "plot without title"
      ]
     },
     "metadata": {
      "image/png": {
       "height": 500,
       "width": 1000
      }
     },
     "output_type": "display_data"
    },
    {
     "data": {
      "image/png": "[encoded data removed]",
      "text/plain": [
       "plot without title"
      ]
     },
     "metadata": {
      "image/png": {
       "height": 500,
       "width": 1000
      }
     },
     "output_type": "display_data"
    }
   ],
   "source": [
    "# collect resamples\n",
    "results <- resamples(list(logitBoost=model_logitBoost,  regLogistic=model_regLogistic))\n",
    "# summarize the distributions\n",
    "summary(results)\n",
    "# boxplots of results\n",
    "bwplot(results)\n",
    "# dot plots of results\n",
    "dotplot(results)"
   ]
  },
  {
   "cell_type": "markdown",
   "id": "9463f3c7",
   "metadata": {},
   "source": [
    "## Prediction"
   ]
  },
  {
   "cell_type": "code",
   "execution_count": 26,
   "id": "b6fa2d9c",
   "metadata": {
    "scrolled": true
   },
   "outputs": [
    {
     "data": {
      "text/plain": [
       "Confusion Matrix and Statistics\n",
       "\n",
       "             Reference\n",
       "Prediction    Accettabile Complicato Ottimo\n",
       "  Accettabile          74         25      0\n",
       "  Complicato           40         40      0\n",
       "  Ottimo               15          3      0\n",
       "\n",
       "Overall Statistics\n",
       "                                          \n",
       "               Accuracy : 0.5787          \n",
       "                 95% CI : (0.5064, 0.6485)\n",
       "    No Information Rate : 0.6548          \n",
       "    P-Value [Acc > NIR] : 0.9891          \n",
       "                                          \n",
       "                  Kappa : 0.2062          \n",
       "                                          \n",
       " Mcnemar's Test P-Value : 8.442e-05       \n",
       "\n",
       "Statistics by Class:\n",
       "\n",
       "                     Class: Accettabile Class: Complicato Class: Ottimo\n",
       "Sensitivity                      0.5736            0.5882            NA\n",
       "Specificity                      0.6324            0.6899       0.90863\n",
       "Pos Pred Value                   0.7475            0.5000            NA\n",
       "Neg Pred Value                   0.4388            0.7607            NA\n",
       "Prevalence                       0.6548            0.3452       0.00000\n",
       "Detection Rate                   0.3756            0.2030       0.00000\n",
       "Detection Prevalence             0.5025            0.4061       0.09137\n",
       "Balanced Accuracy                0.6030            0.6391            NA"
      ]
     },
     "metadata": {},
     "output_type": "display_data"
    },
    {
     "data": {
      "text/html": [
       "<table>\n",
       "<thead><tr><th></th><th scope=col>Sensitivity</th><th scope=col>Specificity</th><th scope=col>Pos Pred Value</th><th scope=col>Neg Pred Value</th><th scope=col>Precision</th><th scope=col>Recall</th><th scope=col>F1</th><th scope=col>Prevalence</th><th scope=col>Detection Rate</th><th scope=col>Detection Prevalence</th><th scope=col>Balanced Accuracy</th></tr></thead>\n",
       "<tbody>\n",
       "\t<tr><th scope=row>Class: Accettabile</th><td>0.5736434 </td><td>0.6323529 </td><td>0.7474747 </td><td>0.4387755 </td><td>0.7474747 </td><td>0.5736434 </td><td>0.6491228 </td><td>0.6548223 </td><td>0.3756345 </td><td>0.50253807</td><td>0.6029982 </td></tr>\n",
       "\t<tr><th scope=row>Class: Complicato</th><td>0.5882353 </td><td>0.6899225 </td><td>0.5000000 </td><td>0.7606838 </td><td>0.5000000 </td><td>0.5882353 </td><td>0.5405405 </td><td>0.3451777 </td><td>0.2030457 </td><td>0.40609137</td><td>0.6390789 </td></tr>\n",
       "\t<tr><th scope=row>Class: Ottimo</th><td>       NA </td><td>0.9086294 </td><td>       NA </td><td>       NA </td><td>0.0000000 </td><td>       NA </td><td>       NA </td><td>0.0000000 </td><td>0.0000000 </td><td>0.09137056</td><td>       NA </td></tr>\n",
       "</tbody>\n",
       "</table>\n"
      ],
      "text/latex": [
       "\\begin{tabular}{r|lllllllllll}\n",
       "  & Sensitivity & Specificity & Pos Pred Value & Neg Pred Value & Precision & Recall & F1 & Prevalence & Detection Rate & Detection Prevalence & Balanced Accuracy\\\\\n",
       "\\hline\n",
       "\tClass: Accettabile & 0.5736434  & 0.6323529  & 0.7474747  & 0.4387755  & 0.7474747  & 0.5736434  & 0.6491228  & 0.6548223  & 0.3756345  & 0.50253807 & 0.6029982 \\\\\n",
       "\tClass: Complicato & 0.5882353  & 0.6899225  & 0.5000000  & 0.7606838  & 0.5000000  & 0.5882353  & 0.5405405  & 0.3451777  & 0.2030457  & 0.40609137 & 0.6390789 \\\\\n",
       "\tClass: Ottimo &        NA  & 0.9086294  &        NA  &        NA  & 0.0000000  &        NA  &        NA  & 0.0000000  & 0.0000000  & 0.09137056 &        NA \\\\\n",
       "\\end{tabular}\n"
      ],
      "text/markdown": [
       "\n",
       "| <!--/--> | Sensitivity | Specificity | Pos Pred Value | Neg Pred Value | Precision | Recall | F1 | Prevalence | Detection Rate | Detection Prevalence | Balanced Accuracy |\n",
       "|---|---|---|---|---|---|---|---|---|---|---|---|\n",
       "| Class: Accettabile | 0.5736434  | 0.6323529  | 0.7474747  | 0.4387755  | 0.7474747  | 0.5736434  | 0.6491228  | 0.6548223  | 0.3756345  | 0.50253807 | 0.6029982  |\n",
       "| Class: Complicato | 0.5882353  | 0.6899225  | 0.5000000  | 0.7606838  | 0.5000000  | 0.5882353  | 0.5405405  | 0.3451777  | 0.2030457  | 0.40609137 | 0.6390789  |\n",
       "| Class: Ottimo |        NA  | 0.9086294  |        NA  |        NA  | 0.0000000  |        NA  |        NA  | 0.0000000  | 0.0000000  | 0.09137056 |        NA  |\n",
       "\n"
      ],
      "text/plain": [
       "                   Sensitivity Specificity Pos Pred Value Neg Pred Value\n",
       "Class: Accettabile 0.5736434   0.6323529   0.7474747      0.4387755     \n",
       "Class: Complicato  0.5882353   0.6899225   0.5000000      0.7606838     \n",
       "Class: Ottimo             NA   0.9086294          NA             NA     \n",
       "                   Precision Recall    F1        Prevalence Detection Rate\n",
       "Class: Accettabile 0.7474747 0.5736434 0.6491228 0.6548223  0.3756345     \n",
       "Class: Complicato  0.5000000 0.5882353 0.5405405 0.3451777  0.2030457     \n",
       "Class: Ottimo      0.0000000        NA        NA 0.0000000  0.0000000     \n",
       "                   Detection Prevalence Balanced Accuracy\n",
       "Class: Accettabile 0.50253807           0.6029982        \n",
       "Class: Complicato  0.40609137           0.6390789        \n",
       "Class: Ottimo      0.09137056                  NA        "
      ]
     },
     "metadata": {},
     "output_type": "display_data"
    }
   ],
   "source": [
    "pred_logitBoost <- predict(model_logitBoost,test)   # 53 acc\n",
    "pred_logitBoost.prob <- predict(model_logitBoost,test, type=\"prob\")\n",
    "\n",
    "\n",
    "result <- confusionMatrix(TestClasses,  pred_logitBoost) \n",
    "result\n",
    "result$byClass"
   ]
  },
  {
   "cell_type": "code",
   "execution_count": null,
   "id": "75e95db6",
   "metadata": {},
   "outputs": [],
   "source": [
    "roc_logitBoost <- multiclass.roc(TestClasses, as.numeric(pred_logitBoost))\n",
    "roc_logitBoost\n"
   ]
  },
  {
   "cell_type": "markdown",
   "id": "d6b9e500",
   "metadata": {},
   "source": [
    "direction: in which direction to make the comparison? “auto” (default for univariate curves): automatically define in which group the median is higher and take the direction accordingly. Not available for multivariate curves. “>” (default for multivariate curves): if the predictor values for the control group are higher than the values of the case group (controls > t >= cases). “<”: if the predictor values for the control group are lower or equal than the values of the case group (controls < t <= cases)."
   ]
  },
  {
   "cell_type": "code",
   "execution_count": 28,
   "id": "c2e86efa",
   "metadata": {},
   "outputs": [
    {
     "data": {
      "text/html": [
       "<table>\n",
       "<thead><tr><th scope=col>Accettabile</th><th scope=col>Complicato</th><th scope=col>Ottimo</th></tr></thead>\n",
       "<tbody>\n",
       "\t<tr><td>0.4467465 </td><td>0.10650698</td><td>0.44674651</td></tr>\n",
       "\t<tr><td>0.4911658 </td><td>0.49116579</td><td>0.01766842</td></tr>\n",
       "\t<tr><td>0.6771344 </td><td>0.16143280</td><td>0.16143280</td></tr>\n",
       "\t<tr><td>0.6771344 </td><td>0.16143280</td><td>0.16143280</td></tr>\n",
       "\t<tr><td>0.4911658 </td><td>0.49116579</td><td>0.01766842</td></tr>\n",
       "\t<tr><td>0.7846964 </td><td>0.18707620</td><td>0.02822743</td></tr>\n",
       "\t<tr><td>0.4467465 </td><td>0.10650698</td><td>0.44674651</td></tr>\n",
       "\t<tr><td>0.4467465 </td><td>0.44674651</td><td>0.10650698</td></tr>\n",
       "\t<tr><td>0.4467465 </td><td>0.10650698</td><td>0.44674651</td></tr>\n",
       "\t<tr><td>0.3333333 </td><td>0.58719805</td><td>0.07946861</td></tr>\n",
       "\t<tr><td>0.4911658 </td><td>0.01766842</td><td>0.49116579</td></tr>\n",
       "\t<tr><td>0.4467465 </td><td>0.10650698</td><td>0.44674651</td></tr>\n",
       "\t<tr><td>0.4467465 </td><td>0.44674651</td><td>0.10650698</td></tr>\n",
       "\t<tr><td>0.4911658 </td><td>0.01766842</td><td>0.49116579</td></tr>\n",
       "\t<tr><td>0.4911658 </td><td>0.01766842</td><td>0.49116579</td></tr>\n",
       "\t<tr><td>0.6296880 </td><td>0.01285847</td><td>0.35745351</td></tr>\n",
       "\t<tr><td>0.5871981 </td><td>0.33333333</td><td>0.07946861</td></tr>\n",
       "\t<tr><td>0.6296880 </td><td>0.01285847</td><td>0.35745351</td></tr>\n",
       "\t<tr><td>0.7869860 </td><td>0.10650698</td><td>0.10650698</td></tr>\n",
       "\t<tr><td>0.7869860 </td><td>0.10650698</td><td>0.10650698</td></tr>\n",
       "\t<tr><td>0.5871981 </td><td>0.07946861</td><td>0.33333333</td></tr>\n",
       "\t<tr><td>0.5871981 </td><td>0.07946861</td><td>0.33333333</td></tr>\n",
       "\t<tr><td>0.7869860 </td><td>0.10650698</td><td>0.10650698</td></tr>\n",
       "\t<tr><td>0.5871981 </td><td>0.07946861</td><td>0.33333333</td></tr>\n",
       "\t<tr><td>0.5871981 </td><td>0.33333333</td><td>0.07946861</td></tr>\n",
       "\t<tr><td>0.6296880 </td><td>0.01285847</td><td>0.35745351</td></tr>\n",
       "\t<tr><td>0.6296880 </td><td>0.01285847</td><td>0.35745351</td></tr>\n",
       "\t<tr><td>0.6296880 </td><td>0.01285847</td><td>0.35745351</td></tr>\n",
       "\t<tr><td>0.3333333 </td><td>0.33333333</td><td>0.33333333</td></tr>\n",
       "\t<tr><td>0.2658447 </td><td>0.46831053</td><td>0.26584473</td></tr>\n",
       "\t<tr><td>...</td><td>...</td><td>...</td></tr>\n",
       "\t<tr><td>0.4911658 </td><td>0.49116579</td><td>0.01766842</td></tr>\n",
       "\t<tr><td>0.6771344 </td><td>0.16143280</td><td>0.16143280</td></tr>\n",
       "\t<tr><td>0.3574535 </td><td>0.62968802</td><td>0.01285847</td></tr>\n",
       "\t<tr><td>0.4911658 </td><td>0.49116579</td><td>0.01766842</td></tr>\n",
       "\t<tr><td>0.4911658 </td><td>0.49116579</td><td>0.01766842</td></tr>\n",
       "\t<tr><td>0.3574535 </td><td>0.62968802</td><td>0.01285847</td></tr>\n",
       "\t<tr><td>0.4911658 </td><td>0.49116579</td><td>0.01766842</td></tr>\n",
       "\t<tr><td>0.1065070 </td><td>0.87742247</td><td>0.01607055</td></tr>\n",
       "\t<tr><td>0.1065070 </td><td>0.87742247</td><td>0.01607055</td></tr>\n",
       "\t<tr><td>0.4911658 </td><td>0.49116579</td><td>0.01766842</td></tr>\n",
       "\t<tr><td>0.7846964 </td><td>0.18707620</td><td>0.02822743</td></tr>\n",
       "\t<tr><td>0.4911658 </td><td>0.49116579</td><td>0.01766842</td></tr>\n",
       "\t<tr><td>0.4911658 </td><td>0.49116579</td><td>0.01766842</td></tr>\n",
       "\t<tr><td>0.1065070 </td><td>0.87742247</td><td>0.01607055</td></tr>\n",
       "\t<tr><td>0.4911658 </td><td>0.49116579</td><td>0.01766842</td></tr>\n",
       "\t<tr><td>0.7846964 </td><td>0.18707620</td><td>0.02822743</td></tr>\n",
       "\t<tr><td>0.7846964 </td><td>0.18707620</td><td>0.02822743</td></tr>\n",
       "\t<tr><td>0.4911658 </td><td>0.49116579</td><td>0.01766842</td></tr>\n",
       "\t<tr><td>0.7846964 </td><td>0.02822743</td><td>0.18707620</td></tr>\n",
       "\t<tr><td>0.7846964 </td><td>0.18707620</td><td>0.02822743</td></tr>\n",
       "\t<tr><td>0.1170968 </td><td>0.86523478</td><td>0.01766842</td></tr>\n",
       "\t<tr><td>0.1170968 </td><td>0.86523478</td><td>0.01766842</td></tr>\n",
       "\t<tr><td>0.1065070 </td><td>0.87742247</td><td>0.01607055</td></tr>\n",
       "\t<tr><td>0.4911658 </td><td>0.49116579</td><td>0.01766842</td></tr>\n",
       "\t<tr><td>0.1170968 </td><td>0.86523478</td><td>0.01766842</td></tr>\n",
       "\t<tr><td>0.6771344 </td><td>0.16143280</td><td>0.16143280</td></tr>\n",
       "\t<tr><td>0.7846964 </td><td>0.02822743</td><td>0.18707620</td></tr>\n",
       "\t<tr><td>0.4467465 </td><td>0.44674651</td><td>0.10650698</td></tr>\n",
       "\t<tr><td>0.7846964 </td><td>0.02822743</td><td>0.18707620</td></tr>\n",
       "\t<tr><td>0.7846964 </td><td>0.18707620</td><td>0.02822743</td></tr>\n",
       "</tbody>\n",
       "</table>\n"
      ],
      "text/latex": [
       "\\begin{tabular}{r|lll}\n",
       " Accettabile & Complicato & Ottimo\\\\\n",
       "\\hline\n",
       "\t 0.4467465  & 0.10650698 & 0.44674651\\\\\n",
       "\t 0.4911658  & 0.49116579 & 0.01766842\\\\\n",
       "\t 0.6771344  & 0.16143280 & 0.16143280\\\\\n",
       "\t 0.6771344  & 0.16143280 & 0.16143280\\\\\n",
       "\t 0.4911658  & 0.49116579 & 0.01766842\\\\\n",
       "\t 0.7846964  & 0.18707620 & 0.02822743\\\\\n",
       "\t 0.4467465  & 0.10650698 & 0.44674651\\\\\n",
       "\t 0.4467465  & 0.44674651 & 0.10650698\\\\\n",
       "\t 0.4467465  & 0.10650698 & 0.44674651\\\\\n",
       "\t 0.3333333  & 0.58719805 & 0.07946861\\\\\n",
       "\t 0.4911658  & 0.01766842 & 0.49116579\\\\\n",
       "\t 0.4467465  & 0.10650698 & 0.44674651\\\\\n",
       "\t 0.4467465  & 0.44674651 & 0.10650698\\\\\n",
       "\t 0.4911658  & 0.01766842 & 0.49116579\\\\\n",
       "\t 0.4911658  & 0.01766842 & 0.49116579\\\\\n",
       "\t 0.6296880  & 0.01285847 & 0.35745351\\\\\n",
       "\t 0.5871981  & 0.33333333 & 0.07946861\\\\\n",
       "\t 0.6296880  & 0.01285847 & 0.35745351\\\\\n",
       "\t 0.7869860  & 0.10650698 & 0.10650698\\\\\n",
       "\t 0.7869860  & 0.10650698 & 0.10650698\\\\\n",
       "\t 0.5871981  & 0.07946861 & 0.33333333\\\\\n",
       "\t 0.5871981  & 0.07946861 & 0.33333333\\\\\n",
       "\t 0.7869860  & 0.10650698 & 0.10650698\\\\\n",
       "\t 0.5871981  & 0.07946861 & 0.33333333\\\\\n",
       "\t 0.5871981  & 0.33333333 & 0.07946861\\\\\n",
       "\t 0.6296880  & 0.01285847 & 0.35745351\\\\\n",
       "\t 0.6296880  & 0.01285847 & 0.35745351\\\\\n",
       "\t 0.6296880  & 0.01285847 & 0.35745351\\\\\n",
       "\t 0.3333333  & 0.33333333 & 0.33333333\\\\\n",
       "\t 0.2658447  & 0.46831053 & 0.26584473\\\\\n",
       "\t ... & ... & ...\\\\\n",
       "\t 0.4911658  & 0.49116579 & 0.01766842\\\\\n",
       "\t 0.6771344  & 0.16143280 & 0.16143280\\\\\n",
       "\t 0.3574535  & 0.62968802 & 0.01285847\\\\\n",
       "\t 0.4911658  & 0.49116579 & 0.01766842\\\\\n",
       "\t 0.4911658  & 0.49116579 & 0.01766842\\\\\n",
       "\t 0.3574535  & 0.62968802 & 0.01285847\\\\\n",
       "\t 0.4911658  & 0.49116579 & 0.01766842\\\\\n",
       "\t 0.1065070  & 0.87742247 & 0.01607055\\\\\n",
       "\t 0.1065070  & 0.87742247 & 0.01607055\\\\\n",
       "\t 0.4911658  & 0.49116579 & 0.01766842\\\\\n",
       "\t 0.7846964  & 0.18707620 & 0.02822743\\\\\n",
       "\t 0.4911658  & 0.49116579 & 0.01766842\\\\\n",
       "\t 0.4911658  & 0.49116579 & 0.01766842\\\\\n",
       "\t 0.1065070  & 0.87742247 & 0.01607055\\\\\n",
       "\t 0.4911658  & 0.49116579 & 0.01766842\\\\\n",
       "\t 0.7846964  & 0.18707620 & 0.02822743\\\\\n",
       "\t 0.7846964  & 0.18707620 & 0.02822743\\\\\n",
       "\t 0.4911658  & 0.49116579 & 0.01766842\\\\\n",
       "\t 0.7846964  & 0.02822743 & 0.18707620\\\\\n",
       "\t 0.7846964  & 0.18707620 & 0.02822743\\\\\n",
       "\t 0.1170968  & 0.86523478 & 0.01766842\\\\\n",
       "\t 0.1170968  & 0.86523478 & 0.01766842\\\\\n",
       "\t 0.1065070  & 0.87742247 & 0.01607055\\\\\n",
       "\t 0.4911658  & 0.49116579 & 0.01766842\\\\\n",
       "\t 0.1170968  & 0.86523478 & 0.01766842\\\\\n",
       "\t 0.6771344  & 0.16143280 & 0.16143280\\\\\n",
       "\t 0.7846964  & 0.02822743 & 0.18707620\\\\\n",
       "\t 0.4467465  & 0.44674651 & 0.10650698\\\\\n",
       "\t 0.7846964  & 0.02822743 & 0.18707620\\\\\n",
       "\t 0.7846964  & 0.18707620 & 0.02822743\\\\\n",
       "\\end{tabular}\n"
      ],
      "text/markdown": [
       "\n",
       "| Accettabile | Complicato | Ottimo |\n",
       "|---|---|---|\n",
       "| 0.4467465  | 0.10650698 | 0.44674651 |\n",
       "| 0.4911658  | 0.49116579 | 0.01766842 |\n",
       "| 0.6771344  | 0.16143280 | 0.16143280 |\n",
       "| 0.6771344  | 0.16143280 | 0.16143280 |\n",
       "| 0.4911658  | 0.49116579 | 0.01766842 |\n",
       "| 0.7846964  | 0.18707620 | 0.02822743 |\n",
       "| 0.4467465  | 0.10650698 | 0.44674651 |\n",
       "| 0.4467465  | 0.44674651 | 0.10650698 |\n",
       "| 0.4467465  | 0.10650698 | 0.44674651 |\n",
       "| 0.3333333  | 0.58719805 | 0.07946861 |\n",
       "| 0.4911658  | 0.01766842 | 0.49116579 |\n",
       "| 0.4467465  | 0.10650698 | 0.44674651 |\n",
       "| 0.4467465  | 0.44674651 | 0.10650698 |\n",
       "| 0.4911658  | 0.01766842 | 0.49116579 |\n",
       "| 0.4911658  | 0.01766842 | 0.49116579 |\n",
       "| 0.6296880  | 0.01285847 | 0.35745351 |\n",
       "| 0.5871981  | 0.33333333 | 0.07946861 |\n",
       "| 0.6296880  | 0.01285847 | 0.35745351 |\n",
       "| 0.7869860  | 0.10650698 | 0.10650698 |\n",
       "| 0.7869860  | 0.10650698 | 0.10650698 |\n",
       "| 0.5871981  | 0.07946861 | 0.33333333 |\n",
       "| 0.5871981  | 0.07946861 | 0.33333333 |\n",
       "| 0.7869860  | 0.10650698 | 0.10650698 |\n",
       "| 0.5871981  | 0.07946861 | 0.33333333 |\n",
       "| 0.5871981  | 0.33333333 | 0.07946861 |\n",
       "| 0.6296880  | 0.01285847 | 0.35745351 |\n",
       "| 0.6296880  | 0.01285847 | 0.35745351 |\n",
       "| 0.6296880  | 0.01285847 | 0.35745351 |\n",
       "| 0.3333333  | 0.33333333 | 0.33333333 |\n",
       "| 0.2658447  | 0.46831053 | 0.26584473 |\n",
       "| ... | ... | ... |\n",
       "| 0.4911658  | 0.49116579 | 0.01766842 |\n",
       "| 0.6771344  | 0.16143280 | 0.16143280 |\n",
       "| 0.3574535  | 0.62968802 | 0.01285847 |\n",
       "| 0.4911658  | 0.49116579 | 0.01766842 |\n",
       "| 0.4911658  | 0.49116579 | 0.01766842 |\n",
       "| 0.3574535  | 0.62968802 | 0.01285847 |\n",
       "| 0.4911658  | 0.49116579 | 0.01766842 |\n",
       "| 0.1065070  | 0.87742247 | 0.01607055 |\n",
       "| 0.1065070  | 0.87742247 | 0.01607055 |\n",
       "| 0.4911658  | 0.49116579 | 0.01766842 |\n",
       "| 0.7846964  | 0.18707620 | 0.02822743 |\n",
       "| 0.4911658  | 0.49116579 | 0.01766842 |\n",
       "| 0.4911658  | 0.49116579 | 0.01766842 |\n",
       "| 0.1065070  | 0.87742247 | 0.01607055 |\n",
       "| 0.4911658  | 0.49116579 | 0.01766842 |\n",
       "| 0.7846964  | 0.18707620 | 0.02822743 |\n",
       "| 0.7846964  | 0.18707620 | 0.02822743 |\n",
       "| 0.4911658  | 0.49116579 | 0.01766842 |\n",
       "| 0.7846964  | 0.02822743 | 0.18707620 |\n",
       "| 0.7846964  | 0.18707620 | 0.02822743 |\n",
       "| 0.1170968  | 0.86523478 | 0.01766842 |\n",
       "| 0.1170968  | 0.86523478 | 0.01766842 |\n",
       "| 0.1065070  | 0.87742247 | 0.01607055 |\n",
       "| 0.4911658  | 0.49116579 | 0.01766842 |\n",
       "| 0.1170968  | 0.86523478 | 0.01766842 |\n",
       "| 0.6771344  | 0.16143280 | 0.16143280 |\n",
       "| 0.7846964  | 0.02822743 | 0.18707620 |\n",
       "| 0.4467465  | 0.44674651 | 0.10650698 |\n",
       "| 0.7846964  | 0.02822743 | 0.18707620 |\n",
       "| 0.7846964  | 0.18707620 | 0.02822743 |\n",
       "\n"
      ],
      "text/plain": [
       "    Accettabile Complicato Ottimo    \n",
       "1   0.4467465   0.10650698 0.44674651\n",
       "2   0.4911658   0.49116579 0.01766842\n",
       "3   0.6771344   0.16143280 0.16143280\n",
       "4   0.6771344   0.16143280 0.16143280\n",
       "5   0.4911658   0.49116579 0.01766842\n",
       "6   0.7846964   0.18707620 0.02822743\n",
       "7   0.4467465   0.10650698 0.44674651\n",
       "8   0.4467465   0.44674651 0.10650698\n",
       "9   0.4467465   0.10650698 0.44674651\n",
       "10  0.3333333   0.58719805 0.07946861\n",
       "11  0.4911658   0.01766842 0.49116579\n",
       "12  0.4467465   0.10650698 0.44674651\n",
       "13  0.4467465   0.44674651 0.10650698\n",
       "14  0.4911658   0.01766842 0.49116579\n",
       "15  0.4911658   0.01766842 0.49116579\n",
       "16  0.6296880   0.01285847 0.35745351\n",
       "17  0.5871981   0.33333333 0.07946861\n",
       "18  0.6296880   0.01285847 0.35745351\n",
       "19  0.7869860   0.10650698 0.10650698\n",
       "20  0.7869860   0.10650698 0.10650698\n",
       "21  0.5871981   0.07946861 0.33333333\n",
       "22  0.5871981   0.07946861 0.33333333\n",
       "23  0.7869860   0.10650698 0.10650698\n",
       "24  0.5871981   0.07946861 0.33333333\n",
       "25  0.5871981   0.33333333 0.07946861\n",
       "26  0.6296880   0.01285847 0.35745351\n",
       "27  0.6296880   0.01285847 0.35745351\n",
       "28  0.6296880   0.01285847 0.35745351\n",
       "29  0.3333333   0.33333333 0.33333333\n",
       "30  0.2658447   0.46831053 0.26584473\n",
       "... ...         ...        ...       \n",
       "292 0.4911658   0.49116579 0.01766842\n",
       "293 0.6771344   0.16143280 0.16143280\n",
       "294 0.3574535   0.62968802 0.01285847\n",
       "295 0.4911658   0.49116579 0.01766842\n",
       "296 0.4911658   0.49116579 0.01766842\n",
       "297 0.3574535   0.62968802 0.01285847\n",
       "298 0.4911658   0.49116579 0.01766842\n",
       "299 0.1065070   0.87742247 0.01607055\n",
       "300 0.1065070   0.87742247 0.01607055\n",
       "301 0.4911658   0.49116579 0.01766842\n",
       "302 0.7846964   0.18707620 0.02822743\n",
       "303 0.4911658   0.49116579 0.01766842\n",
       "304 0.4911658   0.49116579 0.01766842\n",
       "305 0.1065070   0.87742247 0.01607055\n",
       "306 0.4911658   0.49116579 0.01766842\n",
       "307 0.7846964   0.18707620 0.02822743\n",
       "308 0.7846964   0.18707620 0.02822743\n",
       "309 0.4911658   0.49116579 0.01766842\n",
       "310 0.7846964   0.02822743 0.18707620\n",
       "311 0.7846964   0.18707620 0.02822743\n",
       "312 0.1170968   0.86523478 0.01766842\n",
       "313 0.1170968   0.86523478 0.01766842\n",
       "314 0.1065070   0.87742247 0.01607055\n",
       "315 0.4911658   0.49116579 0.01766842\n",
       "316 0.1170968   0.86523478 0.01766842\n",
       "317 0.6771344   0.16143280 0.16143280\n",
       "318 0.7846964   0.02822743 0.18707620\n",
       "319 0.4467465   0.44674651 0.10650698\n",
       "320 0.7846964   0.02822743 0.18707620\n",
       "321 0.7846964   0.18707620 0.02822743"
      ]
     },
     "metadata": {},
     "output_type": "display_data"
    }
   ],
   "source": [
    "pred_logitBoost.prob"
   ]
  },
  {
   "cell_type": "code",
   "execution_count": null,
   "id": "ff7c2e5f",
   "metadata": {},
   "outputs": [],
   "source": []
  }
 ],
 "metadata": {
  "kernelspec": {
   "display_name": "R",
   "language": "R",
   "name": "ir"
  },
  "language_info": {
   "codemirror_mode": "r",
   "file_extension": ".r",
   "mimetype": "text/x-r-source",
   "name": "R",
   "pygments_lexer": "r",
   "version": "3.6.1"
  }
 },
 "nbformat": 4,
 "nbformat_minor": 5
}
