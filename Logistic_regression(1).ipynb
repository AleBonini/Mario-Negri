{
 "cells": [
  {
   "cell_type": "code",
   "execution_count": 2,
   "id": "deb06f91",
   "metadata": {},
   "outputs": [],
   "source": [
    "library(dplyr)   \n",
    "library(caret)\n",
    "library(tidyverse)\n",
    "library(recipes)\n",
    "library(pROC)\n",
    "library(caTools)\n",
    "library(UBL)\n",
    "\n",
    "options(repr.plot.width = 20, repr.plot.height =10, repr.plot.res = 100)\n",
    "\n",
    "\n",
    "load(file = \"C:/Users/abonini/Desktop/Analysis/Sources/LIVERTRANSPLANT/Modello/df.Rdata\")"
   ]
  },
  {
   "cell_type": "markdown",
   "id": "a3534a67",
   "metadata": {},
   "source": [
    "## Data partition"
   ]
  },
  {
   "cell_type": "code",
   "execution_count": 3,
   "id": "981412ee",
   "metadata": {},
   "outputs": [],
   "source": [
    "set.seed(1)\n",
    "\n",
    "\n",
    "sample <- sample.split(df$deg_cat, SplitRatio = 0.7)\n",
    "train  <- subset(df, sample == TRUE)\n",
    "test   <- subset(df, sample == FALSE)\n",
    "\n",
    "\n",
    "TestClasses <- test$deg_cat\n",
    "TestData <- subset(test,select= -deg_cat)"
   ]
  },
  {
   "cell_type": "code",
   "execution_count": 4,
   "id": "2f5aba3b",
   "metadata": {},
   "outputs": [
    {
     "data": {
      "text/html": [
       "<ol class=list-inline>\n",
       "\t<li>747</li>\n",
       "\t<li>78</li>\n",
       "</ol>\n"
      ],
      "text/latex": [
       "\\begin{enumerate*}\n",
       "\\item 747\n",
       "\\item 78\n",
       "\\end{enumerate*}\n"
      ],
      "text/markdown": [
       "1. 747\n",
       "2. 78\n",
       "\n",
       "\n"
      ],
      "text/plain": [
       "[1] 747  78"
      ]
     },
     "metadata": {},
     "output_type": "display_data"
    },
    {
     "data": {
      "text/html": [
       "<ol class=list-inline>\n",
       "\t<li>321</li>\n",
       "\t<li>78</li>\n",
       "</ol>\n"
      ],
      "text/latex": [
       "\\begin{enumerate*}\n",
       "\\item 321\n",
       "\\item 78\n",
       "\\end{enumerate*}\n"
      ],
      "text/markdown": [
       "1. 321\n",
       "2. 78\n",
       "\n",
       "\n"
      ],
      "text/plain": [
       "[1] 321  78"
      ]
     },
     "metadata": {},
     "output_type": "display_data"
    }
   ],
   "source": [
    "dim(train)\n",
    "dim(test)"
   ]
  },
  {
   "cell_type": "code",
   "execution_count": 5,
   "id": "a2e20e83",
   "metadata": {},
   "outputs": [
    {
     "data": {
      "text/plain": [
       "\n",
       "Accettabile  Complicato      Ottimo \n",
       "        519         406         143 "
      ]
     },
     "metadata": {},
     "output_type": "display_data"
    }
   ],
   "source": [
    "table(df$deg_cat)"
   ]
  },
  {
   "cell_type": "code",
   "execution_count": 3,
   "id": "073d4c7b",
   "metadata": {},
   "outputs": [
    {
     "data": {
      "text/plain": [
       "\n",
       "Accettabile  Complicato      Ottimo \n",
       "        249         249         249 "
      ]
     },
     "metadata": {},
     "output_type": "display_data"
    }
   ],
   "source": [
    "train <- SmoteClassif(deg_cat ~ ., train, k = 27, dist = \"HEOM\")\n",
    "\n",
    "#view distribution of response variable in new dataset\n",
    "table(train$deg_cat)\n",
    "\n",
    "TrainClasses <- train$deg_cat\n",
    "TrainData <- subset(train,select= -deg_cat)"
   ]
  },
  {
   "cell_type": "markdown",
   "id": "2517cbbb",
   "metadata": {},
   "source": [
    "## Model"
   ]
  },
  {
   "cell_type": "code",
   "execution_count": 4,
   "id": "d48d9ea0",
   "metadata": {},
   "outputs": [],
   "source": [
    "ctrl <- trainControl(method = \"repeatedcv\", \n",
    "                 number = 10, \n",
    "                 savePredictions = \"final\",classProbs=TRUE,verboseIter=TRUE, search= \"random\") \n",
    "\n",
    "#summaryFunction = multiClassSummary (to keep all metrics)"
   ]
  },
  {
   "cell_type": "code",
   "execution_count": 5,
   "id": "85d0a115",
   "metadata": {},
   "outputs": [
    {
     "name": "stdout",
     "output_type": "stream",
     "text": [
      "+ Fold01.Rep1: nIter=47 \n",
      "- Fold01.Rep1: nIter=47 \n",
      "+ Fold02.Rep1: nIter=47 \n",
      "- Fold02.Rep1: nIter=47 \n",
      "+ Fold03.Rep1: nIter=47 \n",
      "- Fold03.Rep1: nIter=47 \n",
      "+ Fold04.Rep1: nIter=47 \n",
      "- Fold04.Rep1: nIter=47 \n",
      "+ Fold05.Rep1: nIter=47 \n",
      "- Fold05.Rep1: nIter=47 \n",
      "+ Fold06.Rep1: nIter=47 \n",
      "- Fold06.Rep1: nIter=47 \n",
      "+ Fold07.Rep1: nIter=47 \n",
      "- Fold07.Rep1: nIter=47 \n",
      "+ Fold08.Rep1: nIter=47 \n",
      "- Fold08.Rep1: nIter=47 \n",
      "+ Fold09.Rep1: nIter=47 \n",
      "- Fold09.Rep1: nIter=47 \n",
      "+ Fold10.Rep1: nIter=47 \n",
      "- Fold10.Rep1: nIter=47 \n",
      "Aggregating results\n",
      "Selecting tuning parameters\n",
      "Fitting nIter = 37 on full training set\n"
     ]
    }
   ],
   "source": [
    "#Boosted Logistic Regression\n",
    "model_logitBoost <- train(deg_cat ~ . , data = train,\n",
    "               method = \"LogitBoost\", trControl = ctrl) "
   ]
  },
  {
   "cell_type": "code",
   "execution_count": 6,
   "id": "68cb9fcd",
   "metadata": {
    "scrolled": true
   },
   "outputs": [
    {
     "name": "stdout",
     "output_type": "stream",
     "text": [
      "+ Fold01.Rep1: cost=0.054620, loss=L2_dual, epsilon=1 \n",
      "- Fold01.Rep1: cost=0.054620, loss=L2_dual, epsilon=1 \n",
      "+ Fold01.Rep1: cost=0.306935, loss=L1, epsilon=1 \n",
      "- Fold01.Rep1: cost=0.306935, loss=L1, epsilon=1 \n",
      "+ Fold01.Rep1: cost=0.003352, loss=L2_dual, epsilon=1 \n",
      "- Fold01.Rep1: cost=0.003352, loss=L2_dual, epsilon=1 \n",
      "+ Fold02.Rep1: cost=0.054620, loss=L2_dual, epsilon=1 \n",
      "- Fold02.Rep1: cost=0.054620, loss=L2_dual, epsilon=1 \n",
      "+ Fold02.Rep1: cost=0.306935, loss=L1, epsilon=1 \n",
      "- Fold02.Rep1: cost=0.306935, loss=L1, epsilon=1 \n",
      "+ Fold02.Rep1: cost=0.003352, loss=L2_dual, epsilon=1 \n",
      "- Fold02.Rep1: cost=0.003352, loss=L2_dual, epsilon=1 \n",
      "+ Fold03.Rep1: cost=0.054620, loss=L2_dual, epsilon=1 \n",
      "- Fold03.Rep1: cost=0.054620, loss=L2_dual, epsilon=1 \n",
      "+ Fold03.Rep1: cost=0.306935, loss=L1, epsilon=1 \n",
      "- Fold03.Rep1: cost=0.306935, loss=L1, epsilon=1 \n",
      "+ Fold03.Rep1: cost=0.003352, loss=L2_dual, epsilon=1 \n",
      "- Fold03.Rep1: cost=0.003352, loss=L2_dual, epsilon=1 \n",
      "+ Fold04.Rep1: cost=0.054620, loss=L2_dual, epsilon=1 \n",
      "- Fold04.Rep1: cost=0.054620, loss=L2_dual, epsilon=1 \n",
      "+ Fold04.Rep1: cost=0.306935, loss=L1, epsilon=1 \n",
      "- Fold04.Rep1: cost=0.306935, loss=L1, epsilon=1 \n",
      "+ Fold04.Rep1: cost=0.003352, loss=L2_dual, epsilon=1 \n",
      "- Fold04.Rep1: cost=0.003352, loss=L2_dual, epsilon=1 \n",
      "+ Fold05.Rep1: cost=0.054620, loss=L2_dual, epsilon=1 \n",
      "- Fold05.Rep1: cost=0.054620, loss=L2_dual, epsilon=1 \n",
      "+ Fold05.Rep1: cost=0.306935, loss=L1, epsilon=1 \n",
      "- Fold05.Rep1: cost=0.306935, loss=L1, epsilon=1 \n",
      "+ Fold05.Rep1: cost=0.003352, loss=L2_dual, epsilon=1 \n",
      "- Fold05.Rep1: cost=0.003352, loss=L2_dual, epsilon=1 \n",
      "+ Fold06.Rep1: cost=0.054620, loss=L2_dual, epsilon=1 \n",
      "- Fold06.Rep1: cost=0.054620, loss=L2_dual, epsilon=1 \n",
      "+ Fold06.Rep1: cost=0.306935, loss=L1, epsilon=1 \n",
      "- Fold06.Rep1: cost=0.306935, loss=L1, epsilon=1 \n",
      "+ Fold06.Rep1: cost=0.003352, loss=L2_dual, epsilon=1 \n",
      "- Fold06.Rep1: cost=0.003352, loss=L2_dual, epsilon=1 \n",
      "+ Fold07.Rep1: cost=0.054620, loss=L2_dual, epsilon=1 \n",
      "- Fold07.Rep1: cost=0.054620, loss=L2_dual, epsilon=1 \n",
      "+ Fold07.Rep1: cost=0.306935, loss=L1, epsilon=1 \n",
      "- Fold07.Rep1: cost=0.306935, loss=L1, epsilon=1 \n",
      "+ Fold07.Rep1: cost=0.003352, loss=L2_dual, epsilon=1 \n",
      "- Fold07.Rep1: cost=0.003352, loss=L2_dual, epsilon=1 \n",
      "+ Fold08.Rep1: cost=0.054620, loss=L2_dual, epsilon=1 \n",
      "- Fold08.Rep1: cost=0.054620, loss=L2_dual, epsilon=1 \n",
      "+ Fold08.Rep1: cost=0.306935, loss=L1, epsilon=1 \n",
      "- Fold08.Rep1: cost=0.306935, loss=L1, epsilon=1 \n",
      "+ Fold08.Rep1: cost=0.003352, loss=L2_dual, epsilon=1 \n",
      "- Fold08.Rep1: cost=0.003352, loss=L2_dual, epsilon=1 \n",
      "+ Fold09.Rep1: cost=0.054620, loss=L2_dual, epsilon=1 \n",
      "- Fold09.Rep1: cost=0.054620, loss=L2_dual, epsilon=1 \n",
      "+ Fold09.Rep1: cost=0.306935, loss=L1, epsilon=1 \n",
      "- Fold09.Rep1: cost=0.306935, loss=L1, epsilon=1 \n",
      "+ Fold09.Rep1: cost=0.003352, loss=L2_dual, epsilon=1 \n",
      "- Fold09.Rep1: cost=0.003352, loss=L2_dual, epsilon=1 \n",
      "+ Fold10.Rep1: cost=0.054620, loss=L2_dual, epsilon=1 \n",
      "- Fold10.Rep1: cost=0.054620, loss=L2_dual, epsilon=1 \n",
      "+ Fold10.Rep1: cost=0.306935, loss=L1, epsilon=1 \n",
      "- Fold10.Rep1: cost=0.306935, loss=L1, epsilon=1 \n",
      "+ Fold10.Rep1: cost=0.003352, loss=L2_dual, epsilon=1 \n",
      "- Fold10.Rep1: cost=0.003352, loss=L2_dual, epsilon=1 \n",
      "Aggregating results\n",
      "Selecting tuning parameters\n",
      "Fitting cost = 0.0546, loss = L2_dual, epsilon = 1 on full training set\n"
     ]
    }
   ],
   "source": [
    "#Regularized Logistic Regression\n",
    "model_regLogistic <- train(deg_cat ~ . , data = train,\n",
    "               method = \"regLogistic\",\n",
    "               trControl = ctrl)    # metric = \"...\" ciò che voglio massimizzare"
   ]
  },
  {
   "cell_type": "markdown",
   "id": "6d53b23d",
   "metadata": {},
   "source": [
    "## Results"
   ]
  },
  {
   "cell_type": "code",
   "execution_count": 7,
   "id": "38c1ed1b",
   "metadata": {},
   "outputs": [
    {
     "name": "stdout",
     "output_type": "stream",
     "text": [
      "Boosted Logistic Regression \n",
      "\n",
      "747 samples\n",
      " 77 predictor\n",
      "  3 classes: 'Accettabile', 'Complicato', 'Ottimo' \n",
      "\n",
      "No pre-processing\n",
      "Resampling: Cross-Validated (10 fold, repeated 1 times) \n",
      "Summary of sample sizes: 672, 672, 673, 673, 672, 672, ... \n",
      "Resampling results across tuning parameters:\n",
      "\n",
      "  nIter  Accuracy   Kappa    \n",
      "   6     0.6374120  0.4476956\n",
      "  37     0.6515218  0.4719357\n",
      "  47     0.6400560  0.4571945\n",
      "\n",
      "Accuracy was used to select the optimal model using the largest value.\n",
      "The final value used for the model was nIter = 37.\n"
     ]
    },
    {
     "data": {
      "image/png": "[encoded data removed]",
      "text/plain": [
       "plot without title"
      ]
     },
     "metadata": {
      "image/png": {
       "height": 500,
       "width": 1000
      }
     },
     "output_type": "display_data"
    }
   ],
   "source": [
    "print(model_logitBoost)\n",
    "plot(model_logitBoost)"
   ]
  },
  {
   "cell_type": "code",
   "execution_count": 8,
   "id": "2b881db7",
   "metadata": {},
   "outputs": [
    {
     "name": "stdout",
     "output_type": "stream",
     "text": [
      "Regularized Logistic Regression \n",
      "\n",
      "747 samples\n",
      " 77 predictor\n",
      "  3 classes: 'Accettabile', 'Complicato', 'Ottimo' \n",
      "\n",
      "No pre-processing\n",
      "Resampling: Cross-Validated (10 fold, repeated 1 times) \n",
      "Summary of sample sizes: 672, 672, 672, 672, 672, 675, ... \n",
      "Resampling results across tuning parameters:\n",
      "\n",
      "  cost        loss     Accuracy   Kappa    \n",
      "  0.00335166  L2_dual  0.5916111  0.3874167\n",
      "  0.05462050  L2_dual  0.6413333  0.4620000\n",
      "  0.30693526  L1       0.6048333  0.4072500\n",
      "\n",
      "Tuning parameter 'epsilon' was held constant at a value of 1\n",
      "Accuracy was used to select the optimal model using the largest value.\n",
      "The final values used for the model were cost = 0.0546205, loss = L2_dual\n",
      " and epsilon = 1.\n"
     ]
    },
    {
     "data": {
      "image/png": "[encoded data removed]",
      "text/plain": [
       "plot without title"
      ]
     },
     "metadata": {
      "image/png": {
       "height": 500,
       "width": 1000
      }
     },
     "output_type": "display_data"
    }
   ],
   "source": [
    "print(model_regLogistic)\n",
    "plot(model_regLogistic)"
   ]
  },
  {
   "cell_type": "code",
   "execution_count": 9,
   "id": "a97e9c6c",
   "metadata": {},
   "outputs": [
    {
     "data": {
      "text/plain": [
       "\n",
       "Call:\n",
       "summary.resamples(object = results)\n",
       "\n",
       "Models: logitBoost, regLogistic \n",
       "Number of resamples: 10 \n",
       "\n",
       "Accuracy \n",
       "                 Min.   1st Qu.    Median      Mean   3rd Qu.      Max. NA's\n",
       "logitBoost  0.5901639 0.6246082 0.6526791 0.6515218 0.6804687 0.7192982    0\n",
       "regLogistic 0.6000000 0.6266667 0.6400000 0.6413333 0.6666667 0.6800000    0\n",
       "\n",
       "Kappa \n",
       "                Min.   1st Qu.    Median      Mean   3rd Qu.      Max. NA's\n",
       "logitBoost  0.368984 0.4320243 0.4781834 0.4719357 0.5194956 0.5625899    0\n",
       "regLogistic 0.400000 0.4400000 0.4600000 0.4620000 0.5000000 0.5200000    0\n"
      ]
     },
     "metadata": {},
     "output_type": "display_data"
    },
    {
     "data": {
      "image/png": "[encoded data removed]",
      "text/plain": [
       "plot without title"
      ]
     },
     "metadata": {
      "image/png": {
       "height": 500,
       "width": 1000
      }
     },
     "output_type": "display_data"
    },
    {
     "data": {
      "image/png": "[encoded data removed]",
      "text/plain": [
       "plot without title"
      ]
     },
     "metadata": {
      "image/png": {
       "height": 500,
       "width": 1000
      }
     },
     "output_type": "display_data"
    }
   ],
   "source": [
    "# collect resamples\n",
    "results <- resamples(list(logitBoost=model_logitBoost,  regLogistic=model_regLogistic))\n",
    "# summarize the distributions\n",
    "summary(results)\n",
    "# boxplots of results\n",
    "bwplot(results)\n",
    "# dot plots of results\n",
    "dotplot(results)"
   ]
  },
  {
   "cell_type": "markdown",
   "id": "9463f3c7",
   "metadata": {},
   "source": [
    "## Prediction"
   ]
  },
  {
   "cell_type": "code",
   "execution_count": 10,
   "id": "b6fa2d9c",
   "metadata": {
    "scrolled": true
   },
   "outputs": [
    {
     "data": {
      "text/plain": [
       "Confusion Matrix and Statistics\n",
       "\n",
       "             Reference\n",
       "Prediction    Accettabile Complicato Ottimo\n",
       "  Accettabile          51         47     24\n",
       "  Complicato           28         66      7\n",
       "  Ottimo               14          6     16\n",
       "\n",
       "Overall Statistics\n",
       "                                          \n",
       "               Accuracy : 0.5135          \n",
       "                 95% CI : (0.4509, 0.5759)\n",
       "    No Information Rate : 0.4595          \n",
       "    P-Value [Acc > NIR] : 0.04637         \n",
       "                                          \n",
       "                  Kappa : 0.2234          \n",
       "                                          \n",
       " Mcnemar's Test P-Value : 0.05700         \n",
       "\n",
       "Statistics by Class:\n",
       "\n",
       "                     Class: Accettabile Class: Complicato Class: Ottimo\n",
       "Sensitivity                      0.5484            0.5546       0.34043\n",
       "Specificity                      0.5723            0.7500       0.90566\n",
       "Pos Pred Value                   0.4180            0.6535       0.44444\n",
       "Neg Pred Value                   0.6934            0.6646       0.86099\n",
       "Prevalence                       0.3591            0.4595       0.18147\n",
       "Detection Rate                   0.1969            0.2548       0.06178\n",
       "Detection Prevalence             0.4710            0.3900       0.13900\n",
       "Balanced Accuracy                0.5603            0.6523       0.62304"
      ]
     },
     "metadata": {},
     "output_type": "display_data"
    },
    {
     "data": {
      "text/html": [
       "<table>\n",
       "<thead><tr><th></th><th scope=col>Sensitivity</th><th scope=col>Specificity</th><th scope=col>Pos Pred Value</th><th scope=col>Neg Pred Value</th><th scope=col>Precision</th><th scope=col>Recall</th><th scope=col>F1</th><th scope=col>Prevalence</th><th scope=col>Detection Rate</th><th scope=col>Detection Prevalence</th><th scope=col>Balanced Accuracy</th></tr></thead>\n",
       "<tbody>\n",
       "\t<tr><th scope=row>Class: Accettabile</th><td>0.5483871 </td><td>0.5722892 </td><td>0.4180328 </td><td>0.6934307 </td><td>0.4180328 </td><td>0.5483871 </td><td>0.4744186 </td><td>0.3590734 </td><td>0.19691120</td><td>0.4710425 </td><td>0.5603381 </td></tr>\n",
       "\t<tr><th scope=row>Class: Complicato</th><td>0.5546218 </td><td>0.7500000 </td><td>0.6534653 </td><td>0.6645570 </td><td>0.6534653 </td><td>0.5546218 </td><td>0.6000000 </td><td>0.4594595 </td><td>0.25482625</td><td>0.3899614 </td><td>0.6523109 </td></tr>\n",
       "\t<tr><th scope=row>Class: Ottimo</th><td>0.3404255 </td><td>0.9056604 </td><td>0.4444444 </td><td>0.8609865 </td><td>0.4444444 </td><td>0.3404255 </td><td>0.3855422 </td><td>0.1814672 </td><td>0.06177606</td><td>0.1389961 </td><td>0.6230430 </td></tr>\n",
       "</tbody>\n",
       "</table>\n"
      ],
      "text/latex": [
       "\\begin{tabular}{r|lllllllllll}\n",
       "  & Sensitivity & Specificity & Pos Pred Value & Neg Pred Value & Precision & Recall & F1 & Prevalence & Detection Rate & Detection Prevalence & Balanced Accuracy\\\\\n",
       "\\hline\n",
       "\tClass: Accettabile & 0.5483871  & 0.5722892  & 0.4180328  & 0.6934307  & 0.4180328  & 0.5483871  & 0.4744186  & 0.3590734  & 0.19691120 & 0.4710425  & 0.5603381 \\\\\n",
       "\tClass: Complicato & 0.5546218  & 0.7500000  & 0.6534653  & 0.6645570  & 0.6534653  & 0.5546218  & 0.6000000  & 0.4594595  & 0.25482625 & 0.3899614  & 0.6523109 \\\\\n",
       "\tClass: Ottimo & 0.3404255  & 0.9056604  & 0.4444444  & 0.8609865  & 0.4444444  & 0.3404255  & 0.3855422  & 0.1814672  & 0.06177606 & 0.1389961  & 0.6230430 \\\\\n",
       "\\end{tabular}\n"
      ],
      "text/markdown": [
       "\n",
       "| <!--/--> | Sensitivity | Specificity | Pos Pred Value | Neg Pred Value | Precision | Recall | F1 | Prevalence | Detection Rate | Detection Prevalence | Balanced Accuracy |\n",
       "|---|---|---|---|---|---|---|---|---|---|---|---|\n",
       "| Class: Accettabile | 0.5483871  | 0.5722892  | 0.4180328  | 0.6934307  | 0.4180328  | 0.5483871  | 0.4744186  | 0.3590734  | 0.19691120 | 0.4710425  | 0.5603381  |\n",
       "| Class: Complicato | 0.5546218  | 0.7500000  | 0.6534653  | 0.6645570  | 0.6534653  | 0.5546218  | 0.6000000  | 0.4594595  | 0.25482625 | 0.3899614  | 0.6523109  |\n",
       "| Class: Ottimo | 0.3404255  | 0.9056604  | 0.4444444  | 0.8609865  | 0.4444444  | 0.3404255  | 0.3855422  | 0.1814672  | 0.06177606 | 0.1389961  | 0.6230430  |\n",
       "\n"
      ],
      "text/plain": [
       "                   Sensitivity Specificity Pos Pred Value Neg Pred Value\n",
       "Class: Accettabile 0.5483871   0.5722892   0.4180328      0.6934307     \n",
       "Class: Complicato  0.5546218   0.7500000   0.6534653      0.6645570     \n",
       "Class: Ottimo      0.3404255   0.9056604   0.4444444      0.8609865     \n",
       "                   Precision Recall    F1        Prevalence Detection Rate\n",
       "Class: Accettabile 0.4180328 0.5483871 0.4744186 0.3590734  0.19691120    \n",
       "Class: Complicato  0.6534653 0.5546218 0.6000000 0.4594595  0.25482625    \n",
       "Class: Ottimo      0.4444444 0.3404255 0.3855422 0.1814672  0.06177606    \n",
       "                   Detection Prevalence Balanced Accuracy\n",
       "Class: Accettabile 0.4710425            0.5603381        \n",
       "Class: Complicato  0.3899614            0.6523109        \n",
       "Class: Ottimo      0.1389961            0.6230430        "
      ]
     },
     "metadata": {},
     "output_type": "display_data"
    }
   ],
   "source": [
    "pred_logitBoost <- predict(model_logitBoost,test)   # 53 acc\n",
    "pred_logitBoost.prob <- predict(model_logitBoost,test, type=\"prob\")\n",
    "\n",
    "\n",
    "result <- confusionMatrix(TestClasses,  pred_logitBoost) \n",
    "result\n",
    "result$byClass"
   ]
  },
  {
   "cell_type": "code",
   "execution_count": 11,
   "id": "75e95db6",
   "metadata": {},
   "outputs": [
    {
     "name": "stderr",
     "output_type": "stream",
     "text": [
      "Setting direction: controls < cases\n",
      "\n",
      "Setting direction: controls < cases\n",
      "\n",
      "Setting direction: controls < cases\n",
      "\n"
     ]
    },
    {
     "data": {
      "text/plain": [
       "\n",
       "Call:\n",
       "multiclass.roc.default(response = TestClasses, predictor = as.numeric(pred_logitBoost))\n",
       "\n",
       "Data: as.numeric(pred_logitBoost) with 3 levels of TestClasses: Accettabile, Complicato, Ottimo.\n",
       "Multi-class area under the curve: 0.5623"
      ]
     },
     "metadata": {},
     "output_type": "display_data"
    }
   ],
   "source": [
    "roc_logitBoost <- multiclass.roc(TestClasses, as.numeric(pred_logitBoost))\n",
    "roc_logitBoost\n"
   ]
  },
  {
   "cell_type": "markdown",
   "id": "d6b9e500",
   "metadata": {},
   "source": [
    "direction: in which direction to make the comparison? “auto” (default for univariate curves): automatically define in which group the median is higher and take the direction accordingly. Not available for multivariate curves. “>” (default for multivariate curves): if the predictor values for the control group are higher than the values of the case group (controls > t >= cases). “<”: if the predictor values for the control group are lower or equal than the values of the case group (controls < t <= cases)."
   ]
  },
  {
   "cell_type": "code",
   "execution_count": 13,
   "id": "c5b32560",
   "metadata": {},
   "outputs": [
    {
     "data": {
      "text/html": [
       "<table>\n",
       "<tbody>\n",
       "\t<tr><th scope=row>percent</th><td>FALSE</td><td>FALSE</td></tr>\n",
       "\t<tr><th scope=row>sensitivities</th><td>1.0000000, 0.6111111, 0.4444444, 0.0000000</td><td>1.0000000, 0.6111111, 0.4444444, 0.0000000</td></tr>\n",
       "\t<tr><th scope=row>specificities</th><td>0.0000000, 0.4180328, 0.8032787, 1.0000000</td><td>0.0000000, 0.2772277, 0.9306931, 1.0000000</td></tr>\n",
       "\t<tr><th scope=row>thresholds</th><td>-Inf, 1.5, 2.5, Inf</td><td>-Inf, 1.5, 2.5, Inf</td></tr>\n",
       "\t<tr><th scope=row>direction</th><td>&lt;</td><td>&lt;</td></tr>\n",
       "\t<tr><th scope=row>cases</th><td>3, 3, 2, 3, 1, 1, 1, 3, 3, 2, 3, 1, 3, 2, 1, 3, 1, 1, 2, 1, 1, 2, 3, 2, 1, 3, 1, 1, 1, 1, 3, 3, 3, 3, 3, 3</td><td>3, 3, 2, 3, 1, 1, 1, 3, 3, 2, 3, 1, 3, 2, 1, 3, 1, 1, 2, 1, 1, 2, 3, 2, 1, 3, 1, 1, 1, 1, 3, 3, 3, 3, 3, 3</td></tr>\n",
       "\t<tr><th scope=row>controls</th><td>3, 2, 2, 3, 1, 3, 3, 1, 1, 3, 1, 1, 1, 2, 1, 2, 2, 1, 2, 2, 2, 2, 2, 1, 1, 1, 2, 1, 2, 1, 1, 1, 1, 3, 1, 3, 1, 3, 2, 2, 3, 3, 1, 3, 3, 2, 3, 1, 1, 3, 1, 2, 2, 3, 1, 1, 2, 2, 2, 2, 1, 1, 2, 2, 2, 1, 1, 1, 1, 1, 2, 2, 2, 3, 1, 1, 1, 3, 3, 2, 2, 2, 3, 2, 1, 3, 1, 3, 1, 1, 2, 1, 1, 2, 3, 3, 2, 1, 3, 1, 2, 2, 2, 2, 1, 1, 2, 1, 2, 1, 1, 2, 2, 1, 1, 1, 2, 2, 2, 1, 2, 2</td><td>2, 2, 1, 2, 2, 2, 2, 2, 2, 1, 2, 2, 1, 2, 2, 1, 2, 2, 2, 2, 2, 1, 2, 2, 1, 2, 3, 2, 2, 1, 1, 3, 1, 3, 2, 2, 2, 3, 1, 3, 2, 1, 2, 2, 2, 2, 2, 2, 2, 2, 2, 1, 1, 2, 2, 1, 2, 2, 2, 1, 2, 1, 2, 2, 1, 1, 2, 2, 2, 3, 2, 1, 2, 2, 2, 1, 2, 2, 1, 1, 2, 3, 1, 2, 2, 1, 2, 2, 2, 1, 2, 2, 2, 2, 1, 1, 2, 2, 2, 2, 1                                                               </td></tr>\n",
       "\t<tr><th scope=row>fun.sesp</th><td><span style=white-space:pre-wrap>function (thresholds, controls, cases, direction) , {,     ncontrols &lt;- length(controls),     ncases &lt;- length(cases),     predictor &lt;- c(controls, cases),     response &lt;- c(rep(0, length(controls)), rep(1, length(cases))),     decr &lt;- direction == \"&lt;\",     predictor.order &lt;- order(predictor, decreasing = decr),     predictor.sorted &lt;- predictor[predictor.order],     response.sorted &lt;- response[predictor.order],     tp &lt;- cumsum(response.sorted == 1),     fp &lt;- cumsum(response.sorted == 0),     se &lt;- tp/ncases,     sp &lt;- (ncontrols - fp)/ncontrols,     dups.pred &lt;- rev(duplicated(rev(predictor.sorted))),     dups.sesp &lt;- duplicated(se) &amp; duplicated(sp),     dups &lt;- dups.pred | dups.sesp,     if (sum(!dups) != length(thresholds) - 1) {,         sessionInfo &lt;- sessionInfo(),         save(thresholds, controls, cases, direction, sessionInfo, ,             file = \"pROC_bug.RData\"),         stop(sprintf(\"pROC: fast algorithm computed an incorrect number of sensitivities and specificities. Diagnostic data saved in pROC_bug.RData. Please report this bug to &lt;%s&gt;.\", ,             utils::packageDescription(\"pROC\")$BugReports)),     },     if (direction == \"&lt;\") {,         se &lt;- rev(c(0, se[!dups])),         sp &lt;- rev(c(1, sp[!dups])),     },     else {,         se &lt;- c(0, se[!dups]),         sp &lt;- c(1, sp[!dups]),     },     return(list(se = se, sp = sp)), }</span></td><td><span style=white-space:pre-wrap>function (thresholds, controls, cases, direction) , {,     ncontrols &lt;- length(controls),     ncases &lt;- length(cases),     predictor &lt;- c(controls, cases),     response &lt;- c(rep(0, length(controls)), rep(1, length(cases))),     decr &lt;- direction == \"&lt;\",     predictor.order &lt;- order(predictor, decreasing = decr),     predictor.sorted &lt;- predictor[predictor.order],     response.sorted &lt;- response[predictor.order],     tp &lt;- cumsum(response.sorted == 1),     fp &lt;- cumsum(response.sorted == 0),     se &lt;- tp/ncases,     sp &lt;- (ncontrols - fp)/ncontrols,     dups.pred &lt;- rev(duplicated(rev(predictor.sorted))),     dups.sesp &lt;- duplicated(se) &amp; duplicated(sp),     dups &lt;- dups.pred | dups.sesp,     if (sum(!dups) != length(thresholds) - 1) {,         sessionInfo &lt;- sessionInfo(),         save(thresholds, controls, cases, direction, sessionInfo, ,             file = \"pROC_bug.RData\"),         stop(sprintf(\"pROC: fast algorithm computed an incorrect number of sensitivities and specificities. Diagnostic data saved in pROC_bug.RData. Please report this bug to &lt;%s&gt;.\", ,             utils::packageDescription(\"pROC\")$BugReports)),     },     if (direction == \"&lt;\") {,         se &lt;- rev(c(0, se[!dups])),         sp &lt;- rev(c(1, sp[!dups])),     },     else {,         se &lt;- c(0, se[!dups]),         sp &lt;- c(1, sp[!dups]),     },     return(list(se = se, sp = sp)), }</span></td></tr>\n",
       "\t<tr><th scope=row>call</th><td>roc.default(response = response, predictor = predictor, levels = X, ,     percent = percent, direction = ..1, auc = FALSE, ci = FALSE)</td><td>roc.default(response = response, predictor = predictor, levels = X, ,     percent = percent, direction = ..1, auc = FALSE, ci = FALSE)</td></tr>\n",
       "\t<tr><th scope=row>original.predictor</th><td>3, 2, NA, NA, 2, NA, 3, NA, 3, 2, 1, NA, 2, NA, 3, 1, 2, 3, NA, 1, NA, NA, 1, 3, NA, 3, 1, 1, 3, 2, 1, 1, 1, 2, 2, 1, 2, NA, 2, 2, 2, 2, 1, 2, 2, 2, 2, 1, 2, 2, NA, 1, 1, 2, 1, 2, 1, 2, 1, 2, 1, NA, 2, NA, NA, 2, 2, 2, 2, 1, 2, 1, 1, 1, 2, 1, 1, NA, 2, NA, 2, NA, NA, 3, 1, 2, 3, 2, 1, NA, 3, 2, 1, NA, NA, 3, 1, 3, 3, NA, 2, NA, 3, 1, 1, 1, 3, NA, 2, 3, 2, 3, 3, 2, 3, NA, 1, NA, 3, 2, 2, 1, 3, 2, NA, 3, 1, 3, 1, 2, 3, 1, 1, 3, 1, 3, 1, 2, 2, 2, 2, NA, 1, 2, 3, 2, 2, NA, NA, 2, 2, 1, NA, 1, NA, NA, 2, 2, 2, 2, 2, 2, 1, 2, NA, NA, 1, 2, 1, 2, 1, 2, 2, 2, NA, 2, 1, 2, 1, 1, 1, 1, NA, 1, 2, 2, 2, NA, 1, 2, NA, 2, 1, NA, 2, 2, 1, 1, NA, 2, 2, 1, 1, 3, NA, 1, 2, 2, 2, 3, 1, 2, 3, 1, 3, NA, 3, 2, 2, 1, 2, 1, 3, NA, 1, 1, 2, 1, 2, 3, 2, 1, 3, 1, 2, 3, 1, 2, 1, 1, 2, NA, 1, 1, 1, 2, NA, 3, 2, NA, 3, NA, 3, 3, 3, 2, 3, 2, 1, 3, 1, 2, 1, NA, 3, NA, NA, 3, NA, 3, 1, 1, 2, 2, 2, NA, 2, 2, 2, NA, 1, NA, 1, 1, 2, NA, 1, 2, NA, 2, 2, 2, 1, NA, 1, 1, NA, 2, 2, 2, 2, 2, 1, NA, 2, 1, 1, 1, 2, 2, 1, 2, 2, 2, 2, 2, NA, 1, 1, 2, 2</td><td>3, 2, NA, NA, 2, NA, 3, NA, 3, 2, 1, NA, 2, NA, 3, 1, 2, 3, NA, 1, NA, NA, 1, 3, NA, 3, 1, 1, 3, 2, 1, 1, 1, 2, 2, 1, 2, NA, 2, 2, 2, 2, 1, 2, 2, 2, 2, 1, 2, 2, NA, 1, 1, 2, 1, 2, 1, 2, 1, 2, 1, NA, 2, NA, NA, 2, 2, 2, 2, 1, 2, 1, 1, 1, 2, 1, 1, NA, 2, NA, 2, NA, NA, 3, 1, 2, 3, 2, 1, NA, 3, 2, 1, NA, NA, 3, 1, 3, 3, NA, 2, NA, 3, 1, 1, 1, 3, NA, 2, 3, 2, 3, 3, 2, 3, NA, 1, NA, 3, 2, 2, 1, 3, 2, NA, 3, 1, 3, 1, 2, 3, 1, 1, 3, 1, 3, 1, 2, 2, 2, 2, NA, 1, 2, 3, 2, 2, NA, NA, 2, 2, 1, NA, 1, NA, NA, 2, 2, 2, 2, 2, 2, 1, 2, NA, NA, 1, 2, 1, 2, 1, 2, 2, 2, NA, 2, 1, 2, 1, 1, 1, 1, NA, 1, 2, 2, 2, NA, 1, 2, NA, 2, 1, NA, 2, 2, 1, 1, NA, 2, 2, 1, 1, 3, NA, 1, 2, 2, 2, 3, 1, 2, 3, 1, 3, NA, 3, 2, 2, 1, 2, 1, 3, NA, 1, 1, 2, 1, 2, 3, 2, 1, 3, 1, 2, 3, 1, 2, 1, 1, 2, NA, 1, 1, 1, 2, NA, 3, 2, NA, 3, NA, 3, 3, 3, 2, 3, 2, 1, 3, 1, 2, 1, NA, 3, NA, NA, 3, NA, 3, 1, 1, 2, 2, 2, NA, 2, 2, 2, NA, 1, NA, 1, 1, 2, NA, 1, 2, NA, 2, 2, 2, 1, NA, 1, 1, NA, 2, 2, 2, 2, 2, 1, NA, 2, 1, 1, 1, 2, 2, 1, 2, 2, 2, 2, 2, NA, 1, 1, 2, 2</td></tr>\n",
       "\t<tr><th scope=row>original.response</th><td>1, 1, 2, 1, 2, 2, 3, 3, 3, 2, 2, 3, 3, 1, 3, 3, 1, 1, 2, 3, 1, 3, 1, 1, 2, 1, 1, 1, 1, 2, 1, 1, 1, 1, 2, 1, 1, 1, 1, 2, 2, 2, 1, 1, 1, 2, 1, 2, 1, 1, 2, 1, 3, 2, 1, 2, 2, 2, 1, 2, 2, 2, 2, 2, 2, 1, 2, 2, 2, 1, 1, 1, 1, 1, 2, 1, 2, 2, 2, 2, 2, 1, 2, 1, 2, 2, 2, 2, 1, 2, 1, 2, 2, 1, 1, 3, 2, 3, 2, 1, 3, 1, 3, 2, 1, 3, 1, 1, 1, 3, 1, 2, 1, 3, 1, 1, 3, 1, 3, 2, 2, 1, 1, 2, 2, 2, 3, 1, 2, 1, 1, 1, 1, 1, 1, 2, 3, 1, 3, 2, 1, 2, 2, 2, 1, 2, 2, 1, 2, 2, 2, 1, 2, 1, 1, 2, 1, 2, 2, 1, 1, 1, 1, 2, 1, 1, 1, 2, 2, 1, 2, 1, 1, 2, 1, 2, 2, 2, 1, 1, 1, 1, 1, 1, 1, 2, 2, 1, 2, 1, 3, 2, 2, 2, 2, 2, 2, 2, 1, 2, 1, 3, 3, 1, 1, 1, 2, 2, 3, 2, 1, 2, 3, 1, 1, 3, 1, 3, 1, 2, 1, 3, 3, 1, 3, 3, 2, 3, 1, 1, 1, 1, 1, 1, 2, 1, 1, 2, 3, 1, 1, 1, 1, 1, 2, 2, 1, 3, 1, 1, 3, 3, 1, 3, 3, 2, 1, 1, 2, 3, 2, 2, 1, 1, 2, 3, 1, 1, 1, 3, 1, 2, 2, 1, 1, 2, 1, 2, 1, 1, 1, 1, 1, 2, 1, 1, 1, 2, 1, 2, 1, 2, 1, 2, 2, 1, 2, 2, 1, 2, 1, 2, 1, 1, 2, 2, 1, 1, 1, 1, 2, 2, 2, 2, 1, 2, 1, 2, 1, 1, 1</td><td>1, 1, 2, 1, 2, 2, 3, 3, 3, 2, 2, 3, 3, 1, 3, 3, 1, 1, 2, 3, 1, 3, 1, 1, 2, 1, 1, 1, 1, 2, 1, 1, 1, 1, 2, 1, 1, 1, 1, 2, 2, 2, 1, 1, 1, 2, 1, 2, 1, 1, 2, 1, 3, 2, 1, 2, 2, 2, 1, 2, 2, 2, 2, 2, 2, 1, 2, 2, 2, 1, 1, 1, 1, 1, 2, 1, 2, 2, 2, 2, 2, 1, 2, 1, 2, 2, 2, 2, 1, 2, 1, 2, 2, 1, 1, 3, 2, 3, 2, 1, 3, 1, 3, 2, 1, 3, 1, 1, 1, 3, 1, 2, 1, 3, 1, 1, 3, 1, 3, 2, 2, 1, 1, 2, 2, 2, 3, 1, 2, 1, 1, 1, 1, 1, 1, 2, 3, 1, 3, 2, 1, 2, 2, 2, 1, 2, 2, 1, 2, 2, 2, 1, 2, 1, 1, 2, 1, 2, 2, 1, 1, 1, 1, 2, 1, 1, 1, 2, 2, 1, 2, 1, 1, 2, 1, 2, 2, 2, 1, 1, 1, 1, 1, 1, 1, 2, 2, 1, 2, 1, 3, 2, 2, 2, 2, 2, 2, 2, 1, 2, 1, 3, 3, 1, 1, 1, 2, 2, 3, 2, 1, 2, 3, 1, 1, 3, 1, 3, 1, 2, 1, 3, 3, 1, 3, 3, 2, 3, 1, 1, 1, 1, 1, 1, 2, 1, 1, 2, 3, 1, 1, 1, 1, 1, 2, 2, 1, 3, 1, 1, 3, 3, 1, 3, 3, 2, 1, 1, 2, 3, 2, 2, 1, 1, 2, 3, 1, 1, 1, 3, 1, 2, 2, 1, 1, 2, 1, 2, 1, 1, 1, 1, 1, 2, 1, 1, 1, 2, 1, 2, 1, 2, 1, 2, 2, 1, 2, 2, 1, 2, 1, 2, 1, 1, 2, 2, 1, 1, 1, 1, 2, 2, 2, 2, 1, 2, 1, 2, 1, 1, 1</td></tr>\n",
       "\t<tr><th scope=row>predictor</th><td>3, 2, 3, 3, 2, 3, 1, 2, 3, 1, 1, 3, 3, 1, 1, 3, 1, 1, 1, 2, 1, 2, 2, 1, 2, 2, 2, 2, 2, 1, 1, 1, 1, 2, 1, 2, 1, 1, 1, 1, 3, 1, 3, 3, 3, 2, 3, 1, 1, 3, 2, 3, 2, 3, 2, 3, 1, 3, 1, 3, 1, 3, 2, 3, 1, 1, 3, 1, 1, 2, 2, 2, 3, 1, 1, 2, 2, 2, 2, 1, 1, 2, 2, 2, 1, 1, 1, 1, 1, 2, 2, 2, 1, 1, 3, 1, 2, 1, 3, 1, 3, 3, 2, 2, 2, 1, 3, 1, 1, 1, 2, 3, 2, 1, 3, 1, 3, 1, 1, 1, 2, 1, 1, 3, 2, 3, 3, 3, 3, 3, 2, 3, 1, 3, 3, 1, 2, 2, 2, 2, 1, 1, 2, 1, 2, 1, 1, 2, 2, 1, 1, 1, 2, 2, 2, 1, 2, 2</td><td>2, 3, 3, 2, 1, 2, 3, 1, 1, 2, 2, 2, 2, 2, 2, 1, 1, 2, 2, 1, 2, 2, 1, 2, 2, 2, 2, 2, 1, 2, 2, 1, 2, 3, 2, 2, 1, 3, 1, 3, 3, 2, 3, 1, 1, 3, 3, 2, 1, 3, 2, 2, 2, 3, 1, 1, 3, 1, 2, 2, 1, 2, 2, 2, 2, 2, 2, 2, 2, 2, 1, 1, 2, 2, 1, 2, 2, 2, 1, 2, 1, 2, 2, 1, 1, 2, 1, 1, 2, 2, 2, 3, 2, 3, 2, 1, 1, 3, 1, 1, 2, 1, 2, 2, 1, 1, 2, 3, 3, 3, 3, 2, 1, 3, 1, 2, 3, 3, 1, 2, 2, 1, 2, 2, 2, 1, 2, 2, 2, 2, 1, 1, 2, 2, 2, 2, 1                                                               </td></tr>\n",
       "\t<tr><th scope=row>response</th><td>1, 1, 3, 3, 3, 3, 3, 1, 1, 3, 1, 1, 1, 1, 1, 1, 1, 1, 1, 1, 1, 1, 1, 1, 1, 1, 1, 1, 1, 1, 3, 1, 1, 1, 1, 1, 1, 1, 1, 1, 1, 1, 1, 3, 3, 3, 3, 1, 3, 1, 1, 3, 1, 1, 3, 1, 3, 3, 1, 1, 3, 1, 1, 1, 1, 1, 1, 1, 3, 1, 3, 1, 1, 1, 1, 1, 1, 1, 1, 1, 1, 1, 1, 1, 1, 1, 1, 1, 1, 1, 1, 1, 3, 3, 1, 1, 3, 1, 3, 1, 1, 1, 3, 1, 1, 3, 3, 3, 3, 3, 1, 1, 1, 1, 1, 1, 1, 1, 3, 1, 1, 1, 1, 3, 1, 3, 1, 3, 3, 1, 1, 3, 1, 1, 3, 1, 1, 1, 1, 1, 1, 1, 1, 1, 1, 1, 1, 1, 1, 1, 1, 1, 1, 1, 1, 1, 1, 1</td><td>2, 3, 3, 2, 2, 3, 3, 3, 3, 2, 2, 2, 2, 2, 2, 2, 3, 2, 2, 2, 2, 2, 2, 2, 2, 2, 2, 2, 2, 2, 2, 2, 2, 2, 2, 2, 2, 3, 2, 3, 2, 3, 3, 2, 3, 3, 2, 3, 3, 3, 2, 2, 2, 2, 3, 2, 2, 3, 3, 2, 2, 2, 2, 2, 2, 2, 2, 2, 2, 2, 2, 2, 2, 2, 2, 2, 2, 2, 2, 2, 2, 2, 2, 2, 2, 2, 3, 3, 2, 2, 3, 2, 2, 3, 3, 2, 3, 3, 3, 3, 2, 3, 2, 2, 3, 2, 2, 3, 3, 3, 3, 2, 2, 3, 2, 2, 2, 3, 2, 2, 2, 2, 2, 2, 2, 2, 2, 2, 2, 2, 2, 2, 2, 2, 2, 2, 2                                                               </td></tr>\n",
       "\t<tr><th scope=row>levels</th><td>Accettabile, Ottimo     </td><td>Complicato, Ottimo      </td></tr>\n",
       "</tbody>\n",
       "</table>\n"
      ],
      "text/latex": [
       "\\begin{tabular}{r|ll}\n",
       "\tpercent & FALSE & FALSE\\\\\n",
       "\tsensitivities & 1.0000000, 0.6111111, 0.4444444, 0.0000000 & 1.0000000, 0.6111111, 0.4444444, 0.0000000\\\\\n",
       "\tspecificities & 0.0000000, 0.4180328, 0.8032787, 1.0000000 & 0.0000000, 0.2772277, 0.9306931, 1.0000000\\\\\n",
       "\tthresholds & -Inf, 1.5, 2.5, Inf & -Inf, 1.5, 2.5, Inf\\\\\n",
       "\tdirection & < & <\\\\\n",
       "\tcases & 3, 3, 2, 3, 1, 1, 1, 3, 3, 2, 3, 1, 3, 2, 1, 3, 1, 1, 2, 1, 1, 2, 3, 2, 1, 3, 1, 1, 1, 1, 3, 3, 3, 3, 3, 3 & 3, 3, 2, 3, 1, 1, 1, 3, 3, 2, 3, 1, 3, 2, 1, 3, 1, 1, 2, 1, 1, 2, 3, 2, 1, 3, 1, 1, 1, 1, 3, 3, 3, 3, 3, 3\\\\\n",
       "\tcontrols & 3, 2, 2, 3, 1, 3, 3, 1, 1, 3, 1, 1, 1, 2, 1, 2, 2, 1, 2, 2, 2, 2, 2, 1, 1, 1, 2, 1, 2, 1, 1, 1, 1, 3, 1, 3, 1, 3, 2, 2, 3, 3, 1, 3, 3, 2, 3, 1, 1, 3, 1, 2, 2, 3, 1, 1, 2, 2, 2, 2, 1, 1, 2, 2, 2, 1, 1, 1, 1, 1, 2, 2, 2, 3, 1, 1, 1, 3, 3, 2, 2, 2, 3, 2, 1, 3, 1, 3, 1, 1, 2, 1, 1, 2, 3, 3, 2, 1, 3, 1, 2, 2, 2, 2, 1, 1, 2, 1, 2, 1, 1, 2, 2, 1, 1, 1, 2, 2, 2, 1, 2, 2 & 2, 2, 1, 2, 2, 2, 2, 2, 2, 1, 2, 2, 1, 2, 2, 1, 2, 2, 2, 2, 2, 1, 2, 2, 1, 2, 3, 2, 2, 1, 1, 3, 1, 3, 2, 2, 2, 3, 1, 3, 2, 1, 2, 2, 2, 2, 2, 2, 2, 2, 2, 1, 1, 2, 2, 1, 2, 2, 2, 1, 2, 1, 2, 2, 1, 1, 2, 2, 2, 3, 2, 1, 2, 2, 2, 1, 2, 2, 1, 1, 2, 3, 1, 2, 2, 1, 2, 2, 2, 1, 2, 2, 2, 2, 1, 1, 2, 2, 2, 2, 1                                                               \\\\\n",
       "\tfun.sesp & function (thresholds, controls, cases, direction) , \\{,     ncontrols <- length(controls),     ncases <- length(cases),     predictor <- c(controls, cases),     response <- c(rep(0, length(controls)), rep(1, length(cases))),     decr <- direction == \"<\",     predictor.order <- order(predictor, decreasing = decr),     predictor.sorted <- predictor{[}predictor.order{]},     response.sorted <- response{[}predictor.order{]},     tp <- cumsum(response.sorted == 1),     fp <- cumsum(response.sorted == 0),     se <- tp/ncases,     sp <- (ncontrols - fp)/ncontrols,     dups.pred <- rev(duplicated(rev(predictor.sorted))),     dups.sesp <- duplicated(se) \\& duplicated(sp),     dups <- dups.pred \\textbar{} dups.sesp,     if (sum(!dups) != length(thresholds) - 1) \\{,         sessionInfo <- sessionInfo(),         save(thresholds, controls, cases, direction, sessionInfo, ,             file = \"pROC\\_bug.RData\"),         stop(sprintf(\"pROC: fast algorithm computed an incorrect number of sensitivities and specificities. Diagnostic data saved in pROC\\_bug.RData. Please report this bug to <\\%s>.\", ,             utils::packageDescription(\"pROC\")\\$BugReports)),     \\},     if (direction == \"<\") \\{,         se <- rev(c(0, se{[}!dups{]})),         sp <- rev(c(1, sp{[}!dups{]})),     \\},     else \\{,         se <- c(0, se{[}!dups{]}),         sp <- c(1, sp{[}!dups{]}),     \\},     return(list(se = se, sp = sp)), \\} & function (thresholds, controls, cases, direction) , \\{,     ncontrols <- length(controls),     ncases <- length(cases),     predictor <- c(controls, cases),     response <- c(rep(0, length(controls)), rep(1, length(cases))),     decr <- direction == \"<\",     predictor.order <- order(predictor, decreasing = decr),     predictor.sorted <- predictor{[}predictor.order{]},     response.sorted <- response{[}predictor.order{]},     tp <- cumsum(response.sorted == 1),     fp <- cumsum(response.sorted == 0),     se <- tp/ncases,     sp <- (ncontrols - fp)/ncontrols,     dups.pred <- rev(duplicated(rev(predictor.sorted))),     dups.sesp <- duplicated(se) \\& duplicated(sp),     dups <- dups.pred \\textbar{} dups.sesp,     if (sum(!dups) != length(thresholds) - 1) \\{,         sessionInfo <- sessionInfo(),         save(thresholds, controls, cases, direction, sessionInfo, ,             file = \"pROC\\_bug.RData\"),         stop(sprintf(\"pROC: fast algorithm computed an incorrect number of sensitivities and specificities. Diagnostic data saved in pROC\\_bug.RData. Please report this bug to <\\%s>.\", ,             utils::packageDescription(\"pROC\")\\$BugReports)),     \\},     if (direction == \"<\") \\{,         se <- rev(c(0, se{[}!dups{]})),         sp <- rev(c(1, sp{[}!dups{]})),     \\},     else \\{,         se <- c(0, se{[}!dups{]}),         sp <- c(1, sp{[}!dups{]}),     \\},     return(list(se = se, sp = sp)), \\}\\\\\n",
       "\tcall & roc.default(response = response, predictor = predictor, levels = X, ,     percent = percent, direction = ..1, auc = FALSE, ci = FALSE) & roc.default(response = response, predictor = predictor, levels = X, ,     percent = percent, direction = ..1, auc = FALSE, ci = FALSE)\\\\\n",
       "\toriginal.predictor & 3, 2, NA, NA, 2, NA, 3, NA, 3, 2, 1, NA, 2, NA, 3, 1, 2, 3, NA, 1, NA, NA, 1, 3, NA, 3, 1, 1, 3, 2, 1, 1, 1, 2, 2, 1, 2, NA, 2, 2, 2, 2, 1, 2, 2, 2, 2, 1, 2, 2, NA, 1, 1, 2, 1, 2, 1, 2, 1, 2, 1, NA, 2, NA, NA, 2, 2, 2, 2, 1, 2, 1, 1, 1, 2, 1, 1, NA, 2, NA, 2, NA, NA, 3, 1, 2, 3, 2, 1, NA, 3, 2, 1, NA, NA, 3, 1, 3, 3, NA, 2, NA, 3, 1, 1, 1, 3, NA, 2, 3, 2, 3, 3, 2, 3, NA, 1, NA, 3, 2, 2, 1, 3, 2, NA, 3, 1, 3, 1, 2, 3, 1, 1, 3, 1, 3, 1, 2, 2, 2, 2, NA, 1, 2, 3, 2, 2, NA, NA, 2, 2, 1, NA, 1, NA, NA, 2, 2, 2, 2, 2, 2, 1, 2, NA, NA, 1, 2, 1, 2, 1, 2, 2, 2, NA, 2, 1, 2, 1, 1, 1, 1, NA, 1, 2, 2, 2, NA, 1, 2, NA, 2, 1, NA, 2, 2, 1, 1, NA, 2, 2, 1, 1, 3, NA, 1, 2, 2, 2, 3, 1, 2, 3, 1, 3, NA, 3, 2, 2, 1, 2, 1, 3, NA, 1, 1, 2, 1, 2, 3, 2, 1, 3, 1, 2, 3, 1, 2, 1, 1, 2, NA, 1, 1, 1, 2, NA, 3, 2, NA, 3, NA, 3, 3, 3, 2, 3, 2, 1, 3, 1, 2, 1, NA, 3, NA, NA, 3, NA, 3, 1, 1, 2, 2, 2, NA, 2, 2, 2, NA, 1, NA, 1, 1, 2, NA, 1, 2, NA, 2, 2, 2, 1, NA, 1, 1, NA, 2, 2, 2, 2, 2, 1, NA, 2, 1, 1, 1, 2, 2, 1, 2, 2, 2, 2, 2, NA, 1, 1, 2, 2 & 3, 2, NA, NA, 2, NA, 3, NA, 3, 2, 1, NA, 2, NA, 3, 1, 2, 3, NA, 1, NA, NA, 1, 3, NA, 3, 1, 1, 3, 2, 1, 1, 1, 2, 2, 1, 2, NA, 2, 2, 2, 2, 1, 2, 2, 2, 2, 1, 2, 2, NA, 1, 1, 2, 1, 2, 1, 2, 1, 2, 1, NA, 2, NA, NA, 2, 2, 2, 2, 1, 2, 1, 1, 1, 2, 1, 1, NA, 2, NA, 2, NA, NA, 3, 1, 2, 3, 2, 1, NA, 3, 2, 1, NA, NA, 3, 1, 3, 3, NA, 2, NA, 3, 1, 1, 1, 3, NA, 2, 3, 2, 3, 3, 2, 3, NA, 1, NA, 3, 2, 2, 1, 3, 2, NA, 3, 1, 3, 1, 2, 3, 1, 1, 3, 1, 3, 1, 2, 2, 2, 2, NA, 1, 2, 3, 2, 2, NA, NA, 2, 2, 1, NA, 1, NA, NA, 2, 2, 2, 2, 2, 2, 1, 2, NA, NA, 1, 2, 1, 2, 1, 2, 2, 2, NA, 2, 1, 2, 1, 1, 1, 1, NA, 1, 2, 2, 2, NA, 1, 2, NA, 2, 1, NA, 2, 2, 1, 1, NA, 2, 2, 1, 1, 3, NA, 1, 2, 2, 2, 3, 1, 2, 3, 1, 3, NA, 3, 2, 2, 1, 2, 1, 3, NA, 1, 1, 2, 1, 2, 3, 2, 1, 3, 1, 2, 3, 1, 2, 1, 1, 2, NA, 1, 1, 1, 2, NA, 3, 2, NA, 3, NA, 3, 3, 3, 2, 3, 2, 1, 3, 1, 2, 1, NA, 3, NA, NA, 3, NA, 3, 1, 1, 2, 2, 2, NA, 2, 2, 2, NA, 1, NA, 1, 1, 2, NA, 1, 2, NA, 2, 2, 2, 1, NA, 1, 1, NA, 2, 2, 2, 2, 2, 1, NA, 2, 1, 1, 1, 2, 2, 1, 2, 2, 2, 2, 2, NA, 1, 1, 2, 2\\\\\n",
       "\toriginal.response & 1, 1, 2, 1, 2, 2, 3, 3, 3, 2, 2, 3, 3, 1, 3, 3, 1, 1, 2, 3, 1, 3, 1, 1, 2, 1, 1, 1, 1, 2, 1, 1, 1, 1, 2, 1, 1, 1, 1, 2, 2, 2, 1, 1, 1, 2, 1, 2, 1, 1, 2, 1, 3, 2, 1, 2, 2, 2, 1, 2, 2, 2, 2, 2, 2, 1, 2, 2, 2, 1, 1, 1, 1, 1, 2, 1, 2, 2, 2, 2, 2, 1, 2, 1, 2, 2, 2, 2, 1, 2, 1, 2, 2, 1, 1, 3, 2, 3, 2, 1, 3, 1, 3, 2, 1, 3, 1, 1, 1, 3, 1, 2, 1, 3, 1, 1, 3, 1, 3, 2, 2, 1, 1, 2, 2, 2, 3, 1, 2, 1, 1, 1, 1, 1, 1, 2, 3, 1, 3, 2, 1, 2, 2, 2, 1, 2, 2, 1, 2, 2, 2, 1, 2, 1, 1, 2, 1, 2, 2, 1, 1, 1, 1, 2, 1, 1, 1, 2, 2, 1, 2, 1, 1, 2, 1, 2, 2, 2, 1, 1, 1, 1, 1, 1, 1, 2, 2, 1, 2, 1, 3, 2, 2, 2, 2, 2, 2, 2, 1, 2, 1, 3, 3, 1, 1, 1, 2, 2, 3, 2, 1, 2, 3, 1, 1, 3, 1, 3, 1, 2, 1, 3, 3, 1, 3, 3, 2, 3, 1, 1, 1, 1, 1, 1, 2, 1, 1, 2, 3, 1, 1, 1, 1, 1, 2, 2, 1, 3, 1, 1, 3, 3, 1, 3, 3, 2, 1, 1, 2, 3, 2, 2, 1, 1, 2, 3, 1, 1, 1, 3, 1, 2, 2, 1, 1, 2, 1, 2, 1, 1, 1, 1, 1, 2, 1, 1, 1, 2, 1, 2, 1, 2, 1, 2, 2, 1, 2, 2, 1, 2, 1, 2, 1, 1, 2, 2, 1, 1, 1, 1, 2, 2, 2, 2, 1, 2, 1, 2, 1, 1, 1 & 1, 1, 2, 1, 2, 2, 3, 3, 3, 2, 2, 3, 3, 1, 3, 3, 1, 1, 2, 3, 1, 3, 1, 1, 2, 1, 1, 1, 1, 2, 1, 1, 1, 1, 2, 1, 1, 1, 1, 2, 2, 2, 1, 1, 1, 2, 1, 2, 1, 1, 2, 1, 3, 2, 1, 2, 2, 2, 1, 2, 2, 2, 2, 2, 2, 1, 2, 2, 2, 1, 1, 1, 1, 1, 2, 1, 2, 2, 2, 2, 2, 1, 2, 1, 2, 2, 2, 2, 1, 2, 1, 2, 2, 1, 1, 3, 2, 3, 2, 1, 3, 1, 3, 2, 1, 3, 1, 1, 1, 3, 1, 2, 1, 3, 1, 1, 3, 1, 3, 2, 2, 1, 1, 2, 2, 2, 3, 1, 2, 1, 1, 1, 1, 1, 1, 2, 3, 1, 3, 2, 1, 2, 2, 2, 1, 2, 2, 1, 2, 2, 2, 1, 2, 1, 1, 2, 1, 2, 2, 1, 1, 1, 1, 2, 1, 1, 1, 2, 2, 1, 2, 1, 1, 2, 1, 2, 2, 2, 1, 1, 1, 1, 1, 1, 1, 2, 2, 1, 2, 1, 3, 2, 2, 2, 2, 2, 2, 2, 1, 2, 1, 3, 3, 1, 1, 1, 2, 2, 3, 2, 1, 2, 3, 1, 1, 3, 1, 3, 1, 2, 1, 3, 3, 1, 3, 3, 2, 3, 1, 1, 1, 1, 1, 1, 2, 1, 1, 2, 3, 1, 1, 1, 1, 1, 2, 2, 1, 3, 1, 1, 3, 3, 1, 3, 3, 2, 1, 1, 2, 3, 2, 2, 1, 1, 2, 3, 1, 1, 1, 3, 1, 2, 2, 1, 1, 2, 1, 2, 1, 1, 1, 1, 1, 2, 1, 1, 1, 2, 1, 2, 1, 2, 1, 2, 2, 1, 2, 2, 1, 2, 1, 2, 1, 1, 2, 2, 1, 1, 1, 1, 2, 2, 2, 2, 1, 2, 1, 2, 1, 1, 1\\\\\n",
       "\tpredictor & 3, 2, 3, 3, 2, 3, 1, 2, 3, 1, 1, 3, 3, 1, 1, 3, 1, 1, 1, 2, 1, 2, 2, 1, 2, 2, 2, 2, 2, 1, 1, 1, 1, 2, 1, 2, 1, 1, 1, 1, 3, 1, 3, 3, 3, 2, 3, 1, 1, 3, 2, 3, 2, 3, 2, 3, 1, 3, 1, 3, 1, 3, 2, 3, 1, 1, 3, 1, 1, 2, 2, 2, 3, 1, 1, 2, 2, 2, 2, 1, 1, 2, 2, 2, 1, 1, 1, 1, 1, 2, 2, 2, 1, 1, 3, 1, 2, 1, 3, 1, 3, 3, 2, 2, 2, 1, 3, 1, 1, 1, 2, 3, 2, 1, 3, 1, 3, 1, 1, 1, 2, 1, 1, 3, 2, 3, 3, 3, 3, 3, 2, 3, 1, 3, 3, 1, 2, 2, 2, 2, 1, 1, 2, 1, 2, 1, 1, 2, 2, 1, 1, 1, 2, 2, 2, 1, 2, 2 & 2, 3, 3, 2, 1, 2, 3, 1, 1, 2, 2, 2, 2, 2, 2, 1, 1, 2, 2, 1, 2, 2, 1, 2, 2, 2, 2, 2, 1, 2, 2, 1, 2, 3, 2, 2, 1, 3, 1, 3, 3, 2, 3, 1, 1, 3, 3, 2, 1, 3, 2, 2, 2, 3, 1, 1, 3, 1, 2, 2, 1, 2, 2, 2, 2, 2, 2, 2, 2, 2, 1, 1, 2, 2, 1, 2, 2, 2, 1, 2, 1, 2, 2, 1, 1, 2, 1, 1, 2, 2, 2, 3, 2, 3, 2, 1, 1, 3, 1, 1, 2, 1, 2, 2, 1, 1, 2, 3, 3, 3, 3, 2, 1, 3, 1, 2, 3, 3, 1, 2, 2, 1, 2, 2, 2, 1, 2, 2, 2, 2, 1, 1, 2, 2, 2, 2, 1                                                               \\\\\n",
       "\tresponse & 1, 1, 3, 3, 3, 3, 3, 1, 1, 3, 1, 1, 1, 1, 1, 1, 1, 1, 1, 1, 1, 1, 1, 1, 1, 1, 1, 1, 1, 1, 3, 1, 1, 1, 1, 1, 1, 1, 1, 1, 1, 1, 1, 3, 3, 3, 3, 1, 3, 1, 1, 3, 1, 1, 3, 1, 3, 3, 1, 1, 3, 1, 1, 1, 1, 1, 1, 1, 3, 1, 3, 1, 1, 1, 1, 1, 1, 1, 1, 1, 1, 1, 1, 1, 1, 1, 1, 1, 1, 1, 1, 1, 3, 3, 1, 1, 3, 1, 3, 1, 1, 1, 3, 1, 1, 3, 3, 3, 3, 3, 1, 1, 1, 1, 1, 1, 1, 1, 3, 1, 1, 1, 1, 3, 1, 3, 1, 3, 3, 1, 1, 3, 1, 1, 3, 1, 1, 1, 1, 1, 1, 1, 1, 1, 1, 1, 1, 1, 1, 1, 1, 1, 1, 1, 1, 1, 1, 1 & 2, 3, 3, 2, 2, 3, 3, 3, 3, 2, 2, 2, 2, 2, 2, 2, 3, 2, 2, 2, 2, 2, 2, 2, 2, 2, 2, 2, 2, 2, 2, 2, 2, 2, 2, 2, 2, 3, 2, 3, 2, 3, 3, 2, 3, 3, 2, 3, 3, 3, 2, 2, 2, 2, 3, 2, 2, 3, 3, 2, 2, 2, 2, 2, 2, 2, 2, 2, 2, 2, 2, 2, 2, 2, 2, 2, 2, 2, 2, 2, 2, 2, 2, 2, 2, 2, 3, 3, 2, 2, 3, 2, 2, 3, 3, 2, 3, 3, 3, 3, 2, 3, 2, 2, 3, 2, 2, 3, 3, 3, 3, 2, 2, 3, 2, 2, 2, 3, 2, 2, 2, 2, 2, 2, 2, 2, 2, 2, 2, 2, 2, 2, 2, 2, 2, 2, 2                                                               \\\\\n",
       "\tlevels & Accettabile, Ottimo      & Complicato, Ottimo      \\\\\n",
       "\\end{tabular}\n"
      ],
      "text/markdown": [
       "\n",
       "| percent | FALSE | FALSE |\n",
       "| sensitivities | 1.0000000, 0.6111111, 0.4444444, 0.0000000 | 1.0000000, 0.6111111, 0.4444444, 0.0000000 |\n",
       "| specificities | 0.0000000, 0.4180328, 0.8032787, 1.0000000 | 0.0000000, 0.2772277, 0.9306931, 1.0000000 |\n",
       "| thresholds | -Inf, 1.5, 2.5, Inf | -Inf, 1.5, 2.5, Inf |\n",
       "| direction | < | < |\n",
       "| cases | 3, 3, 2, 3, 1, 1, 1, 3, 3, 2, 3, 1, 3, 2, 1, 3, 1, 1, 2, 1, 1, 2, 3, 2, 1, 3, 1, 1, 1, 1, 3, 3, 3, 3, 3, 3 | 3, 3, 2, 3, 1, 1, 1, 3, 3, 2, 3, 1, 3, 2, 1, 3, 1, 1, 2, 1, 1, 2, 3, 2, 1, 3, 1, 1, 1, 1, 3, 3, 3, 3, 3, 3 |\n",
       "| controls | 3, 2, 2, 3, 1, 3, 3, 1, 1, 3, 1, 1, 1, 2, 1, 2, 2, 1, 2, 2, 2, 2, 2, 1, 1, 1, 2, 1, 2, 1, 1, 1, 1, 3, 1, 3, 1, 3, 2, 2, 3, 3, 1, 3, 3, 2, 3, 1, 1, 3, 1, 2, 2, 3, 1, 1, 2, 2, 2, 2, 1, 1, 2, 2, 2, 1, 1, 1, 1, 1, 2, 2, 2, 3, 1, 1, 1, 3, 3, 2, 2, 2, 3, 2, 1, 3, 1, 3, 1, 1, 2, 1, 1, 2, 3, 3, 2, 1, 3, 1, 2, 2, 2, 2, 1, 1, 2, 1, 2, 1, 1, 2, 2, 1, 1, 1, 2, 2, 2, 1, 2, 2 | 2, 2, 1, 2, 2, 2, 2, 2, 2, 1, 2, 2, 1, 2, 2, 1, 2, 2, 2, 2, 2, 1, 2, 2, 1, 2, 3, 2, 2, 1, 1, 3, 1, 3, 2, 2, 2, 3, 1, 3, 2, 1, 2, 2, 2, 2, 2, 2, 2, 2, 2, 1, 1, 2, 2, 1, 2, 2, 2, 1, 2, 1, 2, 2, 1, 1, 2, 2, 2, 3, 2, 1, 2, 2, 2, 1, 2, 2, 1, 1, 2, 3, 1, 2, 2, 1, 2, 2, 2, 1, 2, 2, 2, 2, 1, 1, 2, 2, 2, 2, 1                                                                |\n",
       "| fun.sesp | function (thresholds, controls, cases, direction) , {,     ncontrols <- length(controls),     ncases <- length(cases),     predictor <- c(controls, cases),     response <- c(rep(0, length(controls)), rep(1, length(cases))),     decr <- direction == \"<\",     predictor.order <- order(predictor, decreasing = decr),     predictor.sorted <- predictor[predictor.order],     response.sorted <- response[predictor.order],     tp <- cumsum(response.sorted == 1),     fp <- cumsum(response.sorted == 0),     se <- tp/ncases,     sp <- (ncontrols - fp)/ncontrols,     dups.pred <- rev(duplicated(rev(predictor.sorted))),     dups.sesp <- duplicated(se) & duplicated(sp),     dups <- dups.pred | dups.sesp,     if (sum(!dups) != length(thresholds) - 1) {,         sessionInfo <- sessionInfo(),         save(thresholds, controls, cases, direction, sessionInfo, ,             file = \"pROC_bug.RData\"),         stop(sprintf(\"pROC: fast algorithm computed an incorrect number of sensitivities and specificities. Diagnostic data saved in pROC_bug.RData. Please report this bug to <%s>.\", ,             utils::packageDescription(\"pROC\")$BugReports)),     },     if (direction == \"<\") {,         se <- rev(c(0, se[!dups])),         sp <- rev(c(1, sp[!dups])),     },     else {,         se <- c(0, se[!dups]),         sp <- c(1, sp[!dups]),     },     return(list(se = se, sp = sp)), } | function (thresholds, controls, cases, direction) , {,     ncontrols <- length(controls),     ncases <- length(cases),     predictor <- c(controls, cases),     response <- c(rep(0, length(controls)), rep(1, length(cases))),     decr <- direction == \"<\",     predictor.order <- order(predictor, decreasing = decr),     predictor.sorted <- predictor[predictor.order],     response.sorted <- response[predictor.order],     tp <- cumsum(response.sorted == 1),     fp <- cumsum(response.sorted == 0),     se <- tp/ncases,     sp <- (ncontrols - fp)/ncontrols,     dups.pred <- rev(duplicated(rev(predictor.sorted))),     dups.sesp <- duplicated(se) & duplicated(sp),     dups <- dups.pred | dups.sesp,     if (sum(!dups) != length(thresholds) - 1) {,         sessionInfo <- sessionInfo(),         save(thresholds, controls, cases, direction, sessionInfo, ,             file = \"pROC_bug.RData\"),         stop(sprintf(\"pROC: fast algorithm computed an incorrect number of sensitivities and specificities. Diagnostic data saved in pROC_bug.RData. Please report this bug to <%s>.\", ,             utils::packageDescription(\"pROC\")$BugReports)),     },     if (direction == \"<\") {,         se <- rev(c(0, se[!dups])),         sp <- rev(c(1, sp[!dups])),     },     else {,         se <- c(0, se[!dups]),         sp <- c(1, sp[!dups]),     },     return(list(se = se, sp = sp)), } |\n",
       "| call | roc.default(response = response, predictor = predictor, levels = X, ,     percent = percent, direction = ..1, auc = FALSE, ci = FALSE) | roc.default(response = response, predictor = predictor, levels = X, ,     percent = percent, direction = ..1, auc = FALSE, ci = FALSE) |\n",
       "| original.predictor | 3, 2, NA, NA, 2, NA, 3, NA, 3, 2, 1, NA, 2, NA, 3, 1, 2, 3, NA, 1, NA, NA, 1, 3, NA, 3, 1, 1, 3, 2, 1, 1, 1, 2, 2, 1, 2, NA, 2, 2, 2, 2, 1, 2, 2, 2, 2, 1, 2, 2, NA, 1, 1, 2, 1, 2, 1, 2, 1, 2, 1, NA, 2, NA, NA, 2, 2, 2, 2, 1, 2, 1, 1, 1, 2, 1, 1, NA, 2, NA, 2, NA, NA, 3, 1, 2, 3, 2, 1, NA, 3, 2, 1, NA, NA, 3, 1, 3, 3, NA, 2, NA, 3, 1, 1, 1, 3, NA, 2, 3, 2, 3, 3, 2, 3, NA, 1, NA, 3, 2, 2, 1, 3, 2, NA, 3, 1, 3, 1, 2, 3, 1, 1, 3, 1, 3, 1, 2, 2, 2, 2, NA, 1, 2, 3, 2, 2, NA, NA, 2, 2, 1, NA, 1, NA, NA, 2, 2, 2, 2, 2, 2, 1, 2, NA, NA, 1, 2, 1, 2, 1, 2, 2, 2, NA, 2, 1, 2, 1, 1, 1, 1, NA, 1, 2, 2, 2, NA, 1, 2, NA, 2, 1, NA, 2, 2, 1, 1, NA, 2, 2, 1, 1, 3, NA, 1, 2, 2, 2, 3, 1, 2, 3, 1, 3, NA, 3, 2, 2, 1, 2, 1, 3, NA, 1, 1, 2, 1, 2, 3, 2, 1, 3, 1, 2, 3, 1, 2, 1, 1, 2, NA, 1, 1, 1, 2, NA, 3, 2, NA, 3, NA, 3, 3, 3, 2, 3, 2, 1, 3, 1, 2, 1, NA, 3, NA, NA, 3, NA, 3, 1, 1, 2, 2, 2, NA, 2, 2, 2, NA, 1, NA, 1, 1, 2, NA, 1, 2, NA, 2, 2, 2, 1, NA, 1, 1, NA, 2, 2, 2, 2, 2, 1, NA, 2, 1, 1, 1, 2, 2, 1, 2, 2, 2, 2, 2, NA, 1, 1, 2, 2 | 3, 2, NA, NA, 2, NA, 3, NA, 3, 2, 1, NA, 2, NA, 3, 1, 2, 3, NA, 1, NA, NA, 1, 3, NA, 3, 1, 1, 3, 2, 1, 1, 1, 2, 2, 1, 2, NA, 2, 2, 2, 2, 1, 2, 2, 2, 2, 1, 2, 2, NA, 1, 1, 2, 1, 2, 1, 2, 1, 2, 1, NA, 2, NA, NA, 2, 2, 2, 2, 1, 2, 1, 1, 1, 2, 1, 1, NA, 2, NA, 2, NA, NA, 3, 1, 2, 3, 2, 1, NA, 3, 2, 1, NA, NA, 3, 1, 3, 3, NA, 2, NA, 3, 1, 1, 1, 3, NA, 2, 3, 2, 3, 3, 2, 3, NA, 1, NA, 3, 2, 2, 1, 3, 2, NA, 3, 1, 3, 1, 2, 3, 1, 1, 3, 1, 3, 1, 2, 2, 2, 2, NA, 1, 2, 3, 2, 2, NA, NA, 2, 2, 1, NA, 1, NA, NA, 2, 2, 2, 2, 2, 2, 1, 2, NA, NA, 1, 2, 1, 2, 1, 2, 2, 2, NA, 2, 1, 2, 1, 1, 1, 1, NA, 1, 2, 2, 2, NA, 1, 2, NA, 2, 1, NA, 2, 2, 1, 1, NA, 2, 2, 1, 1, 3, NA, 1, 2, 2, 2, 3, 1, 2, 3, 1, 3, NA, 3, 2, 2, 1, 2, 1, 3, NA, 1, 1, 2, 1, 2, 3, 2, 1, 3, 1, 2, 3, 1, 2, 1, 1, 2, NA, 1, 1, 1, 2, NA, 3, 2, NA, 3, NA, 3, 3, 3, 2, 3, 2, 1, 3, 1, 2, 1, NA, 3, NA, NA, 3, NA, 3, 1, 1, 2, 2, 2, NA, 2, 2, 2, NA, 1, NA, 1, 1, 2, NA, 1, 2, NA, 2, 2, 2, 1, NA, 1, 1, NA, 2, 2, 2, 2, 2, 1, NA, 2, 1, 1, 1, 2, 2, 1, 2, 2, 2, 2, 2, NA, 1, 1, 2, 2 |\n",
       "| original.response | 1, 1, 2, 1, 2, 2, 3, 3, 3, 2, 2, 3, 3, 1, 3, 3, 1, 1, 2, 3, 1, 3, 1, 1, 2, 1, 1, 1, 1, 2, 1, 1, 1, 1, 2, 1, 1, 1, 1, 2, 2, 2, 1, 1, 1, 2, 1, 2, 1, 1, 2, 1, 3, 2, 1, 2, 2, 2, 1, 2, 2, 2, 2, 2, 2, 1, 2, 2, 2, 1, 1, 1, 1, 1, 2, 1, 2, 2, 2, 2, 2, 1, 2, 1, 2, 2, 2, 2, 1, 2, 1, 2, 2, 1, 1, 3, 2, 3, 2, 1, 3, 1, 3, 2, 1, 3, 1, 1, 1, 3, 1, 2, 1, 3, 1, 1, 3, 1, 3, 2, 2, 1, 1, 2, 2, 2, 3, 1, 2, 1, 1, 1, 1, 1, 1, 2, 3, 1, 3, 2, 1, 2, 2, 2, 1, 2, 2, 1, 2, 2, 2, 1, 2, 1, 1, 2, 1, 2, 2, 1, 1, 1, 1, 2, 1, 1, 1, 2, 2, 1, 2, 1, 1, 2, 1, 2, 2, 2, 1, 1, 1, 1, 1, 1, 1, 2, 2, 1, 2, 1, 3, 2, 2, 2, 2, 2, 2, 2, 1, 2, 1, 3, 3, 1, 1, 1, 2, 2, 3, 2, 1, 2, 3, 1, 1, 3, 1, 3, 1, 2, 1, 3, 3, 1, 3, 3, 2, 3, 1, 1, 1, 1, 1, 1, 2, 1, 1, 2, 3, 1, 1, 1, 1, 1, 2, 2, 1, 3, 1, 1, 3, 3, 1, 3, 3, 2, 1, 1, 2, 3, 2, 2, 1, 1, 2, 3, 1, 1, 1, 3, 1, 2, 2, 1, 1, 2, 1, 2, 1, 1, 1, 1, 1, 2, 1, 1, 1, 2, 1, 2, 1, 2, 1, 2, 2, 1, 2, 2, 1, 2, 1, 2, 1, 1, 2, 2, 1, 1, 1, 1, 2, 2, 2, 2, 1, 2, 1, 2, 1, 1, 1 | 1, 1, 2, 1, 2, 2, 3, 3, 3, 2, 2, 3, 3, 1, 3, 3, 1, 1, 2, 3, 1, 3, 1, 1, 2, 1, 1, 1, 1, 2, 1, 1, 1, 1, 2, 1, 1, 1, 1, 2, 2, 2, 1, 1, 1, 2, 1, 2, 1, 1, 2, 1, 3, 2, 1, 2, 2, 2, 1, 2, 2, 2, 2, 2, 2, 1, 2, 2, 2, 1, 1, 1, 1, 1, 2, 1, 2, 2, 2, 2, 2, 1, 2, 1, 2, 2, 2, 2, 1, 2, 1, 2, 2, 1, 1, 3, 2, 3, 2, 1, 3, 1, 3, 2, 1, 3, 1, 1, 1, 3, 1, 2, 1, 3, 1, 1, 3, 1, 3, 2, 2, 1, 1, 2, 2, 2, 3, 1, 2, 1, 1, 1, 1, 1, 1, 2, 3, 1, 3, 2, 1, 2, 2, 2, 1, 2, 2, 1, 2, 2, 2, 1, 2, 1, 1, 2, 1, 2, 2, 1, 1, 1, 1, 2, 1, 1, 1, 2, 2, 1, 2, 1, 1, 2, 1, 2, 2, 2, 1, 1, 1, 1, 1, 1, 1, 2, 2, 1, 2, 1, 3, 2, 2, 2, 2, 2, 2, 2, 1, 2, 1, 3, 3, 1, 1, 1, 2, 2, 3, 2, 1, 2, 3, 1, 1, 3, 1, 3, 1, 2, 1, 3, 3, 1, 3, 3, 2, 3, 1, 1, 1, 1, 1, 1, 2, 1, 1, 2, 3, 1, 1, 1, 1, 1, 2, 2, 1, 3, 1, 1, 3, 3, 1, 3, 3, 2, 1, 1, 2, 3, 2, 2, 1, 1, 2, 3, 1, 1, 1, 3, 1, 2, 2, 1, 1, 2, 1, 2, 1, 1, 1, 1, 1, 2, 1, 1, 1, 2, 1, 2, 1, 2, 1, 2, 2, 1, 2, 2, 1, 2, 1, 2, 1, 1, 2, 2, 1, 1, 1, 1, 2, 2, 2, 2, 1, 2, 1, 2, 1, 1, 1 |\n",
       "| predictor | 3, 2, 3, 3, 2, 3, 1, 2, 3, 1, 1, 3, 3, 1, 1, 3, 1, 1, 1, 2, 1, 2, 2, 1, 2, 2, 2, 2, 2, 1, 1, 1, 1, 2, 1, 2, 1, 1, 1, 1, 3, 1, 3, 3, 3, 2, 3, 1, 1, 3, 2, 3, 2, 3, 2, 3, 1, 3, 1, 3, 1, 3, 2, 3, 1, 1, 3, 1, 1, 2, 2, 2, 3, 1, 1, 2, 2, 2, 2, 1, 1, 2, 2, 2, 1, 1, 1, 1, 1, 2, 2, 2, 1, 1, 3, 1, 2, 1, 3, 1, 3, 3, 2, 2, 2, 1, 3, 1, 1, 1, 2, 3, 2, 1, 3, 1, 3, 1, 1, 1, 2, 1, 1, 3, 2, 3, 3, 3, 3, 3, 2, 3, 1, 3, 3, 1, 2, 2, 2, 2, 1, 1, 2, 1, 2, 1, 1, 2, 2, 1, 1, 1, 2, 2, 2, 1, 2, 2 | 2, 3, 3, 2, 1, 2, 3, 1, 1, 2, 2, 2, 2, 2, 2, 1, 1, 2, 2, 1, 2, 2, 1, 2, 2, 2, 2, 2, 1, 2, 2, 1, 2, 3, 2, 2, 1, 3, 1, 3, 3, 2, 3, 1, 1, 3, 3, 2, 1, 3, 2, 2, 2, 3, 1, 1, 3, 1, 2, 2, 1, 2, 2, 2, 2, 2, 2, 2, 2, 2, 1, 1, 2, 2, 1, 2, 2, 2, 1, 2, 1, 2, 2, 1, 1, 2, 1, 1, 2, 2, 2, 3, 2, 3, 2, 1, 1, 3, 1, 1, 2, 1, 2, 2, 1, 1, 2, 3, 3, 3, 3, 2, 1, 3, 1, 2, 3, 3, 1, 2, 2, 1, 2, 2, 2, 1, 2, 2, 2, 2, 1, 1, 2, 2, 2, 2, 1                                                                |\n",
       "| response | 1, 1, 3, 3, 3, 3, 3, 1, 1, 3, 1, 1, 1, 1, 1, 1, 1, 1, 1, 1, 1, 1, 1, 1, 1, 1, 1, 1, 1, 1, 3, 1, 1, 1, 1, 1, 1, 1, 1, 1, 1, 1, 1, 3, 3, 3, 3, 1, 3, 1, 1, 3, 1, 1, 3, 1, 3, 3, 1, 1, 3, 1, 1, 1, 1, 1, 1, 1, 3, 1, 3, 1, 1, 1, 1, 1, 1, 1, 1, 1, 1, 1, 1, 1, 1, 1, 1, 1, 1, 1, 1, 1, 3, 3, 1, 1, 3, 1, 3, 1, 1, 1, 3, 1, 1, 3, 3, 3, 3, 3, 1, 1, 1, 1, 1, 1, 1, 1, 3, 1, 1, 1, 1, 3, 1, 3, 1, 3, 3, 1, 1, 3, 1, 1, 3, 1, 1, 1, 1, 1, 1, 1, 1, 1, 1, 1, 1, 1, 1, 1, 1, 1, 1, 1, 1, 1, 1, 1 | 2, 3, 3, 2, 2, 3, 3, 3, 3, 2, 2, 2, 2, 2, 2, 2, 3, 2, 2, 2, 2, 2, 2, 2, 2, 2, 2, 2, 2, 2, 2, 2, 2, 2, 2, 2, 2, 3, 2, 3, 2, 3, 3, 2, 3, 3, 2, 3, 3, 3, 2, 2, 2, 2, 3, 2, 2, 3, 3, 2, 2, 2, 2, 2, 2, 2, 2, 2, 2, 2, 2, 2, 2, 2, 2, 2, 2, 2, 2, 2, 2, 2, 2, 2, 2, 2, 3, 3, 2, 2, 3, 2, 2, 3, 3, 2, 3, 3, 3, 3, 2, 3, 2, 2, 3, 2, 2, 3, 3, 3, 3, 2, 2, 3, 2, 2, 2, 3, 2, 2, 2, 2, 2, 2, 2, 2, 2, 2, 2, 2, 2, 2, 2, 2, 2, 2, 2                                                                |\n",
       "| levels | Accettabile, Ottimo      | Complicato, Ottimo       |\n",
       "\n"
      ],
      "text/plain": [
       "                   [,1]                                                                                                                                                                                                                                                                                                                                                                                                                                                                                                                                                                                                                                                                                                                                                                                                                                                                                                                                                                                                                                                                                                                                                                                                                                                                                                                                                                                                                    \n",
       "percent            FALSE                                                                                                                                                                                                                                                                                                                                                                                                                                                                                                                                                                                                                                                                                                                                                                                                                                                                                                                                                                                                                                                                                                                                                                                                                                                                                                                                                                                                                   \n",
       "sensitivities      1.0000000, 0.6111111, 0.4444444, 0.0000000                                                                                                                                                                                                                                                                                                                                                                                                                                                                                                                                                                                                                                                                                                                                                                                                                                                                                                                                                                                                                                                                                                                                                                                                                                                                                                                                                                              \n",
       "specificities      0.0000000, 0.4180328, 0.8032787, 1.0000000                                                                                                                                                                                                                                                                                                                                                                                                                                                                                                                                                                                                                                                                                                                                                                                                                                                                                                                                                                                                                                                                                                                                                                                                                                                                                                                                                                              \n",
       "thresholds         -Inf, 1.5, 2.5, Inf                                                                                                                                                                                                                                                                                                                                                                                                                                                                                                                                                                                                                                                                                                                                                                                                                                                                                                                                                                                                                                                                                                                                                                                                                                                                                                                                                                                                     \n",
       "direction          <                                                                                                                                                                                                                                                                                                                                                                                                                                                                                                                                                                                                                                                                                                                                                                                                                                                                                                                                                                                                                                                                                                                                                                                                                                                                                                                                                                                                                       \n",
       "cases              3, 3, 2, 3, 1, 1, 1, 3, 3, 2, 3, 1, 3, 2, 1, 3, 1, 1, 2, 1, 1, 2, 3, 2, 1, 3, 1, 1, 1, 1, 3, 3, 3, 3, 3, 3                                                                                                                                                                                                                                                                                                                                                                                                                                                                                                                                                                                                                                                                                                                                                                                                                                                                                                                                                                                                                                                                                                                                                                                                                                                                                                              \n",
       "controls           3, 2, 2, 3, 1, 3, 3, 1, 1, 3, 1, 1, 1, 2, 1, 2, 2, 1, 2, 2, 2, 2, 2, 1, 1, 1, 2, 1, 2, 1, 1, 1, 1, 3, 1, 3, 1, 3, 2, 2, 3, 3, 1, 3, 3, 2, 3, 1, 1, 3, 1, 2, 2, 3, 1, 1, 2, 2, 2, 2, 1, 1, 2, 2, 2, 1, 1, 1, 1, 1, 2, 2, 2, 3, 1, 1, 1, 3, 3, 2, 2, 2, 3, 2, 1, 3, 1, 3, 1, 1, 2, 1, 1, 2, 3, 3, 2, 1, 3, 1, 2, 2, 2, 2, 1, 1, 2, 1, 2, 1, 1, 2, 2, 1, 1, 1, 2, 2, 2, 1, 2, 2                                                                                                                                                                                                                                                                                                                                                                                                                                                                                                                                                                                                                                                                                                                                                                                                                                                                                                                                                                                                                                            \n",
       "fun.sesp           function (thresholds, controls, cases, direction) , {,     ncontrols <- length(controls),     ncases <- length(cases),     predictor <- c(controls, cases),     response <- c(rep(0, length(controls)), rep(1, length(cases))),     decr <- direction == \"<\",     predictor.order <- order(predictor, decreasing = decr),     predictor.sorted <- predictor[predictor.order],     response.sorted <- response[predictor.order],     tp <- cumsum(response.sorted == 1),     fp <- cumsum(response.sorted == 0),     se <- tp/ncases,     sp <- (ncontrols - fp)/ncontrols,     dups.pred <- rev(duplicated(rev(predictor.sorted))),     dups.sesp <- duplicated(se) & duplicated(sp),     dups <- dups.pred | dups.sesp,     if (sum(!dups) != length(thresholds) - 1) {,         sessionInfo <- sessionInfo(),         save(thresholds, controls, cases, direction, sessionInfo, ,             file = \"pROC_bug.RData\"),         stop(sprintf(\"pROC: fast algorithm computed an incorrect number of sensitivities and specificities. Diagnostic data saved in pROC_bug.RData. Please report this bug to <%s>.\", ,             utils::packageDescription(\"pROC\")$BugReports)),     },     if (direction == \"<\") {,         se <- rev(c(0, se[!dups])),         sp <- rev(c(1, sp[!dups])),     },     else {,         se <- c(0, se[!dups]),         sp <- c(1, sp[!dups]),     },     return(list(se = se, sp = sp)), }\n",
       "call               roc.default(response = response, predictor = predictor, levels = X, ,     percent = percent, direction = ..1, auc = FALSE, ci = FALSE)                                                                                                                                                                                                                                                                                                                                                                                                                                                                                                                                                                                                                                                                                                                                                                                                                                                                                                                                                                                                                                                                                                                                                                                                                                                                                  \n",
       "original.predictor 3, 2, NA, NA, 2, NA, 3, NA, 3, 2, 1, NA, 2, NA, 3, 1, 2, 3, NA, 1, NA, NA, 1, 3, NA, 3, 1, 1, 3, 2, 1, 1, 1, 2, 2, 1, 2, NA, 2, 2, 2, 2, 1, 2, 2, 2, 2, 1, 2, 2, NA, 1, 1, 2, 1, 2, 1, 2, 1, 2, 1, NA, 2, NA, NA, 2, 2, 2, 2, 1, 2, 1, 1, 1, 2, 1, 1, NA, 2, NA, 2, NA, NA, 3, 1, 2, 3, 2, 1, NA, 3, 2, 1, NA, NA, 3, 1, 3, 3, NA, 2, NA, 3, 1, 1, 1, 3, NA, 2, 3, 2, 3, 3, 2, 3, NA, 1, NA, 3, 2, 2, 1, 3, 2, NA, 3, 1, 3, 1, 2, 3, 1, 1, 3, 1, 3, 1, 2, 2, 2, 2, NA, 1, 2, 3, 2, 2, NA, NA, 2, 2, 1, NA, 1, NA, NA, 2, 2, 2, 2, 2, 2, 1, 2, NA, NA, 1, 2, 1, 2, 1, 2, 2, 2, NA, 2, 1, 2, 1, 1, 1, 1, NA, 1, 2, 2, 2, NA, 1, 2, NA, 2, 1, NA, 2, 2, 1, 1, NA, 2, 2, 1, 1, 3, NA, 1, 2, 2, 2, 3, 1, 2, 3, 1, 3, NA, 3, 2, 2, 1, 2, 1, 3, NA, 1, 1, 2, 1, 2, 3, 2, 1, 3, 1, 2, 3, 1, 2, 1, 1, 2, NA, 1, 1, 1, 2, NA, 3, 2, NA, 3, NA, 3, 3, 3, 2, 3, 2, 1, 3, 1, 2, 1, NA, 3, NA, NA, 3, NA, 3, 1, 1, 2, 2, 2, NA, 2, 2, 2, NA, 1, NA, 1, 1, 2, NA, 1, 2, NA, 2, 2, 2, 1, NA, 1, 1, NA, 2, 2, 2, 2, 2, 1, NA, 2, 1, 1, 1, 2, 2, 1, 2, 2, 2, 2, 2, NA, 1, 1, 2, 2                                                                                                                                                                                                                                                                                                                                                         \n",
       "original.response  1, 1, 2, 1, 2, 2, 3, 3, 3, 2, 2, 3, 3, 1, 3, 3, 1, 1, 2, 3, 1, 3, 1, 1, 2, 1, 1, 1, 1, 2, 1, 1, 1, 1, 2, 1, 1, 1, 1, 2, 2, 2, 1, 1, 1, 2, 1, 2, 1, 1, 2, 1, 3, 2, 1, 2, 2, 2, 1, 2, 2, 2, 2, 2, 2, 1, 2, 2, 2, 1, 1, 1, 1, 1, 2, 1, 2, 2, 2, 2, 2, 1, 2, 1, 2, 2, 2, 2, 1, 2, 1, 2, 2, 1, 1, 3, 2, 3, 2, 1, 3, 1, 3, 2, 1, 3, 1, 1, 1, 3, 1, 2, 1, 3, 1, 1, 3, 1, 3, 2, 2, 1, 1, 2, 2, 2, 3, 1, 2, 1, 1, 1, 1, 1, 1, 2, 3, 1, 3, 2, 1, 2, 2, 2, 1, 2, 2, 1, 2, 2, 2, 1, 2, 1, 1, 2, 1, 2, 2, 1, 1, 1, 1, 2, 1, 1, 1, 2, 2, 1, 2, 1, 1, 2, 1, 2, 2, 2, 1, 1, 1, 1, 1, 1, 1, 2, 2, 1, 2, 1, 3, 2, 2, 2, 2, 2, 2, 2, 1, 2, 1, 3, 3, 1, 1, 1, 2, 2, 3, 2, 1, 2, 3, 1, 1, 3, 1, 3, 1, 2, 1, 3, 3, 1, 3, 3, 2, 3, 1, 1, 1, 1, 1, 1, 2, 1, 1, 2, 3, 1, 1, 1, 1, 1, 2, 2, 1, 3, 1, 1, 3, 3, 1, 3, 3, 2, 1, 1, 2, 3, 2, 2, 1, 1, 2, 3, 1, 1, 1, 3, 1, 2, 2, 1, 1, 2, 1, 2, 1, 1, 1, 1, 1, 2, 1, 1, 1, 2, 1, 2, 1, 2, 1, 2, 2, 1, 2, 2, 1, 2, 1, 2, 1, 1, 2, 2, 1, 1, 1, 1, 2, 2, 2, 2, 1, 2, 1, 2, 1, 1, 1                                                                                                                                                                                                                                                                                                                                                                                                                       \n",
       "predictor          3, 2, 3, 3, 2, 3, 1, 2, 3, 1, 1, 3, 3, 1, 1, 3, 1, 1, 1, 2, 1, 2, 2, 1, 2, 2, 2, 2, 2, 1, 1, 1, 1, 2, 1, 2, 1, 1, 1, 1, 3, 1, 3, 3, 3, 2, 3, 1, 1, 3, 2, 3, 2, 3, 2, 3, 1, 3, 1, 3, 1, 3, 2, 3, 1, 1, 3, 1, 1, 2, 2, 2, 3, 1, 1, 2, 2, 2, 2, 1, 1, 2, 2, 2, 1, 1, 1, 1, 1, 2, 2, 2, 1, 1, 3, 1, 2, 1, 3, 1, 3, 3, 2, 2, 2, 1, 3, 1, 1, 1, 2, 3, 2, 1, 3, 1, 3, 1, 1, 1, 2, 1, 1, 3, 2, 3, 3, 3, 3, 3, 2, 3, 1, 3, 3, 1, 2, 2, 2, 2, 1, 1, 2, 1, 2, 1, 1, 2, 2, 1, 1, 1, 2, 2, 2, 1, 2, 2                                                                                                                                                                                                                                                                                                                                                                                                                                                                                                                                                                                                                                                                                                                                                                                                                                                                                                                                \n",
       "response           1, 1, 3, 3, 3, 3, 3, 1, 1, 3, 1, 1, 1, 1, 1, 1, 1, 1, 1, 1, 1, 1, 1, 1, 1, 1, 1, 1, 1, 1, 3, 1, 1, 1, 1, 1, 1, 1, 1, 1, 1, 1, 1, 3, 3, 3, 3, 1, 3, 1, 1, 3, 1, 1, 3, 1, 3, 3, 1, 1, 3, 1, 1, 1, 1, 1, 1, 1, 3, 1, 3, 1, 1, 1, 1, 1, 1, 1, 1, 1, 1, 1, 1, 1, 1, 1, 1, 1, 1, 1, 1, 1, 3, 3, 1, 1, 3, 1, 3, 1, 1, 1, 3, 1, 1, 3, 3, 3, 3, 3, 1, 1, 1, 1, 1, 1, 1, 1, 3, 1, 1, 1, 1, 3, 1, 3, 1, 3, 3, 1, 1, 3, 1, 1, 3, 1, 1, 1, 1, 1, 1, 1, 1, 1, 1, 1, 1, 1, 1, 1, 1, 1, 1, 1, 1, 1, 1, 1                                                                                                                                                                                                                                                                                                                                                                                                                                                                                                                                                                                                                                                                                                                                                                                                                                                                                                                                \n",
       "levels             Accettabile, Ottimo                                                                                                                                                                                                                                                                                                                                                                                                                                                                                                                                                                                                                                                                                                                                                                                                                                                                                                                                                                                                                                                                                                                                                                                                                                                                                                                                                                                                     \n",
       "                   [,2]                                                                                                                                                                                                                                                                                                                                                                                                                                                                                                                                                                                                                                                                                                                                                                                                                                                                                                                                                                                                                                                                                                                                                                                                                                                                                                                                                                                                                    \n",
       "percent            FALSE                                                                                                                                                                                                                                                                                                                                                                                                                                                                                                                                                                                                                                                                                                                                                                                                                                                                                                                                                                                                                                                                                                                                                                                                                                                                                                                                                                                                                   \n",
       "sensitivities      1.0000000, 0.6111111, 0.4444444, 0.0000000                                                                                                                                                                                                                                                                                                                                                                                                                                                                                                                                                                                                                                                                                                                                                                                                                                                                                                                                                                                                                                                                                                                                                                                                                                                                                                                                                                              \n",
       "specificities      0.0000000, 0.2772277, 0.9306931, 1.0000000                                                                                                                                                                                                                                                                                                                                                                                                                                                                                                                                                                                                                                                                                                                                                                                                                                                                                                                                                                                                                                                                                                                                                                                                                                                                                                                                                                              \n",
       "thresholds         -Inf, 1.5, 2.5, Inf                                                                                                                                                                                                                                                                                                                                                                                                                                                                                                                                                                                                                                                                                                                                                                                                                                                                                                                                                                                                                                                                                                                                                                                                                                                                                                                                                                                                     \n",
       "direction          <                                                                                                                                                                                                                                                                                                                                                                                                                                                                                                                                                                                                                                                                                                                                                                                                                                                                                                                                                                                                                                                                                                                                                                                                                                                                                                                                                                                                                       \n",
       "cases              3, 3, 2, 3, 1, 1, 1, 3, 3, 2, 3, 1, 3, 2, 1, 3, 1, 1, 2, 1, 1, 2, 3, 2, 1, 3, 1, 1, 1, 1, 3, 3, 3, 3, 3, 3                                                                                                                                                                                                                                                                                                                                                                                                                                                                                                                                                                                                                                                                                                                                                                                                                                                                                                                                                                                                                                                                                                                                                                                                                                                                                                              \n",
       "controls           2, 2, 1, 2, 2, 2, 2, 2, 2, 1, 2, 2, 1, 2, 2, 1, 2, 2, 2, 2, 2, 1, 2, 2, 1, 2, 3, 2, 2, 1, 1, 3, 1, 3, 2, 2, 2, 3, 1, 3, 2, 1, 2, 2, 2, 2, 2, 2, 2, 2, 2, 1, 1, 2, 2, 1, 2, 2, 2, 1, 2, 1, 2, 2, 1, 1, 2, 2, 2, 3, 2, 1, 2, 2, 2, 1, 2, 2, 1, 1, 2, 3, 1, 2, 2, 1, 2, 2, 2, 1, 2, 2, 2, 2, 1, 1, 2, 2, 2, 2, 1                                                                                                                                                                                                                                                                                                                                                                                                                                                                                                                                                                                                                                                                                                                                                                                                                                                                                                                                                                                                                                                                                                           \n",
       "fun.sesp           function (thresholds, controls, cases, direction) , {,     ncontrols <- length(controls),     ncases <- length(cases),     predictor <- c(controls, cases),     response <- c(rep(0, length(controls)), rep(1, length(cases))),     decr <- direction == \"<\",     predictor.order <- order(predictor, decreasing = decr),     predictor.sorted <- predictor[predictor.order],     response.sorted <- response[predictor.order],     tp <- cumsum(response.sorted == 1),     fp <- cumsum(response.sorted == 0),     se <- tp/ncases,     sp <- (ncontrols - fp)/ncontrols,     dups.pred <- rev(duplicated(rev(predictor.sorted))),     dups.sesp <- duplicated(se) & duplicated(sp),     dups <- dups.pred | dups.sesp,     if (sum(!dups) != length(thresholds) - 1) {,         sessionInfo <- sessionInfo(),         save(thresholds, controls, cases, direction, sessionInfo, ,             file = \"pROC_bug.RData\"),         stop(sprintf(\"pROC: fast algorithm computed an incorrect number of sensitivities and specificities. Diagnostic data saved in pROC_bug.RData. Please report this bug to <%s>.\", ,             utils::packageDescription(\"pROC\")$BugReports)),     },     if (direction == \"<\") {,         se <- rev(c(0, se[!dups])),         sp <- rev(c(1, sp[!dups])),     },     else {,         se <- c(0, se[!dups]),         sp <- c(1, sp[!dups]),     },     return(list(se = se, sp = sp)), }\n",
       "call               roc.default(response = response, predictor = predictor, levels = X, ,     percent = percent, direction = ..1, auc = FALSE, ci = FALSE)                                                                                                                                                                                                                                                                                                                                                                                                                                                                                                                                                                                                                                                                                                                                                                                                                                                                                                                                                                                                                                                                                                                                                                                                                                                                                  \n",
       "original.predictor 3, 2, NA, NA, 2, NA, 3, NA, 3, 2, 1, NA, 2, NA, 3, 1, 2, 3, NA, 1, NA, NA, 1, 3, NA, 3, 1, 1, 3, 2, 1, 1, 1, 2, 2, 1, 2, NA, 2, 2, 2, 2, 1, 2, 2, 2, 2, 1, 2, 2, NA, 1, 1, 2, 1, 2, 1, 2, 1, 2, 1, NA, 2, NA, NA, 2, 2, 2, 2, 1, 2, 1, 1, 1, 2, 1, 1, NA, 2, NA, 2, NA, NA, 3, 1, 2, 3, 2, 1, NA, 3, 2, 1, NA, NA, 3, 1, 3, 3, NA, 2, NA, 3, 1, 1, 1, 3, NA, 2, 3, 2, 3, 3, 2, 3, NA, 1, NA, 3, 2, 2, 1, 3, 2, NA, 3, 1, 3, 1, 2, 3, 1, 1, 3, 1, 3, 1, 2, 2, 2, 2, NA, 1, 2, 3, 2, 2, NA, NA, 2, 2, 1, NA, 1, NA, NA, 2, 2, 2, 2, 2, 2, 1, 2, NA, NA, 1, 2, 1, 2, 1, 2, 2, 2, NA, 2, 1, 2, 1, 1, 1, 1, NA, 1, 2, 2, 2, NA, 1, 2, NA, 2, 1, NA, 2, 2, 1, 1, NA, 2, 2, 1, 1, 3, NA, 1, 2, 2, 2, 3, 1, 2, 3, 1, 3, NA, 3, 2, 2, 1, 2, 1, 3, NA, 1, 1, 2, 1, 2, 3, 2, 1, 3, 1, 2, 3, 1, 2, 1, 1, 2, NA, 1, 1, 1, 2, NA, 3, 2, NA, 3, NA, 3, 3, 3, 2, 3, 2, 1, 3, 1, 2, 1, NA, 3, NA, NA, 3, NA, 3, 1, 1, 2, 2, 2, NA, 2, 2, 2, NA, 1, NA, 1, 1, 2, NA, 1, 2, NA, 2, 2, 2, 1, NA, 1, 1, NA, 2, 2, 2, 2, 2, 1, NA, 2, 1, 1, 1, 2, 2, 1, 2, 2, 2, 2, 2, NA, 1, 1, 2, 2                                                                                                                                                                                                                                                                                                                                                         \n",
       "original.response  1, 1, 2, 1, 2, 2, 3, 3, 3, 2, 2, 3, 3, 1, 3, 3, 1, 1, 2, 3, 1, 3, 1, 1, 2, 1, 1, 1, 1, 2, 1, 1, 1, 1, 2, 1, 1, 1, 1, 2, 2, 2, 1, 1, 1, 2, 1, 2, 1, 1, 2, 1, 3, 2, 1, 2, 2, 2, 1, 2, 2, 2, 2, 2, 2, 1, 2, 2, 2, 1, 1, 1, 1, 1, 2, 1, 2, 2, 2, 2, 2, 1, 2, 1, 2, 2, 2, 2, 1, 2, 1, 2, 2, 1, 1, 3, 2, 3, 2, 1, 3, 1, 3, 2, 1, 3, 1, 1, 1, 3, 1, 2, 1, 3, 1, 1, 3, 1, 3, 2, 2, 1, 1, 2, 2, 2, 3, 1, 2, 1, 1, 1, 1, 1, 1, 2, 3, 1, 3, 2, 1, 2, 2, 2, 1, 2, 2, 1, 2, 2, 2, 1, 2, 1, 1, 2, 1, 2, 2, 1, 1, 1, 1, 2, 1, 1, 1, 2, 2, 1, 2, 1, 1, 2, 1, 2, 2, 2, 1, 1, 1, 1, 1, 1, 1, 2, 2, 1, 2, 1, 3, 2, 2, 2, 2, 2, 2, 2, 1, 2, 1, 3, 3, 1, 1, 1, 2, 2, 3, 2, 1, 2, 3, 1, 1, 3, 1, 3, 1, 2, 1, 3, 3, 1, 3, 3, 2, 3, 1, 1, 1, 1, 1, 1, 2, 1, 1, 2, 3, 1, 1, 1, 1, 1, 2, 2, 1, 3, 1, 1, 3, 3, 1, 3, 3, 2, 1, 1, 2, 3, 2, 2, 1, 1, 2, 3, 1, 1, 1, 3, 1, 2, 2, 1, 1, 2, 1, 2, 1, 1, 1, 1, 1, 2, 1, 1, 1, 2, 1, 2, 1, 2, 1, 2, 2, 1, 2, 2, 1, 2, 1, 2, 1, 1, 2, 2, 1, 1, 1, 1, 2, 2, 2, 2, 1, 2, 1, 2, 1, 1, 1                                                                                                                                                                                                                                                                                                                                                                                                                       \n",
       "predictor          2, 3, 3, 2, 1, 2, 3, 1, 1, 2, 2, 2, 2, 2, 2, 1, 1, 2, 2, 1, 2, 2, 1, 2, 2, 2, 2, 2, 1, 2, 2, 1, 2, 3, 2, 2, 1, 3, 1, 3, 3, 2, 3, 1, 1, 3, 3, 2, 1, 3, 2, 2, 2, 3, 1, 1, 3, 1, 2, 2, 1, 2, 2, 2, 2, 2, 2, 2, 2, 2, 1, 1, 2, 2, 1, 2, 2, 2, 1, 2, 1, 2, 2, 1, 1, 2, 1, 1, 2, 2, 2, 3, 2, 3, 2, 1, 1, 3, 1, 1, 2, 1, 2, 2, 1, 1, 2, 3, 3, 3, 3, 2, 1, 3, 1, 2, 3, 3, 1, 2, 2, 1, 2, 2, 2, 1, 2, 2, 2, 2, 1, 1, 2, 2, 2, 2, 1                                                                                                                                                                                                                                                                                                                                                                                                                                                                                                                                                                                                                                                                                                                                                                                                                                                                                                                                                                                               \n",
       "response           2, 3, 3, 2, 2, 3, 3, 3, 3, 2, 2, 2, 2, 2, 2, 2, 3, 2, 2, 2, 2, 2, 2, 2, 2, 2, 2, 2, 2, 2, 2, 2, 2, 2, 2, 2, 2, 3, 2, 3, 2, 3, 3, 2, 3, 3, 2, 3, 3, 3, 2, 2, 2, 2, 3, 2, 2, 3, 3, 2, 2, 2, 2, 2, 2, 2, 2, 2, 2, 2, 2, 2, 2, 2, 2, 2, 2, 2, 2, 2, 2, 2, 2, 2, 2, 2, 3, 3, 2, 2, 3, 2, 2, 3, 3, 2, 3, 3, 3, 3, 2, 3, 2, 2, 3, 2, 2, 3, 3, 3, 3, 2, 2, 3, 2, 2, 2, 3, 2, 2, 2, 2, 2, 2, 2, 2, 2, 2, 2, 2, 2, 2, 2, 2, 2, 2, 2                                                                                                                                                                                                                                                                                                                                                                                                                                                                                                                                                                                                                                                                                                                                                                                                                                                                                                                                                                                               \n",
       "levels             Complicato, Ottimo                                                                                                                                                                                                                                                                                                                                                                                                                                                                                                                                                                                                                                                                                                                                                                                                                                                                                                                                                                                                                                                                                                                                                                                                                                                                                                                                                                                                      "
      ]
     },
     "metadata": {},
     "output_type": "display_data"
    },
    {
     "data": {
      "image/png": "[encoded data removed]",
      "text/plain": [
       "plot without title"
      ]
     },
     "metadata": {
      "image/png": {
       "height": 500,
       "width": 1000
      }
     },
     "output_type": "display_data"
    }
   ],
   "source": [
    "rs <- roc_logitBoost[['rocs']]\n",
    "plot.roc(rs[[1]])\n",
    "sapply(2:length(rs),function(i) lines.roc(rs[[i]],col=i))"
   ]
  },
  {
   "cell_type": "code",
   "execution_count": 12,
   "id": "c2e86efa",
   "metadata": {},
   "outputs": [
    {
     "data": {
      "text/html": [
       "<table>\n",
       "<thead><tr><th scope=col>Accettabile</th><th scope=col>Complicato</th><th scope=col>Ottimo</th></tr></thead>\n",
       "<tbody>\n",
       "\t<tr><td>0.2671534035</td><td>0.0066483545</td><td>0.7261982421</td></tr>\n",
       "\t<tr><td>0.0453125755</td><td>0.9545695284</td><td>0.0001178961</td></tr>\n",
       "\t<tr><td>0.4594864455</td><td>0.4594864455</td><td>0.0810271091</td></tr>\n",
       "\t<tr><td>0.4996886420</td><td>0.4996886420</td><td>0.0006227161</td></tr>\n",
       "\t<tr><td>0.2119415576</td><td>0.7827840847</td><td>0.0052743577</td></tr>\n",
       "\t<tr><td>0.3333333333</td><td>0.3333333333</td><td>0.3333333333</td></tr>\n",
       "\t<tr><td>0.4893044387</td><td>0.0004679755</td><td>0.5102275858</td></tr>\n",
       "\t<tr><td>0.4842913146</td><td>0.0314173708</td><td>0.4842913146</td></tr>\n",
       "\t<tr><td>0.0452785007</td><td>0.0452785007</td><td>0.9094429985</td></tr>\n",
       "\t<tr><td>0.0455298258</td><td>0.9535955461</td><td>0.0008746281</td></tr>\n",
       "\t<tr><td>0.7392701272</td><td>0.1303649364</td><td>0.1303649364</td></tr>\n",
       "\t<tr><td>0.0810271091</td><td>0.4594864455</td><td>0.4594864455</td></tr>\n",
       "\t<tr><td>0.2189705115</td><td>0.7755802090</td><td>0.0054492796</td></tr>\n",
       "\t<tr><td>0.4991545457</td><td>0.0016909085</td><td>0.4991545457</td></tr>\n",
       "\t<tr><td>0.0455298258</td><td>0.0008746281</td><td>0.9535955461</td></tr>\n",
       "\t<tr><td>0.8476513603</td><td>0.0028714572</td><td>0.1494771825</td></tr>\n",
       "\t<tr><td>0.2189705115</td><td>0.7755802090</td><td>0.0054492796</td></tr>\n",
       "\t<tr><td>0.2129116675</td><td>0.0007212479</td><td>0.7863670846</td></tr>\n",
       "\t<tr><td>0.4670447709</td><td>0.0659104581</td><td>0.4670447709</td></tr>\n",
       "\t<tr><td>0.8324809641</td><td>0.0207170430</td><td>0.1468019929</td></tr>\n",
       "\t<tr><td>0.4594864455</td><td>0.0810271091</td><td>0.4594864455</td></tr>\n",
       "\t<tr><td>0.4594864455</td><td>0.0810271091</td><td>0.4594864455</td></tr>\n",
       "\t<tr><td>0.8324809641</td><td>0.0207170430</td><td>0.1468019929</td></tr>\n",
       "\t<tr><td>0.2201480421</td><td>0.0001010074</td><td>0.7797509505</td></tr>\n",
       "\t<tr><td>0.4938549856</td><td>0.4938549856</td><td>0.0122900287</td></tr>\n",
       "\t<tr><td>0.0052743577</td><td>0.2119415576</td><td>0.7827840847</td></tr>\n",
       "\t<tr><td>0.9379815201</td><td>0.0011689203</td><td>0.0608495597</td></tr>\n",
       "\t<tr><td>0.9820192025</td><td>0.0089903987</td><td>0.0089903987</td></tr>\n",
       "\t<tr><td>0.1494771825</td><td>0.0028714572</td><td>0.8476513603</td></tr>\n",
       "\t<tr><td>0.0009102219</td><td>0.7303931531</td><td>0.2686966250</td></tr>\n",
       "\t<tr><td>...</td><td>...</td><td>...</td></tr>\n",
       "\t<tr><td>0.26893693  </td><td>0.73104637  </td><td>1.670114e-05</td></tr>\n",
       "\t<tr><td>0.73927013  </td><td>0.13036494  </td><td>1.303649e-01</td></tr>\n",
       "\t<tr><td>0.49995781  </td><td>0.49995781  </td><td>8.438733e-05</td></tr>\n",
       "\t<tr><td>0.93107452  </td><td>0.06040148  </td><td>8.523999e-03</td></tr>\n",
       "\t<tr><td>0.83248096  </td><td>0.14680199  </td><td>2.071704e-02</td></tr>\n",
       "\t<tr><td>0.49999429  </td><td>0.49999429  </td><td>1.142264e-05</td></tr>\n",
       "\t<tr><td>0.22016727  </td><td>0.77981906  </td><td>1.367252e-05</td></tr>\n",
       "\t<tr><td>0.04738271  </td><td>0.95170707  </td><td>9.102219e-04</td></tr>\n",
       "\t<tr><td>0.21181008  </td><td>0.78747240  </td><td>7.175162e-04</td></tr>\n",
       "\t<tr><td>0.21304451  </td><td>0.78685774  </td><td>9.774819e-05</td></tr>\n",
       "\t<tr><td>0.04527850  </td><td>0.90944300  </td><td>4.527850e-02</td></tr>\n",
       "\t<tr><td>0.73096838  </td><td>0.26890824  </td><td>1.233794e-04</td></tr>\n",
       "\t<tr><td>0.48429131  </td><td>0.48429131  </td><td>3.141737e-02</td></tr>\n",
       "\t<tr><td>0.21304451  </td><td>0.78685774  </td><td>9.774819e-05</td></tr>\n",
       "\t<tr><td>0.73039315  </td><td>0.26869662  </td><td>9.102219e-04</td></tr>\n",
       "\t<tr><td>0.95170707  </td><td>0.04738271  </td><td>9.102219e-04</td></tr>\n",
       "\t<tr><td>0.73039315  </td><td>0.26869662  </td><td>9.102219e-04</td></tr>\n",
       "\t<tr><td>0.25676416  </td><td>0.69795734  </td><td>4.527850e-02</td></tr>\n",
       "\t<tr><td>0.14680199  </td><td>0.83248096  </td><td>2.071704e-02</td></tr>\n",
       "\t<tr><td>0.73039315  </td><td>0.26869662  </td><td>9.102219e-04</td></tr>\n",
       "\t<tr><td>0.21194156  </td><td>0.78278408  </td><td>5.274358e-03</td></tr>\n",
       "\t<tr><td>0.22014804  </td><td>0.77975095  </td><td>1.010074e-04</td></tr>\n",
       "\t<tr><td>0.21897051  </td><td>0.77558021  </td><td>5.449280e-03</td></tr>\n",
       "\t<tr><td>0.26715340  </td><td>0.72619824  </td><td>6.648354e-03</td></tr>\n",
       "\t<tr><td>0.21291167  </td><td>0.78636708  </td><td>7.212479e-04</td></tr>\n",
       "\t<tr><td>0.49968864  </td><td>0.49968864  </td><td>6.227161e-04</td></tr>\n",
       "\t<tr><td>0.88515491  </td><td>0.05742255  </td><td>5.742255e-02</td></tr>\n",
       "\t<tr><td>0.94624108  </td><td>0.04711057  </td><td>6.648354e-03</td></tr>\n",
       "\t<tr><td>0.22014804  </td><td>0.77975095  </td><td>1.010074e-04</td></tr>\n",
       "\t<tr><td>0.26869662  </td><td>0.73039315  </td><td>9.102219e-04</td></tr>\n",
       "</tbody>\n",
       "</table>\n"
      ],
      "text/latex": [
       "\\begin{tabular}{r|lll}\n",
       " Accettabile & Complicato & Ottimo\\\\\n",
       "\\hline\n",
       "\t 0.2671534035 & 0.0066483545 & 0.7261982421\\\\\n",
       "\t 0.0453125755 & 0.9545695284 & 0.0001178961\\\\\n",
       "\t 0.4594864455 & 0.4594864455 & 0.0810271091\\\\\n",
       "\t 0.4996886420 & 0.4996886420 & 0.0006227161\\\\\n",
       "\t 0.2119415576 & 0.7827840847 & 0.0052743577\\\\\n",
       "\t 0.3333333333 & 0.3333333333 & 0.3333333333\\\\\n",
       "\t 0.4893044387 & 0.0004679755 & 0.5102275858\\\\\n",
       "\t 0.4842913146 & 0.0314173708 & 0.4842913146\\\\\n",
       "\t 0.0452785007 & 0.0452785007 & 0.9094429985\\\\\n",
       "\t 0.0455298258 & 0.9535955461 & 0.0008746281\\\\\n",
       "\t 0.7392701272 & 0.1303649364 & 0.1303649364\\\\\n",
       "\t 0.0810271091 & 0.4594864455 & 0.4594864455\\\\\n",
       "\t 0.2189705115 & 0.7755802090 & 0.0054492796\\\\\n",
       "\t 0.4991545457 & 0.0016909085 & 0.4991545457\\\\\n",
       "\t 0.0455298258 & 0.0008746281 & 0.9535955461\\\\\n",
       "\t 0.8476513603 & 0.0028714572 & 0.1494771825\\\\\n",
       "\t 0.2189705115 & 0.7755802090 & 0.0054492796\\\\\n",
       "\t 0.2129116675 & 0.0007212479 & 0.7863670846\\\\\n",
       "\t 0.4670447709 & 0.0659104581 & 0.4670447709\\\\\n",
       "\t 0.8324809641 & 0.0207170430 & 0.1468019929\\\\\n",
       "\t 0.4594864455 & 0.0810271091 & 0.4594864455\\\\\n",
       "\t 0.4594864455 & 0.0810271091 & 0.4594864455\\\\\n",
       "\t 0.8324809641 & 0.0207170430 & 0.1468019929\\\\\n",
       "\t 0.2201480421 & 0.0001010074 & 0.7797509505\\\\\n",
       "\t 0.4938549856 & 0.4938549856 & 0.0122900287\\\\\n",
       "\t 0.0052743577 & 0.2119415576 & 0.7827840847\\\\\n",
       "\t 0.9379815201 & 0.0011689203 & 0.0608495597\\\\\n",
       "\t 0.9820192025 & 0.0089903987 & 0.0089903987\\\\\n",
       "\t 0.1494771825 & 0.0028714572 & 0.8476513603\\\\\n",
       "\t 0.0009102219 & 0.7303931531 & 0.2686966250\\\\\n",
       "\t ... & ... & ...\\\\\n",
       "\t 0.26893693   & 0.73104637   & 1.670114e-05\\\\\n",
       "\t 0.73927013   & 0.13036494   & 1.303649e-01\\\\\n",
       "\t 0.49995781   & 0.49995781   & 8.438733e-05\\\\\n",
       "\t 0.93107452   & 0.06040148   & 8.523999e-03\\\\\n",
       "\t 0.83248096   & 0.14680199   & 2.071704e-02\\\\\n",
       "\t 0.49999429   & 0.49999429   & 1.142264e-05\\\\\n",
       "\t 0.22016727   & 0.77981906   & 1.367252e-05\\\\\n",
       "\t 0.04738271   & 0.95170707   & 9.102219e-04\\\\\n",
       "\t 0.21181008   & 0.78747240   & 7.175162e-04\\\\\n",
       "\t 0.21304451   & 0.78685774   & 9.774819e-05\\\\\n",
       "\t 0.04527850   & 0.90944300   & 4.527850e-02\\\\\n",
       "\t 0.73096838   & 0.26890824   & 1.233794e-04\\\\\n",
       "\t 0.48429131   & 0.48429131   & 3.141737e-02\\\\\n",
       "\t 0.21304451   & 0.78685774   & 9.774819e-05\\\\\n",
       "\t 0.73039315   & 0.26869662   & 9.102219e-04\\\\\n",
       "\t 0.95170707   & 0.04738271   & 9.102219e-04\\\\\n",
       "\t 0.73039315   & 0.26869662   & 9.102219e-04\\\\\n",
       "\t 0.25676416   & 0.69795734   & 4.527850e-02\\\\\n",
       "\t 0.14680199   & 0.83248096   & 2.071704e-02\\\\\n",
       "\t 0.73039315   & 0.26869662   & 9.102219e-04\\\\\n",
       "\t 0.21194156   & 0.78278408   & 5.274358e-03\\\\\n",
       "\t 0.22014804   & 0.77975095   & 1.010074e-04\\\\\n",
       "\t 0.21897051   & 0.77558021   & 5.449280e-03\\\\\n",
       "\t 0.26715340   & 0.72619824   & 6.648354e-03\\\\\n",
       "\t 0.21291167   & 0.78636708   & 7.212479e-04\\\\\n",
       "\t 0.49968864   & 0.49968864   & 6.227161e-04\\\\\n",
       "\t 0.88515491   & 0.05742255   & 5.742255e-02\\\\\n",
       "\t 0.94624108   & 0.04711057   & 6.648354e-03\\\\\n",
       "\t 0.22014804   & 0.77975095   & 1.010074e-04\\\\\n",
       "\t 0.26869662   & 0.73039315   & 9.102219e-04\\\\\n",
       "\\end{tabular}\n"
      ],
      "text/markdown": [
       "\n",
       "| Accettabile | Complicato | Ottimo |\n",
       "|---|---|---|\n",
       "| 0.2671534035 | 0.0066483545 | 0.7261982421 |\n",
       "| 0.0453125755 | 0.9545695284 | 0.0001178961 |\n",
       "| 0.4594864455 | 0.4594864455 | 0.0810271091 |\n",
       "| 0.4996886420 | 0.4996886420 | 0.0006227161 |\n",
       "| 0.2119415576 | 0.7827840847 | 0.0052743577 |\n",
       "| 0.3333333333 | 0.3333333333 | 0.3333333333 |\n",
       "| 0.4893044387 | 0.0004679755 | 0.5102275858 |\n",
       "| 0.4842913146 | 0.0314173708 | 0.4842913146 |\n",
       "| 0.0452785007 | 0.0452785007 | 0.9094429985 |\n",
       "| 0.0455298258 | 0.9535955461 | 0.0008746281 |\n",
       "| 0.7392701272 | 0.1303649364 | 0.1303649364 |\n",
       "| 0.0810271091 | 0.4594864455 | 0.4594864455 |\n",
       "| 0.2189705115 | 0.7755802090 | 0.0054492796 |\n",
       "| 0.4991545457 | 0.0016909085 | 0.4991545457 |\n",
       "| 0.0455298258 | 0.0008746281 | 0.9535955461 |\n",
       "| 0.8476513603 | 0.0028714572 | 0.1494771825 |\n",
       "| 0.2189705115 | 0.7755802090 | 0.0054492796 |\n",
       "| 0.2129116675 | 0.0007212479 | 0.7863670846 |\n",
       "| 0.4670447709 | 0.0659104581 | 0.4670447709 |\n",
       "| 0.8324809641 | 0.0207170430 | 0.1468019929 |\n",
       "| 0.4594864455 | 0.0810271091 | 0.4594864455 |\n",
       "| 0.4594864455 | 0.0810271091 | 0.4594864455 |\n",
       "| 0.8324809641 | 0.0207170430 | 0.1468019929 |\n",
       "| 0.2201480421 | 0.0001010074 | 0.7797509505 |\n",
       "| 0.4938549856 | 0.4938549856 | 0.0122900287 |\n",
       "| 0.0052743577 | 0.2119415576 | 0.7827840847 |\n",
       "| 0.9379815201 | 0.0011689203 | 0.0608495597 |\n",
       "| 0.9820192025 | 0.0089903987 | 0.0089903987 |\n",
       "| 0.1494771825 | 0.0028714572 | 0.8476513603 |\n",
       "| 0.0009102219 | 0.7303931531 | 0.2686966250 |\n",
       "| ... | ... | ... |\n",
       "| 0.26893693   | 0.73104637   | 1.670114e-05 |\n",
       "| 0.73927013   | 0.13036494   | 1.303649e-01 |\n",
       "| 0.49995781   | 0.49995781   | 8.438733e-05 |\n",
       "| 0.93107452   | 0.06040148   | 8.523999e-03 |\n",
       "| 0.83248096   | 0.14680199   | 2.071704e-02 |\n",
       "| 0.49999429   | 0.49999429   | 1.142264e-05 |\n",
       "| 0.22016727   | 0.77981906   | 1.367252e-05 |\n",
       "| 0.04738271   | 0.95170707   | 9.102219e-04 |\n",
       "| 0.21181008   | 0.78747240   | 7.175162e-04 |\n",
       "| 0.21304451   | 0.78685774   | 9.774819e-05 |\n",
       "| 0.04527850   | 0.90944300   | 4.527850e-02 |\n",
       "| 0.73096838   | 0.26890824   | 1.233794e-04 |\n",
       "| 0.48429131   | 0.48429131   | 3.141737e-02 |\n",
       "| 0.21304451   | 0.78685774   | 9.774819e-05 |\n",
       "| 0.73039315   | 0.26869662   | 9.102219e-04 |\n",
       "| 0.95170707   | 0.04738271   | 9.102219e-04 |\n",
       "| 0.73039315   | 0.26869662   | 9.102219e-04 |\n",
       "| 0.25676416   | 0.69795734   | 4.527850e-02 |\n",
       "| 0.14680199   | 0.83248096   | 2.071704e-02 |\n",
       "| 0.73039315   | 0.26869662   | 9.102219e-04 |\n",
       "| 0.21194156   | 0.78278408   | 5.274358e-03 |\n",
       "| 0.22014804   | 0.77975095   | 1.010074e-04 |\n",
       "| 0.21897051   | 0.77558021   | 5.449280e-03 |\n",
       "| 0.26715340   | 0.72619824   | 6.648354e-03 |\n",
       "| 0.21291167   | 0.78636708   | 7.212479e-04 |\n",
       "| 0.49968864   | 0.49968864   | 6.227161e-04 |\n",
       "| 0.88515491   | 0.05742255   | 5.742255e-02 |\n",
       "| 0.94624108   | 0.04711057   | 6.648354e-03 |\n",
       "| 0.22014804   | 0.77975095   | 1.010074e-04 |\n",
       "| 0.26869662   | 0.73039315   | 9.102219e-04 |\n",
       "\n"
      ],
      "text/plain": [
       "    Accettabile  Complicato   Ottimo      \n",
       "1   0.2671534035 0.0066483545 0.7261982421\n",
       "2   0.0453125755 0.9545695284 0.0001178961\n",
       "3   0.4594864455 0.4594864455 0.0810271091\n",
       "4   0.4996886420 0.4996886420 0.0006227161\n",
       "5   0.2119415576 0.7827840847 0.0052743577\n",
       "6   0.3333333333 0.3333333333 0.3333333333\n",
       "7   0.4893044387 0.0004679755 0.5102275858\n",
       "8   0.4842913146 0.0314173708 0.4842913146\n",
       "9   0.0452785007 0.0452785007 0.9094429985\n",
       "10  0.0455298258 0.9535955461 0.0008746281\n",
       "11  0.7392701272 0.1303649364 0.1303649364\n",
       "12  0.0810271091 0.4594864455 0.4594864455\n",
       "13  0.2189705115 0.7755802090 0.0054492796\n",
       "14  0.4991545457 0.0016909085 0.4991545457\n",
       "15  0.0455298258 0.0008746281 0.9535955461\n",
       "16  0.8476513603 0.0028714572 0.1494771825\n",
       "17  0.2189705115 0.7755802090 0.0054492796\n",
       "18  0.2129116675 0.0007212479 0.7863670846\n",
       "19  0.4670447709 0.0659104581 0.4670447709\n",
       "20  0.8324809641 0.0207170430 0.1468019929\n",
       "21  0.4594864455 0.0810271091 0.4594864455\n",
       "22  0.4594864455 0.0810271091 0.4594864455\n",
       "23  0.8324809641 0.0207170430 0.1468019929\n",
       "24  0.2201480421 0.0001010074 0.7797509505\n",
       "25  0.4938549856 0.4938549856 0.0122900287\n",
       "26  0.0052743577 0.2119415576 0.7827840847\n",
       "27  0.9379815201 0.0011689203 0.0608495597\n",
       "28  0.9820192025 0.0089903987 0.0089903987\n",
       "29  0.1494771825 0.0028714572 0.8476513603\n",
       "30  0.0009102219 0.7303931531 0.2686966250\n",
       "... ...          ...          ...         \n",
       "292 0.26893693   0.73104637   1.670114e-05\n",
       "293 0.73927013   0.13036494   1.303649e-01\n",
       "294 0.49995781   0.49995781   8.438733e-05\n",
       "295 0.93107452   0.06040148   8.523999e-03\n",
       "296 0.83248096   0.14680199   2.071704e-02\n",
       "297 0.49999429   0.49999429   1.142264e-05\n",
       "298 0.22016727   0.77981906   1.367252e-05\n",
       "299 0.04738271   0.95170707   9.102219e-04\n",
       "300 0.21181008   0.78747240   7.175162e-04\n",
       "301 0.21304451   0.78685774   9.774819e-05\n",
       "302 0.04527850   0.90944300   4.527850e-02\n",
       "303 0.73096838   0.26890824   1.233794e-04\n",
       "304 0.48429131   0.48429131   3.141737e-02\n",
       "305 0.21304451   0.78685774   9.774819e-05\n",
       "306 0.73039315   0.26869662   9.102219e-04\n",
       "307 0.95170707   0.04738271   9.102219e-04\n",
       "308 0.73039315   0.26869662   9.102219e-04\n",
       "309 0.25676416   0.69795734   4.527850e-02\n",
       "310 0.14680199   0.83248096   2.071704e-02\n",
       "311 0.73039315   0.26869662   9.102219e-04\n",
       "312 0.21194156   0.78278408   5.274358e-03\n",
       "313 0.22014804   0.77975095   1.010074e-04\n",
       "314 0.21897051   0.77558021   5.449280e-03\n",
       "315 0.26715340   0.72619824   6.648354e-03\n",
       "316 0.21291167   0.78636708   7.212479e-04\n",
       "317 0.49968864   0.49968864   6.227161e-04\n",
       "318 0.88515491   0.05742255   5.742255e-02\n",
       "319 0.94624108   0.04711057   6.648354e-03\n",
       "320 0.22014804   0.77975095   1.010074e-04\n",
       "321 0.26869662   0.73039315   9.102219e-04"
      ]
     },
     "metadata": {},
     "output_type": "display_data"
    }
   ],
   "source": [
    "pred_logitBoost.prob"
   ]
  },
  {
   "cell_type": "code",
   "execution_count": null,
   "id": "ff7c2e5f",
   "metadata": {},
   "outputs": [],
   "source": []
  }
 ],
 "metadata": {
  "kernelspec": {
   "display_name": "R",
   "language": "R",
   "name": "ir"
  },
  "language_info": {
   "codemirror_mode": "r",
   "file_extension": ".r",
   "mimetype": "text/x-r-source",
   "name": "R",
   "pygments_lexer": "r",
   "version": "3.6.1"
  }
 },
 "nbformat": 4,
 "nbformat_minor": 5
}
