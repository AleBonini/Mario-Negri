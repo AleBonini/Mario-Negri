{
 "cells": [
  {
   "cell_type": "code",
   "execution_count": 24,
   "id": "8640c589",
   "metadata": {},
   "outputs": [],
   "source": [
    "library(dplyr)   \n",
    "library(caret)\n",
    "library(tidyverse)\n",
    "library(recipes)\n",
    "library(pROC)\n",
    "library(caTools)\n",
    "\n",
    "\n",
    "options(repr.plot.width = 20, repr.plot.height =10, repr.plot.res = 100)\n",
    "\n",
    "\n",
    "load(file = \"C:/Users/abonini/Desktop/Analysis/Sources/LIVERTRANSPLANT/Modello/df.Rdata\")"
   ]
  },
  {
   "cell_type": "code",
   "execution_count": null,
   "id": "a8bb0596",
   "metadata": {},
   "outputs": [],
   "source": []
  },
  {
   "cell_type": "code",
   "execution_count": 25,
   "id": "83315e3f",
   "metadata": {},
   "outputs": [],
   "source": [
    "tmp <- subset(df, select = -c(deg_cat))           #hot encoding\n",
    "\n",
    "#define one-hot encoding function\n",
    "dummy <- dummyVars(\" ~ .\", data=tmp)\n",
    "\n",
    "#perform one-hot encoding on data frame\n",
    "final_df <- data.frame(predict(dummy, newdata=tmp))\n",
    "\n",
    "\n",
    "final_df$deg_cat <- df$deg_cat\n",
    "\n",
    "\n",
    "df <- final_df"
   ]
  },
  {
   "cell_type": "markdown",
   "id": "4a86b72b",
   "metadata": {},
   "source": [
    "## Data partition"
   ]
  },
  {
   "cell_type": "code",
   "execution_count": 26,
   "id": "340fc9a9",
   "metadata": {},
   "outputs": [],
   "source": [
    "#make this example reproducible\n",
    "set.seed(1)\n",
    "\n",
    "#use 70% of dataset as training set and 30% as test set\n",
    "sample <- sample.split(df$deg_cat, SplitRatio = 0.7)\n",
    "train  <- subset(df, sample == TRUE)\n",
    "test   <- subset(df, sample == FALSE)\n",
    "\n",
    "\n",
    "TrainClasses <- train$deg_cat\n",
    "TrainData <- subset(train,select= -deg_cat)\n",
    "TestClasses <- test$deg_cat\n",
    "TestData <- subset(test,select= -deg_cat)"
   ]
  },
  {
   "cell_type": "markdown",
   "id": "9558f772",
   "metadata": {},
   "source": [
    "## Model"
   ]
  },
  {
   "cell_type": "code",
   "execution_count": 49,
   "id": "36be7576",
   "metadata": {},
   "outputs": [],
   "source": [
    "ctrl <- trainControl(method = \"repeatedcv\", \n",
    "                 number = 10, \n",
    "                 savePredictions = \"final\",classProbs=TRUE,verboseIter=TRUE, search= \"random\") \n",
    "\n",
    "#summaryFunction = multiClassSummary (to keep all metrics)"
   ]
  },
  {
   "cell_type": "code",
   "execution_count": 50,
   "id": "6743eae8",
   "metadata": {},
   "outputs": [],
   "source": [
    "\n",
    "model_svmPoly <- train(x=TrainData, y=TrainClasses, \n",
    "               method = \"svmPoly\", scale= FALSE) "
   ]
  },
  {
   "cell_type": "code",
   "execution_count": 51,
   "id": "b612ca51",
   "metadata": {},
   "outputs": [
    {
     "name": "stderr",
     "output_type": "stream",
     "text": [
      "Warning message in .local(x, ...):\n",
      "\"Variable(s) `' constant. Cannot scale data.\"\n"
     ]
    }
   ],
   "source": [
    "\n",
    "model_svmRadial <- train(x=TrainData, y=TrainClasses, \n",
    "               method = \"svmRadial\", scale= FALSE) "
   ]
  },
  {
   "cell_type": "code",
   "execution_count": 52,
   "id": "9d805cbe",
   "metadata": {},
   "outputs": [],
   "source": [
    "\n",
    "model_svmLinear <- train(x=TrainData, y=TrainClasses, \n",
    "               method = \"svmLinear\", scale= FALSE)"
   ]
  },
  {
   "cell_type": "markdown",
   "id": "ff325b52",
   "metadata": {},
   "source": [
    "# Results"
   ]
  },
  {
   "cell_type": "code",
   "execution_count": 53,
   "id": "9d02b98f",
   "metadata": {},
   "outputs": [
    {
     "name": "stdout",
     "output_type": "stream",
     "text": [
      "Support Vector Machines with Polynomial Kernel \n",
      "\n",
      "747 samples\n",
      "183 predictors\n",
      "  3 classes: 'Accettabile', 'Complicato', 'Ottimo' \n",
      "\n",
      "No pre-processing\n",
      "Resampling: Bootstrapped (25 reps) \n",
      "Summary of sample sizes: 747, 747, 747, 747, 747, 747, ... \n",
      "Resampling results across tuning parameters:\n",
      "\n",
      "  degree  scale  C     Accuracy   Kappa     \n",
      "  1       0.001  0.25  0.4810965  0.00000000\n",
      "  1       0.001  0.50  0.4878006  0.01506839\n",
      "  1       0.001  1.00  0.5337159  0.11573849\n",
      "  1       0.010  0.25  0.5763830  0.21229479\n",
      "  1       0.010  0.50  0.5792475  0.22367007\n",
      "  1       0.010  1.00  0.5779735  0.22527562\n",
      "  1       0.100  0.25  0.5652849  0.23126163\n",
      "  1       0.100  0.50  0.5631650  0.24998270\n",
      "  1       0.100  1.00  0.5591608  0.25234081\n",
      "  2       0.001  0.25  0.4889856  0.01756736\n",
      "  2       0.001  0.50  0.5365787  0.12187961\n",
      "  2       0.001  1.00  0.5699112  0.19778190\n",
      "  2       0.010  0.25  0.5798782  0.22495894\n",
      "  2       0.010  0.50  0.5720161  0.22233744\n",
      "  2       0.010  1.00  0.5637729  0.23725212\n",
      "  2       0.100  0.25  0.5392675  0.22831392\n",
      "  2       0.100  0.50  0.5355767  0.22331155\n",
      "  2       0.100  1.00  0.5352592  0.22273846\n",
      "  3       0.001  0.25  0.5152770  0.07552167\n",
      "  3       0.001  0.50  0.5604125  0.17635680\n",
      "  3       0.001  1.00  0.5797346  0.22027424\n",
      "  3       0.010  0.25  0.5699138  0.22397555\n",
      "  3       0.010  0.50  0.5635513  0.24139754\n",
      "  3       0.010  1.00  0.5606711  0.25205294\n",
      "  3       0.100  0.25  0.5363428  0.21984485\n",
      "  3       0.100  0.50  0.5363428  0.21984485\n",
      "  3       0.100  1.00  0.5363428  0.21984485\n",
      "\n",
      "Accuracy was used to select the optimal model using the largest value.\n",
      "The final values used for the model were degree = 2, scale = 0.01 and C = 0.25.\n"
     ]
    },
    {
     "data": {
      "image/png": "[encoded data removed]",
      "text/plain": [
       "plot without title"
      ]
     },
     "metadata": {
      "image/png": {
       "height": 500,
       "width": 1000
      }
     },
     "output_type": "display_data"
    }
   ],
   "source": [
    "print(model_svmPoly)\n",
    "plot(model_svmPoly)"
   ]
  },
  {
   "cell_type": "code",
   "execution_count": 54,
   "id": "568bee3a",
   "metadata": {},
   "outputs": [
    {
     "name": "stdout",
     "output_type": "stream",
     "text": [
      "Support Vector Machines with Radial Basis Function Kernel \n",
      "\n",
      "747 samples\n",
      "183 predictors\n",
      "  3 classes: 'Accettabile', 'Complicato', 'Ottimo' \n",
      "\n",
      "No pre-processing\n",
      "Resampling: Bootstrapped (25 reps) \n",
      "Summary of sample sizes: 747, 747, 747, 747, 747, 747, ... \n",
      "Resampling results across tuning parameters:\n",
      "\n",
      "  C     Accuracy   Kappa    \n",
      "  0.25  0.5797110  0.2247357\n",
      "  0.50  0.5776403  0.2252102\n",
      "  1.00  0.5693803  0.2297439\n",
      "\n",
      "Tuning parameter 'sigma' was held constant at a value of 0.01599667\n",
      "Accuracy was used to select the optimal model using the largest value.\n",
      "The final values used for the model were sigma = 0.01599667 and C = 0.25.\n"
     ]
    },
    {
     "data": {
      "image/png": "[encoded data removed]",
      "text/plain": [
       "plot without title"
      ]
     },
     "metadata": {
      "image/png": {
       "height": 500,
       "width": 1000
      }
     },
     "output_type": "display_data"
    }
   ],
   "source": [
    "print(model_svmRadial)\n",
    "plot(model_svmRadial)"
   ]
  },
  {
   "cell_type": "code",
   "execution_count": 55,
   "id": "0003f574",
   "metadata": {},
   "outputs": [
    {
     "name": "stdout",
     "output_type": "stream",
     "text": [
      "Support Vector Machines with Linear Kernel \n",
      "\n",
      "747 samples\n",
      "183 predictors\n",
      "  3 classes: 'Accettabile', 'Complicato', 'Ottimo' \n",
      "\n",
      "No pre-processing\n",
      "Resampling: Bootstrapped (25 reps) \n",
      "Summary of sample sizes: 747, 747, 747, 747, 747, 747, ... \n",
      "Resampling results:\n",
      "\n",
      "  Accuracy   Kappa    \n",
      "  0.5339466  0.2157365\n",
      "\n",
      "Tuning parameter 'C' was held constant at a value of 1\n"
     ]
    },
    {
     "ename": "ERROR",
     "evalue": "Error in plot.train(model_svmLinear): There are no tuning parameters with more than 1 value.\n",
     "output_type": "error",
     "traceback": [
      "Error in plot.train(model_svmLinear): There are no tuning parameters with more than 1 value.\nTraceback:\n",
      "1. plot(model_svmLinear)",
      "2. plot.train(model_svmLinear)",
      "3. stop(plotIt)"
     ]
    }
   ],
   "source": [
    "print(model_svmLinear)\n",
    "plot(model_svmLinear)"
   ]
  },
  {
   "cell_type": "code",
   "execution_count": 56,
   "id": "35bd120c",
   "metadata": {},
   "outputs": [
    {
     "data": {
      "text/plain": [
       "\n",
       "Call:\n",
       "summary.resamples(object = results)\n",
       "\n",
       "Models: Poly, Radial, Linear \n",
       "Number of resamples: 25 \n",
       "\n",
       "Accuracy \n",
       "            Min.   1st Qu.    Median      Mean   3rd Qu.      Max. NA's\n",
       "Poly   0.5370370 0.5650558 0.5765125 0.5798782 0.5969582 0.6210526    0\n",
       "Radial 0.5193798 0.5613383 0.5776173 0.5797110 0.5928571 0.6308244    0\n",
       "Linear 0.4912281 0.5072464 0.5274725 0.5339466 0.5574913 0.5802920    0\n",
       "\n",
       "Kappa \n",
       "            Min.   1st Qu.    Median      Mean   3rd Qu.      Max. NA's\n",
       "Poly   0.1320131 0.1952816 0.2275360 0.2249589 0.2603736 0.2852789    0\n",
       "Radial 0.1271894 0.1945756 0.2174161 0.2247357 0.2461864 0.2989779    0\n",
       "Linear 0.1485878 0.1788992 0.2029691 0.2157365 0.2571168 0.2968715    0\n"
      ]
     },
     "metadata": {},
     "output_type": "display_data"
    },
    {
     "data": {
      "image/png": "[encoded data removed]",
      "text/plain": [
       "plot without title"
      ]
     },
     "metadata": {
      "image/png": {
       "height": 500,
       "width": 1000
      }
     },
     "output_type": "display_data"
    },
    {
     "data": {
      "image/png": "[encoded data removed]",
      "text/plain": [
       "plot without title"
      ]
     },
     "metadata": {
      "image/png": {
       "height": 500,
       "width": 1000
      }
     },
     "output_type": "display_data"
    }
   ],
   "source": [
    "# collect resamples\n",
    "results <- resamples(list(Poly=model_svmPoly,  Radial=model_svmRadial, Linear=model_svmLinear))\n",
    "# summarize the distributions\n",
    "summary(results)\n",
    "# boxplots of results\n",
    "bwplot(results)\n",
    "# dot plots of results\n",
    "dotplot(results)"
   ]
  },
  {
   "cell_type": "markdown",
   "id": "d8ba52a6",
   "metadata": {},
   "source": [
    "# Prediction"
   ]
  },
  {
   "cell_type": "code",
   "execution_count": 58,
   "id": "a64d53ae",
   "metadata": {},
   "outputs": [
    {
     "name": "stderr",
     "output_type": "stream",
     "text": [
      "Warning message in method$prob(modelFit = modelFit, newdata = newdata, submodels = param):\n",
      "\"kernlab class probability calculations failed; returning NAs\"\n"
     ]
    },
    {
     "data": {
      "text/plain": [
       "Confusion Matrix and Statistics\n",
       "\n",
       "             Reference\n",
       "Prediction    Accettabile Complicato Ottimo\n",
       "  Accettabile         140         16      0\n",
       "  Complicato           72         50      0\n",
       "  Ottimo               41          2      0\n",
       "\n",
       "Overall Statistics\n",
       "                                          \n",
       "               Accuracy : 0.5919          \n",
       "                 95% CI : (0.5359, 0.6462)\n",
       "    No Information Rate : 0.7882          \n",
       "    P-Value [Acc > NIR] : 1               \n",
       "                                          \n",
       "                  Kappa : 0.2393          \n",
       "                                          \n",
       " Mcnemar's Test P-Value : <2e-16          \n",
       "\n",
       "Statistics by Class:\n",
       "\n",
       "                     Class: Accettabile Class: Complicato Class: Ottimo\n",
       "Sensitivity                      0.5534            0.7353            NA\n",
       "Specificity                      0.7647            0.7154         0.866\n",
       "Pos Pred Value                   0.8974            0.4098            NA\n",
       "Neg Pred Value                   0.3152            0.9095            NA\n",
       "Prevalence                       0.7882            0.2118         0.000\n",
       "Detection Rate                   0.4361            0.1558         0.000\n",
       "Detection Prevalence             0.4860            0.3801         0.134\n",
       "Balanced Accuracy                0.6590            0.7254            NA"
      ]
     },
     "metadata": {},
     "output_type": "display_data"
    },
    {
     "data": {
      "text/html": [
       "<table>\n",
       "<thead><tr><th></th><th scope=col>Sensitivity</th><th scope=col>Specificity</th><th scope=col>Pos Pred Value</th><th scope=col>Neg Pred Value</th><th scope=col>Precision</th><th scope=col>Recall</th><th scope=col>F1</th><th scope=col>Prevalence</th><th scope=col>Detection Rate</th><th scope=col>Detection Prevalence</th><th scope=col>Balanced Accuracy</th></tr></thead>\n",
       "<tbody>\n",
       "\t<tr><th scope=row>Class: Accettabile</th><td>0.5533597</td><td>0.7647059</td><td>0.8974359</td><td>0.3151515</td><td>0.8974359</td><td>0.5533597</td><td>0.6845966</td><td>0.788162 </td><td>0.4361371</td><td>0.4859813</td><td>0.6590328</td></tr>\n",
       "\t<tr><th scope=row>Class: Complicato</th><td>0.7352941</td><td>0.7154150</td><td>0.4098361</td><td>0.9095477</td><td>0.4098361</td><td>0.7352941</td><td>0.5263158</td><td>0.211838 </td><td>0.1557632</td><td>0.3800623</td><td>0.7253546</td></tr>\n",
       "\t<tr><th scope=row>Class: Ottimo</th><td>       NA</td><td>0.8660436</td><td>       NA</td><td>       NA</td><td>0.0000000</td><td>       NA</td><td>       NA</td><td>0.000000 </td><td>0.0000000</td><td>0.1339564</td><td>       NA</td></tr>\n",
       "</tbody>\n",
       "</table>\n"
      ],
      "text/latex": [
       "\\begin{tabular}{r|lllllllllll}\n",
       "  & Sensitivity & Specificity & Pos Pred Value & Neg Pred Value & Precision & Recall & F1 & Prevalence & Detection Rate & Detection Prevalence & Balanced Accuracy\\\\\n",
       "\\hline\n",
       "\tClass: Accettabile & 0.5533597 & 0.7647059 & 0.8974359 & 0.3151515 & 0.8974359 & 0.5533597 & 0.6845966 & 0.788162  & 0.4361371 & 0.4859813 & 0.6590328\\\\\n",
       "\tClass: Complicato & 0.7352941 & 0.7154150 & 0.4098361 & 0.9095477 & 0.4098361 & 0.7352941 & 0.5263158 & 0.211838  & 0.1557632 & 0.3800623 & 0.7253546\\\\\n",
       "\tClass: Ottimo &        NA & 0.8660436 &        NA &        NA & 0.0000000 &        NA &        NA & 0.000000  & 0.0000000 & 0.1339564 &        NA\\\\\n",
       "\\end{tabular}\n"
      ],
      "text/markdown": [
       "\n",
       "| <!--/--> | Sensitivity | Specificity | Pos Pred Value | Neg Pred Value | Precision | Recall | F1 | Prevalence | Detection Rate | Detection Prevalence | Balanced Accuracy |\n",
       "|---|---|---|---|---|---|---|---|---|---|---|---|\n",
       "| Class: Accettabile | 0.5533597 | 0.7647059 | 0.8974359 | 0.3151515 | 0.8974359 | 0.5533597 | 0.6845966 | 0.788162  | 0.4361371 | 0.4859813 | 0.6590328 |\n",
       "| Class: Complicato | 0.7352941 | 0.7154150 | 0.4098361 | 0.9095477 | 0.4098361 | 0.7352941 | 0.5263158 | 0.211838  | 0.1557632 | 0.3800623 | 0.7253546 |\n",
       "| Class: Ottimo |        NA | 0.8660436 |        NA |        NA | 0.0000000 |        NA |        NA | 0.000000  | 0.0000000 | 0.1339564 |        NA |\n",
       "\n"
      ],
      "text/plain": [
       "                   Sensitivity Specificity Pos Pred Value Neg Pred Value\n",
       "Class: Accettabile 0.5533597   0.7647059   0.8974359      0.3151515     \n",
       "Class: Complicato  0.7352941   0.7154150   0.4098361      0.9095477     \n",
       "Class: Ottimo             NA   0.8660436          NA             NA     \n",
       "                   Precision Recall    F1        Prevalence Detection Rate\n",
       "Class: Accettabile 0.8974359 0.5533597 0.6845966 0.788162   0.4361371     \n",
       "Class: Complicato  0.4098361 0.7352941 0.5263158 0.211838   0.1557632     \n",
       "Class: Ottimo      0.0000000        NA        NA 0.000000   0.0000000     \n",
       "                   Detection Prevalence Balanced Accuracy\n",
       "Class: Accettabile 0.4859813            0.6590328        \n",
       "Class: Complicato  0.3800623            0.7253546        \n",
       "Class: Ottimo      0.1339564                   NA        "
      ]
     },
     "metadata": {},
     "output_type": "display_data"
    }
   ],
   "source": [
    "pred_svmRadial <- predict(model_svmRadial,TestData)\n",
    "pred_svmRadial.prob <- predict(model_svmRadial,TestData, type=\"prob\")\n",
    "\n",
    "\n",
    "result <- confusionMatrix(TestClasses,  pred_svmRadial) \n",
    "result\n",
    "result$byClass"
   ]
  },
  {
   "cell_type": "code",
   "execution_count": 59,
   "id": "dc08eb2d",
   "metadata": {},
   "outputs": [
    {
     "name": "stderr",
     "output_type": "stream",
     "text": [
      "Setting direction: controls < cases\n",
      "\n",
      "Setting direction: controls < cases\n",
      "\n",
      "Setting direction: controls < cases\n",
      "\n"
     ]
    },
    {
     "data": {
      "text/plain": [
       "\n",
       "Call:\n",
       "multiclass.roc.default(response = TestClasses, predictor = as.numeric(pred_svmRadial))\n",
       "\n",
       "Data: as.numeric(pred_svmRadial) with 3 levels of TestClasses: Accettabile, Complicato, Ottimo.\n",
       "Multi-class area under the curve: 0.4813"
      ]
     },
     "metadata": {},
     "output_type": "display_data"
    }
   ],
   "source": [
    "roc_svmRadial <- multiclass.roc(TestClasses, as.numeric(pred_svmRadial))\n",
    "roc_svmRadial"
   ]
  },
  {
   "cell_type": "code",
   "execution_count": null,
   "id": "0dd0aef4",
   "metadata": {},
   "outputs": [],
   "source": []
  },
  {
   "cell_type": "code",
   "execution_count": null,
   "id": "68f71b40",
   "metadata": {},
   "outputs": [],
   "source": []
  }
 ],
 "metadata": {
  "kernelspec": {
   "display_name": "R",
   "language": "R",
   "name": "ir"
  },
  "language_info": {
   "codemirror_mode": "r",
   "file_extension": ".r",
   "mimetype": "text/x-r-source",
   "name": "R",
   "pygments_lexer": "r",
   "version": "3.6.1"
  }
 },
 "nbformat": 4,
 "nbformat_minor": 5
}
