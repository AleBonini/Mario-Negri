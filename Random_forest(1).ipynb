{
 "cells": [
  {
   "cell_type": "code",
   "execution_count": 5,
   "id": "4bb52309",
   "metadata": {},
   "outputs": [],
   "source": [
    "library(dplyr)   \n",
    "library(caret)\n",
    "library(tidyverse)\n",
    "library(recipes)\n",
    "library(pROC)\n",
    "library(caTools)\n",
    "library(UBL)\n",
    "\n",
    "options(repr.plot.width = 20, repr.plot.height =10, repr.plot.res = 100)\n",
    "\n",
    "\n",
    "load(file = \"C:/Users/abonini/Desktop/Analysis/Sources/LIVERTRANSPLANT/Modello/df.Rdata\")"
   ]
  },
  {
   "cell_type": "markdown",
   "id": "9ab65b0f",
   "metadata": {},
   "source": [
    "## Data partition"
   ]
  },
  {
   "cell_type": "code",
   "execution_count": 6,
   "id": "1bbf7710",
   "metadata": {},
   "outputs": [],
   "source": [
    "#make this example reproducible\n",
    "set.seed(1)\n",
    "\n",
    "#use 70% of dataset as training set and 30% as test set\n",
    "sample <- sample.split(df$deg_cat, SplitRatio = 0.7)\n",
    "train  <- subset(df, sample == TRUE)\n",
    "test   <- subset(df, sample == FALSE)\n",
    "\n",
    "\n",
    "TestClasses <- test$deg_cat\n",
    "TestData <- subset(test,select= -deg_cat)"
   ]
  },
  {
   "cell_type": "code",
   "execution_count": 7,
   "id": "65bc789e",
   "metadata": {},
   "outputs": [
    {
     "data": {
      "text/plain": [
       "\n",
       "Accettabile  Complicato      Ottimo \n",
       "        249         249         249 "
      ]
     },
     "metadata": {},
     "output_type": "display_data"
    }
   ],
   "source": [
    "train <- SmoteClassif(deg_cat ~ ., train, k = 27, dist = \"HEOM\")\n",
    "\n",
    "#view distribution of response variable in new dataset\n",
    "table(train$deg_cat)\n",
    "\n",
    "TrainClasses <- train$deg_cat\n",
    "TrainData <- subset(train,select= -deg_cat)"
   ]
  },
  {
   "cell_type": "markdown",
   "id": "313685de",
   "metadata": {},
   "source": [
    "## Models"
   ]
  },
  {
   "cell_type": "code",
   "execution_count": 8,
   "id": "3c729a23",
   "metadata": {},
   "outputs": [],
   "source": [
    "ctrl <- trainControl(method = \"repeatedcv\", \n",
    "                 number = 10, \n",
    "                 savePredictions = \"final\",classProbs=TRUE,verboseIter=TRUE, search= \"random\") \n",
    "\n",
    "#summaryFunction = multiClassSummary (to keep all metrics)"
   ]
  },
  {
   "cell_type": "code",
   "execution_count": 9,
   "id": "f419a33d",
   "metadata": {},
   "outputs": [
    {
     "name": "stdout",
     "output_type": "stream",
     "text": [
      "+ Fold01.Rep1: min.node.size= 6, mtry=14, splitrule=gini \n",
      "- Fold01.Rep1: min.node.size= 6, mtry=14, splitrule=gini \n",
      "+ Fold01.Rep1: min.node.size= 5, mtry=69, splitrule=extratrees \n",
      "- Fold01.Rep1: min.node.size= 5, mtry=69, splitrule=extratrees \n",
      "+ Fold01.Rep1: min.node.size=15, mtry=62, splitrule=gini \n",
      "- Fold01.Rep1: min.node.size=15, mtry=62, splitrule=gini \n",
      "+ Fold02.Rep1: min.node.size= 6, mtry=14, splitrule=gini \n",
      "- Fold02.Rep1: min.node.size= 6, mtry=14, splitrule=gini \n",
      "+ Fold02.Rep1: min.node.size= 5, mtry=69, splitrule=extratrees \n",
      "- Fold02.Rep1: min.node.size= 5, mtry=69, splitrule=extratrees \n",
      "+ Fold02.Rep1: min.node.size=15, mtry=62, splitrule=gini \n",
      "- Fold02.Rep1: min.node.size=15, mtry=62, splitrule=gini \n",
      "+ Fold03.Rep1: min.node.size= 6, mtry=14, splitrule=gini \n",
      "- Fold03.Rep1: min.node.size= 6, mtry=14, splitrule=gini \n",
      "+ Fold03.Rep1: min.node.size= 5, mtry=69, splitrule=extratrees \n",
      "- Fold03.Rep1: min.node.size= 5, mtry=69, splitrule=extratrees \n",
      "+ Fold03.Rep1: min.node.size=15, mtry=62, splitrule=gini \n",
      "- Fold03.Rep1: min.node.size=15, mtry=62, splitrule=gini \n",
      "+ Fold04.Rep1: min.node.size= 6, mtry=14, splitrule=gini \n",
      "- Fold04.Rep1: min.node.size= 6, mtry=14, splitrule=gini \n",
      "+ Fold04.Rep1: min.node.size= 5, mtry=69, splitrule=extratrees \n",
      "- Fold04.Rep1: min.node.size= 5, mtry=69, splitrule=extratrees \n",
      "+ Fold04.Rep1: min.node.size=15, mtry=62, splitrule=gini \n",
      "- Fold04.Rep1: min.node.size=15, mtry=62, splitrule=gini \n",
      "+ Fold05.Rep1: min.node.size= 6, mtry=14, splitrule=gini \n",
      "- Fold05.Rep1: min.node.size= 6, mtry=14, splitrule=gini \n",
      "+ Fold05.Rep1: min.node.size= 5, mtry=69, splitrule=extratrees \n",
      "- Fold05.Rep1: min.node.size= 5, mtry=69, splitrule=extratrees \n",
      "+ Fold05.Rep1: min.node.size=15, mtry=62, splitrule=gini \n",
      "- Fold05.Rep1: min.node.size=15, mtry=62, splitrule=gini \n",
      "+ Fold06.Rep1: min.node.size= 6, mtry=14, splitrule=gini \n",
      "- Fold06.Rep1: min.node.size= 6, mtry=14, splitrule=gini \n",
      "+ Fold06.Rep1: min.node.size= 5, mtry=69, splitrule=extratrees \n",
      "- Fold06.Rep1: min.node.size= 5, mtry=69, splitrule=extratrees \n",
      "+ Fold06.Rep1: min.node.size=15, mtry=62, splitrule=gini \n",
      "- Fold06.Rep1: min.node.size=15, mtry=62, splitrule=gini \n",
      "+ Fold07.Rep1: min.node.size= 6, mtry=14, splitrule=gini \n",
      "- Fold07.Rep1: min.node.size= 6, mtry=14, splitrule=gini \n",
      "+ Fold07.Rep1: min.node.size= 5, mtry=69, splitrule=extratrees \n",
      "- Fold07.Rep1: min.node.size= 5, mtry=69, splitrule=extratrees \n",
      "+ Fold07.Rep1: min.node.size=15, mtry=62, splitrule=gini \n",
      "- Fold07.Rep1: min.node.size=15, mtry=62, splitrule=gini \n",
      "+ Fold08.Rep1: min.node.size= 6, mtry=14, splitrule=gini \n",
      "- Fold08.Rep1: min.node.size= 6, mtry=14, splitrule=gini \n",
      "+ Fold08.Rep1: min.node.size= 5, mtry=69, splitrule=extratrees \n",
      "- Fold08.Rep1: min.node.size= 5, mtry=69, splitrule=extratrees \n",
      "+ Fold08.Rep1: min.node.size=15, mtry=62, splitrule=gini \n",
      "- Fold08.Rep1: min.node.size=15, mtry=62, splitrule=gini \n",
      "+ Fold09.Rep1: min.node.size= 6, mtry=14, splitrule=gini \n",
      "- Fold09.Rep1: min.node.size= 6, mtry=14, splitrule=gini \n",
      "+ Fold09.Rep1: min.node.size= 5, mtry=69, splitrule=extratrees \n",
      "- Fold09.Rep1: min.node.size= 5, mtry=69, splitrule=extratrees \n",
      "+ Fold09.Rep1: min.node.size=15, mtry=62, splitrule=gini \n",
      "- Fold09.Rep1: min.node.size=15, mtry=62, splitrule=gini \n",
      "+ Fold10.Rep1: min.node.size= 6, mtry=14, splitrule=gini \n",
      "- Fold10.Rep1: min.node.size= 6, mtry=14, splitrule=gini \n",
      "+ Fold10.Rep1: min.node.size= 5, mtry=69, splitrule=extratrees \n",
      "- Fold10.Rep1: min.node.size= 5, mtry=69, splitrule=extratrees \n",
      "+ Fold10.Rep1: min.node.size=15, mtry=62, splitrule=gini \n",
      "- Fold10.Rep1: min.node.size=15, mtry=62, splitrule=gini \n",
      "Aggregating results\n",
      "Selecting tuning parameters\n",
      "Fitting mtry = 69, splitrule = extratrees, min.node.size = 5 on full training set\n"
     ]
    }
   ],
   "source": [
    "model_rf <- train(x=TrainData, y=TrainClasses, \n",
    "               method = \"ranger\",\n",
    "               trControl = ctrl) "
   ]
  },
  {
   "cell_type": "code",
   "execution_count": 10,
   "id": "5ec1f575",
   "metadata": {},
   "outputs": [
    {
     "name": "stderr",
     "output_type": "stream",
     "text": [
      "Registered S3 method overwritten by 'RRF':\n",
      "  method      from        \n",
      "  plot.margin randomForest\n",
      "\n"
     ]
    },
    {
     "name": "stdout",
     "output_type": "stream",
     "text": [
      "+ Fold01.Rep1: mtry=74, coefReg=0.5399, coefImp=0.634 \n",
      "- Fold01.Rep1: mtry=74, coefReg=0.5399, coefImp=0.634 \n",
      "+ Fold01.Rep1: mtry=67, coefReg=0.9843, coefImp=0.970 \n",
      "- Fold01.Rep1: mtry=67, coefReg=0.9843, coefImp=0.970 \n",
      "+ Fold01.Rep1: mtry=55, coefReg=0.1919, coefImp=0.643 \n",
      "- Fold01.Rep1: mtry=55, coefReg=0.1919, coefImp=0.643 \n",
      "+ Fold02.Rep1: mtry=74, coefReg=0.5399, coefImp=0.634 \n",
      "- Fold02.Rep1: mtry=74, coefReg=0.5399, coefImp=0.634 \n",
      "+ Fold02.Rep1: mtry=67, coefReg=0.9843, coefImp=0.970 \n",
      "- Fold02.Rep1: mtry=67, coefReg=0.9843, coefImp=0.970 \n",
      "+ Fold02.Rep1: mtry=55, coefReg=0.1919, coefImp=0.643 \n",
      "- Fold02.Rep1: mtry=55, coefReg=0.1919, coefImp=0.643 \n",
      "+ Fold03.Rep1: mtry=74, coefReg=0.5399, coefImp=0.634 \n",
      "- Fold03.Rep1: mtry=74, coefReg=0.5399, coefImp=0.634 \n",
      "+ Fold03.Rep1: mtry=67, coefReg=0.9843, coefImp=0.970 \n",
      "- Fold03.Rep1: mtry=67, coefReg=0.9843, coefImp=0.970 \n",
      "+ Fold03.Rep1: mtry=55, coefReg=0.1919, coefImp=0.643 \n",
      "- Fold03.Rep1: mtry=55, coefReg=0.1919, coefImp=0.643 \n",
      "+ Fold04.Rep1: mtry=74, coefReg=0.5399, coefImp=0.634 \n",
      "- Fold04.Rep1: mtry=74, coefReg=0.5399, coefImp=0.634 \n",
      "+ Fold04.Rep1: mtry=67, coefReg=0.9843, coefImp=0.970 \n",
      "- Fold04.Rep1: mtry=67, coefReg=0.9843, coefImp=0.970 \n",
      "+ Fold04.Rep1: mtry=55, coefReg=0.1919, coefImp=0.643 \n",
      "- Fold04.Rep1: mtry=55, coefReg=0.1919, coefImp=0.643 \n",
      "+ Fold05.Rep1: mtry=74, coefReg=0.5399, coefImp=0.634 \n",
      "- Fold05.Rep1: mtry=74, coefReg=0.5399, coefImp=0.634 \n",
      "+ Fold05.Rep1: mtry=67, coefReg=0.9843, coefImp=0.970 \n",
      "- Fold05.Rep1: mtry=67, coefReg=0.9843, coefImp=0.970 \n",
      "+ Fold05.Rep1: mtry=55, coefReg=0.1919, coefImp=0.643 \n",
      "- Fold05.Rep1: mtry=55, coefReg=0.1919, coefImp=0.643 \n",
      "+ Fold06.Rep1: mtry=74, coefReg=0.5399, coefImp=0.634 \n",
      "- Fold06.Rep1: mtry=74, coefReg=0.5399, coefImp=0.634 \n",
      "+ Fold06.Rep1: mtry=67, coefReg=0.9843, coefImp=0.970 \n",
      "- Fold06.Rep1: mtry=67, coefReg=0.9843, coefImp=0.970 \n",
      "+ Fold06.Rep1: mtry=55, coefReg=0.1919, coefImp=0.643 \n",
      "- Fold06.Rep1: mtry=55, coefReg=0.1919, coefImp=0.643 \n",
      "+ Fold07.Rep1: mtry=74, coefReg=0.5399, coefImp=0.634 \n",
      "- Fold07.Rep1: mtry=74, coefReg=0.5399, coefImp=0.634 \n",
      "+ Fold07.Rep1: mtry=67, coefReg=0.9843, coefImp=0.970 \n",
      "- Fold07.Rep1: mtry=67, coefReg=0.9843, coefImp=0.970 \n",
      "+ Fold07.Rep1: mtry=55, coefReg=0.1919, coefImp=0.643 \n",
      "- Fold07.Rep1: mtry=55, coefReg=0.1919, coefImp=0.643 \n",
      "+ Fold08.Rep1: mtry=74, coefReg=0.5399, coefImp=0.634 \n",
      "- Fold08.Rep1: mtry=74, coefReg=0.5399, coefImp=0.634 \n",
      "+ Fold08.Rep1: mtry=67, coefReg=0.9843, coefImp=0.970 \n",
      "- Fold08.Rep1: mtry=67, coefReg=0.9843, coefImp=0.970 \n",
      "+ Fold08.Rep1: mtry=55, coefReg=0.1919, coefImp=0.643 \n",
      "- Fold08.Rep1: mtry=55, coefReg=0.1919, coefImp=0.643 \n",
      "+ Fold09.Rep1: mtry=74, coefReg=0.5399, coefImp=0.634 \n",
      "- Fold09.Rep1: mtry=74, coefReg=0.5399, coefImp=0.634 \n",
      "+ Fold09.Rep1: mtry=67, coefReg=0.9843, coefImp=0.970 \n",
      "- Fold09.Rep1: mtry=67, coefReg=0.9843, coefImp=0.970 \n",
      "+ Fold09.Rep1: mtry=55, coefReg=0.1919, coefImp=0.643 \n",
      "- Fold09.Rep1: mtry=55, coefReg=0.1919, coefImp=0.643 \n",
      "+ Fold10.Rep1: mtry=74, coefReg=0.5399, coefImp=0.634 \n",
      "- Fold10.Rep1: mtry=74, coefReg=0.5399, coefImp=0.634 \n",
      "+ Fold10.Rep1: mtry=67, coefReg=0.9843, coefImp=0.970 \n",
      "- Fold10.Rep1: mtry=67, coefReg=0.9843, coefImp=0.970 \n",
      "+ Fold10.Rep1: mtry=55, coefReg=0.1919, coefImp=0.643 \n",
      "- Fold10.Rep1: mtry=55, coefReg=0.1919, coefImp=0.643 \n",
      "Aggregating results\n",
      "Selecting tuning parameters\n",
      "Fitting mtry = 55, coefReg = 0.192, coefImp = 0.643 on full training set\n"
     ]
    }
   ],
   "source": [
    "model_rrf <- train(x=TrainData, y=TrainClasses, \n",
    "               method = \"RRF\",\n",
    "               trControl = ctrl) "
   ]
  },
  {
   "cell_type": "markdown",
   "id": "ccdf1e31",
   "metadata": {},
   "source": [
    "## Results"
   ]
  },
  {
   "cell_type": "code",
   "execution_count": 11,
   "id": "a58e529c",
   "metadata": {},
   "outputs": [
    {
     "name": "stdout",
     "output_type": "stream",
     "text": [
      "Random Forest \n",
      "\n",
      "747 samples\n",
      " 77 predictor\n",
      "  3 classes: 'Accettabile', 'Complicato', 'Ottimo' \n",
      "\n",
      "No pre-processing\n",
      "Resampling: Cross-Validated (10 fold, repeated 1 times) \n",
      "Summary of sample sizes: 672, 672, 673, 673, 672, 672, ... \n",
      "Resampling results across tuning parameters:\n",
      "\n",
      "  min.node.size  mtry  splitrule   Accuracy   Kappa    \n",
      "   5             69    extratrees  0.6679640  0.5020870\n",
      "   6             14    gini        0.6572613  0.4860016\n",
      "  15             62    gini        0.6264505  0.4397058\n",
      "\n",
      "Accuracy was used to select the optimal model using the largest value.\n",
      "The final values used for the model were mtry = 69, splitrule = extratrees\n",
      " and min.node.size = 5.\n"
     ]
    },
    {
     "data": {
      "image/png": "[encoded data removed]",
      "text/plain": [
       "plot without title"
      ]
     },
     "metadata": {
      "image/png": {
       "height": 500,
       "width": 1000
      }
     },
     "output_type": "display_data"
    }
   ],
   "source": [
    "print(model_rf)\n",
    "plot(model_rf)"
   ]
  },
  {
   "cell_type": "code",
   "execution_count": 12,
   "id": "13fce22e",
   "metadata": {},
   "outputs": [
    {
     "name": "stdout",
     "output_type": "stream",
     "text": [
      "Regularized Random Forest \n",
      "\n",
      "747 samples\n",
      " 77 predictor\n",
      "  3 classes: 'Accettabile', 'Complicato', 'Ottimo' \n",
      "\n",
      "No pre-processing\n",
      "Resampling: Cross-Validated (10 fold, repeated 1 times) \n",
      "Summary of sample sizes: 673, 673, 673, 672, 672, 672, ... \n",
      "Resampling results across tuning parameters:\n",
      "\n",
      "  mtry  coefReg    coefImp    Accuracy   Kappa    \n",
      "  55    0.1918929  0.6430405  0.5848649  0.3772960\n",
      "  67    0.9843026  0.9699676  0.5702342  0.3553191\n",
      "  74    0.5399365  0.6340236  0.5635315  0.3452399\n",
      "\n",
      "Accuracy was used to select the optimal model using the largest value.\n",
      "The final values used for the model were mtry = 55, coefReg = 0.1918929\n",
      " and coefImp = 0.6430405.\n"
     ]
    },
    {
     "data": {
      "image/png": "[encoded data removed]",
      "text/plain": [
       "plot without title"
      ]
     },
     "metadata": {
      "image/png": {
       "height": 500,
       "width": 1000
      }
     },
     "output_type": "display_data"
    }
   ],
   "source": [
    "print(model_rrf)\n",
    "plot(model_rrf)"
   ]
  },
  {
   "cell_type": "code",
   "execution_count": 13,
   "id": "4cecdff1",
   "metadata": {},
   "outputs": [
    {
     "data": {
      "text/plain": [
       "\n",
       "Call:\n",
       "summary.resamples(object = results)\n",
       "\n",
       "Models: ranger, rrf \n",
       "Number of resamples: 10 \n",
       "\n",
       "Accuracy \n",
       "            Min.   1st Qu.    Median      Mean   3rd Qu.      Max. NA's\n",
       "ranger 0.6266667 0.6498198 0.6621622 0.6679640 0.7000000 0.7066667    0\n",
       "rrf    0.4800000 0.5540541 0.5733333 0.5848649 0.6266667 0.6800000    0\n",
       "\n",
       "Kappa \n",
       "       Min.   1st Qu.   Median     Mean 3rd Qu. Max. NA's\n",
       "ranger 0.44 0.4751984 0.493636 0.502087    0.55 0.56    0\n",
       "rrf    0.22 0.3307286 0.360000 0.377296    0.44 0.52    0\n"
      ]
     },
     "metadata": {},
     "output_type": "display_data"
    },
    {
     "data": {
      "image/png": "[encoded data removed]",
      "text/plain": [
       "plot without title"
      ]
     },
     "metadata": {
      "image/png": {
       "height": 500,
       "width": 1000
      }
     },
     "output_type": "display_data"
    },
    {
     "data": {
      "image/png": "[encoded data removed]",
      "text/plain": [
       "plot without title"
      ]
     },
     "metadata": {
      "image/png": {
       "height": 500,
       "width": 1000
      }
     },
     "output_type": "display_data"
    }
   ],
   "source": [
    "# collect resamples\n",
    "results <- resamples(list(ranger=model_rf,rrf=model_rrf))\n",
    "# summarize the distributions\n",
    "summary(results)\n",
    "# boxplots of results\n",
    "bwplot(results)\n",
    "# dot plots of results\n",
    "dotplot(results)"
   ]
  },
  {
   "cell_type": "markdown",
   "id": "507e366d",
   "metadata": {},
   "source": [
    "## Prediction"
   ]
  },
  {
   "cell_type": "code",
   "execution_count": 16,
   "id": "f7a729a1",
   "metadata": {},
   "outputs": [
    {
     "data": {
      "text/plain": [
       "Confusion Matrix and Statistics\n",
       "\n",
       "             Reference\n",
       "Prediction    Accettabile Complicato Ottimo\n",
       "  Accettabile          72         52     32\n",
       "  Complicato           30         83      9\n",
       "  Ottimo               13          6     24\n",
       "\n",
       "Overall Statistics\n",
       "                                          \n",
       "               Accuracy : 0.5576          \n",
       "                 95% CI : (0.5014, 0.6128)\n",
       "    No Information Rate : 0.4393          \n",
       "    P-Value [Acc > NIR] : 1.348e-05       \n",
       "                                          \n",
       "                  Kappa : 0.2999          \n",
       "                                          \n",
       " Mcnemar's Test P-Value : 0.002271        \n",
       "\n",
       "Statistics by Class:\n",
       "\n",
       "                     Class: Accettabile Class: Complicato Class: Ottimo\n",
       "Sensitivity                      0.6261            0.5887       0.36923\n",
       "Specificity                      0.5922            0.7833       0.92578\n",
       "Pos Pred Value                   0.4615            0.6803       0.55814\n",
       "Neg Pred Value                   0.7394            0.7085       0.85252\n",
       "Prevalence                       0.3583            0.4393       0.20249\n",
       "Detection Rate                   0.2243            0.2586       0.07477\n",
       "Detection Prevalence             0.4860            0.3801       0.13396\n",
       "Balanced Accuracy                0.6092            0.6860       0.64751"
      ]
     },
     "metadata": {},
     "output_type": "display_data"
    },
    {
     "data": {
      "text/html": [
       "<table>\n",
       "<thead><tr><th></th><th scope=col>Sensitivity</th><th scope=col>Specificity</th><th scope=col>Pos Pred Value</th><th scope=col>Neg Pred Value</th><th scope=col>Precision</th><th scope=col>Recall</th><th scope=col>F1</th><th scope=col>Prevalence</th><th scope=col>Detection Rate</th><th scope=col>Detection Prevalence</th><th scope=col>Balanced Accuracy</th></tr></thead>\n",
       "<tbody>\n",
       "\t<tr><th scope=row>Class: Accettabile</th><td>0.6260870 </td><td>0.5922330 </td><td>0.4615385 </td><td>0.7393939 </td><td>0.4615385 </td><td>0.6260870 </td><td>0.5313653 </td><td>0.3582555 </td><td>0.22429907</td><td>0.4859813 </td><td>0.6091600 </td></tr>\n",
       "\t<tr><th scope=row>Class: Complicato</th><td>0.5886525 </td><td>0.7833333 </td><td>0.6803279 </td><td>0.7085427 </td><td>0.6803279 </td><td>0.5886525 </td><td>0.6311787 </td><td>0.4392523 </td><td>0.25856698</td><td>0.3800623 </td><td>0.6859929 </td></tr>\n",
       "\t<tr><th scope=row>Class: Ottimo</th><td>0.3692308 </td><td>0.9257812 </td><td>0.5581395 </td><td>0.8525180 </td><td>0.5581395 </td><td>0.3692308 </td><td>0.4444444 </td><td>0.2024922 </td><td>0.07476636</td><td>0.1339564 </td><td>0.6475060 </td></tr>\n",
       "</tbody>\n",
       "</table>\n"
      ],
      "text/latex": [
       "\\begin{tabular}{r|lllllllllll}\n",
       "  & Sensitivity & Specificity & Pos Pred Value & Neg Pred Value & Precision & Recall & F1 & Prevalence & Detection Rate & Detection Prevalence & Balanced Accuracy\\\\\n",
       "\\hline\n",
       "\tClass: Accettabile & 0.6260870  & 0.5922330  & 0.4615385  & 0.7393939  & 0.4615385  & 0.6260870  & 0.5313653  & 0.3582555  & 0.22429907 & 0.4859813  & 0.6091600 \\\\\n",
       "\tClass: Complicato & 0.5886525  & 0.7833333  & 0.6803279  & 0.7085427  & 0.6803279  & 0.5886525  & 0.6311787  & 0.4392523  & 0.25856698 & 0.3800623  & 0.6859929 \\\\\n",
       "\tClass: Ottimo & 0.3692308  & 0.9257812  & 0.5581395  & 0.8525180  & 0.5581395  & 0.3692308  & 0.4444444  & 0.2024922  & 0.07476636 & 0.1339564  & 0.6475060 \\\\\n",
       "\\end{tabular}\n"
      ],
      "text/markdown": [
       "\n",
       "| <!--/--> | Sensitivity | Specificity | Pos Pred Value | Neg Pred Value | Precision | Recall | F1 | Prevalence | Detection Rate | Detection Prevalence | Balanced Accuracy |\n",
       "|---|---|---|---|---|---|---|---|---|---|---|---|\n",
       "| Class: Accettabile | 0.6260870  | 0.5922330  | 0.4615385  | 0.7393939  | 0.4615385  | 0.6260870  | 0.5313653  | 0.3582555  | 0.22429907 | 0.4859813  | 0.6091600  |\n",
       "| Class: Complicato | 0.5886525  | 0.7833333  | 0.6803279  | 0.7085427  | 0.6803279  | 0.5886525  | 0.6311787  | 0.4392523  | 0.25856698 | 0.3800623  | 0.6859929  |\n",
       "| Class: Ottimo | 0.3692308  | 0.9257812  | 0.5581395  | 0.8525180  | 0.5581395  | 0.3692308  | 0.4444444  | 0.2024922  | 0.07476636 | 0.1339564  | 0.6475060  |\n",
       "\n"
      ],
      "text/plain": [
       "                   Sensitivity Specificity Pos Pred Value Neg Pred Value\n",
       "Class: Accettabile 0.6260870   0.5922330   0.4615385      0.7393939     \n",
       "Class: Complicato  0.5886525   0.7833333   0.6803279      0.7085427     \n",
       "Class: Ottimo      0.3692308   0.9257812   0.5581395      0.8525180     \n",
       "                   Precision Recall    F1        Prevalence Detection Rate\n",
       "Class: Accettabile 0.4615385 0.6260870 0.5313653 0.3582555  0.22429907    \n",
       "Class: Complicato  0.6803279 0.5886525 0.6311787 0.4392523  0.25856698    \n",
       "Class: Ottimo      0.5581395 0.3692308 0.4444444 0.2024922  0.07476636    \n",
       "                   Detection Prevalence Balanced Accuracy\n",
       "Class: Accettabile 0.4859813            0.6091600        \n",
       "Class: Complicato  0.3800623            0.6859929        \n",
       "Class: Ottimo      0.1339564            0.6475060        "
      ]
     },
     "metadata": {},
     "output_type": "display_data"
    }
   ],
   "source": [
    "pred_rf <- predict(model_rf,TestData)  # 53 acc\n",
    "pred_rf.prob <- predict(model_rf,TestData, type=\"prob\")\n",
    "\n",
    "\n",
    "result <- confusionMatrix(TestClasses,  pred_rf) \n",
    "result\n",
    "result$byClass"
   ]
  },
  {
   "cell_type": "code",
   "execution_count": 15,
   "id": "3fc07786",
   "metadata": {},
   "outputs": [
    {
     "name": "stderr",
     "output_type": "stream",
     "text": [
      "Setting direction: controls < cases\n",
      "\n",
      "Setting direction: controls < cases\n",
      "\n",
      "Setting direction: controls < cases\n",
      "\n"
     ]
    },
    {
     "data": {
      "text/plain": [
       "\n",
       "Call:\n",
       "multiclass.roc.default(response = TestClasses, predictor = as.numeric(pred_rf))\n",
       "\n",
       "Data: as.numeric(pred_rf) with 3 levels of TestClasses: Accettabile, Complicato, Ottimo.\n",
       "Multi-class area under the curve: 0.6217"
      ]
     },
     "metadata": {},
     "output_type": "display_data"
    }
   ],
   "source": [
    "roc_model_rf <- multiclass.roc(TestClasses, as.numeric(pred_rf))\n",
    "roc_model_rf\n"
   ]
  },
  {
   "cell_type": "code",
   "execution_count": null,
   "id": "159f2db1",
   "metadata": {},
   "outputs": [],
   "source": []
  },
  {
   "cell_type": "code",
   "execution_count": 17,
   "id": "834afe44",
   "metadata": {},
   "outputs": [
    {
     "data": {
      "text/html": [
       "<table>\n",
       "<tbody>\n",
       "\t<tr><th scope=row>percent</th><td>FALSE</td><td>FALSE</td></tr>\n",
       "\t<tr><th scope=row>sensitivities</th><td>1.0000000, 0.6976744, 0.5581395, 0.0000000</td><td>1.0000000, 0.6976744, 0.5581395, 0.0000000</td></tr>\n",
       "\t<tr><th scope=row>specificities</th><td>0.0000000, 0.4615385, 0.7948718, 1.0000000</td><td>0.0000000, 0.2459016, 0.9262295, 1.0000000</td></tr>\n",
       "\t<tr><th scope=row>thresholds</th><td>-Inf, 1.5, 2.5, Inf</td><td>-Inf, 1.5, 2.5, Inf</td></tr>\n",
       "\t<tr><th scope=row>direction</th><td>&lt;</td><td>&lt;</td></tr>\n",
       "\t<tr><th scope=row>cases</th><td>3, 1, 3, 3, 2, 1, 3, 3, 3, 2, 3, 1, 1, 3, 1, 1, 1, 3, 3, 3, 1, 2, 2, 3, 2, 2, 3, 3, 3, 3, 3, 1, 1, 1, 3, 1, 3, 3, 3, 3, 3, 1, 3</td><td>3, 1, 3, 3, 2, 1, 3, 3, 3, 2, 3, 1, 1, 3, 1, 1, 1, 3, 3, 3, 1, 2, 2, 3, 2, 2, 3, 3, 3, 3, 3, 1, 1, 1, 3, 1, 3, 3, 3, 3, 3, 1, 3</td></tr>\n",
       "\t<tr><th scope=row>controls</th><td>3, 2, 1, 3, 2, 3, 1, 1, 3, 3, 3, 3, 3, 1, 1, 1, 2, 2, 1, 2, 1, 2, 2, 2, 2, 1, 2, 1, 1, 2, 2, 1, 2, 1, 1, 2, 1, 1, 2, 1, 2, 2, 1, 1, 1, 3, 3, 1, 2, 3, 3, 3, 3, 1, 1, 1, 3, 3, 3, 3, 3, 1, 3, 2, 2, 1, 1, 2, 2, 1, 2, 1, 1, 2, 1, 1, 2, 2, 2, 2, 1, 1, 1, 2, 1, 1, 1, 1, 1, 1, 1, 2, 1, 3, 2, 1, 1, 2, 3, 3, 2, 2, 3, 1, 3, 1, 1, 2, 2, 3, 3, 1, 2, 3, 3, 2, 1, 1, 1, 3, 3, 3, 2, 1, 2, 2, 1, 1, 1, 1, 1, 1, 2, 1, 2, 1, 2, 1, 1, 1, 2, 1, 2, 2, 2, 1, 1, 1, 1, 2, 2, 2, 2, 1, 1, 1</td><td>1, 2, 2, 2, 3, 2, 1, 1, 2, 2, 1, 2, 2, 2, 1, 2, 2, 2, 2, 2, 1, 2, 2, 2, 1, 2, 2, 2, 2, 1, 2, 2, 2, 2, 1, 2, 1, 1, 1, 2, 2, 1, 2, 3, 2, 1, 2, 2, 2, 3, 2, 2, 3, 1, 2, 2, 2, 2, 2, 2, 2, 1, 1, 2, 2, 2, 2, 2, 2, 1, 2, 2, 1, 2, 2, 2, 1, 2, 1, 1, 2, 2, 2, 1, 2, 1, 1, 1, 3, 3, 2, 2, 2, 2, 2, 3, 2, 3, 1, 3, 2, 2, 2, 2, 2, 2, 2, 2, 2, 2, 2, 1, 2, 2, 2, 2, 2, 1, 2, 2, 2, 1                                                                                                      </td></tr>\n",
       "\t<tr><th scope=row>fun.sesp</th><td><span style=white-space:pre-wrap>function (thresholds, controls, cases, direction) , {,     ncontrols &lt;- length(controls),     ncases &lt;- length(cases),     predictor &lt;- c(controls, cases),     response &lt;- c(rep(0, length(controls)), rep(1, length(cases))),     decr &lt;- direction == \"&lt;\",     predictor.order &lt;- order(predictor, decreasing = decr),     predictor.sorted &lt;- predictor[predictor.order],     response.sorted &lt;- response[predictor.order],     tp &lt;- cumsum(response.sorted == 1),     fp &lt;- cumsum(response.sorted == 0),     se &lt;- tp/ncases,     sp &lt;- (ncontrols - fp)/ncontrols,     dups.pred &lt;- rev(duplicated(rev(predictor.sorted))),     dups.sesp &lt;- duplicated(se) &amp; duplicated(sp),     dups &lt;- dups.pred | dups.sesp,     if (sum(!dups) != length(thresholds) - 1) {,         sessionInfo &lt;- sessionInfo(),         save(thresholds, controls, cases, direction, sessionInfo, ,             file = \"pROC_bug.RData\"),         stop(sprintf(\"pROC: fast algorithm computed an incorrect number of sensitivities and specificities. Diagnostic data saved in pROC_bug.RData. Please report this bug to &lt;%s&gt;.\", ,             utils::packageDescription(\"pROC\")$BugReports)),     },     if (direction == \"&lt;\") {,         se &lt;- rev(c(0, se[!dups])),         sp &lt;- rev(c(1, sp[!dups])),     },     else {,         se &lt;- c(0, se[!dups]),         sp &lt;- c(1, sp[!dups]),     },     return(list(se = se, sp = sp)), }</span></td><td><span style=white-space:pre-wrap>function (thresholds, controls, cases, direction) , {,     ncontrols &lt;- length(controls),     ncases &lt;- length(cases),     predictor &lt;- c(controls, cases),     response &lt;- c(rep(0, length(controls)), rep(1, length(cases))),     decr &lt;- direction == \"&lt;\",     predictor.order &lt;- order(predictor, decreasing = decr),     predictor.sorted &lt;- predictor[predictor.order],     response.sorted &lt;- response[predictor.order],     tp &lt;- cumsum(response.sorted == 1),     fp &lt;- cumsum(response.sorted == 0),     se &lt;- tp/ncases,     sp &lt;- (ncontrols - fp)/ncontrols,     dups.pred &lt;- rev(duplicated(rev(predictor.sorted))),     dups.sesp &lt;- duplicated(se) &amp; duplicated(sp),     dups &lt;- dups.pred | dups.sesp,     if (sum(!dups) != length(thresholds) - 1) {,         sessionInfo &lt;- sessionInfo(),         save(thresholds, controls, cases, direction, sessionInfo, ,             file = \"pROC_bug.RData\"),         stop(sprintf(\"pROC: fast algorithm computed an incorrect number of sensitivities and specificities. Diagnostic data saved in pROC_bug.RData. Please report this bug to &lt;%s&gt;.\", ,             utils::packageDescription(\"pROC\")$BugReports)),     },     if (direction == \"&lt;\") {,         se &lt;- rev(c(0, se[!dups])),         sp &lt;- rev(c(1, sp[!dups])),     },     else {,         se &lt;- c(0, se[!dups]),         sp &lt;- c(1, sp[!dups]),     },     return(list(se = se, sp = sp)), }</span></td></tr>\n",
       "\t<tr><th scope=row>call</th><td>roc.default(response = response, predictor = predictor, levels = X, ,     percent = percent, direction = ..1, auc = FALSE, ci = FALSE)</td><td>roc.default(response = response, predictor = predictor, levels = X, ,     percent = percent, direction = ..1, auc = FALSE, ci = FALSE)</td></tr>\n",
       "\t<tr><th scope=row>original.predictor</th><td>3, 2, 1, 1, 2, 2, 3, 1, 3, 2, 3, 3, 2, 3, 1, 3, 2, 3, 2, 3, 1, 3, 1, 3, 1, 3, 3, 3, 3, 1, 1, 1, 1, 2, 2, 2, 1, 2, 1, 2, 1, 2, 2, 2, 2, 2, 2, 2, 1, 2, 1, 1, 2, 2, 1, 2, 2, 2, 2, 2, 1, 2, 2, 2, 1, 2, 2, 2, 2, 1, 2, 1, 1, 2, 2, 1, 1, 2, 2, 2, 2, 1, 1, 2, 2, 1, 1, 1, 1, 2, 2, 2, 1, 2, 1, 3, 2, 1, 3, 1, 1, 1, 3, 2, 3, 1, 3, 1, 2, 1, 3, 1, 3, 1, 3, 3, 3, 1, 3, 2, 2, 1, 1, 2, 3, 2, 3, 3, 2, 3, 3, 3, 3, 1, 3, 3, 1, 2, 2, 1, 2, 2, 2, 2, 1, 2, 2, 1, 2, 2, 1, 2, 1, 2, 1, 2, 2, 2, 2, 1, 1, 2, 1, 2, 1, 2, 2, 2, 2, 2, 1, 2, 1, 2, 1, 2, 1, 2, 1, 2, 1, 1, 1, 1, 1, 2, 2, 1, 1, 1, 2, 2, 1, 1, 2, 2, 2, 1, 2, 2, 1, 3, 2, 3, 2, 1, 1, 1, 2, 1, 1, 3, 3, 2, 3, 3, 3, 3, 2, 3, 2, 3, 3, 3, 1, 1, 2, 1, 1, 3, 1, 1, 2, 2, 2, 3, 3, 2, 3, 1, 2, 3, 3, 2, 2, 2, 1, 1, 1, 1, 3, 3, 3, 3, 3, 3, 3, 3, 2, 3, 3, 1, 2, 1, 3, 1, 2, 2, 1, 3, 1, 2, 2, 1, 1, 2, 1, 2, 1, 2, 1, 2, 1, 2, 2, 1, 1, 2, 1, 2, 2, 2, 1, 2, 2, 2, 2, 1, 2, 2, 2, 2, 1, 1, 2, 2, 1, 1, 2, 2, 2, 1, 2, 2, 2, 2, 2, 1, 1, 1, 1</td><td>3, 2, 1, 1, 2, 2, 3, 1, 3, 2, 3, 3, 2, 3, 1, 3, 2, 3, 2, 3, 1, 3, 1, 3, 1, 3, 3, 3, 3, 1, 1, 1, 1, 2, 2, 2, 1, 2, 1, 2, 1, 2, 2, 2, 2, 2, 2, 2, 1, 2, 1, 1, 2, 2, 1, 2, 2, 2, 2, 2, 1, 2, 2, 2, 1, 2, 2, 2, 2, 1, 2, 1, 1, 2, 2, 1, 1, 2, 2, 2, 2, 1, 1, 2, 2, 1, 1, 1, 1, 2, 2, 2, 1, 2, 1, 3, 2, 1, 3, 1, 1, 1, 3, 2, 3, 1, 3, 1, 2, 1, 3, 1, 3, 1, 3, 3, 3, 1, 3, 2, 2, 1, 1, 2, 3, 2, 3, 3, 2, 3, 3, 3, 3, 1, 3, 3, 1, 2, 2, 1, 2, 2, 2, 2, 1, 2, 2, 1, 2, 2, 1, 2, 1, 2, 1, 2, 2, 2, 2, 1, 1, 2, 1, 2, 1, 2, 2, 2, 2, 2, 1, 2, 1, 2, 1, 2, 1, 2, 1, 2, 1, 1, 1, 1, 1, 2, 2, 1, 1, 1, 2, 2, 1, 1, 2, 2, 2, 1, 2, 2, 1, 3, 2, 3, 2, 1, 1, 1, 2, 1, 1, 3, 3, 2, 3, 3, 3, 3, 2, 3, 2, 3, 3, 3, 1, 1, 2, 1, 1, 3, 1, 1, 2, 2, 2, 3, 3, 2, 3, 1, 2, 3, 3, 2, 2, 2, 1, 1, 1, 1, 3, 3, 3, 3, 3, 3, 3, 3, 2, 3, 3, 1, 2, 1, 3, 1, 2, 2, 1, 3, 1, 2, 2, 1, 1, 2, 1, 2, 1, 2, 1, 2, 1, 2, 2, 1, 1, 2, 1, 2, 2, 2, 1, 2, 2, 2, 2, 1, 2, 2, 2, 2, 1, 1, 2, 2, 1, 1, 2, 2, 2, 1, 2, 2, 2, 2, 2, 1, 1, 1, 1</td></tr>\n",
       "\t<tr><th scope=row>original.response</th><td>1, 1, 2, 1, 2, 2, 3, 3, 3, 2, 2, 3, 3, 1, 3, 3, 1, 1, 2, 3, 1, 3, 1, 1, 2, 1, 1, 1, 1, 2, 1, 1, 1, 1, 2, 1, 1, 1, 1, 2, 2, 2, 1, 1, 1, 2, 1, 2, 1, 1, 2, 1, 3, 2, 1, 2, 2, 2, 1, 2, 2, 2, 2, 2, 2, 1, 2, 2, 2, 1, 1, 1, 1, 1, 2, 1, 2, 2, 2, 2, 2, 1, 2, 1, 2, 2, 2, 2, 1, 2, 1, 2, 2, 1, 1, 3, 2, 3, 2, 1, 3, 1, 3, 2, 1, 3, 1, 1, 1, 3, 1, 2, 1, 3, 1, 1, 3, 1, 3, 2, 2, 1, 1, 2, 2, 2, 3, 1, 2, 1, 1, 1, 1, 1, 1, 2, 3, 1, 3, 2, 1, 2, 2, 2, 1, 2, 2, 1, 2, 2, 2, 1, 2, 1, 1, 2, 1, 2, 2, 1, 1, 1, 1, 2, 1, 1, 1, 2, 2, 1, 2, 1, 1, 2, 1, 2, 2, 2, 1, 1, 1, 1, 1, 1, 1, 2, 2, 1, 2, 1, 3, 2, 2, 2, 2, 2, 2, 2, 1, 2, 1, 3, 3, 1, 1, 1, 2, 2, 3, 2, 1, 2, 3, 1, 1, 3, 1, 3, 1, 2, 1, 3, 3, 1, 3, 3, 2, 3, 1, 1, 1, 1, 1, 1, 2, 1, 1, 2, 3, 1, 1, 1, 1, 1, 2, 2, 1, 3, 1, 1, 3, 3, 1, 3, 3, 2, 1, 1, 2, 3, 2, 2, 1, 1, 2, 3, 1, 1, 1, 3, 1, 2, 2, 1, 1, 2, 1, 2, 1, 1, 1, 1, 1, 2, 1, 1, 1, 2, 1, 2, 1, 2, 1, 2, 2, 1, 2, 2, 1, 2, 1, 2, 1, 1, 2, 2, 1, 1, 1, 1, 2, 2, 2, 2, 1, 2, 1, 2, 1, 1, 1</td><td>1, 1, 2, 1, 2, 2, 3, 3, 3, 2, 2, 3, 3, 1, 3, 3, 1, 1, 2, 3, 1, 3, 1, 1, 2, 1, 1, 1, 1, 2, 1, 1, 1, 1, 2, 1, 1, 1, 1, 2, 2, 2, 1, 1, 1, 2, 1, 2, 1, 1, 2, 1, 3, 2, 1, 2, 2, 2, 1, 2, 2, 2, 2, 2, 2, 1, 2, 2, 2, 1, 1, 1, 1, 1, 2, 1, 2, 2, 2, 2, 2, 1, 2, 1, 2, 2, 2, 2, 1, 2, 1, 2, 2, 1, 1, 3, 2, 3, 2, 1, 3, 1, 3, 2, 1, 3, 1, 1, 1, 3, 1, 2, 1, 3, 1, 1, 3, 1, 3, 2, 2, 1, 1, 2, 2, 2, 3, 1, 2, 1, 1, 1, 1, 1, 1, 2, 3, 1, 3, 2, 1, 2, 2, 2, 1, 2, 2, 1, 2, 2, 2, 1, 2, 1, 1, 2, 1, 2, 2, 1, 1, 1, 1, 2, 1, 1, 1, 2, 2, 1, 2, 1, 1, 2, 1, 2, 2, 2, 1, 1, 1, 1, 1, 1, 1, 2, 2, 1, 2, 1, 3, 2, 2, 2, 2, 2, 2, 2, 1, 2, 1, 3, 3, 1, 1, 1, 2, 2, 3, 2, 1, 2, 3, 1, 1, 3, 1, 3, 1, 2, 1, 3, 3, 1, 3, 3, 2, 3, 1, 1, 1, 1, 1, 1, 2, 1, 1, 2, 3, 1, 1, 1, 1, 1, 2, 2, 1, 3, 1, 1, 3, 3, 1, 3, 3, 2, 1, 1, 2, 3, 2, 2, 1, 1, 2, 3, 1, 1, 1, 3, 1, 2, 2, 1, 1, 2, 1, 2, 1, 1, 1, 1, 1, 2, 1, 1, 1, 2, 1, 2, 1, 2, 1, 2, 2, 1, 2, 2, 1, 2, 1, 2, 1, 1, 2, 2, 1, 1, 1, 1, 2, 2, 2, 2, 1, 2, 1, 2, 1, 1, 1</td></tr>\n",
       "\t<tr><th scope=row>predictor</th><td>3, 2, 1, 3, 1, 3, 3, 2, 3, 1, 3, 2, 3, 3, 1, 3, 1, 3, 3, 3, 3, 3, 1, 1, 1, 2, 2, 1, 2, 1, 2, 2, 2, 2, 1, 2, 1, 2, 1, 2, 2, 1, 2, 1, 1, 2, 1, 1, 2, 1, 2, 2, 1, 3, 1, 1, 1, 1, 3, 3, 1, 3, 1, 2, 1, 3, 3, 1, 3, 3, 3, 1, 3, 1, 1, 3, 3, 3, 3, 3, 3, 1, 3, 1, 2, 2, 2, 1, 1, 2, 2, 1, 2, 1, 1, 2, 1, 1, 2, 2, 2, 2, 1, 1, 1, 2, 1, 1, 1, 1, 1, 1, 1, 2, 2, 1, 3, 2, 3, 2, 1, 2, 1, 3, 2, 3, 3, 3, 3, 2, 2, 3, 3, 3, 1, 1, 1, 1, 3, 1, 1, 2, 2, 3, 3, 3, 1, 2, 3, 3, 2, 1, 1, 1, 1, 3, 3, 3, 3, 3, 3, 3, 3, 2, 1, 1, 2, 2, 1, 3, 1, 1, 1, 1, 1, 2, 1, 2, 1, 2, 1, 1, 1, 2, 1, 2, 2, 2, 1, 1, 1, 1, 2, 2, 2, 2, 1, 1, 1</td><td>1, 2, 2, 3, 1, 3, 2, 3, 3, 2, 1, 3, 2, 3, 3, 1, 1, 2, 2, 1, 2, 2, 2, 1, 2, 2, 2, 2, 2, 2, 1, 2, 2, 2, 1, 2, 2, 2, 2, 1, 2, 2, 2, 2, 1, 2, 1, 1, 1, 2, 2, 1, 3, 2, 1, 3, 1, 3, 2, 1, 1, 1, 1, 3, 3, 2, 2, 2, 3, 2, 3, 2, 3, 1, 2, 1, 2, 2, 2, 2, 2, 2, 2, 1, 1, 2, 2, 2, 2, 2, 2, 1, 2, 2, 1, 2, 2, 2, 1, 2, 2, 1, 1, 2, 2, 2, 1, 2, 3, 2, 1, 1, 2, 1, 3, 3, 3, 3, 3, 3, 3, 1, 1, 2, 1, 2, 2, 3, 2, 2, 1, 3, 3, 3, 3, 3, 2, 3, 3, 1, 3, 1, 3, 2, 2, 2, 2, 2, 2, 2, 2, 2, 2, 2, 1, 2, 2, 2, 2, 2, 1, 2, 2, 2, 1                                                                                                      </td></tr>\n",
       "\t<tr><th scope=row>response</th><td>1, 1, 1, 3, 3, 3, 3, 3, 1, 3, 3, 1, 1, 3, 1, 3, 1, 1, 1, 1, 1, 1, 1, 1, 1, 1, 1, 1, 1, 1, 1, 1, 1, 1, 1, 1, 1, 3, 1, 1, 1, 1, 1, 1, 1, 1, 1, 1, 1, 1, 1, 1, 1, 3, 3, 1, 3, 1, 3, 1, 3, 1, 1, 1, 3, 1, 1, 3, 1, 1, 3, 1, 3, 1, 1, 3, 1, 1, 1, 1, 1, 1, 1, 3, 1, 3, 1, 1, 1, 1, 1, 1, 1, 1, 1, 1, 1, 1, 1, 1, 1, 1, 1, 1, 1, 1, 1, 1, 1, 1, 1, 1, 1, 3, 1, 1, 3, 3, 1, 1, 1, 3, 1, 3, 1, 1, 3, 1, 3, 1, 1, 3, 3, 1, 3, 3, 3, 1, 1, 1, 1, 1, 1, 1, 1, 3, 1, 1, 1, 1, 1, 1, 3, 1, 1, 3, 3, 1, 3, 3, 1, 1, 3, 1, 1, 3, 1, 1, 1, 3, 1, 1, 1, 1, 1, 1, 1, 1, 1, 1, 1, 1, 1, 1, 1, 1, 1, 1, 1, 1, 1, 1, 1, 1, 1, 1, 1, 1, 1</td><td>2, 2, 2, 3, 3, 3, 2, 2, 3, 3, 3, 3, 2, 3, 3, 2, 2, 2, 2, 2, 2, 2, 2, 2, 3, 2, 2, 2, 2, 2, 2, 2, 2, 2, 2, 2, 2, 2, 2, 2, 2, 2, 2, 2, 2, 2, 2, 2, 2, 2, 2, 2, 3, 2, 3, 2, 3, 3, 2, 3, 3, 2, 3, 3, 3, 2, 2, 2, 2, 2, 3, 2, 2, 3, 3, 2, 2, 2, 2, 2, 2, 2, 2, 2, 2, 2, 2, 2, 2, 2, 2, 2, 2, 2, 2, 2, 2, 2, 2, 3, 2, 2, 2, 2, 2, 2, 2, 2, 3, 3, 2, 2, 3, 2, 2, 3, 3, 3, 2, 3, 3, 3, 3, 2, 3, 2, 2, 3, 2, 2, 3, 3, 3, 3, 3, 2, 2, 3, 2, 2, 2, 3, 3, 2, 2, 2, 2, 2, 2, 2, 2, 2, 2, 2, 2, 2, 2, 2, 2, 2, 2, 2, 2, 2, 2                                                                                                      </td></tr>\n",
       "\t<tr><th scope=row>levels</th><td>Accettabile, Ottimo     </td><td>Complicato, Ottimo      </td></tr>\n",
       "</tbody>\n",
       "</table>\n"
      ],
      "text/latex": [
       "\\begin{tabular}{r|ll}\n",
       "\tpercent & FALSE & FALSE\\\\\n",
       "\tsensitivities & 1.0000000, 0.6976744, 0.5581395, 0.0000000 & 1.0000000, 0.6976744, 0.5581395, 0.0000000\\\\\n",
       "\tspecificities & 0.0000000, 0.4615385, 0.7948718, 1.0000000 & 0.0000000, 0.2459016, 0.9262295, 1.0000000\\\\\n",
       "\tthresholds & -Inf, 1.5, 2.5, Inf & -Inf, 1.5, 2.5, Inf\\\\\n",
       "\tdirection & < & <\\\\\n",
       "\tcases & 3, 1, 3, 3, 2, 1, 3, 3, 3, 2, 3, 1, 1, 3, 1, 1, 1, 3, 3, 3, 1, 2, 2, 3, 2, 2, 3, 3, 3, 3, 3, 1, 1, 1, 3, 1, 3, 3, 3, 3, 3, 1, 3 & 3, 1, 3, 3, 2, 1, 3, 3, 3, 2, 3, 1, 1, 3, 1, 1, 1, 3, 3, 3, 1, 2, 2, 3, 2, 2, 3, 3, 3, 3, 3, 1, 1, 1, 3, 1, 3, 3, 3, 3, 3, 1, 3\\\\\n",
       "\tcontrols & 3, 2, 1, 3, 2, 3, 1, 1, 3, 3, 3, 3, 3, 1, 1, 1, 2, 2, 1, 2, 1, 2, 2, 2, 2, 1, 2, 1, 1, 2, 2, 1, 2, 1, 1, 2, 1, 1, 2, 1, 2, 2, 1, 1, 1, 3, 3, 1, 2, 3, 3, 3, 3, 1, 1, 1, 3, 3, 3, 3, 3, 1, 3, 2, 2, 1, 1, 2, 2, 1, 2, 1, 1, 2, 1, 1, 2, 2, 2, 2, 1, 1, 1, 2, 1, 1, 1, 1, 1, 1, 1, 2, 1, 3, 2, 1, 1, 2, 3, 3, 2, 2, 3, 1, 3, 1, 1, 2, 2, 3, 3, 1, 2, 3, 3, 2, 1, 1, 1, 3, 3, 3, 2, 1, 2, 2, 1, 1, 1, 1, 1, 1, 2, 1, 2, 1, 2, 1, 1, 1, 2, 1, 2, 2, 2, 1, 1, 1, 1, 2, 2, 2, 2, 1, 1, 1 & 1, 2, 2, 2, 3, 2, 1, 1, 2, 2, 1, 2, 2, 2, 1, 2, 2, 2, 2, 2, 1, 2, 2, 2, 1, 2, 2, 2, 2, 1, 2, 2, 2, 2, 1, 2, 1, 1, 1, 2, 2, 1, 2, 3, 2, 1, 2, 2, 2, 3, 2, 2, 3, 1, 2, 2, 2, 2, 2, 2, 2, 1, 1, 2, 2, 2, 2, 2, 2, 1, 2, 2, 1, 2, 2, 2, 1, 2, 1, 1, 2, 2, 2, 1, 2, 1, 1, 1, 3, 3, 2, 2, 2, 2, 2, 3, 2, 3, 1, 3, 2, 2, 2, 2, 2, 2, 2, 2, 2, 2, 2, 1, 2, 2, 2, 2, 2, 1, 2, 2, 2, 1                                                                                                      \\\\\n",
       "\tfun.sesp & function (thresholds, controls, cases, direction) , \\{,     ncontrols <- length(controls),     ncases <- length(cases),     predictor <- c(controls, cases),     response <- c(rep(0, length(controls)), rep(1, length(cases))),     decr <- direction == \"<\",     predictor.order <- order(predictor, decreasing = decr),     predictor.sorted <- predictor{[}predictor.order{]},     response.sorted <- response{[}predictor.order{]},     tp <- cumsum(response.sorted == 1),     fp <- cumsum(response.sorted == 0),     se <- tp/ncases,     sp <- (ncontrols - fp)/ncontrols,     dups.pred <- rev(duplicated(rev(predictor.sorted))),     dups.sesp <- duplicated(se) \\& duplicated(sp),     dups <- dups.pred \\textbar{} dups.sesp,     if (sum(!dups) != length(thresholds) - 1) \\{,         sessionInfo <- sessionInfo(),         save(thresholds, controls, cases, direction, sessionInfo, ,             file = \"pROC\\_bug.RData\"),         stop(sprintf(\"pROC: fast algorithm computed an incorrect number of sensitivities and specificities. Diagnostic data saved in pROC\\_bug.RData. Please report this bug to <\\%s>.\", ,             utils::packageDescription(\"pROC\")\\$BugReports)),     \\},     if (direction == \"<\") \\{,         se <- rev(c(0, se{[}!dups{]})),         sp <- rev(c(1, sp{[}!dups{]})),     \\},     else \\{,         se <- c(0, se{[}!dups{]}),         sp <- c(1, sp{[}!dups{]}),     \\},     return(list(se = se, sp = sp)), \\} & function (thresholds, controls, cases, direction) , \\{,     ncontrols <- length(controls),     ncases <- length(cases),     predictor <- c(controls, cases),     response <- c(rep(0, length(controls)), rep(1, length(cases))),     decr <- direction == \"<\",     predictor.order <- order(predictor, decreasing = decr),     predictor.sorted <- predictor{[}predictor.order{]},     response.sorted <- response{[}predictor.order{]},     tp <- cumsum(response.sorted == 1),     fp <- cumsum(response.sorted == 0),     se <- tp/ncases,     sp <- (ncontrols - fp)/ncontrols,     dups.pred <- rev(duplicated(rev(predictor.sorted))),     dups.sesp <- duplicated(se) \\& duplicated(sp),     dups <- dups.pred \\textbar{} dups.sesp,     if (sum(!dups) != length(thresholds) - 1) \\{,         sessionInfo <- sessionInfo(),         save(thresholds, controls, cases, direction, sessionInfo, ,             file = \"pROC\\_bug.RData\"),         stop(sprintf(\"pROC: fast algorithm computed an incorrect number of sensitivities and specificities. Diagnostic data saved in pROC\\_bug.RData. Please report this bug to <\\%s>.\", ,             utils::packageDescription(\"pROC\")\\$BugReports)),     \\},     if (direction == \"<\") \\{,         se <- rev(c(0, se{[}!dups{]})),         sp <- rev(c(1, sp{[}!dups{]})),     \\},     else \\{,         se <- c(0, se{[}!dups{]}),         sp <- c(1, sp{[}!dups{]}),     \\},     return(list(se = se, sp = sp)), \\}\\\\\n",
       "\tcall & roc.default(response = response, predictor = predictor, levels = X, ,     percent = percent, direction = ..1, auc = FALSE, ci = FALSE) & roc.default(response = response, predictor = predictor, levels = X, ,     percent = percent, direction = ..1, auc = FALSE, ci = FALSE)\\\\\n",
       "\toriginal.predictor & 3, 2, 1, 1, 2, 2, 3, 1, 3, 2, 3, 3, 2, 3, 1, 3, 2, 3, 2, 3, 1, 3, 1, 3, 1, 3, 3, 3, 3, 1, 1, 1, 1, 2, 2, 2, 1, 2, 1, 2, 1, 2, 2, 2, 2, 2, 2, 2, 1, 2, 1, 1, 2, 2, 1, 2, 2, 2, 2, 2, 1, 2, 2, 2, 1, 2, 2, 2, 2, 1, 2, 1, 1, 2, 2, 1, 1, 2, 2, 2, 2, 1, 1, 2, 2, 1, 1, 1, 1, 2, 2, 2, 1, 2, 1, 3, 2, 1, 3, 1, 1, 1, 3, 2, 3, 1, 3, 1, 2, 1, 3, 1, 3, 1, 3, 3, 3, 1, 3, 2, 2, 1, 1, 2, 3, 2, 3, 3, 2, 3, 3, 3, 3, 1, 3, 3, 1, 2, 2, 1, 2, 2, 2, 2, 1, 2, 2, 1, 2, 2, 1, 2, 1, 2, 1, 2, 2, 2, 2, 1, 1, 2, 1, 2, 1, 2, 2, 2, 2, 2, 1, 2, 1, 2, 1, 2, 1, 2, 1, 2, 1, 1, 1, 1, 1, 2, 2, 1, 1, 1, 2, 2, 1, 1, 2, 2, 2, 1, 2, 2, 1, 3, 2, 3, 2, 1, 1, 1, 2, 1, 1, 3, 3, 2, 3, 3, 3, 3, 2, 3, 2, 3, 3, 3, 1, 1, 2, 1, 1, 3, 1, 1, 2, 2, 2, 3, 3, 2, 3, 1, 2, 3, 3, 2, 2, 2, 1, 1, 1, 1, 3, 3, 3, 3, 3, 3, 3, 3, 2, 3, 3, 1, 2, 1, 3, 1, 2, 2, 1, 3, 1, 2, 2, 1, 1, 2, 1, 2, 1, 2, 1, 2, 1, 2, 2, 1, 1, 2, 1, 2, 2, 2, 1, 2, 2, 2, 2, 1, 2, 2, 2, 2, 1, 1, 2, 2, 1, 1, 2, 2, 2, 1, 2, 2, 2, 2, 2, 1, 1, 1, 1 & 3, 2, 1, 1, 2, 2, 3, 1, 3, 2, 3, 3, 2, 3, 1, 3, 2, 3, 2, 3, 1, 3, 1, 3, 1, 3, 3, 3, 3, 1, 1, 1, 1, 2, 2, 2, 1, 2, 1, 2, 1, 2, 2, 2, 2, 2, 2, 2, 1, 2, 1, 1, 2, 2, 1, 2, 2, 2, 2, 2, 1, 2, 2, 2, 1, 2, 2, 2, 2, 1, 2, 1, 1, 2, 2, 1, 1, 2, 2, 2, 2, 1, 1, 2, 2, 1, 1, 1, 1, 2, 2, 2, 1, 2, 1, 3, 2, 1, 3, 1, 1, 1, 3, 2, 3, 1, 3, 1, 2, 1, 3, 1, 3, 1, 3, 3, 3, 1, 3, 2, 2, 1, 1, 2, 3, 2, 3, 3, 2, 3, 3, 3, 3, 1, 3, 3, 1, 2, 2, 1, 2, 2, 2, 2, 1, 2, 2, 1, 2, 2, 1, 2, 1, 2, 1, 2, 2, 2, 2, 1, 1, 2, 1, 2, 1, 2, 2, 2, 2, 2, 1, 2, 1, 2, 1, 2, 1, 2, 1, 2, 1, 1, 1, 1, 1, 2, 2, 1, 1, 1, 2, 2, 1, 1, 2, 2, 2, 1, 2, 2, 1, 3, 2, 3, 2, 1, 1, 1, 2, 1, 1, 3, 3, 2, 3, 3, 3, 3, 2, 3, 2, 3, 3, 3, 1, 1, 2, 1, 1, 3, 1, 1, 2, 2, 2, 3, 3, 2, 3, 1, 2, 3, 3, 2, 2, 2, 1, 1, 1, 1, 3, 3, 3, 3, 3, 3, 3, 3, 2, 3, 3, 1, 2, 1, 3, 1, 2, 2, 1, 3, 1, 2, 2, 1, 1, 2, 1, 2, 1, 2, 1, 2, 1, 2, 2, 1, 1, 2, 1, 2, 2, 2, 1, 2, 2, 2, 2, 1, 2, 2, 2, 2, 1, 1, 2, 2, 1, 1, 2, 2, 2, 1, 2, 2, 2, 2, 2, 1, 1, 1, 1\\\\\n",
       "\toriginal.response & 1, 1, 2, 1, 2, 2, 3, 3, 3, 2, 2, 3, 3, 1, 3, 3, 1, 1, 2, 3, 1, 3, 1, 1, 2, 1, 1, 1, 1, 2, 1, 1, 1, 1, 2, 1, 1, 1, 1, 2, 2, 2, 1, 1, 1, 2, 1, 2, 1, 1, 2, 1, 3, 2, 1, 2, 2, 2, 1, 2, 2, 2, 2, 2, 2, 1, 2, 2, 2, 1, 1, 1, 1, 1, 2, 1, 2, 2, 2, 2, 2, 1, 2, 1, 2, 2, 2, 2, 1, 2, 1, 2, 2, 1, 1, 3, 2, 3, 2, 1, 3, 1, 3, 2, 1, 3, 1, 1, 1, 3, 1, 2, 1, 3, 1, 1, 3, 1, 3, 2, 2, 1, 1, 2, 2, 2, 3, 1, 2, 1, 1, 1, 1, 1, 1, 2, 3, 1, 3, 2, 1, 2, 2, 2, 1, 2, 2, 1, 2, 2, 2, 1, 2, 1, 1, 2, 1, 2, 2, 1, 1, 1, 1, 2, 1, 1, 1, 2, 2, 1, 2, 1, 1, 2, 1, 2, 2, 2, 1, 1, 1, 1, 1, 1, 1, 2, 2, 1, 2, 1, 3, 2, 2, 2, 2, 2, 2, 2, 1, 2, 1, 3, 3, 1, 1, 1, 2, 2, 3, 2, 1, 2, 3, 1, 1, 3, 1, 3, 1, 2, 1, 3, 3, 1, 3, 3, 2, 3, 1, 1, 1, 1, 1, 1, 2, 1, 1, 2, 3, 1, 1, 1, 1, 1, 2, 2, 1, 3, 1, 1, 3, 3, 1, 3, 3, 2, 1, 1, 2, 3, 2, 2, 1, 1, 2, 3, 1, 1, 1, 3, 1, 2, 2, 1, 1, 2, 1, 2, 1, 1, 1, 1, 1, 2, 1, 1, 1, 2, 1, 2, 1, 2, 1, 2, 2, 1, 2, 2, 1, 2, 1, 2, 1, 1, 2, 2, 1, 1, 1, 1, 2, 2, 2, 2, 1, 2, 1, 2, 1, 1, 1 & 1, 1, 2, 1, 2, 2, 3, 3, 3, 2, 2, 3, 3, 1, 3, 3, 1, 1, 2, 3, 1, 3, 1, 1, 2, 1, 1, 1, 1, 2, 1, 1, 1, 1, 2, 1, 1, 1, 1, 2, 2, 2, 1, 1, 1, 2, 1, 2, 1, 1, 2, 1, 3, 2, 1, 2, 2, 2, 1, 2, 2, 2, 2, 2, 2, 1, 2, 2, 2, 1, 1, 1, 1, 1, 2, 1, 2, 2, 2, 2, 2, 1, 2, 1, 2, 2, 2, 2, 1, 2, 1, 2, 2, 1, 1, 3, 2, 3, 2, 1, 3, 1, 3, 2, 1, 3, 1, 1, 1, 3, 1, 2, 1, 3, 1, 1, 3, 1, 3, 2, 2, 1, 1, 2, 2, 2, 3, 1, 2, 1, 1, 1, 1, 1, 1, 2, 3, 1, 3, 2, 1, 2, 2, 2, 1, 2, 2, 1, 2, 2, 2, 1, 2, 1, 1, 2, 1, 2, 2, 1, 1, 1, 1, 2, 1, 1, 1, 2, 2, 1, 2, 1, 1, 2, 1, 2, 2, 2, 1, 1, 1, 1, 1, 1, 1, 2, 2, 1, 2, 1, 3, 2, 2, 2, 2, 2, 2, 2, 1, 2, 1, 3, 3, 1, 1, 1, 2, 2, 3, 2, 1, 2, 3, 1, 1, 3, 1, 3, 1, 2, 1, 3, 3, 1, 3, 3, 2, 3, 1, 1, 1, 1, 1, 1, 2, 1, 1, 2, 3, 1, 1, 1, 1, 1, 2, 2, 1, 3, 1, 1, 3, 3, 1, 3, 3, 2, 1, 1, 2, 3, 2, 2, 1, 1, 2, 3, 1, 1, 1, 3, 1, 2, 2, 1, 1, 2, 1, 2, 1, 1, 1, 1, 1, 2, 1, 1, 1, 2, 1, 2, 1, 2, 1, 2, 2, 1, 2, 2, 1, 2, 1, 2, 1, 1, 2, 2, 1, 1, 1, 1, 2, 2, 2, 2, 1, 2, 1, 2, 1, 1, 1\\\\\n",
       "\tpredictor & 3, 2, 1, 3, 1, 3, 3, 2, 3, 1, 3, 2, 3, 3, 1, 3, 1, 3, 3, 3, 3, 3, 1, 1, 1, 2, 2, 1, 2, 1, 2, 2, 2, 2, 1, 2, 1, 2, 1, 2, 2, 1, 2, 1, 1, 2, 1, 1, 2, 1, 2, 2, 1, 3, 1, 1, 1, 1, 3, 3, 1, 3, 1, 2, 1, 3, 3, 1, 3, 3, 3, 1, 3, 1, 1, 3, 3, 3, 3, 3, 3, 1, 3, 1, 2, 2, 2, 1, 1, 2, 2, 1, 2, 1, 1, 2, 1, 1, 2, 2, 2, 2, 1, 1, 1, 2, 1, 1, 1, 1, 1, 1, 1, 2, 2, 1, 3, 2, 3, 2, 1, 2, 1, 3, 2, 3, 3, 3, 3, 2, 2, 3, 3, 3, 1, 1, 1, 1, 3, 1, 1, 2, 2, 3, 3, 3, 1, 2, 3, 3, 2, 1, 1, 1, 1, 3, 3, 3, 3, 3, 3, 3, 3, 2, 1, 1, 2, 2, 1, 3, 1, 1, 1, 1, 1, 2, 1, 2, 1, 2, 1, 1, 1, 2, 1, 2, 2, 2, 1, 1, 1, 1, 2, 2, 2, 2, 1, 1, 1 & 1, 2, 2, 3, 1, 3, 2, 3, 3, 2, 1, 3, 2, 3, 3, 1, 1, 2, 2, 1, 2, 2, 2, 1, 2, 2, 2, 2, 2, 2, 1, 2, 2, 2, 1, 2, 2, 2, 2, 1, 2, 2, 2, 2, 1, 2, 1, 1, 1, 2, 2, 1, 3, 2, 1, 3, 1, 3, 2, 1, 1, 1, 1, 3, 3, 2, 2, 2, 3, 2, 3, 2, 3, 1, 2, 1, 2, 2, 2, 2, 2, 2, 2, 1, 1, 2, 2, 2, 2, 2, 2, 1, 2, 2, 1, 2, 2, 2, 1, 2, 2, 1, 1, 2, 2, 2, 1, 2, 3, 2, 1, 1, 2, 1, 3, 3, 3, 3, 3, 3, 3, 1, 1, 2, 1, 2, 2, 3, 2, 2, 1, 3, 3, 3, 3, 3, 2, 3, 3, 1, 3, 1, 3, 2, 2, 2, 2, 2, 2, 2, 2, 2, 2, 2, 1, 2, 2, 2, 2, 2, 1, 2, 2, 2, 1                                                                                                      \\\\\n",
       "\tresponse & 1, 1, 1, 3, 3, 3, 3, 3, 1, 3, 3, 1, 1, 3, 1, 3, 1, 1, 1, 1, 1, 1, 1, 1, 1, 1, 1, 1, 1, 1, 1, 1, 1, 1, 1, 1, 1, 3, 1, 1, 1, 1, 1, 1, 1, 1, 1, 1, 1, 1, 1, 1, 1, 3, 3, 1, 3, 1, 3, 1, 3, 1, 1, 1, 3, 1, 1, 3, 1, 1, 3, 1, 3, 1, 1, 3, 1, 1, 1, 1, 1, 1, 1, 3, 1, 3, 1, 1, 1, 1, 1, 1, 1, 1, 1, 1, 1, 1, 1, 1, 1, 1, 1, 1, 1, 1, 1, 1, 1, 1, 1, 1, 1, 3, 1, 1, 3, 3, 1, 1, 1, 3, 1, 3, 1, 1, 3, 1, 3, 1, 1, 3, 3, 1, 3, 3, 3, 1, 1, 1, 1, 1, 1, 1, 1, 3, 1, 1, 1, 1, 1, 1, 3, 1, 1, 3, 3, 1, 3, 3, 1, 1, 3, 1, 1, 3, 1, 1, 1, 3, 1, 1, 1, 1, 1, 1, 1, 1, 1, 1, 1, 1, 1, 1, 1, 1, 1, 1, 1, 1, 1, 1, 1, 1, 1, 1, 1, 1, 1 & 2, 2, 2, 3, 3, 3, 2, 2, 3, 3, 3, 3, 2, 3, 3, 2, 2, 2, 2, 2, 2, 2, 2, 2, 3, 2, 2, 2, 2, 2, 2, 2, 2, 2, 2, 2, 2, 2, 2, 2, 2, 2, 2, 2, 2, 2, 2, 2, 2, 2, 2, 2, 3, 2, 3, 2, 3, 3, 2, 3, 3, 2, 3, 3, 3, 2, 2, 2, 2, 2, 3, 2, 2, 3, 3, 2, 2, 2, 2, 2, 2, 2, 2, 2, 2, 2, 2, 2, 2, 2, 2, 2, 2, 2, 2, 2, 2, 2, 2, 3, 2, 2, 2, 2, 2, 2, 2, 2, 3, 3, 2, 2, 3, 2, 2, 3, 3, 3, 2, 3, 3, 3, 3, 2, 3, 2, 2, 3, 2, 2, 3, 3, 3, 3, 3, 2, 2, 3, 2, 2, 2, 3, 3, 2, 2, 2, 2, 2, 2, 2, 2, 2, 2, 2, 2, 2, 2, 2, 2, 2, 2, 2, 2, 2, 2                                                                                                      \\\\\n",
       "\tlevels & Accettabile, Ottimo      & Complicato, Ottimo      \\\\\n",
       "\\end{tabular}\n"
      ],
      "text/markdown": [
       "\n",
       "| percent | FALSE | FALSE |\n",
       "| sensitivities | 1.0000000, 0.6976744, 0.5581395, 0.0000000 | 1.0000000, 0.6976744, 0.5581395, 0.0000000 |\n",
       "| specificities | 0.0000000, 0.4615385, 0.7948718, 1.0000000 | 0.0000000, 0.2459016, 0.9262295, 1.0000000 |\n",
       "| thresholds | -Inf, 1.5, 2.5, Inf | -Inf, 1.5, 2.5, Inf |\n",
       "| direction | < | < |\n",
       "| cases | 3, 1, 3, 3, 2, 1, 3, 3, 3, 2, 3, 1, 1, 3, 1, 1, 1, 3, 3, 3, 1, 2, 2, 3, 2, 2, 3, 3, 3, 3, 3, 1, 1, 1, 3, 1, 3, 3, 3, 3, 3, 1, 3 | 3, 1, 3, 3, 2, 1, 3, 3, 3, 2, 3, 1, 1, 3, 1, 1, 1, 3, 3, 3, 1, 2, 2, 3, 2, 2, 3, 3, 3, 3, 3, 1, 1, 1, 3, 1, 3, 3, 3, 3, 3, 1, 3 |\n",
       "| controls | 3, 2, 1, 3, 2, 3, 1, 1, 3, 3, 3, 3, 3, 1, 1, 1, 2, 2, 1, 2, 1, 2, 2, 2, 2, 1, 2, 1, 1, 2, 2, 1, 2, 1, 1, 2, 1, 1, 2, 1, 2, 2, 1, 1, 1, 3, 3, 1, 2, 3, 3, 3, 3, 1, 1, 1, 3, 3, 3, 3, 3, 1, 3, 2, 2, 1, 1, 2, 2, 1, 2, 1, 1, 2, 1, 1, 2, 2, 2, 2, 1, 1, 1, 2, 1, 1, 1, 1, 1, 1, 1, 2, 1, 3, 2, 1, 1, 2, 3, 3, 2, 2, 3, 1, 3, 1, 1, 2, 2, 3, 3, 1, 2, 3, 3, 2, 1, 1, 1, 3, 3, 3, 2, 1, 2, 2, 1, 1, 1, 1, 1, 1, 2, 1, 2, 1, 2, 1, 1, 1, 2, 1, 2, 2, 2, 1, 1, 1, 1, 2, 2, 2, 2, 1, 1, 1 | 1, 2, 2, 2, 3, 2, 1, 1, 2, 2, 1, 2, 2, 2, 1, 2, 2, 2, 2, 2, 1, 2, 2, 2, 1, 2, 2, 2, 2, 1, 2, 2, 2, 2, 1, 2, 1, 1, 1, 2, 2, 1, 2, 3, 2, 1, 2, 2, 2, 3, 2, 2, 3, 1, 2, 2, 2, 2, 2, 2, 2, 1, 1, 2, 2, 2, 2, 2, 2, 1, 2, 2, 1, 2, 2, 2, 1, 2, 1, 1, 2, 2, 2, 1, 2, 1, 1, 1, 3, 3, 2, 2, 2, 2, 2, 3, 2, 3, 1, 3, 2, 2, 2, 2, 2, 2, 2, 2, 2, 2, 2, 1, 2, 2, 2, 2, 2, 1, 2, 2, 2, 1                                                                                                       |\n",
       "| fun.sesp | function (thresholds, controls, cases, direction) , {,     ncontrols <- length(controls),     ncases <- length(cases),     predictor <- c(controls, cases),     response <- c(rep(0, length(controls)), rep(1, length(cases))),     decr <- direction == \"<\",     predictor.order <- order(predictor, decreasing = decr),     predictor.sorted <- predictor[predictor.order],     response.sorted <- response[predictor.order],     tp <- cumsum(response.sorted == 1),     fp <- cumsum(response.sorted == 0),     se <- tp/ncases,     sp <- (ncontrols - fp)/ncontrols,     dups.pred <- rev(duplicated(rev(predictor.sorted))),     dups.sesp <- duplicated(se) & duplicated(sp),     dups <- dups.pred | dups.sesp,     if (sum(!dups) != length(thresholds) - 1) {,         sessionInfo <- sessionInfo(),         save(thresholds, controls, cases, direction, sessionInfo, ,             file = \"pROC_bug.RData\"),         stop(sprintf(\"pROC: fast algorithm computed an incorrect number of sensitivities and specificities. Diagnostic data saved in pROC_bug.RData. Please report this bug to <%s>.\", ,             utils::packageDescription(\"pROC\")$BugReports)),     },     if (direction == \"<\") {,         se <- rev(c(0, se[!dups])),         sp <- rev(c(1, sp[!dups])),     },     else {,         se <- c(0, se[!dups]),         sp <- c(1, sp[!dups]),     },     return(list(se = se, sp = sp)), } | function (thresholds, controls, cases, direction) , {,     ncontrols <- length(controls),     ncases <- length(cases),     predictor <- c(controls, cases),     response <- c(rep(0, length(controls)), rep(1, length(cases))),     decr <- direction == \"<\",     predictor.order <- order(predictor, decreasing = decr),     predictor.sorted <- predictor[predictor.order],     response.sorted <- response[predictor.order],     tp <- cumsum(response.sorted == 1),     fp <- cumsum(response.sorted == 0),     se <- tp/ncases,     sp <- (ncontrols - fp)/ncontrols,     dups.pred <- rev(duplicated(rev(predictor.sorted))),     dups.sesp <- duplicated(se) & duplicated(sp),     dups <- dups.pred | dups.sesp,     if (sum(!dups) != length(thresholds) - 1) {,         sessionInfo <- sessionInfo(),         save(thresholds, controls, cases, direction, sessionInfo, ,             file = \"pROC_bug.RData\"),         stop(sprintf(\"pROC: fast algorithm computed an incorrect number of sensitivities and specificities. Diagnostic data saved in pROC_bug.RData. Please report this bug to <%s>.\", ,             utils::packageDescription(\"pROC\")$BugReports)),     },     if (direction == \"<\") {,         se <- rev(c(0, se[!dups])),         sp <- rev(c(1, sp[!dups])),     },     else {,         se <- c(0, se[!dups]),         sp <- c(1, sp[!dups]),     },     return(list(se = se, sp = sp)), } |\n",
       "| call | roc.default(response = response, predictor = predictor, levels = X, ,     percent = percent, direction = ..1, auc = FALSE, ci = FALSE) | roc.default(response = response, predictor = predictor, levels = X, ,     percent = percent, direction = ..1, auc = FALSE, ci = FALSE) |\n",
       "| original.predictor | 3, 2, 1, 1, 2, 2, 3, 1, 3, 2, 3, 3, 2, 3, 1, 3, 2, 3, 2, 3, 1, 3, 1, 3, 1, 3, 3, 3, 3, 1, 1, 1, 1, 2, 2, 2, 1, 2, 1, 2, 1, 2, 2, 2, 2, 2, 2, 2, 1, 2, 1, 1, 2, 2, 1, 2, 2, 2, 2, 2, 1, 2, 2, 2, 1, 2, 2, 2, 2, 1, 2, 1, 1, 2, 2, 1, 1, 2, 2, 2, 2, 1, 1, 2, 2, 1, 1, 1, 1, 2, 2, 2, 1, 2, 1, 3, 2, 1, 3, 1, 1, 1, 3, 2, 3, 1, 3, 1, 2, 1, 3, 1, 3, 1, 3, 3, 3, 1, 3, 2, 2, 1, 1, 2, 3, 2, 3, 3, 2, 3, 3, 3, 3, 1, 3, 3, 1, 2, 2, 1, 2, 2, 2, 2, 1, 2, 2, 1, 2, 2, 1, 2, 1, 2, 1, 2, 2, 2, 2, 1, 1, 2, 1, 2, 1, 2, 2, 2, 2, 2, 1, 2, 1, 2, 1, 2, 1, 2, 1, 2, 1, 1, 1, 1, 1, 2, 2, 1, 1, 1, 2, 2, 1, 1, 2, 2, 2, 1, 2, 2, 1, 3, 2, 3, 2, 1, 1, 1, 2, 1, 1, 3, 3, 2, 3, 3, 3, 3, 2, 3, 2, 3, 3, 3, 1, 1, 2, 1, 1, 3, 1, 1, 2, 2, 2, 3, 3, 2, 3, 1, 2, 3, 3, 2, 2, 2, 1, 1, 1, 1, 3, 3, 3, 3, 3, 3, 3, 3, 2, 3, 3, 1, 2, 1, 3, 1, 2, 2, 1, 3, 1, 2, 2, 1, 1, 2, 1, 2, 1, 2, 1, 2, 1, 2, 2, 1, 1, 2, 1, 2, 2, 2, 1, 2, 2, 2, 2, 1, 2, 2, 2, 2, 1, 1, 2, 2, 1, 1, 2, 2, 2, 1, 2, 2, 2, 2, 2, 1, 1, 1, 1 | 3, 2, 1, 1, 2, 2, 3, 1, 3, 2, 3, 3, 2, 3, 1, 3, 2, 3, 2, 3, 1, 3, 1, 3, 1, 3, 3, 3, 3, 1, 1, 1, 1, 2, 2, 2, 1, 2, 1, 2, 1, 2, 2, 2, 2, 2, 2, 2, 1, 2, 1, 1, 2, 2, 1, 2, 2, 2, 2, 2, 1, 2, 2, 2, 1, 2, 2, 2, 2, 1, 2, 1, 1, 2, 2, 1, 1, 2, 2, 2, 2, 1, 1, 2, 2, 1, 1, 1, 1, 2, 2, 2, 1, 2, 1, 3, 2, 1, 3, 1, 1, 1, 3, 2, 3, 1, 3, 1, 2, 1, 3, 1, 3, 1, 3, 3, 3, 1, 3, 2, 2, 1, 1, 2, 3, 2, 3, 3, 2, 3, 3, 3, 3, 1, 3, 3, 1, 2, 2, 1, 2, 2, 2, 2, 1, 2, 2, 1, 2, 2, 1, 2, 1, 2, 1, 2, 2, 2, 2, 1, 1, 2, 1, 2, 1, 2, 2, 2, 2, 2, 1, 2, 1, 2, 1, 2, 1, 2, 1, 2, 1, 1, 1, 1, 1, 2, 2, 1, 1, 1, 2, 2, 1, 1, 2, 2, 2, 1, 2, 2, 1, 3, 2, 3, 2, 1, 1, 1, 2, 1, 1, 3, 3, 2, 3, 3, 3, 3, 2, 3, 2, 3, 3, 3, 1, 1, 2, 1, 1, 3, 1, 1, 2, 2, 2, 3, 3, 2, 3, 1, 2, 3, 3, 2, 2, 2, 1, 1, 1, 1, 3, 3, 3, 3, 3, 3, 3, 3, 2, 3, 3, 1, 2, 1, 3, 1, 2, 2, 1, 3, 1, 2, 2, 1, 1, 2, 1, 2, 1, 2, 1, 2, 1, 2, 2, 1, 1, 2, 1, 2, 2, 2, 1, 2, 2, 2, 2, 1, 2, 2, 2, 2, 1, 1, 2, 2, 1, 1, 2, 2, 2, 1, 2, 2, 2, 2, 2, 1, 1, 1, 1 |\n",
       "| original.response | 1, 1, 2, 1, 2, 2, 3, 3, 3, 2, 2, 3, 3, 1, 3, 3, 1, 1, 2, 3, 1, 3, 1, 1, 2, 1, 1, 1, 1, 2, 1, 1, 1, 1, 2, 1, 1, 1, 1, 2, 2, 2, 1, 1, 1, 2, 1, 2, 1, 1, 2, 1, 3, 2, 1, 2, 2, 2, 1, 2, 2, 2, 2, 2, 2, 1, 2, 2, 2, 1, 1, 1, 1, 1, 2, 1, 2, 2, 2, 2, 2, 1, 2, 1, 2, 2, 2, 2, 1, 2, 1, 2, 2, 1, 1, 3, 2, 3, 2, 1, 3, 1, 3, 2, 1, 3, 1, 1, 1, 3, 1, 2, 1, 3, 1, 1, 3, 1, 3, 2, 2, 1, 1, 2, 2, 2, 3, 1, 2, 1, 1, 1, 1, 1, 1, 2, 3, 1, 3, 2, 1, 2, 2, 2, 1, 2, 2, 1, 2, 2, 2, 1, 2, 1, 1, 2, 1, 2, 2, 1, 1, 1, 1, 2, 1, 1, 1, 2, 2, 1, 2, 1, 1, 2, 1, 2, 2, 2, 1, 1, 1, 1, 1, 1, 1, 2, 2, 1, 2, 1, 3, 2, 2, 2, 2, 2, 2, 2, 1, 2, 1, 3, 3, 1, 1, 1, 2, 2, 3, 2, 1, 2, 3, 1, 1, 3, 1, 3, 1, 2, 1, 3, 3, 1, 3, 3, 2, 3, 1, 1, 1, 1, 1, 1, 2, 1, 1, 2, 3, 1, 1, 1, 1, 1, 2, 2, 1, 3, 1, 1, 3, 3, 1, 3, 3, 2, 1, 1, 2, 3, 2, 2, 1, 1, 2, 3, 1, 1, 1, 3, 1, 2, 2, 1, 1, 2, 1, 2, 1, 1, 1, 1, 1, 2, 1, 1, 1, 2, 1, 2, 1, 2, 1, 2, 2, 1, 2, 2, 1, 2, 1, 2, 1, 1, 2, 2, 1, 1, 1, 1, 2, 2, 2, 2, 1, 2, 1, 2, 1, 1, 1 | 1, 1, 2, 1, 2, 2, 3, 3, 3, 2, 2, 3, 3, 1, 3, 3, 1, 1, 2, 3, 1, 3, 1, 1, 2, 1, 1, 1, 1, 2, 1, 1, 1, 1, 2, 1, 1, 1, 1, 2, 2, 2, 1, 1, 1, 2, 1, 2, 1, 1, 2, 1, 3, 2, 1, 2, 2, 2, 1, 2, 2, 2, 2, 2, 2, 1, 2, 2, 2, 1, 1, 1, 1, 1, 2, 1, 2, 2, 2, 2, 2, 1, 2, 1, 2, 2, 2, 2, 1, 2, 1, 2, 2, 1, 1, 3, 2, 3, 2, 1, 3, 1, 3, 2, 1, 3, 1, 1, 1, 3, 1, 2, 1, 3, 1, 1, 3, 1, 3, 2, 2, 1, 1, 2, 2, 2, 3, 1, 2, 1, 1, 1, 1, 1, 1, 2, 3, 1, 3, 2, 1, 2, 2, 2, 1, 2, 2, 1, 2, 2, 2, 1, 2, 1, 1, 2, 1, 2, 2, 1, 1, 1, 1, 2, 1, 1, 1, 2, 2, 1, 2, 1, 1, 2, 1, 2, 2, 2, 1, 1, 1, 1, 1, 1, 1, 2, 2, 1, 2, 1, 3, 2, 2, 2, 2, 2, 2, 2, 1, 2, 1, 3, 3, 1, 1, 1, 2, 2, 3, 2, 1, 2, 3, 1, 1, 3, 1, 3, 1, 2, 1, 3, 3, 1, 3, 3, 2, 3, 1, 1, 1, 1, 1, 1, 2, 1, 1, 2, 3, 1, 1, 1, 1, 1, 2, 2, 1, 3, 1, 1, 3, 3, 1, 3, 3, 2, 1, 1, 2, 3, 2, 2, 1, 1, 2, 3, 1, 1, 1, 3, 1, 2, 2, 1, 1, 2, 1, 2, 1, 1, 1, 1, 1, 2, 1, 1, 1, 2, 1, 2, 1, 2, 1, 2, 2, 1, 2, 2, 1, 2, 1, 2, 1, 1, 2, 2, 1, 1, 1, 1, 2, 2, 2, 2, 1, 2, 1, 2, 1, 1, 1 |\n",
       "| predictor | 3, 2, 1, 3, 1, 3, 3, 2, 3, 1, 3, 2, 3, 3, 1, 3, 1, 3, 3, 3, 3, 3, 1, 1, 1, 2, 2, 1, 2, 1, 2, 2, 2, 2, 1, 2, 1, 2, 1, 2, 2, 1, 2, 1, 1, 2, 1, 1, 2, 1, 2, 2, 1, 3, 1, 1, 1, 1, 3, 3, 1, 3, 1, 2, 1, 3, 3, 1, 3, 3, 3, 1, 3, 1, 1, 3, 3, 3, 3, 3, 3, 1, 3, 1, 2, 2, 2, 1, 1, 2, 2, 1, 2, 1, 1, 2, 1, 1, 2, 2, 2, 2, 1, 1, 1, 2, 1, 1, 1, 1, 1, 1, 1, 2, 2, 1, 3, 2, 3, 2, 1, 2, 1, 3, 2, 3, 3, 3, 3, 2, 2, 3, 3, 3, 1, 1, 1, 1, 3, 1, 1, 2, 2, 3, 3, 3, 1, 2, 3, 3, 2, 1, 1, 1, 1, 3, 3, 3, 3, 3, 3, 3, 3, 2, 1, 1, 2, 2, 1, 3, 1, 1, 1, 1, 1, 2, 1, 2, 1, 2, 1, 1, 1, 2, 1, 2, 2, 2, 1, 1, 1, 1, 2, 2, 2, 2, 1, 1, 1 | 1, 2, 2, 3, 1, 3, 2, 3, 3, 2, 1, 3, 2, 3, 3, 1, 1, 2, 2, 1, 2, 2, 2, 1, 2, 2, 2, 2, 2, 2, 1, 2, 2, 2, 1, 2, 2, 2, 2, 1, 2, 2, 2, 2, 1, 2, 1, 1, 1, 2, 2, 1, 3, 2, 1, 3, 1, 3, 2, 1, 1, 1, 1, 3, 3, 2, 2, 2, 3, 2, 3, 2, 3, 1, 2, 1, 2, 2, 2, 2, 2, 2, 2, 1, 1, 2, 2, 2, 2, 2, 2, 1, 2, 2, 1, 2, 2, 2, 1, 2, 2, 1, 1, 2, 2, 2, 1, 2, 3, 2, 1, 1, 2, 1, 3, 3, 3, 3, 3, 3, 3, 1, 1, 2, 1, 2, 2, 3, 2, 2, 1, 3, 3, 3, 3, 3, 2, 3, 3, 1, 3, 1, 3, 2, 2, 2, 2, 2, 2, 2, 2, 2, 2, 2, 1, 2, 2, 2, 2, 2, 1, 2, 2, 2, 1                                                                                                       |\n",
       "| response | 1, 1, 1, 3, 3, 3, 3, 3, 1, 3, 3, 1, 1, 3, 1, 3, 1, 1, 1, 1, 1, 1, 1, 1, 1, 1, 1, 1, 1, 1, 1, 1, 1, 1, 1, 1, 1, 3, 1, 1, 1, 1, 1, 1, 1, 1, 1, 1, 1, 1, 1, 1, 1, 3, 3, 1, 3, 1, 3, 1, 3, 1, 1, 1, 3, 1, 1, 3, 1, 1, 3, 1, 3, 1, 1, 3, 1, 1, 1, 1, 1, 1, 1, 3, 1, 3, 1, 1, 1, 1, 1, 1, 1, 1, 1, 1, 1, 1, 1, 1, 1, 1, 1, 1, 1, 1, 1, 1, 1, 1, 1, 1, 1, 3, 1, 1, 3, 3, 1, 1, 1, 3, 1, 3, 1, 1, 3, 1, 3, 1, 1, 3, 3, 1, 3, 3, 3, 1, 1, 1, 1, 1, 1, 1, 1, 3, 1, 1, 1, 1, 1, 1, 3, 1, 1, 3, 3, 1, 3, 3, 1, 1, 3, 1, 1, 3, 1, 1, 1, 3, 1, 1, 1, 1, 1, 1, 1, 1, 1, 1, 1, 1, 1, 1, 1, 1, 1, 1, 1, 1, 1, 1, 1, 1, 1, 1, 1, 1, 1 | 2, 2, 2, 3, 3, 3, 2, 2, 3, 3, 3, 3, 2, 3, 3, 2, 2, 2, 2, 2, 2, 2, 2, 2, 3, 2, 2, 2, 2, 2, 2, 2, 2, 2, 2, 2, 2, 2, 2, 2, 2, 2, 2, 2, 2, 2, 2, 2, 2, 2, 2, 2, 3, 2, 3, 2, 3, 3, 2, 3, 3, 2, 3, 3, 3, 2, 2, 2, 2, 2, 3, 2, 2, 3, 3, 2, 2, 2, 2, 2, 2, 2, 2, 2, 2, 2, 2, 2, 2, 2, 2, 2, 2, 2, 2, 2, 2, 2, 2, 3, 2, 2, 2, 2, 2, 2, 2, 2, 3, 3, 2, 2, 3, 2, 2, 3, 3, 3, 2, 3, 3, 3, 3, 2, 3, 2, 2, 3, 2, 2, 3, 3, 3, 3, 3, 2, 2, 3, 2, 2, 2, 3, 3, 2, 2, 2, 2, 2, 2, 2, 2, 2, 2, 2, 2, 2, 2, 2, 2, 2, 2, 2, 2, 2, 2                                                                                                       |\n",
       "| levels | Accettabile, Ottimo      | Complicato, Ottimo       |\n",
       "\n"
      ],
      "text/plain": [
       "                   [,1]                                                                                                                                                                                                                                                                                                                                                                                                                                                                                                                                                                                                                                                                                                                                                                                                                                                                                                                                                                                                                                                                                                                                                                                                                                                                                                                                                                                                                    \n",
       "percent            FALSE                                                                                                                                                                                                                                                                                                                                                                                                                                                                                                                                                                                                                                                                                                                                                                                                                                                                                                                                                                                                                                                                                                                                                                                                                                                                                                                                                                                                                   \n",
       "sensitivities      1.0000000, 0.6976744, 0.5581395, 0.0000000                                                                                                                                                                                                                                                                                                                                                                                                                                                                                                                                                                                                                                                                                                                                                                                                                                                                                                                                                                                                                                                                                                                                                                                                                                                                                                                                                                              \n",
       "specificities      0.0000000, 0.4615385, 0.7948718, 1.0000000                                                                                                                                                                                                                                                                                                                                                                                                                                                                                                                                                                                                                                                                                                                                                                                                                                                                                                                                                                                                                                                                                                                                                                                                                                                                                                                                                                              \n",
       "thresholds         -Inf, 1.5, 2.5, Inf                                                                                                                                                                                                                                                                                                                                                                                                                                                                                                                                                                                                                                                                                                                                                                                                                                                                                                                                                                                                                                                                                                                                                                                                                                                                                                                                                                                                     \n",
       "direction          <                                                                                                                                                                                                                                                                                                                                                                                                                                                                                                                                                                                                                                                                                                                                                                                                                                                                                                                                                                                                                                                                                                                                                                                                                                                                                                                                                                                                                       \n",
       "cases              3, 1, 3, 3, 2, 1, 3, 3, 3, 2, 3, 1, 1, 3, 1, 1, 1, 3, 3, 3, 1, 2, 2, 3, 2, 2, 3, 3, 3, 3, 3, 1, 1, 1, 3, 1, 3, 3, 3, 3, 3, 1, 3                                                                                                                                                                                                                                                                                                                                                                                                                                                                                                                                                                                                                                                                                                                                                                                                                                                                                                                                                                                                                                                                                                                                                                                                                                                                                         \n",
       "controls           3, 2, 1, 3, 2, 3, 1, 1, 3, 3, 3, 3, 3, 1, 1, 1, 2, 2, 1, 2, 1, 2, 2, 2, 2, 1, 2, 1, 1, 2, 2, 1, 2, 1, 1, 2, 1, 1, 2, 1, 2, 2, 1, 1, 1, 3, 3, 1, 2, 3, 3, 3, 3, 1, 1, 1, 3, 3, 3, 3, 3, 1, 3, 2, 2, 1, 1, 2, 2, 1, 2, 1, 1, 2, 1, 1, 2, 2, 2, 2, 1, 1, 1, 2, 1, 1, 1, 1, 1, 1, 1, 2, 1, 3, 2, 1, 1, 2, 3, 3, 2, 2, 3, 1, 3, 1, 1, 2, 2, 3, 3, 1, 2, 3, 3, 2, 1, 1, 1, 3, 3, 3, 2, 1, 2, 2, 1, 1, 1, 1, 1, 1, 2, 1, 2, 1, 2, 1, 1, 1, 2, 1, 2, 2, 2, 1, 1, 1, 1, 2, 2, 2, 2, 1, 1, 1                                                                                                                                                                                                                                                                                                                                                                                                                                                                                                                                                                                                                                                                                                                                                                                                                                                                                                                                      \n",
       "fun.sesp           function (thresholds, controls, cases, direction) , {,     ncontrols <- length(controls),     ncases <- length(cases),     predictor <- c(controls, cases),     response <- c(rep(0, length(controls)), rep(1, length(cases))),     decr <- direction == \"<\",     predictor.order <- order(predictor, decreasing = decr),     predictor.sorted <- predictor[predictor.order],     response.sorted <- response[predictor.order],     tp <- cumsum(response.sorted == 1),     fp <- cumsum(response.sorted == 0),     se <- tp/ncases,     sp <- (ncontrols - fp)/ncontrols,     dups.pred <- rev(duplicated(rev(predictor.sorted))),     dups.sesp <- duplicated(se) & duplicated(sp),     dups <- dups.pred | dups.sesp,     if (sum(!dups) != length(thresholds) - 1) {,         sessionInfo <- sessionInfo(),         save(thresholds, controls, cases, direction, sessionInfo, ,             file = \"pROC_bug.RData\"),         stop(sprintf(\"pROC: fast algorithm computed an incorrect number of sensitivities and specificities. Diagnostic data saved in pROC_bug.RData. Please report this bug to <%s>.\", ,             utils::packageDescription(\"pROC\")$BugReports)),     },     if (direction == \"<\") {,         se <- rev(c(0, se[!dups])),         sp <- rev(c(1, sp[!dups])),     },     else {,         se <- c(0, se[!dups]),         sp <- c(1, sp[!dups]),     },     return(list(se = se, sp = sp)), }\n",
       "call               roc.default(response = response, predictor = predictor, levels = X, ,     percent = percent, direction = ..1, auc = FALSE, ci = FALSE)                                                                                                                                                                                                                                                                                                                                                                                                                                                                                                                                                                                                                                                                                                                                                                                                                                                                                                                                                                                                                                                                                                                                                                                                                                                                                  \n",
       "original.predictor 3, 2, 1, 1, 2, 2, 3, 1, 3, 2, 3, 3, 2, 3, 1, 3, 2, 3, 2, 3, 1, 3, 1, 3, 1, 3, 3, 3, 3, 1, 1, 1, 1, 2, 2, 2, 1, 2, 1, 2, 1, 2, 2, 2, 2, 2, 2, 2, 1, 2, 1, 1, 2, 2, 1, 2, 2, 2, 2, 2, 1, 2, 2, 2, 1, 2, 2, 2, 2, 1, 2, 1, 1, 2, 2, 1, 1, 2, 2, 2, 2, 1, 1, 2, 2, 1, 1, 1, 1, 2, 2, 2, 1, 2, 1, 3, 2, 1, 3, 1, 1, 1, 3, 2, 3, 1, 3, 1, 2, 1, 3, 1, 3, 1, 3, 3, 3, 1, 3, 2, 2, 1, 1, 2, 3, 2, 3, 3, 2, 3, 3, 3, 3, 1, 3, 3, 1, 2, 2, 1, 2, 2, 2, 2, 1, 2, 2, 1, 2, 2, 1, 2, 1, 2, 1, 2, 2, 2, 2, 1, 1, 2, 1, 2, 1, 2, 2, 2, 2, 2, 1, 2, 1, 2, 1, 2, 1, 2, 1, 2, 1, 1, 1, 1, 1, 2, 2, 1, 1, 1, 2, 2, 1, 1, 2, 2, 2, 1, 2, 2, 1, 3, 2, 3, 2, 1, 1, 1, 2, 1, 1, 3, 3, 2, 3, 3, 3, 3, 2, 3, 2, 3, 3, 3, 1, 1, 2, 1, 1, 3, 1, 1, 2, 2, 2, 3, 3, 2, 3, 1, 2, 3, 3, 2, 2, 2, 1, 1, 1, 1, 3, 3, 3, 3, 3, 3, 3, 3, 2, 3, 3, 1, 2, 1, 3, 1, 2, 2, 1, 3, 1, 2, 2, 1, 1, 2, 1, 2, 1, 2, 1, 2, 1, 2, 2, 1, 1, 2, 1, 2, 2, 2, 1, 2, 2, 2, 2, 1, 2, 2, 2, 2, 1, 1, 2, 2, 1, 1, 2, 2, 2, 1, 2, 2, 2, 2, 2, 1, 1, 1, 1                                                                                                                                                                                                                                                                                                                                                                                                                       \n",
       "original.response  1, 1, 2, 1, 2, 2, 3, 3, 3, 2, 2, 3, 3, 1, 3, 3, 1, 1, 2, 3, 1, 3, 1, 1, 2, 1, 1, 1, 1, 2, 1, 1, 1, 1, 2, 1, 1, 1, 1, 2, 2, 2, 1, 1, 1, 2, 1, 2, 1, 1, 2, 1, 3, 2, 1, 2, 2, 2, 1, 2, 2, 2, 2, 2, 2, 1, 2, 2, 2, 1, 1, 1, 1, 1, 2, 1, 2, 2, 2, 2, 2, 1, 2, 1, 2, 2, 2, 2, 1, 2, 1, 2, 2, 1, 1, 3, 2, 3, 2, 1, 3, 1, 3, 2, 1, 3, 1, 1, 1, 3, 1, 2, 1, 3, 1, 1, 3, 1, 3, 2, 2, 1, 1, 2, 2, 2, 3, 1, 2, 1, 1, 1, 1, 1, 1, 2, 3, 1, 3, 2, 1, 2, 2, 2, 1, 2, 2, 1, 2, 2, 2, 1, 2, 1, 1, 2, 1, 2, 2, 1, 1, 1, 1, 2, 1, 1, 1, 2, 2, 1, 2, 1, 1, 2, 1, 2, 2, 2, 1, 1, 1, 1, 1, 1, 1, 2, 2, 1, 2, 1, 3, 2, 2, 2, 2, 2, 2, 2, 1, 2, 1, 3, 3, 1, 1, 1, 2, 2, 3, 2, 1, 2, 3, 1, 1, 3, 1, 3, 1, 2, 1, 3, 3, 1, 3, 3, 2, 3, 1, 1, 1, 1, 1, 1, 2, 1, 1, 2, 3, 1, 1, 1, 1, 1, 2, 2, 1, 3, 1, 1, 3, 3, 1, 3, 3, 2, 1, 1, 2, 3, 2, 2, 1, 1, 2, 3, 1, 1, 1, 3, 1, 2, 2, 1, 1, 2, 1, 2, 1, 1, 1, 1, 1, 2, 1, 1, 1, 2, 1, 2, 1, 2, 1, 2, 2, 1, 2, 2, 1, 2, 1, 2, 1, 1, 2, 2, 1, 1, 1, 1, 2, 2, 2, 2, 1, 2, 1, 2, 1, 1, 1                                                                                                                                                                                                                                                                                                                                                                                                                       \n",
       "predictor          3, 2, 1, 3, 1, 3, 3, 2, 3, 1, 3, 2, 3, 3, 1, 3, 1, 3, 3, 3, 3, 3, 1, 1, 1, 2, 2, 1, 2, 1, 2, 2, 2, 2, 1, 2, 1, 2, 1, 2, 2, 1, 2, 1, 1, 2, 1, 1, 2, 1, 2, 2, 1, 3, 1, 1, 1, 1, 3, 3, 1, 3, 1, 2, 1, 3, 3, 1, 3, 3, 3, 1, 3, 1, 1, 3, 3, 3, 3, 3, 3, 1, 3, 1, 2, 2, 2, 1, 1, 2, 2, 1, 2, 1, 1, 2, 1, 1, 2, 2, 2, 2, 1, 1, 1, 2, 1, 1, 1, 1, 1, 1, 1, 2, 2, 1, 3, 2, 3, 2, 1, 2, 1, 3, 2, 3, 3, 3, 3, 2, 2, 3, 3, 3, 1, 1, 1, 1, 3, 1, 1, 2, 2, 3, 3, 3, 1, 2, 3, 3, 2, 1, 1, 1, 1, 3, 3, 3, 3, 3, 3, 3, 3, 2, 1, 1, 2, 2, 1, 3, 1, 1, 1, 1, 1, 2, 1, 2, 1, 2, 1, 1, 1, 2, 1, 2, 2, 2, 1, 1, 1, 1, 2, 2, 2, 2, 1, 1, 1                                                                                                                                                                                                                                                                                                                                                                                                                                                                                                                                                                                                                                                                                                                                                                                                     \n",
       "response           1, 1, 1, 3, 3, 3, 3, 3, 1, 3, 3, 1, 1, 3, 1, 3, 1, 1, 1, 1, 1, 1, 1, 1, 1, 1, 1, 1, 1, 1, 1, 1, 1, 1, 1, 1, 1, 3, 1, 1, 1, 1, 1, 1, 1, 1, 1, 1, 1, 1, 1, 1, 1, 3, 3, 1, 3, 1, 3, 1, 3, 1, 1, 1, 3, 1, 1, 3, 1, 1, 3, 1, 3, 1, 1, 3, 1, 1, 1, 1, 1, 1, 1, 3, 1, 3, 1, 1, 1, 1, 1, 1, 1, 1, 1, 1, 1, 1, 1, 1, 1, 1, 1, 1, 1, 1, 1, 1, 1, 1, 1, 1, 1, 3, 1, 1, 3, 3, 1, 1, 1, 3, 1, 3, 1, 1, 3, 1, 3, 1, 1, 3, 3, 1, 3, 3, 3, 1, 1, 1, 1, 1, 1, 1, 1, 3, 1, 1, 1, 1, 1, 1, 3, 1, 1, 3, 3, 1, 3, 3, 1, 1, 3, 1, 1, 3, 1, 1, 1, 3, 1, 1, 1, 1, 1, 1, 1, 1, 1, 1, 1, 1, 1, 1, 1, 1, 1, 1, 1, 1, 1, 1, 1, 1, 1, 1, 1, 1, 1                                                                                                                                                                                                                                                                                                                                                                                                                                                                                                                                                                                                                                                                                                                                                                                                     \n",
       "levels             Accettabile, Ottimo                                                                                                                                                                                                                                                                                                                                                                                                                                                                                                                                                                                                                                                                                                                                                                                                                                                                                                                                                                                                                                                                                                                                                                                                                                                                                                                                                                                                     \n",
       "                   [,2]                                                                                                                                                                                                                                                                                                                                                                                                                                                                                                                                                                                                                                                                                                                                                                                                                                                                                                                                                                                                                                                                                                                                                                                                                                                                                                                                                                                                                    \n",
       "percent            FALSE                                                                                                                                                                                                                                                                                                                                                                                                                                                                                                                                                                                                                                                                                                                                                                                                                                                                                                                                                                                                                                                                                                                                                                                                                                                                                                                                                                                                                   \n",
       "sensitivities      1.0000000, 0.6976744, 0.5581395, 0.0000000                                                                                                                                                                                                                                                                                                                                                                                                                                                                                                                                                                                                                                                                                                                                                                                                                                                                                                                                                                                                                                                                                                                                                                                                                                                                                                                                                                              \n",
       "specificities      0.0000000, 0.2459016, 0.9262295, 1.0000000                                                                                                                                                                                                                                                                                                                                                                                                                                                                                                                                                                                                                                                                                                                                                                                                                                                                                                                                                                                                                                                                                                                                                                                                                                                                                                                                                                              \n",
       "thresholds         -Inf, 1.5, 2.5, Inf                                                                                                                                                                                                                                                                                                                                                                                                                                                                                                                                                                                                                                                                                                                                                                                                                                                                                                                                                                                                                                                                                                                                                                                                                                                                                                                                                                                                     \n",
       "direction          <                                                                                                                                                                                                                                                                                                                                                                                                                                                                                                                                                                                                                                                                                                                                                                                                                                                                                                                                                                                                                                                                                                                                                                                                                                                                                                                                                                                                                       \n",
       "cases              3, 1, 3, 3, 2, 1, 3, 3, 3, 2, 3, 1, 1, 3, 1, 1, 1, 3, 3, 3, 1, 2, 2, 3, 2, 2, 3, 3, 3, 3, 3, 1, 1, 1, 3, 1, 3, 3, 3, 3, 3, 1, 3                                                                                                                                                                                                                                                                                                                                                                                                                                                                                                                                                                                                                                                                                                                                                                                                                                                                                                                                                                                                                                                                                                                                                                                                                                                                                         \n",
       "controls           1, 2, 2, 2, 3, 2, 1, 1, 2, 2, 1, 2, 2, 2, 1, 2, 2, 2, 2, 2, 1, 2, 2, 2, 1, 2, 2, 2, 2, 1, 2, 2, 2, 2, 1, 2, 1, 1, 1, 2, 2, 1, 2, 3, 2, 1, 2, 2, 2, 3, 2, 2, 3, 1, 2, 2, 2, 2, 2, 2, 2, 1, 1, 2, 2, 2, 2, 2, 2, 1, 2, 2, 1, 2, 2, 2, 1, 2, 1, 1, 2, 2, 2, 1, 2, 1, 1, 1, 3, 3, 2, 2, 2, 2, 2, 3, 2, 3, 1, 3, 2, 2, 2, 2, 2, 2, 2, 2, 2, 2, 2, 1, 2, 2, 2, 2, 2, 1, 2, 2, 2, 1                                                                                                                                                                                                                                                                                                                                                                                                                                                                                                                                                                                                                                                                                                                                                                                                                                                                                                                                                                                                                                            \n",
       "fun.sesp           function (thresholds, controls, cases, direction) , {,     ncontrols <- length(controls),     ncases <- length(cases),     predictor <- c(controls, cases),     response <- c(rep(0, length(controls)), rep(1, length(cases))),     decr <- direction == \"<\",     predictor.order <- order(predictor, decreasing = decr),     predictor.sorted <- predictor[predictor.order],     response.sorted <- response[predictor.order],     tp <- cumsum(response.sorted == 1),     fp <- cumsum(response.sorted == 0),     se <- tp/ncases,     sp <- (ncontrols - fp)/ncontrols,     dups.pred <- rev(duplicated(rev(predictor.sorted))),     dups.sesp <- duplicated(se) & duplicated(sp),     dups <- dups.pred | dups.sesp,     if (sum(!dups) != length(thresholds) - 1) {,         sessionInfo <- sessionInfo(),         save(thresholds, controls, cases, direction, sessionInfo, ,             file = \"pROC_bug.RData\"),         stop(sprintf(\"pROC: fast algorithm computed an incorrect number of sensitivities and specificities. Diagnostic data saved in pROC_bug.RData. Please report this bug to <%s>.\", ,             utils::packageDescription(\"pROC\")$BugReports)),     },     if (direction == \"<\") {,         se <- rev(c(0, se[!dups])),         sp <- rev(c(1, sp[!dups])),     },     else {,         se <- c(0, se[!dups]),         sp <- c(1, sp[!dups]),     },     return(list(se = se, sp = sp)), }\n",
       "call               roc.default(response = response, predictor = predictor, levels = X, ,     percent = percent, direction = ..1, auc = FALSE, ci = FALSE)                                                                                                                                                                                                                                                                                                                                                                                                                                                                                                                                                                                                                                                                                                                                                                                                                                                                                                                                                                                                                                                                                                                                                                                                                                                                                  \n",
       "original.predictor 3, 2, 1, 1, 2, 2, 3, 1, 3, 2, 3, 3, 2, 3, 1, 3, 2, 3, 2, 3, 1, 3, 1, 3, 1, 3, 3, 3, 3, 1, 1, 1, 1, 2, 2, 2, 1, 2, 1, 2, 1, 2, 2, 2, 2, 2, 2, 2, 1, 2, 1, 1, 2, 2, 1, 2, 2, 2, 2, 2, 1, 2, 2, 2, 1, 2, 2, 2, 2, 1, 2, 1, 1, 2, 2, 1, 1, 2, 2, 2, 2, 1, 1, 2, 2, 1, 1, 1, 1, 2, 2, 2, 1, 2, 1, 3, 2, 1, 3, 1, 1, 1, 3, 2, 3, 1, 3, 1, 2, 1, 3, 1, 3, 1, 3, 3, 3, 1, 3, 2, 2, 1, 1, 2, 3, 2, 3, 3, 2, 3, 3, 3, 3, 1, 3, 3, 1, 2, 2, 1, 2, 2, 2, 2, 1, 2, 2, 1, 2, 2, 1, 2, 1, 2, 1, 2, 2, 2, 2, 1, 1, 2, 1, 2, 1, 2, 2, 2, 2, 2, 1, 2, 1, 2, 1, 2, 1, 2, 1, 2, 1, 1, 1, 1, 1, 2, 2, 1, 1, 1, 2, 2, 1, 1, 2, 2, 2, 1, 2, 2, 1, 3, 2, 3, 2, 1, 1, 1, 2, 1, 1, 3, 3, 2, 3, 3, 3, 3, 2, 3, 2, 3, 3, 3, 1, 1, 2, 1, 1, 3, 1, 1, 2, 2, 2, 3, 3, 2, 3, 1, 2, 3, 3, 2, 2, 2, 1, 1, 1, 1, 3, 3, 3, 3, 3, 3, 3, 3, 2, 3, 3, 1, 2, 1, 3, 1, 2, 2, 1, 3, 1, 2, 2, 1, 1, 2, 1, 2, 1, 2, 1, 2, 1, 2, 2, 1, 1, 2, 1, 2, 2, 2, 1, 2, 2, 2, 2, 1, 2, 2, 2, 2, 1, 1, 2, 2, 1, 1, 2, 2, 2, 1, 2, 2, 2, 2, 2, 1, 1, 1, 1                                                                                                                                                                                                                                                                                                                                                                                                                       \n",
       "original.response  1, 1, 2, 1, 2, 2, 3, 3, 3, 2, 2, 3, 3, 1, 3, 3, 1, 1, 2, 3, 1, 3, 1, 1, 2, 1, 1, 1, 1, 2, 1, 1, 1, 1, 2, 1, 1, 1, 1, 2, 2, 2, 1, 1, 1, 2, 1, 2, 1, 1, 2, 1, 3, 2, 1, 2, 2, 2, 1, 2, 2, 2, 2, 2, 2, 1, 2, 2, 2, 1, 1, 1, 1, 1, 2, 1, 2, 2, 2, 2, 2, 1, 2, 1, 2, 2, 2, 2, 1, 2, 1, 2, 2, 1, 1, 3, 2, 3, 2, 1, 3, 1, 3, 2, 1, 3, 1, 1, 1, 3, 1, 2, 1, 3, 1, 1, 3, 1, 3, 2, 2, 1, 1, 2, 2, 2, 3, 1, 2, 1, 1, 1, 1, 1, 1, 2, 3, 1, 3, 2, 1, 2, 2, 2, 1, 2, 2, 1, 2, 2, 2, 1, 2, 1, 1, 2, 1, 2, 2, 1, 1, 1, 1, 2, 1, 1, 1, 2, 2, 1, 2, 1, 1, 2, 1, 2, 2, 2, 1, 1, 1, 1, 1, 1, 1, 2, 2, 1, 2, 1, 3, 2, 2, 2, 2, 2, 2, 2, 1, 2, 1, 3, 3, 1, 1, 1, 2, 2, 3, 2, 1, 2, 3, 1, 1, 3, 1, 3, 1, 2, 1, 3, 3, 1, 3, 3, 2, 3, 1, 1, 1, 1, 1, 1, 2, 1, 1, 2, 3, 1, 1, 1, 1, 1, 2, 2, 1, 3, 1, 1, 3, 3, 1, 3, 3, 2, 1, 1, 2, 3, 2, 2, 1, 1, 2, 3, 1, 1, 1, 3, 1, 2, 2, 1, 1, 2, 1, 2, 1, 1, 1, 1, 1, 2, 1, 1, 1, 2, 1, 2, 1, 2, 1, 2, 2, 1, 2, 2, 1, 2, 1, 2, 1, 1, 2, 2, 1, 1, 1, 1, 2, 2, 2, 2, 1, 2, 1, 2, 1, 1, 1                                                                                                                                                                                                                                                                                                                                                                                                                       \n",
       "predictor          1, 2, 2, 3, 1, 3, 2, 3, 3, 2, 1, 3, 2, 3, 3, 1, 1, 2, 2, 1, 2, 2, 2, 1, 2, 2, 2, 2, 2, 2, 1, 2, 2, 2, 1, 2, 2, 2, 2, 1, 2, 2, 2, 2, 1, 2, 1, 1, 1, 2, 2, 1, 3, 2, 1, 3, 1, 3, 2, 1, 1, 1, 1, 3, 3, 2, 2, 2, 3, 2, 3, 2, 3, 1, 2, 1, 2, 2, 2, 2, 2, 2, 2, 1, 1, 2, 2, 2, 2, 2, 2, 1, 2, 2, 1, 2, 2, 2, 1, 2, 2, 1, 1, 2, 2, 2, 1, 2, 3, 2, 1, 1, 2, 1, 3, 3, 3, 3, 3, 3, 3, 1, 1, 2, 1, 2, 2, 3, 2, 2, 1, 3, 3, 3, 3, 3, 2, 3, 3, 1, 3, 1, 3, 2, 2, 2, 2, 2, 2, 2, 2, 2, 2, 2, 1, 2, 2, 2, 2, 2, 1, 2, 2, 2, 1                                                                                                                                                                                                                                                                                                                                                                                                                                                                                                                                                                                                                                                                                                                                                                                                                                                                                                           \n",
       "response           2, 2, 2, 3, 3, 3, 2, 2, 3, 3, 3, 3, 2, 3, 3, 2, 2, 2, 2, 2, 2, 2, 2, 2, 3, 2, 2, 2, 2, 2, 2, 2, 2, 2, 2, 2, 2, 2, 2, 2, 2, 2, 2, 2, 2, 2, 2, 2, 2, 2, 2, 2, 3, 2, 3, 2, 3, 3, 2, 3, 3, 2, 3, 3, 3, 2, 2, 2, 2, 2, 3, 2, 2, 3, 3, 2, 2, 2, 2, 2, 2, 2, 2, 2, 2, 2, 2, 2, 2, 2, 2, 2, 2, 2, 2, 2, 2, 2, 2, 3, 2, 2, 2, 2, 2, 2, 2, 2, 3, 3, 2, 2, 3, 2, 2, 3, 3, 3, 2, 3, 3, 3, 3, 2, 3, 2, 2, 3, 2, 2, 3, 3, 3, 3, 3, 2, 2, 3, 2, 2, 2, 3, 3, 2, 2, 2, 2, 2, 2, 2, 2, 2, 2, 2, 2, 2, 2, 2, 2, 2, 2, 2, 2, 2, 2                                                                                                                                                                                                                                                                                                                                                                                                                                                                                                                                                                                                                                                                                                                                                                                                                                                                                                           \n",
       "levels             Complicato, Ottimo                                                                                                                                                                                                                                                                                                                                                                                                                                                                                                                                                                                                                                                                                                                                                                                                                                                                                                                                                                                                                                                                                                                                                                                                                                                                                                                                                                                                      "
      ]
     },
     "metadata": {},
     "output_type": "display_data"
    },
    {
     "data": {
      "image/png": "[encoded data removed]",
      "text/plain": [
       "plot without title"
      ]
     },
     "metadata": {
      "image/png": {
       "height": 500,
       "width": 1000
      }
     },
     "output_type": "display_data"
    }
   ],
   "source": [
    "rs <- roc_model_rf[['rocs']]\n",
    "plot.roc(rs[[1]])\n",
    "sapply(2:length(rs),function(i) lines.roc(rs[[i]],col=i))"
   ]
  },
  {
   "cell_type": "code",
   "execution_count": 16,
   "id": "1eedd4cb",
   "metadata": {},
   "outputs": [
    {
     "data": {
      "text/html": [
       "<table>\n",
       "<thead><tr><th scope=col>Accettabile</th><th scope=col>Complicato</th><th scope=col>Ottimo</th></tr></thead>\n",
       "<tbody>\n",
       "\t<tr><td>0.2915667 </td><td>0.14853333</td><td>0.55990000</td></tr>\n",
       "\t<tr><td>0.3448667 </td><td>0.61843333</td><td>0.03670000</td></tr>\n",
       "\t<tr><td>0.6136667 </td><td>0.29110000</td><td>0.09523333</td></tr>\n",
       "\t<tr><td>0.6230667 </td><td>0.31656667</td><td>0.06036667</td></tr>\n",
       "\t<tr><td>0.4294000 </td><td>0.52203333</td><td>0.04856667</td></tr>\n",
       "\t<tr><td>0.3625667 </td><td>0.43266667</td><td>0.20476667</td></tr>\n",
       "\t<tr><td>0.4416667 </td><td>0.06430000</td><td>0.49403333</td></tr>\n",
       "\t<tr><td>0.4394667 </td><td>0.12243333</td><td>0.43810000</td></tr>\n",
       "\t<tr><td>0.2501000 </td><td>0.05036667</td><td>0.69953333</td></tr>\n",
       "\t<tr><td>0.3196333 </td><td>0.63856667</td><td>0.04180000</td></tr>\n",
       "\t<tr><td>0.2080000 </td><td>0.10816667</td><td>0.68383333</td></tr>\n",
       "\t<tr><td>0.3457000 </td><td>0.13893333</td><td>0.51536667</td></tr>\n",
       "\t<tr><td>0.3737333 </td><td>0.49043333</td><td>0.13583333</td></tr>\n",
       "\t<tr><td>0.3316000 </td><td>0.28013333</td><td>0.38826667</td></tr>\n",
       "\t<tr><td>0.5039000 </td><td>0.09386667</td><td>0.40223333</td></tr>\n",
       "\t<tr><td>0.1684000 </td><td>0.05476667</td><td>0.77683333</td></tr>\n",
       "\t<tr><td>0.2968333 </td><td>0.63020000</td><td>0.07296667</td></tr>\n",
       "\t<tr><td>0.1866333 </td><td>0.03563333</td><td>0.77773333</td></tr>\n",
       "\t<tr><td>0.3452667 </td><td>0.54500000</td><td>0.10973333</td></tr>\n",
       "\t<tr><td>0.4011333 </td><td>0.11573333</td><td>0.48313333</td></tr>\n",
       "\t<tr><td>0.4123000 </td><td>0.18086667</td><td>0.40683333</td></tr>\n",
       "\t<tr><td>0.3990333 </td><td>0.05423333</td><td>0.54673333</td></tr>\n",
       "\t<tr><td>0.4820000 </td><td>0.14433333</td><td>0.37366667</td></tr>\n",
       "\t<tr><td>0.2663333 </td><td>0.23096667</td><td>0.50270000</td></tr>\n",
       "\t<tr><td>0.5428667 </td><td>0.40116667</td><td>0.05596667</td></tr>\n",
       "\t<tr><td>0.2116667 </td><td>0.05623333</td><td>0.73210000</td></tr>\n",
       "\t<tr><td>0.4317000 </td><td>0.08266667</td><td>0.48563333</td></tr>\n",
       "\t<tr><td>0.4205333 </td><td>0.09146667</td><td>0.48800000</td></tr>\n",
       "\t<tr><td>0.1782333 </td><td>0.04140000</td><td>0.78036667</td></tr>\n",
       "\t<tr><td>0.4016333 </td><td>0.23883333</td><td>0.35953333</td></tr>\n",
       "\t<tr><td>...</td><td>...</td><td>...</td></tr>\n",
       "\t<tr><td>0.3428667  </td><td>0.5651667  </td><td>0.091966667</td></tr>\n",
       "\t<tr><td>0.5526000  </td><td>0.3812667  </td><td>0.066133333</td></tr>\n",
       "\t<tr><td>0.3674667  </td><td>0.6074667  </td><td>0.025066667</td></tr>\n",
       "\t<tr><td>0.4216000  </td><td>0.5150333  </td><td>0.063366667</td></tr>\n",
       "\t<tr><td>0.4439667  </td><td>0.4858667  </td><td>0.070166667</td></tr>\n",
       "\t<tr><td>0.3065000  </td><td>0.6809000  </td><td>0.012600000</td></tr>\n",
       "\t<tr><td>0.5631667  </td><td>0.3910667  </td><td>0.045766667</td></tr>\n",
       "\t<tr><td>0.4050000  </td><td>0.5445333  </td><td>0.050466667</td></tr>\n",
       "\t<tr><td>0.2149667  </td><td>0.7419333  </td><td>0.043100000</td></tr>\n",
       "\t<tr><td>0.2602667  </td><td>0.6885667  </td><td>0.051166667</td></tr>\n",
       "\t<tr><td>0.3814333  </td><td>0.5489333  </td><td>0.069633333</td></tr>\n",
       "\t<tr><td>0.5788333  </td><td>0.3524667  </td><td>0.068700000</td></tr>\n",
       "\t<tr><td>0.4613000  </td><td>0.4423000  </td><td>0.096400000</td></tr>\n",
       "\t<tr><td>0.2525667  </td><td>0.7392667  </td><td>0.008166667</td></tr>\n",
       "\t<tr><td>0.4202667  </td><td>0.5288333  </td><td>0.050900000</td></tr>\n",
       "\t<tr><td>0.5517000  </td><td>0.3359333  </td><td>0.112366667</td></tr>\n",
       "\t<tr><td>0.4788000  </td><td>0.3647000  </td><td>0.156500000</td></tr>\n",
       "\t<tr><td>0.4524667  </td><td>0.5016333  </td><td>0.045900000</td></tr>\n",
       "\t<tr><td>0.3875333  </td><td>0.4280333  </td><td>0.184433333</td></tr>\n",
       "\t<tr><td>0.3902333  </td><td>0.5675000  </td><td>0.042266667</td></tr>\n",
       "\t<tr><td>0.5130667  </td><td>0.4087333  </td><td>0.078200000</td></tr>\n",
       "\t<tr><td>0.2531000  </td><td>0.7102333  </td><td>0.036666667</td></tr>\n",
       "\t<tr><td>0.2219333  </td><td>0.7432333  </td><td>0.034833333</td></tr>\n",
       "\t<tr><td>0.4053667  </td><td>0.5346333  </td><td>0.060000000</td></tr>\n",
       "\t<tr><td>0.2352000  </td><td>0.7197667  </td><td>0.045033333</td></tr>\n",
       "\t<tr><td>0.4352667  </td><td>0.4526000  </td><td>0.112133333</td></tr>\n",
       "\t<tr><td>0.5124667  </td><td>0.3388667  </td><td>0.148666667</td></tr>\n",
       "\t<tr><td>0.7359333  </td><td>0.1964333  </td><td>0.067633333</td></tr>\n",
       "\t<tr><td>0.5721000  </td><td>0.3533333  </td><td>0.074566667</td></tr>\n",
       "\t<tr><td>0.5431000  </td><td>0.3730000  </td><td>0.083900000</td></tr>\n",
       "</tbody>\n",
       "</table>\n"
      ],
      "text/latex": [
       "\\begin{tabular}{r|lll}\n",
       " Accettabile & Complicato & Ottimo\\\\\n",
       "\\hline\n",
       "\t 0.2915667  & 0.14853333 & 0.55990000\\\\\n",
       "\t 0.3448667  & 0.61843333 & 0.03670000\\\\\n",
       "\t 0.6136667  & 0.29110000 & 0.09523333\\\\\n",
       "\t 0.6230667  & 0.31656667 & 0.06036667\\\\\n",
       "\t 0.4294000  & 0.52203333 & 0.04856667\\\\\n",
       "\t 0.3625667  & 0.43266667 & 0.20476667\\\\\n",
       "\t 0.4416667  & 0.06430000 & 0.49403333\\\\\n",
       "\t 0.4394667  & 0.12243333 & 0.43810000\\\\\n",
       "\t 0.2501000  & 0.05036667 & 0.69953333\\\\\n",
       "\t 0.3196333  & 0.63856667 & 0.04180000\\\\\n",
       "\t 0.2080000  & 0.10816667 & 0.68383333\\\\\n",
       "\t 0.3457000  & 0.13893333 & 0.51536667\\\\\n",
       "\t 0.3737333  & 0.49043333 & 0.13583333\\\\\n",
       "\t 0.3316000  & 0.28013333 & 0.38826667\\\\\n",
       "\t 0.5039000  & 0.09386667 & 0.40223333\\\\\n",
       "\t 0.1684000  & 0.05476667 & 0.77683333\\\\\n",
       "\t 0.2968333  & 0.63020000 & 0.07296667\\\\\n",
       "\t 0.1866333  & 0.03563333 & 0.77773333\\\\\n",
       "\t 0.3452667  & 0.54500000 & 0.10973333\\\\\n",
       "\t 0.4011333  & 0.11573333 & 0.48313333\\\\\n",
       "\t 0.4123000  & 0.18086667 & 0.40683333\\\\\n",
       "\t 0.3990333  & 0.05423333 & 0.54673333\\\\\n",
       "\t 0.4820000  & 0.14433333 & 0.37366667\\\\\n",
       "\t 0.2663333  & 0.23096667 & 0.50270000\\\\\n",
       "\t 0.5428667  & 0.40116667 & 0.05596667\\\\\n",
       "\t 0.2116667  & 0.05623333 & 0.73210000\\\\\n",
       "\t 0.4317000  & 0.08266667 & 0.48563333\\\\\n",
       "\t 0.4205333  & 0.09146667 & 0.48800000\\\\\n",
       "\t 0.1782333  & 0.04140000 & 0.78036667\\\\\n",
       "\t 0.4016333  & 0.23883333 & 0.35953333\\\\\n",
       "\t ... & ... & ...\\\\\n",
       "\t 0.3428667   & 0.5651667   & 0.091966667\\\\\n",
       "\t 0.5526000   & 0.3812667   & 0.066133333\\\\\n",
       "\t 0.3674667   & 0.6074667   & 0.025066667\\\\\n",
       "\t 0.4216000   & 0.5150333   & 0.063366667\\\\\n",
       "\t 0.4439667   & 0.4858667   & 0.070166667\\\\\n",
       "\t 0.3065000   & 0.6809000   & 0.012600000\\\\\n",
       "\t 0.5631667   & 0.3910667   & 0.045766667\\\\\n",
       "\t 0.4050000   & 0.5445333   & 0.050466667\\\\\n",
       "\t 0.2149667   & 0.7419333   & 0.043100000\\\\\n",
       "\t 0.2602667   & 0.6885667   & 0.051166667\\\\\n",
       "\t 0.3814333   & 0.5489333   & 0.069633333\\\\\n",
       "\t 0.5788333   & 0.3524667   & 0.068700000\\\\\n",
       "\t 0.4613000   & 0.4423000   & 0.096400000\\\\\n",
       "\t 0.2525667   & 0.7392667   & 0.008166667\\\\\n",
       "\t 0.4202667   & 0.5288333   & 0.050900000\\\\\n",
       "\t 0.5517000   & 0.3359333   & 0.112366667\\\\\n",
       "\t 0.4788000   & 0.3647000   & 0.156500000\\\\\n",
       "\t 0.4524667   & 0.5016333   & 0.045900000\\\\\n",
       "\t 0.3875333   & 0.4280333   & 0.184433333\\\\\n",
       "\t 0.3902333   & 0.5675000   & 0.042266667\\\\\n",
       "\t 0.5130667   & 0.4087333   & 0.078200000\\\\\n",
       "\t 0.2531000   & 0.7102333   & 0.036666667\\\\\n",
       "\t 0.2219333   & 0.7432333   & 0.034833333\\\\\n",
       "\t 0.4053667   & 0.5346333   & 0.060000000\\\\\n",
       "\t 0.2352000   & 0.7197667   & 0.045033333\\\\\n",
       "\t 0.4352667   & 0.4526000   & 0.112133333\\\\\n",
       "\t 0.5124667   & 0.3388667   & 0.148666667\\\\\n",
       "\t 0.7359333   & 0.1964333   & 0.067633333\\\\\n",
       "\t 0.5721000   & 0.3533333   & 0.074566667\\\\\n",
       "\t 0.5431000   & 0.3730000   & 0.083900000\\\\\n",
       "\\end{tabular}\n"
      ],
      "text/markdown": [
       "\n",
       "| Accettabile | Complicato | Ottimo |\n",
       "|---|---|---|\n",
       "| 0.2915667  | 0.14853333 | 0.55990000 |\n",
       "| 0.3448667  | 0.61843333 | 0.03670000 |\n",
       "| 0.6136667  | 0.29110000 | 0.09523333 |\n",
       "| 0.6230667  | 0.31656667 | 0.06036667 |\n",
       "| 0.4294000  | 0.52203333 | 0.04856667 |\n",
       "| 0.3625667  | 0.43266667 | 0.20476667 |\n",
       "| 0.4416667  | 0.06430000 | 0.49403333 |\n",
       "| 0.4394667  | 0.12243333 | 0.43810000 |\n",
       "| 0.2501000  | 0.05036667 | 0.69953333 |\n",
       "| 0.3196333  | 0.63856667 | 0.04180000 |\n",
       "| 0.2080000  | 0.10816667 | 0.68383333 |\n",
       "| 0.3457000  | 0.13893333 | 0.51536667 |\n",
       "| 0.3737333  | 0.49043333 | 0.13583333 |\n",
       "| 0.3316000  | 0.28013333 | 0.38826667 |\n",
       "| 0.5039000  | 0.09386667 | 0.40223333 |\n",
       "| 0.1684000  | 0.05476667 | 0.77683333 |\n",
       "| 0.2968333  | 0.63020000 | 0.07296667 |\n",
       "| 0.1866333  | 0.03563333 | 0.77773333 |\n",
       "| 0.3452667  | 0.54500000 | 0.10973333 |\n",
       "| 0.4011333  | 0.11573333 | 0.48313333 |\n",
       "| 0.4123000  | 0.18086667 | 0.40683333 |\n",
       "| 0.3990333  | 0.05423333 | 0.54673333 |\n",
       "| 0.4820000  | 0.14433333 | 0.37366667 |\n",
       "| 0.2663333  | 0.23096667 | 0.50270000 |\n",
       "| 0.5428667  | 0.40116667 | 0.05596667 |\n",
       "| 0.2116667  | 0.05623333 | 0.73210000 |\n",
       "| 0.4317000  | 0.08266667 | 0.48563333 |\n",
       "| 0.4205333  | 0.09146667 | 0.48800000 |\n",
       "| 0.1782333  | 0.04140000 | 0.78036667 |\n",
       "| 0.4016333  | 0.23883333 | 0.35953333 |\n",
       "| ... | ... | ... |\n",
       "| 0.3428667   | 0.5651667   | 0.091966667 |\n",
       "| 0.5526000   | 0.3812667   | 0.066133333 |\n",
       "| 0.3674667   | 0.6074667   | 0.025066667 |\n",
       "| 0.4216000   | 0.5150333   | 0.063366667 |\n",
       "| 0.4439667   | 0.4858667   | 0.070166667 |\n",
       "| 0.3065000   | 0.6809000   | 0.012600000 |\n",
       "| 0.5631667   | 0.3910667   | 0.045766667 |\n",
       "| 0.4050000   | 0.5445333   | 0.050466667 |\n",
       "| 0.2149667   | 0.7419333   | 0.043100000 |\n",
       "| 0.2602667   | 0.6885667   | 0.051166667 |\n",
       "| 0.3814333   | 0.5489333   | 0.069633333 |\n",
       "| 0.5788333   | 0.3524667   | 0.068700000 |\n",
       "| 0.4613000   | 0.4423000   | 0.096400000 |\n",
       "| 0.2525667   | 0.7392667   | 0.008166667 |\n",
       "| 0.4202667   | 0.5288333   | 0.050900000 |\n",
       "| 0.5517000   | 0.3359333   | 0.112366667 |\n",
       "| 0.4788000   | 0.3647000   | 0.156500000 |\n",
       "| 0.4524667   | 0.5016333   | 0.045900000 |\n",
       "| 0.3875333   | 0.4280333   | 0.184433333 |\n",
       "| 0.3902333   | 0.5675000   | 0.042266667 |\n",
       "| 0.5130667   | 0.4087333   | 0.078200000 |\n",
       "| 0.2531000   | 0.7102333   | 0.036666667 |\n",
       "| 0.2219333   | 0.7432333   | 0.034833333 |\n",
       "| 0.4053667   | 0.5346333   | 0.060000000 |\n",
       "| 0.2352000   | 0.7197667   | 0.045033333 |\n",
       "| 0.4352667   | 0.4526000   | 0.112133333 |\n",
       "| 0.5124667   | 0.3388667   | 0.148666667 |\n",
       "| 0.7359333   | 0.1964333   | 0.067633333 |\n",
       "| 0.5721000   | 0.3533333   | 0.074566667 |\n",
       "| 0.5431000   | 0.3730000   | 0.083900000 |\n",
       "\n"
      ],
      "text/plain": [
       "    Accettabile Complicato Ottimo     \n",
       "1   0.2915667   0.14853333 0.55990000 \n",
       "2   0.3448667   0.61843333 0.03670000 \n",
       "3   0.6136667   0.29110000 0.09523333 \n",
       "4   0.6230667   0.31656667 0.06036667 \n",
       "5   0.4294000   0.52203333 0.04856667 \n",
       "6   0.3625667   0.43266667 0.20476667 \n",
       "7   0.4416667   0.06430000 0.49403333 \n",
       "8   0.4394667   0.12243333 0.43810000 \n",
       "9   0.2501000   0.05036667 0.69953333 \n",
       "10  0.3196333   0.63856667 0.04180000 \n",
       "11  0.2080000   0.10816667 0.68383333 \n",
       "12  0.3457000   0.13893333 0.51536667 \n",
       "13  0.3737333   0.49043333 0.13583333 \n",
       "14  0.3316000   0.28013333 0.38826667 \n",
       "15  0.5039000   0.09386667 0.40223333 \n",
       "16  0.1684000   0.05476667 0.77683333 \n",
       "17  0.2968333   0.63020000 0.07296667 \n",
       "18  0.1866333   0.03563333 0.77773333 \n",
       "19  0.3452667   0.54500000 0.10973333 \n",
       "20  0.4011333   0.11573333 0.48313333 \n",
       "21  0.4123000   0.18086667 0.40683333 \n",
       "22  0.3990333   0.05423333 0.54673333 \n",
       "23  0.4820000   0.14433333 0.37366667 \n",
       "24  0.2663333   0.23096667 0.50270000 \n",
       "25  0.5428667   0.40116667 0.05596667 \n",
       "26  0.2116667   0.05623333 0.73210000 \n",
       "27  0.4317000   0.08266667 0.48563333 \n",
       "28  0.4205333   0.09146667 0.48800000 \n",
       "29  0.1782333   0.04140000 0.78036667 \n",
       "30  0.4016333   0.23883333 0.35953333 \n",
       "... ...         ...        ...        \n",
       "292 0.3428667   0.5651667  0.091966667\n",
       "293 0.5526000   0.3812667  0.066133333\n",
       "294 0.3674667   0.6074667  0.025066667\n",
       "295 0.4216000   0.5150333  0.063366667\n",
       "296 0.4439667   0.4858667  0.070166667\n",
       "297 0.3065000   0.6809000  0.012600000\n",
       "298 0.5631667   0.3910667  0.045766667\n",
       "299 0.4050000   0.5445333  0.050466667\n",
       "300 0.2149667   0.7419333  0.043100000\n",
       "301 0.2602667   0.6885667  0.051166667\n",
       "302 0.3814333   0.5489333  0.069633333\n",
       "303 0.5788333   0.3524667  0.068700000\n",
       "304 0.4613000   0.4423000  0.096400000\n",
       "305 0.2525667   0.7392667  0.008166667\n",
       "306 0.4202667   0.5288333  0.050900000\n",
       "307 0.5517000   0.3359333  0.112366667\n",
       "308 0.4788000   0.3647000  0.156500000\n",
       "309 0.4524667   0.5016333  0.045900000\n",
       "310 0.3875333   0.4280333  0.184433333\n",
       "311 0.3902333   0.5675000  0.042266667\n",
       "312 0.5130667   0.4087333  0.078200000\n",
       "313 0.2531000   0.7102333  0.036666667\n",
       "314 0.2219333   0.7432333  0.034833333\n",
       "315 0.4053667   0.5346333  0.060000000\n",
       "316 0.2352000   0.7197667  0.045033333\n",
       "317 0.4352667   0.4526000  0.112133333\n",
       "318 0.5124667   0.3388667  0.148666667\n",
       "319 0.7359333   0.1964333  0.067633333\n",
       "320 0.5721000   0.3533333  0.074566667\n",
       "321 0.5431000   0.3730000  0.083900000"
      ]
     },
     "metadata": {},
     "output_type": "display_data"
    }
   ],
   "source": [
    "pred_rf.prob"
   ]
  },
  {
   "cell_type": "code",
   "execution_count": null,
   "id": "bb17e63b",
   "metadata": {},
   "outputs": [],
   "source": []
  },
  {
   "cell_type": "code",
   "execution_count": null,
   "id": "224d9f04",
   "metadata": {},
   "outputs": [],
   "source": []
  },
  {
   "cell_type": "code",
   "execution_count": null,
   "id": "d8414fda",
   "metadata": {},
   "outputs": [],
   "source": []
  },
  {
   "cell_type": "code",
   "execution_count": null,
   "id": "ad6e80b7",
   "metadata": {},
   "outputs": [],
   "source": []
  },
  {
   "cell_type": "code",
   "execution_count": null,
   "id": "6824a63a",
   "metadata": {},
   "outputs": [],
   "source": []
  },
  {
   "cell_type": "code",
   "execution_count": null,
   "id": "c6654b15",
   "metadata": {},
   "outputs": [],
   "source": []
  }
 ],
 "metadata": {
  "kernelspec": {
   "display_name": "R",
   "language": "R",
   "name": "ir"
  },
  "language_info": {
   "codemirror_mode": "r",
   "file_extension": ".r",
   "mimetype": "text/x-r-source",
   "name": "R",
   "pygments_lexer": "r",
   "version": "3.6.1"
  }
 },
 "nbformat": 4,
 "nbformat_minor": 5
}
