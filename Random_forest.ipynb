{
 "cells": [
  {
   "cell_type": "code",
   "execution_count": 2,
   "id": "4bb52309",
   "metadata": {},
   "outputs": [],
   "source": [
    "library(dplyr)   \n",
    "library(caret)\n",
    "library(tidyverse)\n",
    "library(recipes)\n",
    "library(pROC)\n",
    "library(caTools)\n",
    "\n",
    "\n",
    "options(repr.plot.width = 20, repr.plot.height =10, repr.plot.res = 100)\n",
    "\n",
    "\n",
    "load(file = \"C:/Users/abonini/Desktop/Analysis/Sources/LIVERTRANSPLANT/Modello/df.Rdata\")"
   ]
  },
  {
   "cell_type": "markdown",
   "id": "9ab65b0f",
   "metadata": {},
   "source": [
    "## Data partition"
   ]
  },
  {
   "cell_type": "code",
   "execution_count": 3,
   "id": "1bbf7710",
   "metadata": {},
   "outputs": [],
   "source": [
    "#make this example reproducible\n",
    "set.seed(1)\n",
    "\n",
    "#use 70% of dataset as training set and 30% as test set\n",
    "sample <- sample.split(df$deg_cat, SplitRatio = 0.7)\n",
    "train  <- subset(df, sample == TRUE)\n",
    "test   <- subset(df, sample == FALSE)\n",
    "\n",
    "\n",
    "TrainClasses <- train$deg_cat\n",
    "TrainData <- subset(train,select= -deg_cat)\n",
    "TestClasses <- test$deg_cat\n",
    "TestData <- subset(test,select= -deg_cat)"
   ]
  },
  {
   "cell_type": "markdown",
   "id": "313685de",
   "metadata": {},
   "source": [
    "## Models"
   ]
  },
  {
   "cell_type": "code",
   "execution_count": 30,
   "id": "3c729a23",
   "metadata": {},
   "outputs": [],
   "source": [
    "ctrl <- trainControl(method = \"repeatedcv\", \n",
    "                 number = 10, \n",
    "                 savePredictions = \"final\",classProbs=TRUE,verboseIter=TRUE, search= \"random\") \n",
    "\n",
    "#summaryFunction = multiClassSummary (to keep all metrics)"
   ]
  },
  {
   "cell_type": "code",
   "execution_count": 31,
   "id": "f419a33d",
   "metadata": {},
   "outputs": [
    {
     "name": "stdout",
     "output_type": "stream",
     "text": [
      "+ Fold01.Rep1: min.node.size=11, mtry=60, splitrule=extratrees \n",
      "- Fold01.Rep1: min.node.size=11, mtry=60, splitrule=extratrees \n",
      "+ Fold01.Rep1: min.node.size= 3, mtry=11, splitrule=gini \n",
      "- Fold01.Rep1: min.node.size= 3, mtry=11, splitrule=gini \n",
      "+ Fold01.Rep1: min.node.size=14, mtry=71, splitrule=extratrees \n",
      "- Fold01.Rep1: min.node.size=14, mtry=71, splitrule=extratrees \n",
      "+ Fold02.Rep1: min.node.size=11, mtry=60, splitrule=extratrees \n",
      "- Fold02.Rep1: min.node.size=11, mtry=60, splitrule=extratrees \n",
      "+ Fold02.Rep1: min.node.size= 3, mtry=11, splitrule=gini \n",
      "- Fold02.Rep1: min.node.size= 3, mtry=11, splitrule=gini \n",
      "+ Fold02.Rep1: min.node.size=14, mtry=71, splitrule=extratrees \n",
      "- Fold02.Rep1: min.node.size=14, mtry=71, splitrule=extratrees \n",
      "+ Fold03.Rep1: min.node.size=11, mtry=60, splitrule=extratrees \n",
      "- Fold03.Rep1: min.node.size=11, mtry=60, splitrule=extratrees \n",
      "+ Fold03.Rep1: min.node.size= 3, mtry=11, splitrule=gini \n",
      "- Fold03.Rep1: min.node.size= 3, mtry=11, splitrule=gini \n",
      "+ Fold03.Rep1: min.node.size=14, mtry=71, splitrule=extratrees \n",
      "- Fold03.Rep1: min.node.size=14, mtry=71, splitrule=extratrees \n",
      "+ Fold04.Rep1: min.node.size=11, mtry=60, splitrule=extratrees \n",
      "- Fold04.Rep1: min.node.size=11, mtry=60, splitrule=extratrees \n",
      "+ Fold04.Rep1: min.node.size= 3, mtry=11, splitrule=gini \n",
      "- Fold04.Rep1: min.node.size= 3, mtry=11, splitrule=gini \n",
      "+ Fold04.Rep1: min.node.size=14, mtry=71, splitrule=extratrees \n",
      "- Fold04.Rep1: min.node.size=14, mtry=71, splitrule=extratrees \n",
      "+ Fold05.Rep1: min.node.size=11, mtry=60, splitrule=extratrees \n",
      "- Fold05.Rep1: min.node.size=11, mtry=60, splitrule=extratrees \n",
      "+ Fold05.Rep1: min.node.size= 3, mtry=11, splitrule=gini \n",
      "- Fold05.Rep1: min.node.size= 3, mtry=11, splitrule=gini \n",
      "+ Fold05.Rep1: min.node.size=14, mtry=71, splitrule=extratrees \n",
      "- Fold05.Rep1: min.node.size=14, mtry=71, splitrule=extratrees \n",
      "+ Fold06.Rep1: min.node.size=11, mtry=60, splitrule=extratrees \n",
      "- Fold06.Rep1: min.node.size=11, mtry=60, splitrule=extratrees \n",
      "+ Fold06.Rep1: min.node.size= 3, mtry=11, splitrule=gini \n",
      "- Fold06.Rep1: min.node.size= 3, mtry=11, splitrule=gini \n",
      "+ Fold06.Rep1: min.node.size=14, mtry=71, splitrule=extratrees \n",
      "- Fold06.Rep1: min.node.size=14, mtry=71, splitrule=extratrees \n",
      "+ Fold07.Rep1: min.node.size=11, mtry=60, splitrule=extratrees \n",
      "- Fold07.Rep1: min.node.size=11, mtry=60, splitrule=extratrees \n",
      "+ Fold07.Rep1: min.node.size= 3, mtry=11, splitrule=gini \n",
      "- Fold07.Rep1: min.node.size= 3, mtry=11, splitrule=gini \n",
      "+ Fold07.Rep1: min.node.size=14, mtry=71, splitrule=extratrees \n",
      "- Fold07.Rep1: min.node.size=14, mtry=71, splitrule=extratrees \n",
      "+ Fold08.Rep1: min.node.size=11, mtry=60, splitrule=extratrees \n",
      "- Fold08.Rep1: min.node.size=11, mtry=60, splitrule=extratrees \n",
      "+ Fold08.Rep1: min.node.size= 3, mtry=11, splitrule=gini \n",
      "- Fold08.Rep1: min.node.size= 3, mtry=11, splitrule=gini \n",
      "+ Fold08.Rep1: min.node.size=14, mtry=71, splitrule=extratrees \n",
      "- Fold08.Rep1: min.node.size=14, mtry=71, splitrule=extratrees \n",
      "+ Fold09.Rep1: min.node.size=11, mtry=60, splitrule=extratrees \n",
      "- Fold09.Rep1: min.node.size=11, mtry=60, splitrule=extratrees \n",
      "+ Fold09.Rep1: min.node.size= 3, mtry=11, splitrule=gini \n",
      "- Fold09.Rep1: min.node.size= 3, mtry=11, splitrule=gini \n",
      "+ Fold09.Rep1: min.node.size=14, mtry=71, splitrule=extratrees \n",
      "- Fold09.Rep1: min.node.size=14, mtry=71, splitrule=extratrees \n",
      "+ Fold10.Rep1: min.node.size=11, mtry=60, splitrule=extratrees \n",
      "- Fold10.Rep1: min.node.size=11, mtry=60, splitrule=extratrees \n",
      "+ Fold10.Rep1: min.node.size= 3, mtry=11, splitrule=gini \n",
      "- Fold10.Rep1: min.node.size= 3, mtry=11, splitrule=gini \n",
      "+ Fold10.Rep1: min.node.size=14, mtry=71, splitrule=extratrees \n",
      "- Fold10.Rep1: min.node.size=14, mtry=71, splitrule=extratrees \n",
      "Aggregating results\n",
      "Selecting tuning parameters\n",
      "Fitting mtry = 71, splitrule = extratrees, min.node.size = 14 on full training set\n"
     ]
    }
   ],
   "source": [
    "model_rf <- train(x=TrainData, y=TrainClasses, \n",
    "               method = \"ranger\",\n",
    "               trControl = ctrl) "
   ]
  },
  {
   "cell_type": "code",
   "execution_count": 32,
   "id": "5ec1f575",
   "metadata": {},
   "outputs": [
    {
     "name": "stdout",
     "output_type": "stream",
     "text": [
      "+ Fold01.Rep1: mtry=42, coefReg=0.8699, coefImp=0.8284 \n",
      "- Fold01.Rep1: mtry=42, coefReg=0.8699, coefImp=0.8284 \n",
      "+ Fold01.Rep1: mtry=37, coefReg=0.2238, coefImp=0.9399 \n",
      "- Fold01.Rep1: mtry=37, coefReg=0.2238, coefImp=0.9399 \n",
      "+ Fold01.Rep1: mtry=46, coefReg=0.0703, coefImp=0.9784 \n",
      "- Fold01.Rep1: mtry=46, coefReg=0.0703, coefImp=0.9784 \n",
      "+ Fold02.Rep1: mtry=42, coefReg=0.8699, coefImp=0.8284 \n",
      "- Fold02.Rep1: mtry=42, coefReg=0.8699, coefImp=0.8284 \n",
      "+ Fold02.Rep1: mtry=37, coefReg=0.2238, coefImp=0.9399 \n",
      "- Fold02.Rep1: mtry=37, coefReg=0.2238, coefImp=0.9399 \n",
      "+ Fold02.Rep1: mtry=46, coefReg=0.0703, coefImp=0.9784 \n",
      "- Fold02.Rep1: mtry=46, coefReg=0.0703, coefImp=0.9784 \n",
      "+ Fold03.Rep1: mtry=42, coefReg=0.8699, coefImp=0.8284 \n",
      "- Fold03.Rep1: mtry=42, coefReg=0.8699, coefImp=0.8284 \n",
      "+ Fold03.Rep1: mtry=37, coefReg=0.2238, coefImp=0.9399 \n",
      "- Fold03.Rep1: mtry=37, coefReg=0.2238, coefImp=0.9399 \n",
      "+ Fold03.Rep1: mtry=46, coefReg=0.0703, coefImp=0.9784 \n",
      "- Fold03.Rep1: mtry=46, coefReg=0.0703, coefImp=0.9784 \n",
      "+ Fold04.Rep1: mtry=42, coefReg=0.8699, coefImp=0.8284 \n",
      "- Fold04.Rep1: mtry=42, coefReg=0.8699, coefImp=0.8284 \n",
      "+ Fold04.Rep1: mtry=37, coefReg=0.2238, coefImp=0.9399 \n",
      "- Fold04.Rep1: mtry=37, coefReg=0.2238, coefImp=0.9399 \n",
      "+ Fold04.Rep1: mtry=46, coefReg=0.0703, coefImp=0.9784 \n",
      "- Fold04.Rep1: mtry=46, coefReg=0.0703, coefImp=0.9784 \n",
      "+ Fold05.Rep1: mtry=42, coefReg=0.8699, coefImp=0.8284 \n",
      "- Fold05.Rep1: mtry=42, coefReg=0.8699, coefImp=0.8284 \n",
      "+ Fold05.Rep1: mtry=37, coefReg=0.2238, coefImp=0.9399 \n",
      "- Fold05.Rep1: mtry=37, coefReg=0.2238, coefImp=0.9399 \n",
      "+ Fold05.Rep1: mtry=46, coefReg=0.0703, coefImp=0.9784 \n",
      "- Fold05.Rep1: mtry=46, coefReg=0.0703, coefImp=0.9784 \n",
      "+ Fold06.Rep1: mtry=42, coefReg=0.8699, coefImp=0.8284 \n",
      "- Fold06.Rep1: mtry=42, coefReg=0.8699, coefImp=0.8284 \n",
      "+ Fold06.Rep1: mtry=37, coefReg=0.2238, coefImp=0.9399 \n",
      "- Fold06.Rep1: mtry=37, coefReg=0.2238, coefImp=0.9399 \n",
      "+ Fold06.Rep1: mtry=46, coefReg=0.0703, coefImp=0.9784 \n",
      "- Fold06.Rep1: mtry=46, coefReg=0.0703, coefImp=0.9784 \n",
      "+ Fold07.Rep1: mtry=42, coefReg=0.8699, coefImp=0.8284 \n",
      "- Fold07.Rep1: mtry=42, coefReg=0.8699, coefImp=0.8284 \n",
      "+ Fold07.Rep1: mtry=37, coefReg=0.2238, coefImp=0.9399 \n",
      "- Fold07.Rep1: mtry=37, coefReg=0.2238, coefImp=0.9399 \n",
      "+ Fold07.Rep1: mtry=46, coefReg=0.0703, coefImp=0.9784 \n",
      "- Fold07.Rep1: mtry=46, coefReg=0.0703, coefImp=0.9784 \n",
      "+ Fold08.Rep1: mtry=42, coefReg=0.8699, coefImp=0.8284 \n",
      "- Fold08.Rep1: mtry=42, coefReg=0.8699, coefImp=0.8284 \n",
      "+ Fold08.Rep1: mtry=37, coefReg=0.2238, coefImp=0.9399 \n",
      "- Fold08.Rep1: mtry=37, coefReg=0.2238, coefImp=0.9399 \n",
      "+ Fold08.Rep1: mtry=46, coefReg=0.0703, coefImp=0.9784 \n",
      "- Fold08.Rep1: mtry=46, coefReg=0.0703, coefImp=0.9784 \n",
      "+ Fold09.Rep1: mtry=42, coefReg=0.8699, coefImp=0.8284 \n",
      "- Fold09.Rep1: mtry=42, coefReg=0.8699, coefImp=0.8284 \n",
      "+ Fold09.Rep1: mtry=37, coefReg=0.2238, coefImp=0.9399 \n",
      "- Fold09.Rep1: mtry=37, coefReg=0.2238, coefImp=0.9399 \n",
      "+ Fold09.Rep1: mtry=46, coefReg=0.0703, coefImp=0.9784 \n",
      "- Fold09.Rep1: mtry=46, coefReg=0.0703, coefImp=0.9784 \n",
      "+ Fold10.Rep1: mtry=42, coefReg=0.8699, coefImp=0.8284 \n",
      "- Fold10.Rep1: mtry=42, coefReg=0.8699, coefImp=0.8284 \n",
      "+ Fold10.Rep1: mtry=37, coefReg=0.2238, coefImp=0.9399 \n",
      "- Fold10.Rep1: mtry=37, coefReg=0.2238, coefImp=0.9399 \n",
      "+ Fold10.Rep1: mtry=46, coefReg=0.0703, coefImp=0.9784 \n",
      "- Fold10.Rep1: mtry=46, coefReg=0.0703, coefImp=0.9784 \n",
      "Aggregating results\n",
      "Selecting tuning parameters\n",
      "Fitting mtry = 46, coefReg = 0.0703, coefImp = 0.978 on full training set\n"
     ]
    }
   ],
   "source": [
    "model_rrf <- train(x=TrainData, y=TrainClasses, \n",
    "               method = \"RRF\",\n",
    "               trControl = ctrl) "
   ]
  },
  {
   "cell_type": "markdown",
   "id": "ccdf1e31",
   "metadata": {},
   "source": [
    "## Results"
   ]
  },
  {
   "cell_type": "code",
   "execution_count": 33,
   "id": "a58e529c",
   "metadata": {},
   "outputs": [
    {
     "name": "stdout",
     "output_type": "stream",
     "text": [
      "Random Forest \n",
      "\n",
      "747 samples\n",
      " 77 predictor\n",
      "  3 classes: 'Accettabile', 'Complicato', 'Ottimo' \n",
      "\n",
      "No pre-processing\n",
      "Resampling: Cross-Validated (10 fold, repeated 1 times) \n",
      "Summary of sample sizes: 673, 673, 672, 673, 672, 672, ... \n",
      "Resampling results across tuning parameters:\n",
      "\n",
      "  min.node.size  mtry  splitrule   Accuracy   Kappa    \n",
      "   3             11    gini        0.5846534  0.2612755\n",
      "  11             60    extratrees  0.5928506  0.2864190\n",
      "  14             71    extratrees  0.5955714  0.2970509\n",
      "\n",
      "Accuracy was used to select the optimal model using the largest value.\n",
      "The final values used for the model were mtry = 71, splitrule = extratrees\n",
      " and min.node.size = 14.\n"
     ]
    },
    {
     "data": {
      "image/png": "[encoded data removed]",
      "text/plain": [
       "plot without title"
      ]
     },
     "metadata": {
      "image/png": {
       "height": 500,
       "width": 1000
      }
     },
     "output_type": "display_data"
    }
   ],
   "source": [
    "print(model_rf)\n",
    "plot(model_rf)"
   ]
  },
  {
   "cell_type": "code",
   "execution_count": 34,
   "id": "13fce22e",
   "metadata": {},
   "outputs": [
    {
     "name": "stdout",
     "output_type": "stream",
     "text": [
      "Regularized Random Forest \n",
      "\n",
      "747 samples\n",
      " 77 predictor\n",
      "  3 classes: 'Accettabile', 'Complicato', 'Ottimo' \n",
      "\n",
      "No pre-processing\n",
      "Resampling: Cross-Validated (10 fold, repeated 1 times) \n",
      "Summary of sample sizes: 672, 673, 673, 671, 672, 673, ... \n",
      "Resampling results across tuning parameters:\n",
      "\n",
      "  mtry  coefReg     coefImp    Accuracy   Kappa    \n",
      "  37    0.22380597  0.9398914  0.5217179  0.1898024\n",
      "  42    0.86987250  0.8284372  0.5139640  0.1742872\n",
      "  46    0.07029922  0.9783781  0.5286880  0.2037552\n",
      "\n",
      "Accuracy was used to select the optimal model using the largest value.\n",
      "The final values used for the model were mtry = 46, coefReg = 0.07029922\n",
      " and coefImp = 0.9783781.\n"
     ]
    },
    {
     "data": {
      "image/png": "[encoded data removed]",
      "text/plain": [
       "plot without title"
      ]
     },
     "metadata": {
      "image/png": {
       "height": 500,
       "width": 1000
      }
     },
     "output_type": "display_data"
    }
   ],
   "source": [
    "print(model_rrf)\n",
    "plot(model_rrf)"
   ]
  },
  {
   "cell_type": "code",
   "execution_count": 35,
   "id": "4cecdff1",
   "metadata": {},
   "outputs": [
    {
     "data": {
      "text/plain": [
       "\n",
       "Call:\n",
       "summary.resamples(object = results)\n",
       "\n",
       "Models: rf, rrf \n",
       "Number of resamples: 10 \n",
       "\n",
       "Accuracy \n",
       "         Min.   1st Qu.    Median      Mean   3rd Qu.      Max. NA's\n",
       "rf  0.5270270 0.5555405 0.5866667 0.5955714 0.6213158 0.7066667    0\n",
       "rrf 0.4864865 0.4966667 0.5133357 0.5286880 0.5693457 0.5866667    0\n",
       "\n",
       "Kappa \n",
       "         Min.   1st Qu.    Median      Mean   3rd Qu.      Max. NA's\n",
       "rf  0.1714651 0.2179577 0.2797398 0.2970509 0.3516478 0.4972578    0\n",
       "rrf 0.1363636 0.1544171 0.1685981 0.2037552 0.2602955 0.3209696    0\n"
      ]
     },
     "metadata": {},
     "output_type": "display_data"
    },
    {
     "data": {
      "image/png": "[encoded data removed]",
      "text/plain": [
       "plot without title"
      ]
     },
     "metadata": {
      "image/png": {
       "height": 500,
       "width": 1000
      }
     },
     "output_type": "display_data"
    },
    {
     "data": {
      "image/png": "[encoded data removed]",
      "text/plain": [
       "plot without title"
      ]
     },
     "metadata": {
      "image/png": {
       "height": 500,
       "width": 1000
      }
     },
     "output_type": "display_data"
    }
   ],
   "source": [
    "# collect resamples\n",
    "results <- resamples(list(rf=model_rf,rrf=model_rrf))\n",
    "# summarize the distributions\n",
    "summary(results)\n",
    "# boxplots of results\n",
    "bwplot(results)\n",
    "# dot plots of results\n",
    "dotplot(results)"
   ]
  },
  {
   "cell_type": "markdown",
   "id": "507e366d",
   "metadata": {},
   "source": [
    "## Prediction"
   ]
  },
  {
   "cell_type": "code",
   "execution_count": 36,
   "id": "f7a729a1",
   "metadata": {},
   "outputs": [
    {
     "data": {
      "text/plain": [
       "Confusion Matrix and Statistics\n",
       "\n",
       "             Reference\n",
       "Prediction    Accettabile Complicato Ottimo\n",
       "  Accettabile         107         36     13\n",
       "  Complicato           51         68      3\n",
       "  Ottimo               33          3      7\n",
       "\n",
       "Overall Statistics\n",
       "                                          \n",
       "               Accuracy : 0.567           \n",
       "                 95% CI : (0.5108, 0.6219)\n",
       "    No Information Rate : 0.595           \n",
       "    P-Value [Acc > NIR] : 0.8598          \n",
       "                                          \n",
       "                  Kappa : 0.2463          \n",
       "                                          \n",
       " Mcnemar's Test P-Value : 0.0103          \n",
       "\n",
       "Statistics by Class:\n",
       "\n",
       "                     Class: Accettabile Class: Complicato Class: Ottimo\n",
       "Sensitivity                      0.5602            0.6355       0.30435\n",
       "Specificity                      0.6231            0.7477       0.87919\n",
       "Pos Pred Value                   0.6859            0.5574       0.16279\n",
       "Neg Pred Value                   0.4909            0.8040       0.94245\n",
       "Prevalence                       0.5950            0.3333       0.07165\n",
       "Detection Rate                   0.3333            0.2118       0.02181\n",
       "Detection Prevalence             0.4860            0.3801       0.13396\n",
       "Balanced Accuracy                0.5916            0.6916       0.59177"
      ]
     },
     "metadata": {},
     "output_type": "display_data"
    },
    {
     "data": {
      "text/html": [
       "<table>\n",
       "<thead><tr><th></th><th scope=col>Sensitivity</th><th scope=col>Specificity</th><th scope=col>Pos Pred Value</th><th scope=col>Neg Pred Value</th><th scope=col>Precision</th><th scope=col>Recall</th><th scope=col>F1</th><th scope=col>Prevalence</th><th scope=col>Detection Rate</th><th scope=col>Detection Prevalence</th><th scope=col>Balanced Accuracy</th></tr></thead>\n",
       "<tbody>\n",
       "\t<tr><th scope=row>Class: Accettabile</th><td>0.5602094 </td><td>0.6230769 </td><td>0.6858974 </td><td>0.4909091 </td><td>0.6858974 </td><td>0.5602094 </td><td>0.6167147 </td><td>0.59501558</td><td>0.33333333</td><td>0.4859813 </td><td>0.5916432 </td></tr>\n",
       "\t<tr><th scope=row>Class: Complicato</th><td>0.6355140 </td><td>0.7476636 </td><td>0.5573770 </td><td>0.8040201 </td><td>0.5573770 </td><td>0.6355140 </td><td>0.5938865 </td><td>0.33333333</td><td>0.21183801</td><td>0.3800623 </td><td>0.6915888 </td></tr>\n",
       "\t<tr><th scope=row>Class: Ottimo</th><td>0.3043478 </td><td>0.8791946 </td><td>0.1627907 </td><td>0.9424460 </td><td>0.1627907 </td><td>0.3043478 </td><td>0.2121212 </td><td>0.07165109</td><td>0.02180685</td><td>0.1339564 </td><td>0.5917712 </td></tr>\n",
       "</tbody>\n",
       "</table>\n"
      ],
      "text/latex": [
       "\\begin{tabular}{r|lllllllllll}\n",
       "  & Sensitivity & Specificity & Pos Pred Value & Neg Pred Value & Precision & Recall & F1 & Prevalence & Detection Rate & Detection Prevalence & Balanced Accuracy\\\\\n",
       "\\hline\n",
       "\tClass: Accettabile & 0.5602094  & 0.6230769  & 0.6858974  & 0.4909091  & 0.6858974  & 0.5602094  & 0.6167147  & 0.59501558 & 0.33333333 & 0.4859813  & 0.5916432 \\\\\n",
       "\tClass: Complicato & 0.6355140  & 0.7476636  & 0.5573770  & 0.8040201  & 0.5573770  & 0.6355140  & 0.5938865  & 0.33333333 & 0.21183801 & 0.3800623  & 0.6915888 \\\\\n",
       "\tClass: Ottimo & 0.3043478  & 0.8791946  & 0.1627907  & 0.9424460  & 0.1627907  & 0.3043478  & 0.2121212  & 0.07165109 & 0.02180685 & 0.1339564  & 0.5917712 \\\\\n",
       "\\end{tabular}\n"
      ],
      "text/markdown": [
       "\n",
       "| <!--/--> | Sensitivity | Specificity | Pos Pred Value | Neg Pred Value | Precision | Recall | F1 | Prevalence | Detection Rate | Detection Prevalence | Balanced Accuracy |\n",
       "|---|---|---|---|---|---|---|---|---|---|---|---|\n",
       "| Class: Accettabile | 0.5602094  | 0.6230769  | 0.6858974  | 0.4909091  | 0.6858974  | 0.5602094  | 0.6167147  | 0.59501558 | 0.33333333 | 0.4859813  | 0.5916432  |\n",
       "| Class: Complicato | 0.6355140  | 0.7476636  | 0.5573770  | 0.8040201  | 0.5573770  | 0.6355140  | 0.5938865  | 0.33333333 | 0.21183801 | 0.3800623  | 0.6915888  |\n",
       "| Class: Ottimo | 0.3043478  | 0.8791946  | 0.1627907  | 0.9424460  | 0.1627907  | 0.3043478  | 0.2121212  | 0.07165109 | 0.02180685 | 0.1339564  | 0.5917712  |\n",
       "\n"
      ],
      "text/plain": [
       "                   Sensitivity Specificity Pos Pred Value Neg Pred Value\n",
       "Class: Accettabile 0.5602094   0.6230769   0.6858974      0.4909091     \n",
       "Class: Complicato  0.6355140   0.7476636   0.5573770      0.8040201     \n",
       "Class: Ottimo      0.3043478   0.8791946   0.1627907      0.9424460     \n",
       "                   Precision Recall    F1        Prevalence Detection Rate\n",
       "Class: Accettabile 0.6858974 0.5602094 0.6167147 0.59501558 0.33333333    \n",
       "Class: Complicato  0.5573770 0.6355140 0.5938865 0.33333333 0.21183801    \n",
       "Class: Ottimo      0.1627907 0.3043478 0.2121212 0.07165109 0.02180685    \n",
       "                   Detection Prevalence Balanced Accuracy\n",
       "Class: Accettabile 0.4859813            0.5916432        \n",
       "Class: Complicato  0.3800623            0.6915888        \n",
       "Class: Ottimo      0.1339564            0.5917712        "
      ]
     },
     "metadata": {},
     "output_type": "display_data"
    }
   ],
   "source": [
    "pred_rf <- predict(model_rf,TestData)  # 53 acc\n",
    "pred_rf.prob <- predict(model_rf,TestData, type=\"prob\")\n",
    "\n",
    "\n",
    "result <- confusionMatrix(TestClasses,  pred_rf) \n",
    "result\n",
    "result$byClass"
   ]
  },
  {
   "cell_type": "code",
   "execution_count": 37,
   "id": "3fc07786",
   "metadata": {},
   "outputs": [
    {
     "name": "stderr",
     "output_type": "stream",
     "text": [
      "Setting direction: controls < cases\n",
      "\n",
      "Setting direction: controls < cases\n",
      "\n",
      "Setting direction: controls > cases\n",
      "\n"
     ]
    },
    {
     "data": {
      "text/plain": [
       "\n",
       "Call:\n",
       "multiclass.roc.default(response = TestClasses, predictor = as.numeric(pred_rf))\n",
       "\n",
       "Data: as.numeric(pred_rf) with 3 levels of TestClasses: Accettabile, Complicato, Ottimo.\n",
       "Multi-class area under the curve: 0.5729"
      ]
     },
     "metadata": {},
     "output_type": "display_data"
    }
   ],
   "source": [
    "roc_model_rf <- multiclass.roc(TestClasses, as.numeric(pred_rf))\n",
    "roc_model_rf\n"
   ]
  },
  {
   "cell_type": "code",
   "execution_count": 38,
   "id": "1eedd4cb",
   "metadata": {},
   "outputs": [
    {
     "data": {
      "text/html": [
       "<table>\n",
       "<thead><tr><th scope=col>Accettabile</th><th scope=col>Complicato</th><th scope=col>Ottimo</th></tr></thead>\n",
       "<tbody>\n",
       "\t<tr><td>0.3404356 </td><td>0.34714813</td><td>0.31241623</td></tr>\n",
       "\t<tr><td>0.3852422 </td><td>0.57157495</td><td>0.04318284</td></tr>\n",
       "\t<tr><td>0.7440965 </td><td>0.19963485</td><td>0.05626864</td></tr>\n",
       "\t<tr><td>0.6742011 </td><td>0.28826765</td><td>0.03753121</td></tr>\n",
       "\t<tr><td>0.4774880 </td><td>0.48401634</td><td>0.03849565</td></tr>\n",
       "\t<tr><td>0.4881476 </td><td>0.42526397</td><td>0.08658841</td></tr>\n",
       "\t<tr><td>0.4590443 </td><td>0.07867424</td><td>0.46228142</td></tr>\n",
       "\t<tr><td>0.5146177 </td><td>0.17294186</td><td>0.31244039</td></tr>\n",
       "\t<tr><td>0.4583972 </td><td>0.08922169</td><td>0.45238110</td></tr>\n",
       "\t<tr><td>0.2442918 </td><td>0.73136388</td><td>0.02434434</td></tr>\n",
       "\t<tr><td>0.4418566 </td><td>0.09100741</td><td>0.46713601</td></tr>\n",
       "\t<tr><td>0.4351917 </td><td>0.27194155</td><td>0.29286671</td></tr>\n",
       "\t<tr><td>0.4222718 </td><td>0.51117256</td><td>0.06655562</td></tr>\n",
       "\t<tr><td>0.4023662 </td><td>0.36589881</td><td>0.23173502</td></tr>\n",
       "\t<tr><td>0.4601079 </td><td>0.19994898</td><td>0.33994315</td></tr>\n",
       "\t<tr><td>0.4367346 </td><td>0.13317135</td><td>0.43009401</td></tr>\n",
       "\t<tr><td>0.2587917 </td><td>0.67899831</td><td>0.06220997</td></tr>\n",
       "\t<tr><td>0.3212516 </td><td>0.07519387</td><td>0.60355452</td></tr>\n",
       "\t<tr><td>0.3990630 </td><td>0.56389636</td><td>0.03704060</td></tr>\n",
       "\t<tr><td>0.5897407 </td><td>0.10606595</td><td>0.30419340</td></tr>\n",
       "\t<tr><td>0.5947499 </td><td>0.17340642</td><td>0.23184368</td></tr>\n",
       "\t<tr><td>0.4780126 </td><td>0.07787431</td><td>0.44411311</td></tr>\n",
       "\t<tr><td>0.5302924 </td><td>0.17807112</td><td>0.29163647</td></tr>\n",
       "\t<tr><td>0.5537921 </td><td>0.17189694</td><td>0.27431095</td></tr>\n",
       "\t<tr><td>0.5192260 </td><td>0.41677870</td><td>0.06399531</td></tr>\n",
       "\t<tr><td>0.3651457 </td><td>0.14562855</td><td>0.48922579</td></tr>\n",
       "\t<tr><td>0.5048013 </td><td>0.13256651</td><td>0.36263215</td></tr>\n",
       "\t<tr><td>0.7021643 </td><td>0.09080519</td><td>0.20703055</td></tr>\n",
       "\t<tr><td>0.3276555 </td><td>0.14445900</td><td>0.52788548</td></tr>\n",
       "\t<tr><td>0.4619202 </td><td>0.29501197</td><td>0.24306780</td></tr>\n",
       "\t<tr><td>...</td><td>...</td><td>...</td></tr>\n",
       "\t<tr><td>0.4616333  </td><td>0.4869523  </td><td>0.051414352</td></tr>\n",
       "\t<tr><td>0.5126797  </td><td>0.4597932  </td><td>0.027527123</td></tr>\n",
       "\t<tr><td>0.4064296  </td><td>0.5701322  </td><td>0.023438156</td></tr>\n",
       "\t<tr><td>0.6172421  </td><td>0.3380272  </td><td>0.044730636</td></tr>\n",
       "\t<tr><td>0.4369758  </td><td>0.4807555  </td><td>0.082268642</td></tr>\n",
       "\t<tr><td>0.2780399  </td><td>0.7098752  </td><td>0.012084965</td></tr>\n",
       "\t<tr><td>0.6202645  </td><td>0.3519622  </td><td>0.027773271</td></tr>\n",
       "\t<tr><td>0.4224422  </td><td>0.5507951  </td><td>0.026762715</td></tr>\n",
       "\t<tr><td>0.2673704  </td><td>0.7134895  </td><td>0.019140054</td></tr>\n",
       "\t<tr><td>0.3851230  </td><td>0.5960398  </td><td>0.018837157</td></tr>\n",
       "\t<tr><td>0.4475777  </td><td>0.5128776  </td><td>0.039544727</td></tr>\n",
       "\t<tr><td>0.7246373  </td><td>0.2522320  </td><td>0.023130625</td></tr>\n",
       "\t<tr><td>0.5830063  </td><td>0.3734145  </td><td>0.043579138</td></tr>\n",
       "\t<tr><td>0.2353430  </td><td>0.7589405  </td><td>0.005716545</td></tr>\n",
       "\t<tr><td>0.4153675  </td><td>0.5602591  </td><td>0.024373377</td></tr>\n",
       "\t<tr><td>0.6834044  </td><td>0.2742777  </td><td>0.042317899</td></tr>\n",
       "\t<tr><td>0.5840512  </td><td>0.3772840  </td><td>0.038664807</td></tr>\n",
       "\t<tr><td>0.5481898  </td><td>0.4326755  </td><td>0.019134610</td></tr>\n",
       "\t<tr><td>0.4322739  </td><td>0.4836126  </td><td>0.084113525</td></tr>\n",
       "\t<tr><td>0.5275421  </td><td>0.4389339  </td><td>0.033523970</td></tr>\n",
       "\t<tr><td>0.5840722  </td><td>0.3770781  </td><td>0.038849700</td></tr>\n",
       "\t<tr><td>0.2552522  </td><td>0.7126200  </td><td>0.032127850</td></tr>\n",
       "\t<tr><td>0.1969724  </td><td>0.7841249  </td><td>0.018902758</td></tr>\n",
       "\t<tr><td>0.4651236  </td><td>0.5080057  </td><td>0.026870718</td></tr>\n",
       "\t<tr><td>0.2798527  </td><td>0.7038767  </td><td>0.016270591</td></tr>\n",
       "\t<tr><td>0.4901057  </td><td>0.4655441  </td><td>0.044350228</td></tr>\n",
       "\t<tr><td>0.6483067  </td><td>0.3016054  </td><td>0.050087901</td></tr>\n",
       "\t<tr><td>0.8230536  </td><td>0.1417099  </td><td>0.035236530</td></tr>\n",
       "\t<tr><td>0.5841677  </td><td>0.3497424  </td><td>0.066089882</td></tr>\n",
       "\t<tr><td>0.6191463  </td><td>0.3468625  </td><td>0.033991259</td></tr>\n",
       "</tbody>\n",
       "</table>\n"
      ],
      "text/latex": [
       "\\begin{tabular}{r|lll}\n",
       " Accettabile & Complicato & Ottimo\\\\\n",
       "\\hline\n",
       "\t 0.3404356  & 0.34714813 & 0.31241623\\\\\n",
       "\t 0.3852422  & 0.57157495 & 0.04318284\\\\\n",
       "\t 0.7440965  & 0.19963485 & 0.05626864\\\\\n",
       "\t 0.6742011  & 0.28826765 & 0.03753121\\\\\n",
       "\t 0.4774880  & 0.48401634 & 0.03849565\\\\\n",
       "\t 0.4881476  & 0.42526397 & 0.08658841\\\\\n",
       "\t 0.4590443  & 0.07867424 & 0.46228142\\\\\n",
       "\t 0.5146177  & 0.17294186 & 0.31244039\\\\\n",
       "\t 0.4583972  & 0.08922169 & 0.45238110\\\\\n",
       "\t 0.2442918  & 0.73136388 & 0.02434434\\\\\n",
       "\t 0.4418566  & 0.09100741 & 0.46713601\\\\\n",
       "\t 0.4351917  & 0.27194155 & 0.29286671\\\\\n",
       "\t 0.4222718  & 0.51117256 & 0.06655562\\\\\n",
       "\t 0.4023662  & 0.36589881 & 0.23173502\\\\\n",
       "\t 0.4601079  & 0.19994898 & 0.33994315\\\\\n",
       "\t 0.4367346  & 0.13317135 & 0.43009401\\\\\n",
       "\t 0.2587917  & 0.67899831 & 0.06220997\\\\\n",
       "\t 0.3212516  & 0.07519387 & 0.60355452\\\\\n",
       "\t 0.3990630  & 0.56389636 & 0.03704060\\\\\n",
       "\t 0.5897407  & 0.10606595 & 0.30419340\\\\\n",
       "\t 0.5947499  & 0.17340642 & 0.23184368\\\\\n",
       "\t 0.4780126  & 0.07787431 & 0.44411311\\\\\n",
       "\t 0.5302924  & 0.17807112 & 0.29163647\\\\\n",
       "\t 0.5537921  & 0.17189694 & 0.27431095\\\\\n",
       "\t 0.5192260  & 0.41677870 & 0.06399531\\\\\n",
       "\t 0.3651457  & 0.14562855 & 0.48922579\\\\\n",
       "\t 0.5048013  & 0.13256651 & 0.36263215\\\\\n",
       "\t 0.7021643  & 0.09080519 & 0.20703055\\\\\n",
       "\t 0.3276555  & 0.14445900 & 0.52788548\\\\\n",
       "\t 0.4619202  & 0.29501197 & 0.24306780\\\\\n",
       "\t ... & ... & ...\\\\\n",
       "\t 0.4616333   & 0.4869523   & 0.051414352\\\\\n",
       "\t 0.5126797   & 0.4597932   & 0.027527123\\\\\n",
       "\t 0.4064296   & 0.5701322   & 0.023438156\\\\\n",
       "\t 0.6172421   & 0.3380272   & 0.044730636\\\\\n",
       "\t 0.4369758   & 0.4807555   & 0.082268642\\\\\n",
       "\t 0.2780399   & 0.7098752   & 0.012084965\\\\\n",
       "\t 0.6202645   & 0.3519622   & 0.027773271\\\\\n",
       "\t 0.4224422   & 0.5507951   & 0.026762715\\\\\n",
       "\t 0.2673704   & 0.7134895   & 0.019140054\\\\\n",
       "\t 0.3851230   & 0.5960398   & 0.018837157\\\\\n",
       "\t 0.4475777   & 0.5128776   & 0.039544727\\\\\n",
       "\t 0.7246373   & 0.2522320   & 0.023130625\\\\\n",
       "\t 0.5830063   & 0.3734145   & 0.043579138\\\\\n",
       "\t 0.2353430   & 0.7589405   & 0.005716545\\\\\n",
       "\t 0.4153675   & 0.5602591   & 0.024373377\\\\\n",
       "\t 0.6834044   & 0.2742777   & 0.042317899\\\\\n",
       "\t 0.5840512   & 0.3772840   & 0.038664807\\\\\n",
       "\t 0.5481898   & 0.4326755   & 0.019134610\\\\\n",
       "\t 0.4322739   & 0.4836126   & 0.084113525\\\\\n",
       "\t 0.5275421   & 0.4389339   & 0.033523970\\\\\n",
       "\t 0.5840722   & 0.3770781   & 0.038849700\\\\\n",
       "\t 0.2552522   & 0.7126200   & 0.032127850\\\\\n",
       "\t 0.1969724   & 0.7841249   & 0.018902758\\\\\n",
       "\t 0.4651236   & 0.5080057   & 0.026870718\\\\\n",
       "\t 0.2798527   & 0.7038767   & 0.016270591\\\\\n",
       "\t 0.4901057   & 0.4655441   & 0.044350228\\\\\n",
       "\t 0.6483067   & 0.3016054   & 0.050087901\\\\\n",
       "\t 0.8230536   & 0.1417099   & 0.035236530\\\\\n",
       "\t 0.5841677   & 0.3497424   & 0.066089882\\\\\n",
       "\t 0.6191463   & 0.3468625   & 0.033991259\\\\\n",
       "\\end{tabular}\n"
      ],
      "text/markdown": [
       "\n",
       "| Accettabile | Complicato | Ottimo |\n",
       "|---|---|---|\n",
       "| 0.3404356  | 0.34714813 | 0.31241623 |\n",
       "| 0.3852422  | 0.57157495 | 0.04318284 |\n",
       "| 0.7440965  | 0.19963485 | 0.05626864 |\n",
       "| 0.6742011  | 0.28826765 | 0.03753121 |\n",
       "| 0.4774880  | 0.48401634 | 0.03849565 |\n",
       "| 0.4881476  | 0.42526397 | 0.08658841 |\n",
       "| 0.4590443  | 0.07867424 | 0.46228142 |\n",
       "| 0.5146177  | 0.17294186 | 0.31244039 |\n",
       "| 0.4583972  | 0.08922169 | 0.45238110 |\n",
       "| 0.2442918  | 0.73136388 | 0.02434434 |\n",
       "| 0.4418566  | 0.09100741 | 0.46713601 |\n",
       "| 0.4351917  | 0.27194155 | 0.29286671 |\n",
       "| 0.4222718  | 0.51117256 | 0.06655562 |\n",
       "| 0.4023662  | 0.36589881 | 0.23173502 |\n",
       "| 0.4601079  | 0.19994898 | 0.33994315 |\n",
       "| 0.4367346  | 0.13317135 | 0.43009401 |\n",
       "| 0.2587917  | 0.67899831 | 0.06220997 |\n",
       "| 0.3212516  | 0.07519387 | 0.60355452 |\n",
       "| 0.3990630  | 0.56389636 | 0.03704060 |\n",
       "| 0.5897407  | 0.10606595 | 0.30419340 |\n",
       "| 0.5947499  | 0.17340642 | 0.23184368 |\n",
       "| 0.4780126  | 0.07787431 | 0.44411311 |\n",
       "| 0.5302924  | 0.17807112 | 0.29163647 |\n",
       "| 0.5537921  | 0.17189694 | 0.27431095 |\n",
       "| 0.5192260  | 0.41677870 | 0.06399531 |\n",
       "| 0.3651457  | 0.14562855 | 0.48922579 |\n",
       "| 0.5048013  | 0.13256651 | 0.36263215 |\n",
       "| 0.7021643  | 0.09080519 | 0.20703055 |\n",
       "| 0.3276555  | 0.14445900 | 0.52788548 |\n",
       "| 0.4619202  | 0.29501197 | 0.24306780 |\n",
       "| ... | ... | ... |\n",
       "| 0.4616333   | 0.4869523   | 0.051414352 |\n",
       "| 0.5126797   | 0.4597932   | 0.027527123 |\n",
       "| 0.4064296   | 0.5701322   | 0.023438156 |\n",
       "| 0.6172421   | 0.3380272   | 0.044730636 |\n",
       "| 0.4369758   | 0.4807555   | 0.082268642 |\n",
       "| 0.2780399   | 0.7098752   | 0.012084965 |\n",
       "| 0.6202645   | 0.3519622   | 0.027773271 |\n",
       "| 0.4224422   | 0.5507951   | 0.026762715 |\n",
       "| 0.2673704   | 0.7134895   | 0.019140054 |\n",
       "| 0.3851230   | 0.5960398   | 0.018837157 |\n",
       "| 0.4475777   | 0.5128776   | 0.039544727 |\n",
       "| 0.7246373   | 0.2522320   | 0.023130625 |\n",
       "| 0.5830063   | 0.3734145   | 0.043579138 |\n",
       "| 0.2353430   | 0.7589405   | 0.005716545 |\n",
       "| 0.4153675   | 0.5602591   | 0.024373377 |\n",
       "| 0.6834044   | 0.2742777   | 0.042317899 |\n",
       "| 0.5840512   | 0.3772840   | 0.038664807 |\n",
       "| 0.5481898   | 0.4326755   | 0.019134610 |\n",
       "| 0.4322739   | 0.4836126   | 0.084113525 |\n",
       "| 0.5275421   | 0.4389339   | 0.033523970 |\n",
       "| 0.5840722   | 0.3770781   | 0.038849700 |\n",
       "| 0.2552522   | 0.7126200   | 0.032127850 |\n",
       "| 0.1969724   | 0.7841249   | 0.018902758 |\n",
       "| 0.4651236   | 0.5080057   | 0.026870718 |\n",
       "| 0.2798527   | 0.7038767   | 0.016270591 |\n",
       "| 0.4901057   | 0.4655441   | 0.044350228 |\n",
       "| 0.6483067   | 0.3016054   | 0.050087901 |\n",
       "| 0.8230536   | 0.1417099   | 0.035236530 |\n",
       "| 0.5841677   | 0.3497424   | 0.066089882 |\n",
       "| 0.6191463   | 0.3468625   | 0.033991259 |\n",
       "\n"
      ],
      "text/plain": [
       "    Accettabile Complicato Ottimo     \n",
       "1   0.3404356   0.34714813 0.31241623 \n",
       "2   0.3852422   0.57157495 0.04318284 \n",
       "3   0.7440965   0.19963485 0.05626864 \n",
       "4   0.6742011   0.28826765 0.03753121 \n",
       "5   0.4774880   0.48401634 0.03849565 \n",
       "6   0.4881476   0.42526397 0.08658841 \n",
       "7   0.4590443   0.07867424 0.46228142 \n",
       "8   0.5146177   0.17294186 0.31244039 \n",
       "9   0.4583972   0.08922169 0.45238110 \n",
       "10  0.2442918   0.73136388 0.02434434 \n",
       "11  0.4418566   0.09100741 0.46713601 \n",
       "12  0.4351917   0.27194155 0.29286671 \n",
       "13  0.4222718   0.51117256 0.06655562 \n",
       "14  0.4023662   0.36589881 0.23173502 \n",
       "15  0.4601079   0.19994898 0.33994315 \n",
       "16  0.4367346   0.13317135 0.43009401 \n",
       "17  0.2587917   0.67899831 0.06220997 \n",
       "18  0.3212516   0.07519387 0.60355452 \n",
       "19  0.3990630   0.56389636 0.03704060 \n",
       "20  0.5897407   0.10606595 0.30419340 \n",
       "21  0.5947499   0.17340642 0.23184368 \n",
       "22  0.4780126   0.07787431 0.44411311 \n",
       "23  0.5302924   0.17807112 0.29163647 \n",
       "24  0.5537921   0.17189694 0.27431095 \n",
       "25  0.5192260   0.41677870 0.06399531 \n",
       "26  0.3651457   0.14562855 0.48922579 \n",
       "27  0.5048013   0.13256651 0.36263215 \n",
       "28  0.7021643   0.09080519 0.20703055 \n",
       "29  0.3276555   0.14445900 0.52788548 \n",
       "30  0.4619202   0.29501197 0.24306780 \n",
       "... ...         ...        ...        \n",
       "292 0.4616333   0.4869523  0.051414352\n",
       "293 0.5126797   0.4597932  0.027527123\n",
       "294 0.4064296   0.5701322  0.023438156\n",
       "295 0.6172421   0.3380272  0.044730636\n",
       "296 0.4369758   0.4807555  0.082268642\n",
       "297 0.2780399   0.7098752  0.012084965\n",
       "298 0.6202645   0.3519622  0.027773271\n",
       "299 0.4224422   0.5507951  0.026762715\n",
       "300 0.2673704   0.7134895  0.019140054\n",
       "301 0.3851230   0.5960398  0.018837157\n",
       "302 0.4475777   0.5128776  0.039544727\n",
       "303 0.7246373   0.2522320  0.023130625\n",
       "304 0.5830063   0.3734145  0.043579138\n",
       "305 0.2353430   0.7589405  0.005716545\n",
       "306 0.4153675   0.5602591  0.024373377\n",
       "307 0.6834044   0.2742777  0.042317899\n",
       "308 0.5840512   0.3772840  0.038664807\n",
       "309 0.5481898   0.4326755  0.019134610\n",
       "310 0.4322739   0.4836126  0.084113525\n",
       "311 0.5275421   0.4389339  0.033523970\n",
       "312 0.5840722   0.3770781  0.038849700\n",
       "313 0.2552522   0.7126200  0.032127850\n",
       "314 0.1969724   0.7841249  0.018902758\n",
       "315 0.4651236   0.5080057  0.026870718\n",
       "316 0.2798527   0.7038767  0.016270591\n",
       "317 0.4901057   0.4655441  0.044350228\n",
       "318 0.6483067   0.3016054  0.050087901\n",
       "319 0.8230536   0.1417099  0.035236530\n",
       "320 0.5841677   0.3497424  0.066089882\n",
       "321 0.6191463   0.3468625  0.033991259"
      ]
     },
     "metadata": {},
     "output_type": "display_data"
    }
   ],
   "source": [
    "pred_rf.prob"
   ]
  },
  {
   "cell_type": "code",
   "execution_count": null,
   "id": "bb17e63b",
   "metadata": {},
   "outputs": [],
   "source": []
  }
 ],
 "metadata": {
  "kernelspec": {
   "display_name": "R",
   "language": "R",
   "name": "ir"
  },
  "language_info": {
   "codemirror_mode": "r",
   "file_extension": ".r",
   "mimetype": "text/x-r-source",
   "name": "R",
   "pygments_lexer": "r",
   "version": "3.6.1"
  }
 },
 "nbformat": 4,
 "nbformat_minor": 5
}
